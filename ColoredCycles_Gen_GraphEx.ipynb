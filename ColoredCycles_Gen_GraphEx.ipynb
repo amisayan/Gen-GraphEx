{
  "cells": [
    {
      "cell_type": "markdown",
      "metadata": {
        "id": "-cgybnZuaWRW"
      },
      "source": [
        "# Installing and Importing Relevant Packages"
      ]
    },
    {
      "cell_type": "code",
      "execution_count": null,
      "metadata": {
        "colab": {
          "base_uri": "https://localhost:8080/"
        },
        "id": "7VZF2qngAjeS",
        "outputId": "53a81285-7f29-4171-b670-0417e43458e5"
      },
      "outputs": [
        {
          "name": "stdout",
          "output_type": "stream",
          "text": [
            "2.5.1+cu121\n",
            "\u001b[2K     \u001b[90m━━━━━━━━━━━━━━━━━━━━━━━━━━━━━━━━━━━━━━━━\u001b[0m \u001b[32m10.9/10.9 MB\u001b[0m \u001b[31m31.4 MB/s\u001b[0m eta \u001b[36m0:00:00\u001b[0m\n",
            "\u001b[2K     \u001b[90m━━━━━━━━━━━━━━━━━━━━━━━━━━━━━━━━━━━━━━━━\u001b[0m \u001b[32m5.1/5.1 MB\u001b[0m \u001b[31m35.7 MB/s\u001b[0m eta \u001b[36m0:00:00\u001b[0m\n",
            "\u001b[?25h  Installing build dependencies ... \u001b[?25l\u001b[?25hdone\n",
            "  Getting requirements to build wheel ... \u001b[?25l\u001b[?25hdone\n",
            "  Preparing metadata (pyproject.toml) ... \u001b[?25l\u001b[?25hdone\n",
            "  Building wheel for torch-geometric (pyproject.toml) ... \u001b[?25l\u001b[?25hdone\n"
          ]
        }
      ],
      "source": [
        "import os\n",
        "import torch\n",
        "os.environ['TORCH'] = torch.__version__\n",
        "print(torch.__version__)\n",
        "\n",
        "!pip install -q torch-scatter -f https://data.pyg.org/whl/torch-${TORCH}.html\n",
        "!pip install -q torch-sparse -f https://data.pyg.org/whl/torch-${TORCH}.html\n",
        "!pip install -q git+https://github.com/pyg-team/pytorch_geometric.git"
      ]
    },
    {
      "cell_type": "code",
      "execution_count": null,
      "metadata": {
        "id": "SMSZ66lZAsZf"
      },
      "outputs": [],
      "source": [
        "import torch\n",
        "import random\n",
        "import torch.nn as nn\n",
        "import torch.nn.functional as F\n",
        "import networkx as nx\n",
        "import torch_geometric as torch_geometric\n",
        "import math\n",
        "\n",
        "import torch_geometric.nn as pyg_nn\n",
        "import torch_geometric.utils as pyg_utils\n",
        "\n",
        "import time\n",
        "from datetime import datetime\n",
        "\n",
        "import networkx as nx\n",
        "import numpy as np\n",
        "import torch\n",
        "import torch.optim as optim\n",
        "import numpy as np\n",
        "\n",
        "from torch_geometric.datasets import TUDataset\n",
        "from torch_geometric.datasets import Planetoid\n",
        "from torch_geometric.data import Data, DataLoader\n",
        "\n",
        "import torch_geometric.transforms as T\n",
        "\n",
        "#from tensorboardX import SummaryWriter\n",
        "from sklearn.manifold import TSNE\n",
        "import matplotlib.pyplot as plt\n",
        "from torch_geometric.nn import GCNConv,GINConv\n",
        "from torch.distributions import Bernoulli,Categorical\n",
        "import matplotlib.cm as cmx"
      ]
    },
    {
      "cell_type": "markdown",
      "metadata": {
        "id": "LJMyaOwZagKK"
      },
      "source": [
        "# Generating the Dataset"
      ]
    },
    {
      "cell_type": "code",
      "execution_count": null,
      "metadata": {
        "id": "EW5b9dsEC9Yh"
      },
      "outputs": [],
      "source": [
        "dataset=[]"
      ]
    },
    {
      "cell_type": "code",
      "execution_count": null,
      "metadata": {
        "colab": {
          "base_uri": "https://localhost:8080/",
          "height": 458
        },
        "id": "08IN57o5CokD",
        "outputId": "0d0b1082-b845-489e-cd2a-5889eeb2cbdf"
      },
      "outputs": [
        {
          "name": "stderr",
          "output_type": "stream",
          "text": [
            "/usr/local/lib/python3.10/dist-packages/networkx/drawing/nx_pylab.py:457: UserWarning: No data for colormapping provided via 'c'. Parameters 'cmap' will be ignored\n",
            "  node_collection = ax.scatter(\n"
          ]
        },
        {
          "name": "stdout",
          "output_type": "stream",
          "text": [
            "Total number of nodes generated: 1176\n"
          ]
        },
        {
          "data": {
            "image/png": "[encoded data removed]",
            "text/plain": [
              "<Figure size 640x480 with 1 Axes>"
            ]
          },
          "metadata": {},
          "output_type": "display_data"
        }
      ],
      "source": [
        "import networkx as nx\n",
        "import matplotlib.pyplot as plt\n",
        "import torch\n",
        "import torch_geometric.utils as pyg_utils\n",
        "import random\n",
        "\n",
        "num_node_features = 1\n",
        "totalnode = 0\n",
        "dataset = []\n",
        "\n",
        "for _ in range(100):\n",
        "    num_nodes = random.randint(3, 22)\n",
        "    totalnode += num_nodes\n",
        "\n",
        "    Cycle = nx.cycle_graph(num_nodes)\n",
        "    nx.set_edge_attributes(Cycle, 0, name=\"Color\")\n",
        "\n",
        "    data = pyg_utils.from_networkx(Cycle)\n",
        "\n",
        "    x = torch.ones(num_nodes, num_node_features).float()\n",
        "    data.x = x\n",
        "    data.y=0\n",
        "\n",
        "    data.edge_attr = torch.zeros(data.edge_index.size(1), 1)\n",
        "\n",
        "    dataset.append(data)\n",
        "\n",
        "    # Visualize the graph with edges colored based on their attributes\n",
        "edge_colors = ['r' if data.edge_attr[e[2]].item() == 0 else 'g' for e in Cycle.edges(data=\"Color\")]\n",
        "nx.draw_networkx(Cycle, node_size=150, node_color='black', edge_color=edge_colors, cmap=plt.cm.RdYlGn, with_labels=False)\n",
        "\n",
        "# Display the total number of nodes generated\n",
        "print(\"Total number of nodes generated:\", totalnode)\n"
      ]
    },
    {
      "cell_type": "code",
      "execution_count": null,
      "metadata": {
        "colab": {
          "base_uri": "https://localhost:8080/",
          "height": 423
        },
        "id": "fZW6DtlbDZt6",
        "outputId": "3c031e2d-8a8a-4fc9-908b-55c9a67a3d2b"
      },
      "outputs": [
        {
          "name": "stdout",
          "output_type": "stream",
          "text": [
            "Total number of nodes generated: 1355\n"
          ]
        },
        {
          "data": {
            "image/png": "[encoded data removed]",
            "text/plain": [
              "<Figure size 640x480 with 1 Axes>"
            ]
          },
          "metadata": {},
          "output_type": "display_data"
        }
      ],
      "source": [
        "\n",
        "totalnode=0\n",
        "for _ in range(100):\n",
        "    num_nodes = random.randint(3, 22)\n",
        "    totalnode += num_nodes\n",
        "\n",
        "    Cycle = nx.cycle_graph(num_nodes)\n",
        "    nx.set_edge_attributes(Cycle, 1, name=\"Color\")  # Setting edge attribute to 1 for green color\n",
        "\n",
        "    data = pyg_utils.from_networkx(Cycle)\n",
        "\n",
        "    x = torch.ones(num_nodes, num_node_features).float()\n",
        "    data.x = x\n",
        "\n",
        "    data.edge_attr = torch.ones(data.edge_index.size(1), 1)  # Setting edge attribute to 1\n",
        "    data.y=1\n",
        "\n",
        "    dataset.append(data)\n",
        "\n",
        "    # Visualize the graph with edges colored based on their attributes\n",
        "    edge_colors = ['r' if data.edge_attr[e[2]].item() == 0 else 'g' for e in Cycle.edges(data=\"Color\")]\n",
        "nx.draw_networkx(Cycle, node_size=150, node_color='black', edge_color=edge_colors, with_labels=False)\n",
        "\n",
        "# Display the total number of nodes generated\n",
        "print(\"Total number of nodes generated:\", totalnode)\n"
      ]
    },
    {
      "cell_type": "code",
      "execution_count": null,
      "metadata": {
        "colab": {
          "base_uri": "https://localhost:8080/",
          "height": 423
        },
        "id": "-BEdaYBREBAB",
        "outputId": "2951fd78-7238-4113-9952-ebfc72013201"
      },
      "outputs": [
        {
          "name": "stdout",
          "output_type": "stream",
          "text": [
            "Total number of nodes generated: 1266\n"
          ]
        },
        {
          "data": {
            "image/png": "[encoded data removed]",
            "text/plain": [
              "<Figure size 640x480 with 1 Axes>"
            ]
          },
          "metadata": {},
          "output_type": "display_data"
        }
      ],
      "source": [
        "totalnode=0\n",
        "\n",
        "for _ in range(100):\n",
        "    num_nodes = random.randint(3, 22)\n",
        "    totalnode += num_nodes\n",
        "    p=math.ceil(random.uniform(2,4))\n",
        "\n",
        "    # Generate a random tree with the given number of nodes\\\n",
        "    Tree = nx.full_rary_tree(p,num_nodes)\n",
        "\n",
        "    # Assign random colors to edges while ensuring no fully red or green cycles\n",
        "    for u, v in Tree.edges():\n",
        "        if random.random() < 0.5:  # Randomly choose red or green with equal probability\n",
        "            Tree[u][v]['Color'] = 0  # Red\n",
        "        else:\n",
        "            Tree[u][v]['Color'] = 1  # Green\n",
        "\n",
        "    data = pyg_utils.from_networkx(Tree)\n",
        "\n",
        "    x = torch.ones(num_nodes, num_node_features).float()\n",
        "    data.x = x\n",
        "    # Set all edge attributes to 0 initially\n",
        "    data.edge_attr = torch.zeros(data.edge_index.size(1), 1)\n",
        "\n",
        "    # Update edge attributes based on colors assigned to edges in the graph\n",
        "    for u, v in Tree.edges():\n",
        "        # Find the indices of the edge (u, v) and (v, u) in data.edge_index\n",
        "        edge_idx = ((data.edge_index[0] == u) & (data.edge_index[1] == v)) | ((data.edge_index[0] == v) & (data.edge_index[1] == u))\n",
        "\n",
        "        # Set the edge attributes based on the color assigned to the edge in the graph\n",
        "        data.edge_attr[edge_idx] = Tree[u][v]['Color']\n",
        "\n",
        "\n",
        "    data.y=2\n",
        "    dataset.append(data)\n",
        "    # print(data.edge_attr)\n",
        "    # print(len(data.edge_attr))\n",
        "\n",
        "    # Visualize the graph with edges colored based on their attributes\n",
        "    edge_colors = ['r' if attr == 0 else 'g' for _, _, attr in Tree.edges(data='Color')]\n",
        "nx.draw_networkx(Tree, node_size=100, node_color='black', edge_color=edge_colors, with_labels=False)\n",
        "\n",
        "\n",
        "# Display the total number of nodes generated\n",
        "print(\"Total number of nodes generated:\", totalnode)\n"
      ]
    },
    {
      "cell_type": "markdown",
      "metadata": {
        "id": "vVEKbhcYawhB"
      },
      "source": [
        "# For Plotting Generated Graphs"
      ]
    },
    {
      "cell_type": "code",
      "execution_count": null,
      "metadata": {
        "id": "LRmfDyBYbyYO"
      },
      "outputs": [],
      "source": [
        "import networkx as nx\n",
        "import matplotlib.pyplot as plt\n",
        "import torch\n",
        "\n",
        "def draw_graph_from_data(data):\n",
        "    # Create an empty undirected graph\n",
        "    G = nx.Graph()\n",
        "\n",
        "    # Add nodes to the graph\n",
        "    G.add_nodes_from(range(data.num_nodes))\n",
        "\n",
        "    # Extract edge attributes from the data object\n",
        "    edge_attributes = data.edge_attr.numpy().flatten()\n",
        "\n",
        "    # Iterate over each edge in the edge index\n",
        "    for edge_index, attr_value in zip(data.edge_index.T, edge_attributes):\n",
        "        # Unpack the edge indices\n",
        "        i, j = edge_index\n",
        "\n",
        "        # Assign color based on edge attribute\n",
        "        if attr_value == 0:\n",
        "            edge_color = 'red'\n",
        "        elif attr_value == 1:\n",
        "            edge_color = 'green'\n",
        "        else:\n",
        "            edge_color = 'black'  # Add default color for other cases\n",
        "\n",
        "        # Add edge to the graph with color based on edge attribute\n",
        "        G.add_edge(i.item(), j.item(), color=edge_color)\n",
        "\n",
        "    # Get edge colors from the graph\n",
        "    edge_colors = [G[u][v]['color'] for u, v in G.edges()]\n",
        "\n",
        "    # Draw the graph with edge colors\n",
        "    nx.draw_networkx(G, with_labels=True, node_color='black', edge_color=edge_colors, width=2, node_size=150)\n",
        "    plt.show()\n",
        "\n",
        "# Example usage:\n",
        "# Assume 'data' is your PyTorch Geometric data object with edge attributes\n",
        "# Call the function with your data object\n",
        "# draw_graph_from_data(data)\n",
        "\n"
      ]
    },
    {
      "cell_type": "code",
      "execution_count": null,
      "metadata": {
        "colab": {
          "base_uri": "https://localhost:8080/",
          "height": 1000
        },
        "id": "RYfcCXN_Erg0",
        "outputId": "a6da5d4d-bb1b-45de-d4e9-ea0d85e89b81"
      },
      "outputs": [
        {
          "name": "stdout",
          "output_type": "stream",
          "text": [
            "tensor([[1.],\n",
            "        [0.],\n",
            "        [0.],\n",
            "        [1.],\n",
            "        [1.],\n",
            "        [0.],\n",
            "        [1.],\n",
            "        [1.],\n",
            "        [1.],\n",
            "        [0.],\n",
            "        [0.],\n",
            "        [1.],\n",
            "        [0.],\n",
            "        [1.],\n",
            "        [0.],\n",
            "        [1.],\n",
            "        [1.],\n",
            "        [1.],\n",
            "        [0.],\n",
            "        [1.],\n",
            "        [0.],\n",
            "        [0.],\n",
            "        [1.],\n",
            "        [0.],\n",
            "        [0.],\n",
            "        [0.],\n",
            "        [1.],\n",
            "        [1.],\n",
            "        [1.],\n",
            "        [0.],\n",
            "        [1.],\n",
            "        [0.],\n",
            "        [1.],\n",
            "        [1.],\n",
            "        [1.],\n",
            "        [1.],\n",
            "        [0.],\n",
            "        [0.],\n",
            "        [0.],\n",
            "        [1.],\n",
            "        [0.],\n",
            "        [0.]])\n",
            "tensor([[ 0,  0,  0,  0,  1,  1,  1,  1,  1,  2,  2,  2,  2,  2,  3,  3,  3,  3,\n",
            "          3,  4,  4,  4,  4,  4,  5,  5,  6,  7,  8,  9, 10, 11, 12, 13, 14, 15,\n",
            "         16, 17, 18, 19, 20, 21],\n",
            "        [ 1,  2,  3,  4,  0,  5,  6,  7,  8,  0,  9, 10, 11, 12,  0, 13, 14, 15,\n",
            "         16,  0, 17, 18, 19, 20,  1, 21,  1,  1,  1,  2,  2,  2,  2,  3,  3,  3,\n",
            "          3,  4,  4,  4,  4,  5]])\n"
          ]
        },
        {
          "data": {
            "image/png": "[encoded data removed]",
            "text/plain": [
              "<Figure size 640x480 with 1 Axes>"
            ]
          },
          "metadata": {},
          "output_type": "display_data"
        }
      ],
      "source": [
        "print(data.edge_attr)\n",
        "print(data.edge_index)\n",
        "draw_graph_from_data(data)"
      ]
    },
    {
      "cell_type": "markdown",
      "metadata": {
        "id": "96tS_Uv2a3He"
      },
      "source": [
        "# Train-Test Split"
      ]
    },
    {
      "cell_type": "code",
      "execution_count": null,
      "metadata": {
        "colab": {
          "base_uri": "https://localhost:8080/"
        },
        "id": "2Sd5xTTG6Bbt",
        "outputId": "83abf034-822d-4552-ca73-2639fa0bc755"
      },
      "outputs": [
        {
          "name": "stdout",
          "output_type": "stream",
          "text": [
            "Number of training graphs: 250\n",
            "Number of test graphs: 50\n"
          ]
        }
      ],
      "source": [
        "torch.manual_seed(12345)\n",
        "random.shuffle(dataset)\n",
        "\n",
        "train_dataset = dataset[:250]\n",
        "test_dataset = dataset[250:]\n",
        "\n",
        "print(f'Number of training graphs: {len(train_dataset)}')\n",
        "print(f'Number of test graphs: {len(test_dataset)}')"
      ]
    },
    {
      "cell_type": "code",
      "execution_count": null,
      "metadata": {
        "colab": {
          "base_uri": "https://localhost:8080/"
        },
        "id": "6h8FuCjy6GfF",
        "outputId": "a02b02b4-9201-4716-fa84-97147cf5f123"
      },
      "outputs": [
        {
          "name": "stdout",
          "output_type": "stream",
          "text": [
            "Step 1:\n",
            "=======\n",
            "Number of graphs in the current batch: 64\n",
            "DataBatch(edge_index=[2, 1624], Color=[1624], num_nodes=836, x=[836, 1], y=[64], edge_attr=[1624, 1], batch=[836], ptr=[65])\n",
            "\n",
            "Step 2:\n",
            "=======\n",
            "Number of graphs in the current batch: 64\n",
            "DataBatch(edge_index=[2, 1416], Color=[1416], num_nodes=723, x=[723, 1], edge_attr=[1416, 1], y=[64], batch=[723], ptr=[65])\n",
            "\n",
            "Step 3:\n",
            "=======\n",
            "Number of graphs in the current batch: 64\n",
            "DataBatch(edge_index=[2, 1492], Color=[1492], num_nodes=766, x=[766, 1], y=[64], edge_attr=[1492, 1], batch=[766], ptr=[65])\n",
            "\n",
            "Step 4:\n",
            "=======\n",
            "Number of graphs in the current batch: 58\n",
            "DataBatch(edge_index=[2, 1568], Color=[1568], num_nodes=807, x=[807, 1], edge_attr=[1568, 1], y=[58], batch=[807], ptr=[59])\n",
            "\n"
          ]
        },
        {
          "name": "stderr",
          "output_type": "stream",
          "text": [
            "/usr/local/lib/python3.10/dist-packages/torch_geometric/deprecation.py:26: UserWarning: 'data.DataLoader' is deprecated, use 'loader.DataLoader' instead\n",
            "  warnings.warn(out)\n"
          ]
        }
      ],
      "source": [
        "train_loader = DataLoader(train_dataset, batch_size=64, shuffle=True)\n",
        "test_loader = DataLoader(test_dataset, batch_size=64, shuffle=False)\n",
        "\n",
        "for step, data in enumerate(train_loader):\n",
        "    print(f'Step {step + 1}:')\n",
        "    print('=======')\n",
        "    print(f'Number of graphs in the current batch: {data.num_graphs}')\n",
        "    print(data)\n",
        "    print()"
      ]
    },
    {
      "cell_type": "markdown",
      "metadata": {
        "id": "259odNOTa-IG"
      },
      "source": [
        "# Defining and Training the Classifier"
      ]
    },
    {
      "cell_type": "code",
      "execution_count": null,
      "metadata": {
        "id": "NDjME9cHeiWp"
      },
      "outputs": [],
      "source": [
        "import torch.nn as nn\n",
        "import torch.nn.functional as F\n",
        "\n",
        "import torch_geometric.transforms as T\n",
        "from torch_geometric.datasets import MNISTSuperpixels\n",
        "from torch_geometric.loader import DataLoader\n",
        "from torch_geometric.nn import (\n",
        "    NNConv,\n",
        "    global_mean_pool,\n",
        "    graclus,\n",
        "    max_pool,\n",
        "    max_pool_x,\n",
        ")\n",
        "class Net(nn.Module):\n",
        "    def __init__(self):\n",
        "        super().__init__()\n",
        "        nn1 = nn.Sequential(nn.Linear(1, 25), nn.ReLU(),\n",
        "                            nn.Linear(25, 1 * 64))\n",
        "        self.conv1 = NNConv(1, 64, nn1, aggr='mean')\n",
        "\n",
        "        nn2 = nn.Sequential(nn.Linear(2, 25), nn.ReLU(),\n",
        "                            nn.Linear(25, 32 * 64))\n",
        "        self.conv2 = NNConv(32, 64, nn2, aggr='mean')\n",
        "                # Define MLPs\n",
        "        self.mlp1 = nn.Sequential(\n",
        "            nn.Linear(128, 256),  # Increase the number of units\n",
        "            nn.ReLU(),\n",
        "            nn.Linear(256, 128)  # Increase the number of units\n",
        "        )\n",
        "\n",
        "        self.fc1 = torch.nn.Linear(64, 128)\n",
        "        self.fc2 = torch.nn.Linear(128, 3)\n",
        "\n",
        "    def forward(self, data):\n",
        "        batch=data.batch\n",
        "        x = F.elu(self.conv1(data.x, data.edge_index, data.edge_attr))\n",
        "        #weight = normalized_cut_2d(data.edge_index, data.pos)\n",
        "        #cluster = graclus(data.edge_index, weight, data.x.size(0))\n",
        "        #data.edge_attr = None\n",
        "        #data = max_pool(cluster, data, transform=transform)\n",
        "\n",
        "        #data.x = F.elu(self.conv2(data.x, data.edge_index, data.edge_attr))\n",
        "        #weight = normalized_cut_2d(data.edge_index, data.pos)\n",
        "        #cluster = graclus(data.edge_index, weight, data.x.size(0))\n",
        "        #x, batch = max_pool_x(cluster, data.x, data.batch)\n",
        "\n",
        "        x = global_mean_pool(x, batch)\n",
        "        embedding=x\n",
        "        x = F.elu(self.fc1(x))\n",
        "        x=self.mlp1(x)\n",
        "        x = F.dropout(x, training=self.training)\n",
        "\n",
        "        return embedding,F.log_softmax(self.fc2(x), dim=1)"
      ]
    },
    {
      "cell_type": "code",
      "execution_count": null,
      "metadata": {
        "id": "ynzs8Fwnlla0"
      },
      "outputs": [],
      "source": [
        "import torch\n",
        "from torch.nn import Linear\n",
        "import torch.nn.functional as F\n",
        "from torch_geometric.nn import NNConv, global_mean_pool\n",
        "\n",
        "class NNConvEncoder(torch.nn.Module):\n",
        "    def __init__(self, input_dim, hidden_channels):\n",
        "        super(NNConvEncoder, self).__init__()\n",
        "        torch.manual_seed(12345)\n",
        "\n",
        "        # Define NNConv layers with associated MLPs\n",
        "        self.nn1 = torch.nn.Sequential(\n",
        "            Linear(1, 25),\n",
        "            torch.nn.ReLU(),\n",
        "            Linear(25, 1 * hidden_channels)\n",
        "        )\n",
        "        self.conv1 = NNConv(input_dim, hidden_channels, self.nn1, aggr='mean')\n",
        "\n",
        "        self.nn2 = torch.nn.Sequential(\n",
        "            Linear(2, 25),\n",
        "            torch.nn.ReLU(),\n",
        "            Linear(25, 32 * hidden_channels)\n",
        "        )\n",
        "        self.conv2 = NNConv(32, hidden_channels, self.nn2, aggr='mean')\n",
        "\n",
        "        # Define additional layers\n",
        "        self.fc1 = Linear(hidden_channels, hidden_channels * 2)\n",
        "        self.mlp1 = torch.nn.Sequential(\n",
        "            Linear(hidden_channels * 2, hidden_channels * 4),\n",
        "            torch.nn.ReLU(),\n",
        "            Linear(hidden_channels * 4, hidden_channels * 2)\n",
        "        )\n",
        "        self.dropout = torch.nn.Dropout(0.5)\n",
        "\n",
        "    def forward(self, x, edge_index, edge_attr, batch):\n",
        "        x = F.elu(self.conv1(x, edge_index, edge_attr))\n",
        "        x = global_mean_pool(x, batch)  # Pooling\n",
        "        x = F.elu(self.fc1(x))\n",
        "        x = self.mlp1(x)\n",
        "        x = self.dropout(x)\n",
        "        return x\n",
        "\n",
        "\n",
        "class LinearClassifier(torch.nn.Module):\n",
        "    def __init__(self, input_dim, num_classes):\n",
        "        super(LinearClassifier, self).__init__()\n",
        "        self.linear = Linear(input_dim, num_classes)\n",
        "\n",
        "    def forward(self, x):\n",
        "        return self.linear(x)\n",
        "\n",
        "\n",
        "class CombinedModel(torch.nn.Module):\n",
        "    def __init__(self, input_dim, hidden_channels, num_classes):\n",
        "        super(CombinedModel, self).__init__()\n",
        "        self.encoder = NNConvEncoder(input_dim, hidden_channels)\n",
        "        self.classifier = LinearClassifier(input_dim=hidden_channels * 2, num_classes=num_classes)\n",
        "\n",
        "    def forward(self, x, edge_index, edge_attr, batch):\n",
        "        # Get the embeddings from the encoder\n",
        "        embeddings = self.encoder(x, edge_index, edge_attr, batch)\n",
        "\n",
        "        # Get the logits from the classifier\n",
        "        logits = self.classifier(embeddings)\n",
        "\n",
        "        return embeddings, logits\n",
        "\n",
        "\n",
        "# Define model\n",
        "num_features = 1\n",
        "input_dim = num_features\n",
        "model = CombinedModel(input_dim, hidden_channels=64, num_classes=3)\n"
      ]
    },
    {
      "cell_type": "code",
      "execution_count": null,
      "metadata": {
        "colab": {
          "base_uri": "https://localhost:8080/"
        },
        "id": "dMOe3AoKl8tq",
        "outputId": "97e7d457-63d4-4f1d-eb08-0a26c519169c"
      },
      "outputs": [
        {
          "name": "stdout",
          "output_type": "stream",
          "text": [
            "Epoch 1/700, Loss: 0.5997814536094666\n",
            "Epoch 2/700, Loss: 0.4859946668148041\n",
            "Epoch 3/700, Loss: 0.1997818499803543\n",
            "Epoch 4/700, Loss: 0.11548776924610138\n",
            "Epoch 5/700, Loss: 0.09930116683244705\n",
            "Epoch 6/700, Loss: 0.08079284429550171\n",
            "Epoch 7/700, Loss: 0.272344708442688\n",
            "Epoch 8/700, Loss: 1.4007408618927002\n",
            "Epoch 9/700, Loss: 0.055143728852272034\n",
            "Epoch 10/700, Loss: 0.1874973028898239\n",
            "Epoch 11/700, Loss: 0.44063541293144226\n",
            "Epoch 12/700, Loss: 0.0339127741754055\n",
            "Epoch 13/700, Loss: 0.19484438002109528\n",
            "Epoch 14/700, Loss: 0.07200764864683151\n",
            "Epoch 15/700, Loss: 0.27901604771614075\n",
            "Epoch 16/700, Loss: 0.031281568109989166\n",
            "Epoch 17/700, Loss: 0.4021068215370178\n",
            "Epoch 18/700, Loss: 0.1818128228187561\n",
            "Epoch 19/700, Loss: 0.015436426736414433\n",
            "Epoch 20/700, Loss: 0.09275954961776733\n",
            "Epoch 21/700, Loss: 0.049938496202230453\n",
            "Epoch 22/700, Loss: 0.0274224653840065\n",
            "Epoch 23/700, Loss: 0.17306584119796753\n",
            "Epoch 24/700, Loss: 0.15591439604759216\n",
            "Epoch 25/700, Loss: 0.019363708794116974\n",
            "Epoch 26/700, Loss: 0.01742744818329811\n",
            "Epoch 27/700, Loss: 0.07776924967765808\n",
            "Epoch 28/700, Loss: 0.05107017233967781\n",
            "Epoch 29/700, Loss: 0.10440129786729813\n",
            "Epoch 30/700, Loss: 0.06926446408033371\n",
            "Epoch 31/700, Loss: 0.24386687576770782\n",
            "Epoch 32/700, Loss: 0.13135486841201782\n",
            "Epoch 33/700, Loss: 0.06754102557897568\n",
            "Epoch 34/700, Loss: 0.5040381550788879\n",
            "Epoch 35/700, Loss: 0.18104474246501923\n",
            "Epoch 36/700, Loss: 0.051700592041015625\n",
            "Epoch 37/700, Loss: 0.15165986120700836\n",
            "Epoch 38/700, Loss: 0.176713764667511\n",
            "Epoch 39/700, Loss: 0.26549309492111206\n",
            "Epoch 40/700, Loss: 0.07622364163398743\n",
            "Epoch 41/700, Loss: 0.0075678289867937565\n",
            "Epoch 42/700, Loss: 0.005358386784791946\n",
            "Epoch 43/700, Loss: 0.044063981622457504\n",
            "Epoch 44/700, Loss: 0.11596474796533585\n",
            "Epoch 45/700, Loss: 0.0976085439324379\n",
            "Epoch 46/700, Loss: 0.04846508800983429\n",
            "Epoch 47/700, Loss: 0.15025795996189117\n",
            "Epoch 48/700, Loss: 0.014857139438390732\n",
            "Epoch 49/700, Loss: 0.016138359904289246\n",
            "Epoch 50/700, Loss: 0.014263716526329517\n",
            "Epoch 51/700, Loss: 0.19025562703609467\n",
            "Epoch 52/700, Loss: 0.2559325695037842\n",
            "Epoch 53/700, Loss: 0.12621118128299713\n",
            "Epoch 54/700, Loss: 0.042450759559869766\n",
            "Epoch 55/700, Loss: 0.026554159820079803\n",
            "Epoch 56/700, Loss: 0.07663466781377792\n",
            "Epoch 57/700, Loss: 0.02433878928422928\n",
            "Epoch 58/700, Loss: 0.1024576723575592\n",
            "Epoch 59/700, Loss: 0.01796535961329937\n",
            "Epoch 60/700, Loss: 0.1519368588924408\n",
            "Epoch 61/700, Loss: 0.16174691915512085\n",
            "Epoch 62/700, Loss: 0.02737228386104107\n",
            "Epoch 63/700, Loss: 0.1731208860874176\n",
            "Epoch 64/700, Loss: 0.16105830669403076\n",
            "Epoch 65/700, Loss: 0.09804559499025345\n",
            "Epoch 66/700, Loss: 0.007742274086922407\n",
            "Epoch 67/700, Loss: 0.3373159170150757\n",
            "Epoch 68/700, Loss: 0.10165580362081528\n",
            "Epoch 69/700, Loss: 0.10057491809129715\n",
            "Epoch 70/700, Loss: 0.011446917429566383\n",
            "Epoch 71/700, Loss: 0.06941651552915573\n",
            "Epoch 72/700, Loss: 0.13670966029167175\n",
            "Epoch 73/700, Loss: 0.0877063050866127\n",
            "Epoch 74/700, Loss: 0.04432760924100876\n",
            "Epoch 75/700, Loss: 0.14975452423095703\n",
            "Epoch 76/700, Loss: 0.03211614489555359\n",
            "Epoch 77/700, Loss: 0.11530064046382904\n",
            "Epoch 78/700, Loss: 0.029155027121305466\n",
            "Epoch 79/700, Loss: 0.1231887936592102\n",
            "Epoch 80/700, Loss: 0.13834314048290253\n",
            "Epoch 81/700, Loss: 0.08788686990737915\n",
            "Epoch 82/700, Loss: 0.0245704036206007\n",
            "Epoch 83/700, Loss: 0.16433075070381165\n",
            "Epoch 84/700, Loss: 0.08374320715665817\n",
            "Epoch 85/700, Loss: 0.020910020917654037\n",
            "Epoch 86/700, Loss: 0.09225640445947647\n",
            "Epoch 87/700, Loss: 0.18595446646213531\n",
            "Epoch 88/700, Loss: 0.02938457392156124\n",
            "Epoch 89/700, Loss: 0.15825554728507996\n",
            "Epoch 90/700, Loss: 0.09685570001602173\n",
            "Epoch 91/700, Loss: 0.027018018066883087\n",
            "Epoch 92/700, Loss: 0.012452596798539162\n",
            "Epoch 93/700, Loss: 0.09133937954902649\n",
            "Epoch 94/700, Loss: 0.018293101340532303\n",
            "Epoch 95/700, Loss: 0.012626765295863152\n",
            "Epoch 96/700, Loss: 0.19498862326145172\n",
            "Epoch 97/700, Loss: 0.020372305065393448\n",
            "Epoch 98/700, Loss: 0.08704505115747452\n",
            "Epoch 99/700, Loss: 0.11033964157104492\n",
            "Epoch 100/700, Loss: 0.07281457632780075\n",
            "Epoch 101/700, Loss: 0.11807218939065933\n",
            "Epoch 102/700, Loss: 0.16192108392715454\n",
            "Epoch 103/700, Loss: 0.010777783580124378\n",
            "Epoch 104/700, Loss: 0.07690239697694778\n",
            "Epoch 105/700, Loss: 0.16601401567459106\n",
            "Epoch 106/700, Loss: 0.015494467690587044\n",
            "Epoch 107/700, Loss: 0.034837253391742706\n",
            "Epoch 108/700, Loss: 0.028456609696149826\n",
            "Epoch 109/700, Loss: 0.022326624020934105\n",
            "Epoch 110/700, Loss: 0.014720052480697632\n",
            "Epoch 111/700, Loss: 0.2074308842420578\n",
            "Epoch 112/700, Loss: 0.09017778187990189\n",
            "Epoch 113/700, Loss: 0.131443053483963\n",
            "Epoch 114/700, Loss: 0.015551331453025341\n",
            "Epoch 115/700, Loss: 0.08584669232368469\n",
            "Epoch 116/700, Loss: 0.22047583758831024\n",
            "Epoch 117/700, Loss: 0.1656840443611145\n",
            "Epoch 118/700, Loss: 0.1512531191110611\n",
            "Epoch 119/700, Loss: 0.02602219581604004\n",
            "Epoch 120/700, Loss: 0.12093137204647064\n",
            "Epoch 121/700, Loss: 0.08020245283842087\n",
            "Epoch 122/700, Loss: 0.06243479624390602\n",
            "Epoch 123/700, Loss: 0.09832452237606049\n",
            "Epoch 124/700, Loss: 0.12388812005519867\n",
            "Epoch 125/700, Loss: 0.00714170141145587\n",
            "Epoch 126/700, Loss: 0.01509690098464489\n",
            "Epoch 127/700, Loss: 0.01708691008388996\n",
            "Epoch 128/700, Loss: 0.03765883669257164\n",
            "Epoch 129/700, Loss: 0.010180043056607246\n",
            "Epoch 130/700, Loss: 0.19066520035266876\n",
            "Epoch 131/700, Loss: 0.11372940987348557\n",
            "Epoch 132/700, Loss: 0.02709154225885868\n",
            "Epoch 133/700, Loss: 0.029543675482273102\n",
            "Epoch 134/700, Loss: 0.09009258449077606\n",
            "Epoch 135/700, Loss: 0.0762827917933464\n",
            "Epoch 136/700, Loss: 0.03579020872712135\n",
            "Epoch 137/700, Loss: 0.0793534368276596\n",
            "Epoch 138/700, Loss: 0.011899378150701523\n",
            "Epoch 139/700, Loss: 0.10388380289077759\n",
            "Epoch 140/700, Loss: 0.028236715123057365\n",
            "Epoch 141/700, Loss: 0.02187528647482395\n",
            "Epoch 142/700, Loss: 0.00943505484610796\n",
            "Epoch 143/700, Loss: 0.09899841994047165\n",
            "Epoch 144/700, Loss: 0.13769212365150452\n",
            "Epoch 145/700, Loss: 0.08825311064720154\n",
            "Epoch 146/700, Loss: 0.013411718420684338\n",
            "Epoch 147/700, Loss: 0.07202087342739105\n",
            "Epoch 148/700, Loss: 0.07815830409526825\n",
            "Epoch 149/700, Loss: 0.27377837896347046\n",
            "Epoch 150/700, Loss: 0.0641666054725647\n",
            "Epoch 151/700, Loss: 0.01566210947930813\n",
            "Epoch 152/700, Loss: 0.14188039302825928\n",
            "Epoch 153/700, Loss: 0.10229455679655075\n",
            "Epoch 154/700, Loss: 0.02942715212702751\n",
            "Epoch 155/700, Loss: 0.014475595206022263\n",
            "Epoch 156/700, Loss: 0.008473160676658154\n",
            "Epoch 157/700, Loss: 0.07838824391365051\n",
            "Epoch 158/700, Loss: 0.0158466137945652\n",
            "Epoch 159/700, Loss: 0.0893387496471405\n",
            "Epoch 160/700, Loss: 0.06301163882017136\n",
            "Epoch 161/700, Loss: 0.013738427311182022\n",
            "Epoch 162/700, Loss: 0.01299276389181614\n",
            "Epoch 163/700, Loss: 0.021213971078395844\n",
            "Epoch 164/700, Loss: 0.1094861775636673\n",
            "Epoch 165/700, Loss: 0.1041380912065506\n",
            "Epoch 166/700, Loss: 0.019214309751987457\n",
            "Epoch 167/700, Loss: 0.011641580611467361\n",
            "Epoch 168/700, Loss: 0.08740348368883133\n",
            "Epoch 169/700, Loss: 0.04234619811177254\n",
            "Epoch 170/700, Loss: 0.17736360430717468\n",
            "Epoch 171/700, Loss: 0.0979478508234024\n",
            "Epoch 172/700, Loss: 0.1676926612854004\n",
            "Epoch 173/700, Loss: 0.07609719783067703\n",
            "Epoch 174/700, Loss: 0.2428356558084488\n",
            "Epoch 175/700, Loss: 0.10187788307666779\n",
            "Epoch 176/700, Loss: 0.02363630384206772\n",
            "Epoch 177/700, Loss: 0.00939432717859745\n",
            "Epoch 178/700, Loss: 0.01609613373875618\n",
            "Epoch 179/700, Loss: 0.1089368462562561\n",
            "Epoch 180/700, Loss: 0.010379613377153873\n",
            "Epoch 181/700, Loss: 0.020859550684690475\n",
            "Epoch 182/700, Loss: 0.015439672395586967\n",
            "Epoch 183/700, Loss: 0.013613366521894932\n",
            "Epoch 184/700, Loss: 0.022329190745949745\n",
            "Epoch 185/700, Loss: 0.015457415953278542\n",
            "Epoch 186/700, Loss: 0.17280207574367523\n",
            "Epoch 187/700, Loss: 0.00905250571668148\n",
            "Epoch 188/700, Loss: 0.07919535040855408\n",
            "Epoch 189/700, Loss: 0.017692644149065018\n",
            "Epoch 190/700, Loss: 0.07739610970020294\n",
            "Epoch 191/700, Loss: 0.014545343816280365\n",
            "Epoch 192/700, Loss: 0.06335239857435226\n",
            "Epoch 193/700, Loss: 0.01467989757657051\n",
            "Epoch 194/700, Loss: 0.2235570251941681\n",
            "Epoch 195/700, Loss: 0.13468925654888153\n",
            "Epoch 196/700, Loss: 0.09123072773218155\n",
            "Epoch 197/700, Loss: 0.13073033094406128\n",
            "Epoch 198/700, Loss: 0.014838664792478085\n",
            "Epoch 199/700, Loss: 0.09402638673782349\n",
            "Epoch 200/700, Loss: 0.015615144744515419\n",
            "Epoch 201/700, Loss: 0.1585974246263504\n",
            "Epoch 202/700, Loss: 0.16117583215236664\n",
            "Epoch 203/700, Loss: 0.0890083909034729\n",
            "Epoch 204/700, Loss: 0.09517566859722137\n",
            "Epoch 205/700, Loss: 0.10451416671276093\n",
            "Epoch 206/700, Loss: 0.11387313902378082\n",
            "Epoch 207/700, Loss: 0.09415927529335022\n",
            "Epoch 208/700, Loss: 0.09159421175718307\n",
            "Epoch 209/700, Loss: 0.1574949026107788\n",
            "Epoch 210/700, Loss: 0.25200122594833374\n",
            "Epoch 211/700, Loss: 0.1150791123509407\n",
            "Epoch 212/700, Loss: 0.14042773842811584\n",
            "Epoch 213/700, Loss: 0.07624786347150803\n",
            "Epoch 214/700, Loss: 0.17196370661258698\n",
            "Epoch 215/700, Loss: 0.16697116196155548\n",
            "Epoch 216/700, Loss: 0.016845373436808586\n",
            "Epoch 217/700, Loss: 0.09822399169206619\n",
            "Epoch 218/700, Loss: 0.010823966935276985\n",
            "Epoch 219/700, Loss: 0.11070694029331207\n",
            "Epoch 220/700, Loss: 0.012506128288805485\n",
            "Epoch 221/700, Loss: 0.014140723273158073\n",
            "Epoch 222/700, Loss: 0.012283334508538246\n",
            "Epoch 223/700, Loss: 0.14429980516433716\n",
            "Epoch 224/700, Loss: 0.11464529484510422\n",
            "Epoch 225/700, Loss: 0.17696820199489594\n",
            "Epoch 226/700, Loss: 0.016573717817664146\n",
            "Epoch 227/700, Loss: 0.08885539323091507\n",
            "Epoch 228/700, Loss: 0.1109166294336319\n",
            "Epoch 229/700, Loss: 0.09909898787736893\n",
            "Epoch 230/700, Loss: 0.09496121853590012\n",
            "Epoch 231/700, Loss: 0.08254346251487732\n",
            "Epoch 232/700, Loss: 0.09691701084375381\n",
            "Epoch 233/700, Loss: 0.08158034086227417\n",
            "Epoch 234/700, Loss: 0.08717359602451324\n",
            "Epoch 235/700, Loss: 0.13693076372146606\n",
            "Epoch 236/700, Loss: 0.011429456062614918\n",
            "Epoch 237/700, Loss: 0.09044263511896133\n",
            "Epoch 238/700, Loss: 0.012112638913094997\n",
            "Epoch 239/700, Loss: 0.017037374898791313\n",
            "Epoch 240/700, Loss: 0.0741758868098259\n",
            "Epoch 241/700, Loss: 0.01571543887257576\n",
            "Epoch 242/700, Loss: 0.1498301476240158\n",
            "Epoch 243/700, Loss: 0.014589083380997181\n",
            "Epoch 244/700, Loss: 0.017697345465421677\n",
            "Epoch 245/700, Loss: 0.014855971559882164\n",
            "Epoch 246/700, Loss: 0.016205845400691032\n",
            "Epoch 247/700, Loss: 0.07731053233146667\n",
            "Epoch 248/700, Loss: 0.16377490758895874\n",
            "Epoch 249/700, Loss: 0.01796111650764942\n",
            "Epoch 250/700, Loss: 0.10204935073852539\n",
            "Epoch 251/700, Loss: 0.012749632820487022\n",
            "Epoch 252/700, Loss: 0.013136627152562141\n",
            "Epoch 253/700, Loss: 0.08007174730300903\n",
            "Epoch 254/700, Loss: 0.07537420839071274\n",
            "Epoch 255/700, Loss: 0.016192689538002014\n",
            "Epoch 256/700, Loss: 0.011959433555603027\n",
            "Epoch 257/700, Loss: 0.014882070012390614\n",
            "Epoch 258/700, Loss: 0.15905745327472687\n",
            "Epoch 259/700, Loss: 0.09999338537454605\n",
            "Epoch 260/700, Loss: 0.17825333774089813\n",
            "Epoch 261/700, Loss: 0.21948125958442688\n",
            "Epoch 262/700, Loss: 0.10188372433185577\n",
            "Epoch 263/700, Loss: 0.061578501015901566\n",
            "Epoch 264/700, Loss: 0.01313485112041235\n",
            "Epoch 265/700, Loss: 0.09005522727966309\n",
            "Epoch 266/700, Loss: 0.0878024622797966\n",
            "Epoch 267/700, Loss: 0.010733435861766338\n",
            "Epoch 268/700, Loss: 0.08883729577064514\n",
            "Epoch 269/700, Loss: 0.015938131138682365\n",
            "Epoch 270/700, Loss: 0.07750166207551956\n",
            "Epoch 271/700, Loss: 0.08866231888532639\n",
            "Epoch 272/700, Loss: 0.01181733701378107\n",
            "Epoch 273/700, Loss: 0.013661224395036697\n",
            "Epoch 274/700, Loss: 0.01671520806849003\n",
            "Epoch 275/700, Loss: 0.07925842702388763\n",
            "Epoch 276/700, Loss: 0.08245547115802765\n",
            "Epoch 277/700, Loss: 0.10405650734901428\n",
            "Epoch 278/700, Loss: 0.08038780838251114\n",
            "Epoch 279/700, Loss: 0.08104127645492554\n",
            "Epoch 280/700, Loss: 0.017856359481811523\n",
            "Epoch 281/700, Loss: 0.08920098096132278\n",
            "Epoch 282/700, Loss: 0.1535996049642563\n",
            "Epoch 283/700, Loss: 0.01646699383854866\n",
            "Epoch 284/700, Loss: 0.15692520141601562\n",
            "Epoch 285/700, Loss: 0.17183245718479156\n",
            "Epoch 286/700, Loss: 0.07635018974542618\n",
            "Epoch 287/700, Loss: 0.01576984114944935\n",
            "Epoch 288/700, Loss: 0.08914297819137573\n",
            "Epoch 289/700, Loss: 0.07954766601324081\n",
            "Epoch 290/700, Loss: 0.013578707352280617\n",
            "Epoch 291/700, Loss: 0.010812260210514069\n",
            "Epoch 292/700, Loss: 0.012179788202047348\n",
            "Epoch 293/700, Loss: 0.01202535629272461\n",
            "Epoch 294/700, Loss: 0.09750645607709885\n",
            "Epoch 295/700, Loss: 0.15692195296287537\n",
            "Epoch 296/700, Loss: 0.08657000213861465\n",
            "Epoch 297/700, Loss: 0.09120074659585953\n",
            "Epoch 298/700, Loss: 0.2284262329339981\n",
            "Epoch 299/700, Loss: 0.10811703652143478\n",
            "Epoch 300/700, Loss: 0.015820905566215515\n",
            "Epoch 301/700, Loss: 0.08437053859233856\n",
            "Epoch 302/700, Loss: 0.014176048338413239\n",
            "Epoch 303/700, Loss: 0.09409287571907043\n",
            "Epoch 304/700, Loss: 0.012744235806167126\n",
            "Epoch 305/700, Loss: 0.08797544986009598\n",
            "Epoch 306/700, Loss: 0.08933835476636887\n",
            "Epoch 307/700, Loss: 0.01773635670542717\n",
            "Epoch 308/700, Loss: 0.015501555055379868\n",
            "Epoch 309/700, Loss: 0.153175950050354\n",
            "Epoch 310/700, Loss: 0.009856456890702248\n",
            "Epoch 311/700, Loss: 0.013402395881712437\n",
            "Epoch 312/700, Loss: 0.08369525521993637\n",
            "Epoch 313/700, Loss: 0.10066480934619904\n",
            "Epoch 314/700, Loss: 0.01718977279961109\n",
            "Epoch 315/700, Loss: 0.08176346123218536\n",
            "Epoch 316/700, Loss: 0.08060804009437561\n",
            "Epoch 317/700, Loss: 0.12212445586919785\n",
            "Epoch 318/700, Loss: 0.015097863972187042\n",
            "Epoch 319/700, Loss: 0.06417448073625565\n",
            "Epoch 320/700, Loss: 0.06835149228572845\n",
            "Epoch 321/700, Loss: 0.07497711479663849\n",
            "Epoch 322/700, Loss: 0.011596418917179108\n",
            "Epoch 323/700, Loss: 0.07646772265434265\n",
            "Epoch 324/700, Loss: 0.07567153871059418\n",
            "Epoch 325/700, Loss: 0.011279234662652016\n",
            "Epoch 326/700, Loss: 0.08176795393228531\n",
            "Epoch 327/700, Loss: 0.07308334857225418\n",
            "Epoch 328/700, Loss: 0.0134377870708704\n",
            "Epoch 329/700, Loss: 0.15861102938652039\n",
            "Epoch 330/700, Loss: 0.20954561233520508\n",
            "Epoch 331/700, Loss: 0.013815974816679955\n",
            "Epoch 332/700, Loss: 0.14819499850273132\n",
            "Epoch 333/700, Loss: 0.01833968795835972\n",
            "Epoch 334/700, Loss: 0.014465833082795143\n",
            "Epoch 335/700, Loss: 0.015486575663089752\n",
            "Epoch 336/700, Loss: 0.00967893935739994\n",
            "Epoch 337/700, Loss: 0.10324409604072571\n",
            "Epoch 338/700, Loss: 0.06492170691490173\n",
            "Epoch 339/700, Loss: 0.009465239010751247\n",
            "Epoch 340/700, Loss: 0.01187239121645689\n",
            "Epoch 341/700, Loss: 0.08082757145166397\n",
            "Epoch 342/700, Loss: 0.08601319044828415\n",
            "Epoch 343/700, Loss: 0.15910311043262482\n",
            "Epoch 344/700, Loss: 0.015132940374314785\n",
            "Epoch 345/700, Loss: 0.09100799262523651\n",
            "Epoch 346/700, Loss: 0.10697459429502487\n",
            "Epoch 347/700, Loss: 0.07512915879487991\n",
            "Epoch 348/700, Loss: 0.10994518548250198\n",
            "Epoch 349/700, Loss: 0.01568850502371788\n",
            "Epoch 350/700, Loss: 0.15806914865970612\n",
            "Epoch 351/700, Loss: 0.17900988459587097\n",
            "Epoch 352/700, Loss: 0.15245404839515686\n",
            "Epoch 353/700, Loss: 0.13821545243263245\n",
            "Epoch 354/700, Loss: 0.15950727462768555\n",
            "Epoch 355/700, Loss: 0.013139625079929829\n",
            "Epoch 356/700, Loss: 0.014752676710486412\n",
            "Epoch 357/700, Loss: 0.0995955690741539\n",
            "Epoch 358/700, Loss: 0.015623974613845348\n",
            "Epoch 359/700, Loss: 0.010620921850204468\n",
            "Epoch 360/700, Loss: 0.009282615035772324\n",
            "Epoch 361/700, Loss: 0.16564127802848816\n",
            "Epoch 362/700, Loss: 0.01437374111264944\n",
            "Epoch 363/700, Loss: 0.08026090264320374\n",
            "Epoch 364/700, Loss: 0.1009787917137146\n",
            "Epoch 365/700, Loss: 0.08456075936555862\n",
            "Epoch 366/700, Loss: 0.01733446680009365\n",
            "Epoch 367/700, Loss: 0.10882769525051117\n",
            "Epoch 368/700, Loss: 0.13121768832206726\n",
            "Epoch 369/700, Loss: 0.011362784542143345\n",
            "Epoch 370/700, Loss: 0.013162069953978062\n",
            "Epoch 371/700, Loss: 0.012240973301231861\n",
            "Epoch 372/700, Loss: 0.09704642742872238\n",
            "Epoch 373/700, Loss: 0.15566441416740417\n",
            "Epoch 374/700, Loss: 0.08311107009649277\n",
            "Epoch 375/700, Loss: 0.07875767350196838\n",
            "Epoch 376/700, Loss: 0.16723136603832245\n",
            "Epoch 377/700, Loss: 0.07644397765398026\n",
            "Epoch 378/700, Loss: 0.0175003819167614\n",
            "Epoch 379/700, Loss: 0.015216691419482231\n",
            "Epoch 380/700, Loss: 0.09740033000707626\n",
            "Epoch 381/700, Loss: 0.014588793739676476\n",
            "Epoch 382/700, Loss: 0.08098218590021133\n",
            "Epoch 383/700, Loss: 0.07064072042703629\n",
            "Epoch 384/700, Loss: 0.011472764424979687\n",
            "Epoch 385/700, Loss: 0.07134479284286499\n",
            "Epoch 386/700, Loss: 0.08518592268228531\n",
            "Epoch 387/700, Loss: 0.06713175773620605\n",
            "Epoch 388/700, Loss: 0.08896978199481964\n",
            "Epoch 389/700, Loss: 0.13516876101493835\n",
            "Epoch 390/700, Loss: 0.01303072739392519\n",
            "Epoch 391/700, Loss: 0.0804600641131401\n",
            "Epoch 392/700, Loss: 0.014209359884262085\n",
            "Epoch 393/700, Loss: 0.01144842617213726\n",
            "Epoch 394/700, Loss: 0.14849752187728882\n",
            "Epoch 395/700, Loss: 0.013617018237709999\n",
            "Epoch 396/700, Loss: 0.1453668177127838\n",
            "Epoch 397/700, Loss: 0.15678027272224426\n",
            "Epoch 398/700, Loss: 0.07818640023469925\n",
            "Epoch 399/700, Loss: 0.10024630278348923\n",
            "Epoch 400/700, Loss: 0.015293425880372524\n",
            "Epoch 401/700, Loss: 0.08217906951904297\n",
            "Epoch 402/700, Loss: 0.014196330681443214\n",
            "Epoch 403/700, Loss: 0.01415489986538887\n",
            "Epoch 404/700, Loss: 0.0837925374507904\n",
            "Epoch 405/700, Loss: 0.07834163308143616\n",
            "Epoch 406/700, Loss: 0.13802099227905273\n",
            "Epoch 407/700, Loss: 0.08777184039354324\n",
            "Epoch 408/700, Loss: 0.01563015952706337\n",
            "Epoch 409/700, Loss: 0.01477514673024416\n",
            "Epoch 410/700, Loss: 0.08936198055744171\n",
            "Epoch 411/700, Loss: 0.08609946072101593\n",
            "Epoch 412/700, Loss: 0.014040726236999035\n",
            "Epoch 413/700, Loss: 0.01116765197366476\n",
            "Epoch 414/700, Loss: 0.017721233889460564\n",
            "Epoch 415/700, Loss: 0.01848538964986801\n",
            "Epoch 416/700, Loss: 0.1474003791809082\n",
            "Epoch 417/700, Loss: 0.013474446721374989\n",
            "Epoch 418/700, Loss: 0.010971082374453545\n",
            "Epoch 419/700, Loss: 0.013033421710133553\n",
            "Epoch 420/700, Loss: 0.09793631732463837\n",
            "Epoch 421/700, Loss: 0.015656394883990288\n",
            "Epoch 422/700, Loss: 0.012775926850736141\n",
            "Epoch 423/700, Loss: 0.012482660822570324\n",
            "Epoch 424/700, Loss: 0.08392632752656937\n",
            "Epoch 425/700, Loss: 0.014965060167014599\n",
            "Epoch 426/700, Loss: 0.0787162035703659\n",
            "Epoch 427/700, Loss: 0.014097542501986027\n",
            "Epoch 428/700, Loss: 0.07285819947719574\n",
            "Epoch 429/700, Loss: 0.012874008156359196\n",
            "Epoch 430/700, Loss: 0.07280106842517853\n",
            "Epoch 431/700, Loss: 0.01205541007220745\n",
            "Epoch 432/700, Loss: 0.0853477343916893\n",
            "Epoch 433/700, Loss: 0.07525588572025299\n",
            "Epoch 434/700, Loss: 0.14364907145500183\n",
            "Epoch 435/700, Loss: 0.11006806790828705\n",
            "Epoch 436/700, Loss: 0.06922969222068787\n",
            "Epoch 437/700, Loss: 0.01196006778627634\n",
            "Epoch 438/700, Loss: 0.09815235435962677\n",
            "Epoch 439/700, Loss: 0.012033363804221153\n",
            "Epoch 440/700, Loss: 0.017102019861340523\n",
            "Epoch 441/700, Loss: 0.09672841429710388\n",
            "Epoch 442/700, Loss: 0.01631653495132923\n",
            "Epoch 443/700, Loss: 0.07857958227396011\n",
            "Epoch 444/700, Loss: 0.17438563704490662\n",
            "Epoch 445/700, Loss: 0.07504577189683914\n",
            "Epoch 446/700, Loss: 0.0121316472068429\n",
            "Epoch 447/700, Loss: 0.06928067654371262\n",
            "Epoch 448/700, Loss: 0.014904552139341831\n",
            "Epoch 449/700, Loss: 0.011371323838829994\n",
            "Epoch 450/700, Loss: 0.07250595092773438\n",
            "Epoch 451/700, Loss: 0.09220800548791885\n",
            "Epoch 452/700, Loss: 0.013732182793319225\n",
            "Epoch 453/700, Loss: 0.08543341606855392\n",
            "Epoch 454/700, Loss: 0.07279753684997559\n",
            "Epoch 455/700, Loss: 0.0938333198428154\n",
            "Epoch 456/700, Loss: 0.13228049874305725\n",
            "Epoch 457/700, Loss: 0.012544817291200161\n",
            "Epoch 458/700, Loss: 0.017226818948984146\n",
            "Epoch 459/700, Loss: 0.07742558419704437\n",
            "Epoch 460/700, Loss: 0.014032816514372826\n",
            "Epoch 461/700, Loss: 0.07637294381856918\n",
            "Epoch 462/700, Loss: 0.07218153029680252\n",
            "Epoch 463/700, Loss: 0.01304989866912365\n",
            "Epoch 464/700, Loss: 0.01195968221873045\n",
            "Epoch 465/700, Loss: 0.16041532158851624\n",
            "Epoch 466/700, Loss: 0.1706451028585434\n",
            "Epoch 467/700, Loss: 0.16179654002189636\n",
            "Epoch 468/700, Loss: 0.06963182985782623\n",
            "Epoch 469/700, Loss: 0.08145347237586975\n",
            "Epoch 470/700, Loss: 0.012893014587461948\n",
            "Epoch 471/700, Loss: 0.1007235199213028\n",
            "Epoch 472/700, Loss: 0.14090627431869507\n",
            "Epoch 473/700, Loss: 0.015088938176631927\n",
            "Epoch 474/700, Loss: 0.07387278228998184\n",
            "Epoch 475/700, Loss: 0.1413196176290512\n",
            "Epoch 476/700, Loss: 0.13293935358524323\n",
            "Epoch 477/700, Loss: 0.014392801560461521\n",
            "Epoch 478/700, Loss: 0.015144409611821175\n",
            "Epoch 479/700, Loss: 0.16750672459602356\n",
            "Epoch 480/700, Loss: 0.15103423595428467\n",
            "Epoch 481/700, Loss: 0.01603858359158039\n",
            "Epoch 482/700, Loss: 0.07789929211139679\n",
            "Epoch 483/700, Loss: 0.08524800091981888\n",
            "Epoch 484/700, Loss: 0.011806556954979897\n",
            "Epoch 485/700, Loss: 0.06293407082557678\n",
            "Epoch 486/700, Loss: 0.0886436328291893\n",
            "Epoch 487/700, Loss: 0.016014225780963898\n",
            "Epoch 488/700, Loss: 0.08433222770690918\n",
            "Epoch 489/700, Loss: 0.07477794587612152\n",
            "Epoch 490/700, Loss: 0.011886600404977798\n",
            "Epoch 491/700, Loss: 0.24267642199993134\n",
            "Epoch 492/700, Loss: 0.011847368441522121\n",
            "Epoch 493/700, Loss: 0.06951221078634262\n",
            "Epoch 494/700, Loss: 0.013903578743338585\n",
            "Epoch 495/700, Loss: 0.014487307518720627\n",
            "Epoch 496/700, Loss: 0.14883644878864288\n",
            "Epoch 497/700, Loss: 0.07240814715623856\n",
            "Epoch 498/700, Loss: 0.22244369983673096\n",
            "Epoch 499/700, Loss: 0.0988212302327156\n",
            "Epoch 500/700, Loss: 0.010950884781777859\n",
            "Epoch 501/700, Loss: 0.010466448031365871\n",
            "Epoch 502/700, Loss: 0.1025218814611435\n",
            "Epoch 503/700, Loss: 0.06434854120016098\n",
            "Epoch 504/700, Loss: 0.012147866189479828\n",
            "Epoch 505/700, Loss: 0.08177106082439423\n",
            "Epoch 506/700, Loss: 0.012429135851562023\n",
            "Epoch 507/700, Loss: 0.013011889532208443\n",
            "Epoch 508/700, Loss: 0.08526481688022614\n",
            "Epoch 509/700, Loss: 0.014772008173167706\n",
            "Epoch 510/700, Loss: 0.1490422785282135\n",
            "Epoch 511/700, Loss: 0.10046625137329102\n",
            "Epoch 512/700, Loss: 0.06568637490272522\n",
            "Epoch 513/700, Loss: 0.01432843878865242\n",
            "Epoch 514/700, Loss: 0.014502483420073986\n",
            "Epoch 515/700, Loss: 0.0803966224193573\n",
            "Epoch 516/700, Loss: 0.0938558503985405\n",
            "Epoch 517/700, Loss: 0.09348172694444656\n",
            "Epoch 518/700, Loss: 0.00966750830411911\n",
            "Epoch 519/700, Loss: 0.011465098708868027\n",
            "Epoch 520/700, Loss: 0.011943149380385876\n",
            "Epoch 521/700, Loss: 0.01516964752227068\n",
            "Epoch 522/700, Loss: 0.013628389686346054\n",
            "Epoch 523/700, Loss: 0.014460952021181583\n",
            "Epoch 524/700, Loss: 0.07484683394432068\n",
            "Epoch 525/700, Loss: 0.08342088013887405\n",
            "Epoch 526/700, Loss: 0.08844805508852005\n",
            "Epoch 527/700, Loss: 0.08732474595308304\n",
            "Epoch 528/700, Loss: 0.015393037348985672\n",
            "Epoch 529/700, Loss: 0.22694827616214752\n",
            "Epoch 530/700, Loss: 0.010729092173278332\n",
            "Epoch 531/700, Loss: 0.01387238223105669\n",
            "Epoch 532/700, Loss: 0.15914857387542725\n",
            "Epoch 533/700, Loss: 0.010979709215462208\n",
            "Epoch 534/700, Loss: 0.01116618700325489\n",
            "Epoch 535/700, Loss: 0.07458887249231339\n",
            "Epoch 536/700, Loss: 0.08587178587913513\n",
            "Epoch 537/700, Loss: 0.014294225722551346\n",
            "Epoch 538/700, Loss: 0.06680581718683243\n",
            "Epoch 539/700, Loss: 0.1618097573518753\n",
            "Epoch 540/700, Loss: 0.07701113820075989\n",
            "Epoch 541/700, Loss: 0.12521038949489594\n",
            "Epoch 542/700, Loss: 0.012308994308114052\n",
            "Epoch 543/700, Loss: 0.010066276416182518\n",
            "Epoch 544/700, Loss: 0.0138899777084589\n",
            "Epoch 545/700, Loss: 0.012938367202877998\n",
            "Epoch 546/700, Loss: 0.013687359169125557\n",
            "Epoch 547/700, Loss: 0.1780148595571518\n",
            "Epoch 548/700, Loss: 0.012226881459355354\n",
            "Epoch 549/700, Loss: 0.10069399327039719\n",
            "Epoch 550/700, Loss: 0.09084053337574005\n",
            "Epoch 551/700, Loss: 0.015721889212727547\n",
            "Epoch 552/700, Loss: 0.1287519633769989\n",
            "Epoch 553/700, Loss: 0.13711073994636536\n",
            "Epoch 554/700, Loss: 0.011263882741332054\n",
            "Epoch 555/700, Loss: 0.015012220479547977\n",
            "Epoch 556/700, Loss: 0.012212376110255718\n",
            "Epoch 557/700, Loss: 0.0814247727394104\n",
            "Epoch 558/700, Loss: 0.01398103404790163\n",
            "Epoch 559/700, Loss: 0.01537411380559206\n",
            "Epoch 560/700, Loss: 0.07668553292751312\n",
            "Epoch 561/700, Loss: 0.011650093831121922\n",
            "Epoch 562/700, Loss: 0.014262543059885502\n",
            "Epoch 563/700, Loss: 0.01361876167356968\n",
            "Epoch 564/700, Loss: 0.013780629262328148\n",
            "Epoch 565/700, Loss: 0.012215978465974331\n",
            "Epoch 566/700, Loss: 0.015725864097476006\n",
            "Epoch 567/700, Loss: 0.07744039595127106\n",
            "Epoch 568/700, Loss: 0.012596586719155312\n",
            "Epoch 569/700, Loss: 0.0898057147860527\n",
            "Epoch 570/700, Loss: 0.0669710785150528\n",
            "Epoch 571/700, Loss: 0.014639410190284252\n",
            "Epoch 572/700, Loss: 0.08843286335468292\n",
            "Epoch 573/700, Loss: 0.010507888160645962\n",
            "Epoch 574/700, Loss: 0.11630195379257202\n",
            "Epoch 575/700, Loss: 0.07486765086650848\n",
            "Epoch 576/700, Loss: 0.1822974979877472\n",
            "Epoch 577/700, Loss: 0.012745747342705727\n",
            "Epoch 578/700, Loss: 0.08202812820672989\n",
            "Epoch 579/700, Loss: 0.013556553050875664\n",
            "Epoch 580/700, Loss: 0.01198948360979557\n",
            "Epoch 581/700, Loss: 0.14944276213645935\n",
            "Epoch 582/700, Loss: 0.06525722146034241\n",
            "Epoch 583/700, Loss: 0.015730079263448715\n",
            "Epoch 584/700, Loss: 0.012719081714749336\n",
            "Epoch 585/700, Loss: 0.10655413568019867\n",
            "Epoch 586/700, Loss: 0.012352293357253075\n",
            "Epoch 587/700, Loss: 0.014211319386959076\n",
            "Epoch 588/700, Loss: 0.1407966911792755\n",
            "Epoch 589/700, Loss: 0.08957153558731079\n",
            "Epoch 590/700, Loss: 0.012344567105174065\n",
            "Epoch 591/700, Loss: 0.09465128928422928\n",
            "Epoch 592/700, Loss: 0.08405527472496033\n",
            "Epoch 593/700, Loss: 0.010732748545706272\n",
            "Epoch 594/700, Loss: 0.09116469323635101\n",
            "Epoch 595/700, Loss: 0.09543260931968689\n",
            "Epoch 596/700, Loss: 0.010553490370512009\n",
            "Epoch 597/700, Loss: 0.09377741813659668\n",
            "Epoch 598/700, Loss: 0.08277005702257156\n",
            "Epoch 599/700, Loss: 0.011794398538768291\n",
            "Epoch 600/700, Loss: 0.1679433137178421\n",
            "Epoch 601/700, Loss: 0.0104170897975564\n",
            "Epoch 602/700, Loss: 0.10020820051431656\n",
            "Epoch 603/700, Loss: 0.10095198452472687\n",
            "Epoch 604/700, Loss: 0.0627010390162468\n",
            "Epoch 605/700, Loss: 0.014180726371705532\n",
            "Epoch 606/700, Loss: 0.011704728938639164\n",
            "Epoch 607/700, Loss: 0.0780072957277298\n",
            "Epoch 608/700, Loss: 0.1386794000864029\n",
            "Epoch 609/700, Loss: 0.01461680419743061\n",
            "Epoch 610/700, Loss: 0.19242540001869202\n",
            "Epoch 611/700, Loss: 0.0934637114405632\n",
            "Epoch 612/700, Loss: 0.012087229639291763\n",
            "Epoch 613/700, Loss: 0.07456029206514359\n",
            "Epoch 614/700, Loss: 0.16004353761672974\n",
            "Epoch 615/700, Loss: 0.012846898287534714\n",
            "Epoch 616/700, Loss: 0.08156786113977432\n",
            "Epoch 617/700, Loss: 0.14914290606975555\n",
            "Epoch 618/700, Loss: 0.1463543325662613\n",
            "Epoch 619/700, Loss: 0.011335211805999279\n",
            "Epoch 620/700, Loss: 0.013382814824581146\n",
            "Epoch 621/700, Loss: 0.012040751054883003\n",
            "Epoch 622/700, Loss: 0.16805744171142578\n",
            "Epoch 623/700, Loss: 0.13331736624240875\n",
            "Epoch 624/700, Loss: 0.08477487415075302\n",
            "Epoch 625/700, Loss: 0.010787995532155037\n",
            "Epoch 626/700, Loss: 0.010207193903625011\n",
            "Epoch 627/700, Loss: 0.01397691946476698\n",
            "Epoch 628/700, Loss: 0.011481075547635555\n",
            "Epoch 629/700, Loss: 0.011409362778067589\n",
            "Epoch 630/700, Loss: 0.09426967799663544\n",
            "Epoch 631/700, Loss: 0.15894202888011932\n",
            "Epoch 632/700, Loss: 0.08766207844018936\n",
            "Epoch 633/700, Loss: 0.06803451478481293\n",
            "Epoch 634/700, Loss: 0.11384366452693939\n",
            "Epoch 635/700, Loss: 0.0756058543920517\n",
            "Epoch 636/700, Loss: 0.01316744089126587\n",
            "Epoch 637/700, Loss: 0.09282411634922028\n",
            "Epoch 638/700, Loss: 0.08695605397224426\n",
            "Epoch 639/700, Loss: 0.0873262882232666\n",
            "Epoch 640/700, Loss: 0.013414339162409306\n",
            "Epoch 641/700, Loss: 0.013229738920927048\n",
            "Epoch 642/700, Loss: 0.06859532743692398\n",
            "Epoch 643/700, Loss: 0.17293325066566467\n",
            "Epoch 644/700, Loss: 0.1679532825946808\n",
            "Epoch 645/700, Loss: 0.06616835296154022\n",
            "Epoch 646/700, Loss: 0.01729130931198597\n",
            "Epoch 647/700, Loss: 0.09845168143510818\n",
            "Epoch 648/700, Loss: 0.18685127794742584\n",
            "Epoch 649/700, Loss: 0.09663087129592896\n",
            "Epoch 650/700, Loss: 0.16100575029850006\n",
            "Epoch 651/700, Loss: 0.083473339676857\n",
            "Epoch 652/700, Loss: 0.09890121221542358\n",
            "Epoch 653/700, Loss: 0.08146601915359497\n",
            "Epoch 654/700, Loss: 0.07769446074962616\n",
            "Epoch 655/700, Loss: 0.09140361100435257\n",
            "Epoch 656/700, Loss: 0.012384813278913498\n",
            "Epoch 657/700, Loss: 0.013979922980070114\n",
            "Epoch 658/700, Loss: 0.08129362761974335\n",
            "Epoch 659/700, Loss: 0.013002103194594383\n",
            "Epoch 660/700, Loss: 0.14606665074825287\n",
            "Epoch 661/700, Loss: 0.1457483470439911\n",
            "Epoch 662/700, Loss: 0.014102520421147346\n",
            "Epoch 663/700, Loss: 0.06839270144701004\n",
            "Epoch 664/700, Loss: 0.1747681200504303\n",
            "Epoch 665/700, Loss: 0.0882159024477005\n",
            "Epoch 666/700, Loss: 0.06879279017448425\n",
            "Epoch 667/700, Loss: 0.016094325110316277\n",
            "Epoch 668/700, Loss: 0.16668614745140076\n",
            "Epoch 669/700, Loss: 0.014437238685786724\n",
            "Epoch 670/700, Loss: 0.07788164168596268\n",
            "Epoch 671/700, Loss: 0.09581401199102402\n",
            "Epoch 672/700, Loss: 0.013291717506945133\n",
            "Epoch 673/700, Loss: 0.07904501259326935\n",
            "Epoch 674/700, Loss: 0.01303524523973465\n",
            "Epoch 675/700, Loss: 0.17434512078762054\n",
            "Epoch 676/700, Loss: 0.011778302490711212\n",
            "Epoch 677/700, Loss: 0.009027652442455292\n",
            "Epoch 678/700, Loss: 0.07780474424362183\n",
            "Epoch 679/700, Loss: 0.08899203687906265\n",
            "Epoch 680/700, Loss: 0.01227644830942154\n",
            "Epoch 681/700, Loss: 0.0779338851571083\n",
            "Epoch 682/700, Loss: 0.07092981040477753\n",
            "Epoch 683/700, Loss: 0.013819744810461998\n",
            "Epoch 684/700, Loss: 0.012456493452191353\n",
            "Epoch 685/700, Loss: 0.10729315131902695\n",
            "Epoch 686/700, Loss: 0.012780656106770039\n",
            "Epoch 687/700, Loss: 0.07891640067100525\n",
            "Epoch 688/700, Loss: 0.09003455191850662\n",
            "Epoch 689/700, Loss: 0.16111508011817932\n",
            "Epoch 690/700, Loss: 0.06980207562446594\n",
            "Epoch 691/700, Loss: 0.07987819612026215\n",
            "Epoch 692/700, Loss: 0.01303471252322197\n",
            "Epoch 693/700, Loss: 0.1015835776925087\n",
            "Epoch 694/700, Loss: 0.011332392692565918\n",
            "Epoch 695/700, Loss: 0.2114197015762329\n",
            "Epoch 696/700, Loss: 0.01181495189666748\n",
            "Epoch 697/700, Loss: 0.08358678966760635\n",
            "Epoch 698/700, Loss: 0.08580576628446579\n",
            "Epoch 699/700, Loss: 0.09506050497293472\n",
            "Epoch 700/700, Loss: 0.0737682357430458\n"
          ]
        }
      ],
      "source": [
        "\n",
        "optimizer = torch.optim.Adam(model.parameters(), lr=0.01)\n",
        "criterion = torch.nn.CrossEntropyLoss()\n",
        "scheduler=torch.optim.lr_scheduler.ExponentialLR(optimizer, gamma=0.99)\n",
        "\n",
        "# Add a learning rate scheduler\n",
        "#scheduler = torch.optim.lr_scheduler.StepLR(optimizer, step_size=100, gamma=0.01)\n",
        "\n",
        "def train():\n",
        "    model.train()\n",
        "\n",
        "    for epoch in range(num_epochs):\n",
        "        for data in train_loader:  # Iterate in batches over the training dataset.\n",
        "            #print(data)\n",
        "            embedding,  out = model(data.x, data.edge_index,data.edge_attr,data.batch)  # Perform a single forward pass.\n",
        "            #print(out)\n",
        "            loss = criterion(out, data.y)  # Compute the loss.\n",
        "            loss.backward()  # Derive gradients.\n",
        "            optimizer.step()  # Update parameters based on gradients.\n",
        "            optimizer.zero_grad()  # Clear gradients.\n",
        "\n",
        "        # Update the learning rate scheduler\n",
        "        scheduler.step()\n",
        "\n",
        "        # Print the current learning rate every epoch (optional)\n",
        "        print(f\"Epoch {epoch + 1}/{num_epochs}, Loss: {loss}\")\n",
        "        # train_acc = test(train_loader)\n",
        "        # test_acc = test(test_loader)\n",
        "        # print(f'Epoch: {epoch:03d}, Train Acc: {train_acc:.4f}, Test Acc: {test_acc:.4f}')\n",
        "\n",
        "# Set the number of epochs\n",
        "num_epochs = 700\n",
        "\n",
        "# Call the training loop\n",
        "train()\n",
        "\n"
      ]
    },
    {
      "cell_type": "code",
      "execution_count": null,
      "metadata": {
        "colab": {
          "base_uri": "https://localhost:8080/",
          "height": 356
        },
        "id": "3em9Ftx46ksA",
        "outputId": "42b3c55e-71aa-4856-cf3a-c55d37e5bf81"
      },
      "outputs": [
        {
          "ename": "TypeError",
          "evalue": "CombinedModel.forward() missing 3 required positional arguments: 'edge_index', 'edge_attr', and 'batch'",
          "output_type": "error",
          "traceback": [
            "\u001b[0;31m---------------------------------------------------------------------------\u001b[0m",
            "\u001b[0;31mTypeError\u001b[0m                                 Traceback (most recent call last)",
            "\u001b[0;32m<ipython-input-38-8f948a0a6097>\u001b[0m in \u001b[0;36m<cell line: 37>\u001b[0;34m()\u001b[0m\n\u001b[1;32m     36\u001b[0m \u001b[0;34m\u001b[0m\u001b[0m\n\u001b[1;32m     37\u001b[0m \u001b[0;32mfor\u001b[0m \u001b[0mepoch\u001b[0m \u001b[0;32min\u001b[0m \u001b[0mrange\u001b[0m\u001b[0;34m(\u001b[0m\u001b[0;36m1\u001b[0m\u001b[0;34m,\u001b[0m \u001b[0;36m101\u001b[0m\u001b[0;34m)\u001b[0m\u001b[0;34m:\u001b[0m\u001b[0;34m\u001b[0m\u001b[0;34m\u001b[0m\u001b[0m\n\u001b[0;32m---> 38\u001b[0;31m     \u001b[0mtrain\u001b[0m\u001b[0;34m(\u001b[0m\u001b[0mepoch\u001b[0m\u001b[0;34m)\u001b[0m\u001b[0;34m\u001b[0m\u001b[0;34m\u001b[0m\u001b[0m\n\u001b[0m\u001b[1;32m     39\u001b[0m     \u001b[0mtest_acc\u001b[0m \u001b[0;34m=\u001b[0m \u001b[0mtest\u001b[0m\u001b[0;34m(\u001b[0m\u001b[0;34m)\u001b[0m\u001b[0;34m\u001b[0m\u001b[0;34m\u001b[0m\u001b[0m\n\u001b[1;32m     40\u001b[0m     \u001b[0mprint\u001b[0m\u001b[0;34m(\u001b[0m\u001b[0;34mf'Epoch: {epoch:02d}, Test: {test_acc:.4f}'\u001b[0m\u001b[0;34m)\u001b[0m\u001b[0;34m\u001b[0m\u001b[0;34m\u001b[0m\u001b[0m\n",
            "\u001b[0;32m<ipython-input-38-8f948a0a6097>\u001b[0m in \u001b[0;36mtrain\u001b[0;34m(epoch)\u001b[0m\n\u001b[1;32m     18\u001b[0m         \u001b[0mdata\u001b[0m \u001b[0;34m=\u001b[0m \u001b[0mdata\u001b[0m\u001b[0;34m.\u001b[0m\u001b[0mto\u001b[0m\u001b[0;34m(\u001b[0m\u001b[0mdevice\u001b[0m\u001b[0;34m)\u001b[0m\u001b[0;34m\u001b[0m\u001b[0;34m\u001b[0m\u001b[0m\n\u001b[1;32m     19\u001b[0m         \u001b[0moptimizer\u001b[0m\u001b[0;34m.\u001b[0m\u001b[0mzero_grad\u001b[0m\u001b[0;34m(\u001b[0m\u001b[0;34m)\u001b[0m\u001b[0;34m\u001b[0m\u001b[0;34m\u001b[0m\u001b[0m\n\u001b[0;32m---> 20\u001b[0;31m         \u001b[0membedding\u001b[0m\u001b[0;34m,\u001b[0m\u001b[0moutput\u001b[0m\u001b[0;34m=\u001b[0m\u001b[0mmodel\u001b[0m\u001b[0;34m(\u001b[0m\u001b[0mdata\u001b[0m\u001b[0;34m)\u001b[0m\u001b[0;34m\u001b[0m\u001b[0;34m\u001b[0m\u001b[0m\n\u001b[0m\u001b[1;32m     21\u001b[0m         \u001b[0mF\u001b[0m\u001b[0;34m.\u001b[0m\u001b[0mnll_loss\u001b[0m\u001b[0;34m(\u001b[0m\u001b[0moutput\u001b[0m\u001b[0;34m,\u001b[0m \u001b[0mdata\u001b[0m\u001b[0;34m.\u001b[0m\u001b[0my\u001b[0m\u001b[0;34m)\u001b[0m\u001b[0;34m.\u001b[0m\u001b[0mbackward\u001b[0m\u001b[0;34m(\u001b[0m\u001b[0;34m)\u001b[0m\u001b[0;34m\u001b[0m\u001b[0;34m\u001b[0m\u001b[0m\n\u001b[1;32m     22\u001b[0m         \u001b[0moptimizer\u001b[0m\u001b[0;34m.\u001b[0m\u001b[0mstep\u001b[0m\u001b[0;34m(\u001b[0m\u001b[0;34m)\u001b[0m\u001b[0;34m\u001b[0m\u001b[0;34m\u001b[0m\u001b[0m\n",
            "\u001b[0;32m/usr/local/lib/python3.10/dist-packages/torch/nn/modules/module.py\u001b[0m in \u001b[0;36m_wrapped_call_impl\u001b[0;34m(self, *args, **kwargs)\u001b[0m\n\u001b[1;32m   1734\u001b[0m             \u001b[0;32mreturn\u001b[0m \u001b[0mself\u001b[0m\u001b[0;34m.\u001b[0m\u001b[0m_compiled_call_impl\u001b[0m\u001b[0;34m(\u001b[0m\u001b[0;34m*\u001b[0m\u001b[0margs\u001b[0m\u001b[0;34m,\u001b[0m \u001b[0;34m**\u001b[0m\u001b[0mkwargs\u001b[0m\u001b[0;34m)\u001b[0m  \u001b[0;31m# type: ignore[misc]\u001b[0m\u001b[0;34m\u001b[0m\u001b[0;34m\u001b[0m\u001b[0m\n\u001b[1;32m   1735\u001b[0m         \u001b[0;32melse\u001b[0m\u001b[0;34m:\u001b[0m\u001b[0;34m\u001b[0m\u001b[0;34m\u001b[0m\u001b[0m\n\u001b[0;32m-> 1736\u001b[0;31m             \u001b[0;32mreturn\u001b[0m \u001b[0mself\u001b[0m\u001b[0;34m.\u001b[0m\u001b[0m_call_impl\u001b[0m\u001b[0;34m(\u001b[0m\u001b[0;34m*\u001b[0m\u001b[0margs\u001b[0m\u001b[0;34m,\u001b[0m \u001b[0;34m**\u001b[0m\u001b[0mkwargs\u001b[0m\u001b[0;34m)\u001b[0m\u001b[0;34m\u001b[0m\u001b[0;34m\u001b[0m\u001b[0m\n\u001b[0m\u001b[1;32m   1737\u001b[0m \u001b[0;34m\u001b[0m\u001b[0m\n\u001b[1;32m   1738\u001b[0m     \u001b[0;31m# torchrec tests the code consistency with the following code\u001b[0m\u001b[0;34m\u001b[0m\u001b[0;34m\u001b[0m\u001b[0m\n",
            "\u001b[0;32m/usr/local/lib/python3.10/dist-packages/torch/nn/modules/module.py\u001b[0m in \u001b[0;36m_call_impl\u001b[0;34m(self, *args, **kwargs)\u001b[0m\n\u001b[1;32m   1745\u001b[0m                 \u001b[0;32mor\u001b[0m \u001b[0m_global_backward_pre_hooks\u001b[0m \u001b[0;32mor\u001b[0m \u001b[0m_global_backward_hooks\u001b[0m\u001b[0;34m\u001b[0m\u001b[0;34m\u001b[0m\u001b[0m\n\u001b[1;32m   1746\u001b[0m                 or _global_forward_hooks or _global_forward_pre_hooks):\n\u001b[0;32m-> 1747\u001b[0;31m             \u001b[0;32mreturn\u001b[0m \u001b[0mforward_call\u001b[0m\u001b[0;34m(\u001b[0m\u001b[0;34m*\u001b[0m\u001b[0margs\u001b[0m\u001b[0;34m,\u001b[0m \u001b[0;34m**\u001b[0m\u001b[0mkwargs\u001b[0m\u001b[0;34m)\u001b[0m\u001b[0;34m\u001b[0m\u001b[0;34m\u001b[0m\u001b[0m\n\u001b[0m\u001b[1;32m   1748\u001b[0m \u001b[0;34m\u001b[0m\u001b[0m\n\u001b[1;32m   1749\u001b[0m         \u001b[0mresult\u001b[0m \u001b[0;34m=\u001b[0m \u001b[0;32mNone\u001b[0m\u001b[0;34m\u001b[0m\u001b[0;34m\u001b[0m\u001b[0m\n",
            "\u001b[0;31mTypeError\u001b[0m: CombinedModel.forward() missing 3 required positional arguments: 'edge_index', 'edge_attr', and 'batch'"
          ]
        }
      ],
      "source": [
        "device = torch.device('cuda' if torch.cuda.is_available() else 'cpu')\n",
        "#model = Net().to(device)\n",
        "optimizer = torch.optim.Adam(model.parameters(), lr=0.01)\n",
        "\n",
        "\n",
        "def train(epoch):\n",
        "    model.train()\n",
        "\n",
        "    if epoch == 16:\n",
        "        for param_group in optimizer.param_groups:\n",
        "            param_group['lr'] = 0.001\n",
        "\n",
        "    if epoch == 26:\n",
        "        for param_group in optimizer.param_groups:\n",
        "            param_group['lr'] = 0.0001\n",
        "\n",
        "    for data in train_loader:\n",
        "        data = data.to(device)\n",
        "        optimizer.zero_grad()\n",
        "        embedding,output=model(data)\n",
        "        F.nll_loss(output, data.y).backward()\n",
        "        optimizer.step()\n",
        "\n",
        "\n",
        "def test():\n",
        "    model.eval()\n",
        "    correct = 0\n",
        "\n",
        "    for data in test_loader:\n",
        "        data = data.to(device)\n",
        "        _,pred = model(data)\n",
        "        pred=torch.exp(pred).argmax(dim=1)\n",
        "        correct += pred.eq(data.y).sum().item()\n",
        "    return correct / len(test_dataset)\n",
        "\n",
        "\n",
        "for epoch in range(1, 101):\n",
        "    train(epoch)\n",
        "    test_acc = test()\n",
        "    print(f'Epoch: {epoch:02d}, Test: {test_acc:.4f}')"
      ]
    },
    {
      "cell_type": "code",
      "execution_count": null,
      "metadata": {
        "colab": {
          "base_uri": "https://localhost:8080/"
        },
        "id": "1scBkeodWjPx",
        "outputId": "8c991003-5a81-4e58-8838-5456d9fdf154"
      },
      "outputs": [
        {
          "name": "stdout",
          "output_type": "stream",
          "text": [
            "[0.98522167 0.98039216 0.96373057]\n"
          ]
        }
      ],
      "source": [
        "import torch\n",
        "from sklearn.metrics import f1_score\n",
        "from torch_geometric.data import DataLoader\n",
        "\n",
        "def calculate_f1_score(model, dataset):\n",
        "    model.eval()  # Set model to evaluation mode\n",
        "    #device = torch.device('cuda' if torch.cuda.is_available() else 'cpu')\n",
        "    #model.to(device)  # Move model to the appropriate device (GPU if available)\n",
        "\n",
        "    y_true = []\n",
        "    y_pred = []\n",
        "\n",
        "    #loader = DataLoader(dataset, batch_size=1, shuffle=False)\n",
        "    for data in dataset:\n",
        "        #data = data.to(device)\n",
        "        with torch.no_grad():\n",
        "            _,output = model(data)\n",
        "        predicted_labels = output.argmax(dim=1)\n",
        "        y_true.append(data.y)\n",
        "        y_pred.extend(predicted_labels)\n",
        "\n",
        "    f1 = f1_score(y_true, y_pred, average=None)  # Calculate F1 score\n",
        "    return f1\n",
        "f1=calculate_f1_score(model,dataset)\n",
        "print(f1)\n"
      ]
    },
    {
      "cell_type": "code",
      "execution_count": null,
      "metadata": {
        "id": "n-Ch2LsLloa6"
      },
      "outputs": [],
      "source": [
        "def degree_distribution(data, N):\n",
        "    # Find all unique nodes present in the edge index tensor\n",
        "    all_nodes = torch.unique(torch.cat((data.edge_index[0], data.edge_index[1])))\n",
        "\n",
        "    # Calculate the number of nodes\n",
        "    num_nodes = int(all_nodes.max()) + 1 if all_nodes.numel() > 0 else 0  # If there are no nodes, set num_nodes to 0\n",
        "\n",
        "    # Calculate the degree of each node\n",
        "    degrees = torch.bincount(data.edge_index[0], minlength=num_nodes)\n",
        "\n",
        "    # Convert degrees to degree distribution\n",
        "    degree_values = torch.bincount(degrees)\n",
        "\n",
        "    # Make sure the tensor is of length N\n",
        "    degree_distribution = torch.cat((degree_values, torch.zeros(max(N - len(degree_values), 0)).to(degree_values.device)))\n",
        "\n",
        "    return degree_distribution\n",
        "\n",
        "\n",
        "def clustering_coefficient(data):\n",
        "    # Ensure the graph is undirected\n",
        "    #data = to_undirected(data)\n",
        "\n",
        "    # Calculate the number of nodes\n",
        "    num_nodes = data.x.shape[0]\n",
        "\n",
        "    # Calculate the number of triangles each node is involved in\n",
        "    num_triangles = torch.zeros(num_nodes, dtype=torch.float)\n",
        "\n",
        "    # Calculate the number of connected triples each node is involved in\n",
        "    num_connected_triples = torch.zeros(num_nodes, dtype=torch.float)\n",
        "\n",
        "    # Iterate over each edge in the graph\n",
        "    for i, j in data.edge_index.t().tolist():\n",
        "        # Get the neighbors of node i and node j\n",
        "        neighbors_i = set(data.edge_index[1][data.edge_index[0] == i].tolist())\n",
        "        neighbors_j = set(data.edge_index[1][data.edge_index[0] == j].tolist())\n",
        "\n",
        "        # Calculate the number of common neighbors between i and j\n",
        "        common_neighbors = neighbors_i.intersection(neighbors_j)\n",
        "\n",
        "        # Update the number of triangles and connected triples for nodes i and j\n",
        "        num_triangles[i] += len(common_neighbors)\n",
        "        num_triangles[j] += len(common_neighbors)\n",
        "        num_connected_triples[i] += len(neighbors_i) - 1\n",
        "        num_connected_triples[j] += len(neighbors_j) - 1\n",
        "\n",
        "    # Print intermediate results for debugging\n",
        "    #print(\"Number of triangles per node:\", num_triangles)\n",
        "    #print(\"Number of connected triples per node:\", num_connected_triples)\n",
        "\n",
        "    # Calculate the local clustering coefficient for each node\n",
        "    local_clustering_coefficient = (num_triangles / 2) / num_connected_triples\n",
        "    local_clustering_coefficient[torch.isnan(local_clustering_coefficient)] = 0  # Set NaN values to 0\n",
        "\n",
        "    # Print intermediate results for debugging\n",
        "    #print(\"Local clustering coefficient per node:\", local_clustering_coefficient)\n",
        "\n",
        "    # Calculate the average clustering coefficient\n",
        "    avg_clustering_coefficient = local_clustering_coefficient.mean()\n",
        "\n",
        "    return avg_clustering_coefficient\n",
        "import torch\n",
        "import torch_geometric\n",
        "import numpy as np\n",
        "\n",
        "def spectrum_distribution(data, k):\n",
        "    # Convert PyTorch Geometric Data object to a dense adjacency matrix\n",
        "    num_nodes = data.num_nodes\n",
        "    adj_matrix = torch_geometric.utils.to_dense_adj(data.edge_index).squeeze(0)\n",
        "\n",
        "    # Calculate degree matrix\n",
        "    degree = torch.sum(adj_matrix, dim=1)\n",
        "    degree_matrix = torch.diag(degree)\n",
        "\n",
        "    # Calculate Laplacian matrix\n",
        "    laplacian_matrix = degree_matrix - adj_matrix\n",
        "\n",
        "    # Convert Laplacian to dense matrix and numpy array\n",
        "    laplacian_dense = laplacian_matrix.numpy()\n",
        "\n",
        "    # Compute eigenvalues\n",
        "    eigenvalues, _ = np.linalg.eig(laplacian_dense)\n",
        "\n",
        "    # Sort eigenvalues in ascending order\n",
        "    eigenvalues = np.sort(eigenvalues)\n",
        "\n",
        "    # If k is greater than the number of eigenvalues, pad with zeros\n",
        "    if k > len(eigenvalues):\n",
        "        padded_eigenvalues = np.pad(eigenvalues, (0, k - len(eigenvalues)), 'constant')\n",
        "    else:\n",
        "        padded_eigenvalues = eigenvalues[:k]\n",
        "\n",
        "    return padded_eigenvalues.astype(np.complex128)\n",
        "\n",
        "\n"
      ]
    },
    {
      "cell_type": "code",
      "execution_count": null,
      "metadata": {
        "colab": {
          "base_uri": "https://localhost:8080/"
        },
        "id": "506905f9",
        "outputId": "9d05398f-cb26-4438-834f-c971f042d4fa"
      },
      "outputs": [
        {
          "name": "stdout",
          "output_type": "stream",
          "text": [
            "103\n",
            "104\n",
            "93\n",
            "None\n"
          ]
        }
      ],
      "source": [
        "# Separating the graphs into two classes according to the model\n",
        "N=25\n",
        "data1=[]\n",
        "data2=[]\n",
        "data3=[]\n",
        "latent1=[]\n",
        "latent2=[]\n",
        "latent3=[]\n",
        "degreedist1=[]\n",
        "degreedist2=[]\n",
        "degreedist3=[]\n",
        "cluscoeff1=[]\n",
        "cluscoeff2=[]\n",
        "cluscoeff3=[]\n",
        "spec1=[]\n",
        "spec2=[]\n",
        "spec3=[]\n",
        "\n",
        "for i in range(len(dataset)):\n",
        "    model.eval()\n",
        "    data=dataset[i]\n",
        "    embedding , out = model(data)\n",
        "    pred = out.argmax(dim=1)\n",
        "    if(pred==0):\n",
        "        data1.append(data)\n",
        "        latent1.append(embedding)\n",
        "        degree=degree_distribution(data,N)\n",
        "        clus=clustering_coefficient(data)\n",
        "        spec=spectrum_distribution(data,N)\n",
        "        cluscoeff1.append(clus)\n",
        "        degreedist1.append(degree)\n",
        "        spec1.append(spec)\n",
        "\n",
        "    if(pred==1):\n",
        "        data2.append(data)\n",
        "        latent2.append(embedding)\n",
        "        degree=degree_distribution(data,N)\n",
        "        degreedist2.append(degree)\n",
        "        clus=clustering_coefficient(data)\n",
        "        cluscoeff2.append(clus)\n",
        "        spec=spectrum_distribution(data,N)\n",
        "        spec2.append(spec)\n",
        "    if(pred==2):\n",
        "        data3.append(data)\n",
        "        latent3.append(embedding)\n",
        "        degree=degree_distribution(data,N)\n",
        "        degreedist3.append(degree)\n",
        "        clus=clustering_coefficient(data)\n",
        "        cluscoeff3.append(clus)\n",
        "        spec=spectrum_distribution(data,N)\n",
        "        spec3.append(spec)\n",
        "print(len(data1))\n",
        "print(len(data2))\n",
        "print(len(data3))\n",
        "\n",
        "print(data.batch)\n",
        "\n",
        "latent_explanations=[]\n"
      ]
    },
    {
      "cell_type": "markdown",
      "metadata": {
        "id": "QSeln4hkK61A"
      },
      "source": [
        "# Plotting the Confusion Matrix of the Classifier"
      ]
    },
    {
      "cell_type": "code",
      "execution_count": null,
      "metadata": {
        "id": "ipMq67c5vatY"
      },
      "outputs": [],
      "source": [
        "import torch\n",
        "import numpy as np\n",
        "from sklearn.metrics import confusion_matrix\n",
        "import seaborn as sns\n",
        "import matplotlib.pyplot as plt\n",
        "\n",
        "def plot_confusion_matrix(model, dataset, class_dict):\n",
        "    \"\"\"\n",
        "    Evaluate the model on the provided dataset, compute the confusion matrix,\n",
        "    and plot it with class names.\n",
        "\n",
        "    Parameters:\n",
        "    - model: Trained GNN model\n",
        "    - dataset: List of data objects\n",
        "    - class_dict: Dictionary mapping class labels to class names, e.g., {0: 'Class A', 1: 'Class B'}\n",
        "    \"\"\"\n",
        "\n",
        "    # Step 1: Evaluate the model and get predictions and true labels\n",
        "    model.eval()\n",
        "    all_preds = []\n",
        "    all_labels = []\n",
        "\n",
        "    with torch.no_grad():\n",
        "        for data in dataset:\n",
        "            _, out = model(data.x,data.edge_index,data.edge_attr,None)\n",
        "            pred = out.argmax(dim=1)\n",
        "            data.y=torch.tensor(data.y)\n",
        "            all_preds.append(pred.numpy().flatten())\n",
        "            all_labels.append(data.y.numpy().flatten())\n",
        "\n",
        "    print(all_labels)\n",
        "    print(all_preds)\n",
        "    all_preds = np.concatenate(all_preds, axis=0)\n",
        "    all_labels = np.concatenate(all_labels, axis=0)\n",
        "\n",
        "    # Step 2: Compute the confusion matrix\n",
        "    conf_matrix = confusion_matrix(all_labels, all_preds)\n",
        "\n",
        "    # Step 3: Plot the confusion matrix\n",
        "    class_names = [class_dict[i] for i in range(len(class_dict))]\n",
        "\n",
        "    plt.figure(figsize=(8, 6))\n",
        "    sns.heatmap(conf_matrix, annot=True, fmt=\"d\", cmap=\"Blues\",\n",
        "                xticklabels=class_names, yticklabels=class_names)\n",
        "    plt.xlabel(\"Predicted\")\n",
        "    plt.ylabel(\"True\")\n",
        "    plt.title(\"Confusion Matrix\")\n",
        "    plt.show()\n",
        "\n",
        "# Example usage:\n",
        "# Assuming the class labels are {0: 'Mutagenic', 1: 'Non-Mutagenic'}\n",
        "#class_dict = {0: 'Mutagenic', 1: 'Non-Mutagenic'}\n",
        "\n",
        "# Example dataset (assuming it's a list of data objects)\n",
        "# dataset = [...]\n",
        "\n",
        "# Call the function with the model, dataset (as a list), and class dictionary\n",
        "#plot_confusion_matrix(model, dataset, class_dict)\n"
      ]
    },
    {
      "cell_type": "code",
      "execution_count": null,
      "metadata": {
        "colab": {
          "base_uri": "https://localhost:8080/",
          "height": 653
        },
        "id": "0n7XM5g3vBu7",
        "outputId": "325a5a88-d40f-4e7a-b5b3-435e955edbef"
      },
      "outputs": [
        {
          "name": "stderr",
          "output_type": "stream",
          "text": [
            "<ipython-input-53-b5e0b8526493>:27: UserWarning: To copy construct from a tensor, it is recommended to use sourceTensor.clone().detach() or sourceTensor.clone().detach().requires_grad_(True), rather than torch.tensor(sourceTensor).\n",
            "  data.y=torch.tensor(data.y)\n"
          ]
        },
        {
          "name": "stdout",
          "output_type": "stream",
          "text": [
            "[array([1]), array([1]), array([0]), array([1]), array([1]), array([2]), array([0]), array([2]), array([0]), array([2]), array([2]), array([0]), array([2]), array([0]), array([1]), array([0]), array([0]), array([1]), array([2]), array([0]), array([1]), array([0]), array([0]), array([1]), array([2]), array([1]), array([0]), array([0]), array([0]), array([1]), array([0]), array([0]), array([1]), array([1]), array([2]), array([0]), array([2]), array([0]), array([2]), array([2]), array([2]), array([0]), array([1]), array([2]), array([2]), array([0]), array([2]), array([1]), array([1]), array([1]), array([2]), array([0]), array([1]), array([2]), array([2]), array([0]), array([2]), array([2]), array([1]), array([2]), array([0]), array([1]), array([1]), array([0]), array([2]), array([0]), array([2]), array([1]), array([1]), array([0]), array([2]), array([1]), array([0]), array([2]), array([2]), array([2]), array([0]), array([0]), array([1]), array([2]), array([2]), array([1]), array([2]), array([2]), array([1]), array([1]), array([2]), array([2]), array([0]), array([1]), array([0]), array([2]), array([1]), array([2]), array([1]), array([2]), array([0]), array([1]), array([1]), array([0]), array([2]), array([2]), array([0]), array([0]), array([2]), array([1]), array([2]), array([1]), array([2]), array([0]), array([1]), array([0]), array([2]), array([1]), array([2]), array([0]), array([0]), array([1]), array([0]), array([0]), array([1]), array([2]), array([1]), array([1]), array([2]), array([0]), array([1]), array([0]), array([2]), array([1]), array([1]), array([0]), array([0]), array([0]), array([0]), array([1]), array([0]), array([2]), array([2]), array([1]), array([0]), array([1]), array([0]), array([0]), array([0]), array([2]), array([0]), array([1]), array([2]), array([1]), array([1]), array([2]), array([2]), array([2]), array([1]), array([2]), array([2]), array([2]), array([0]), array([2]), array([1]), array([2]), array([2]), array([1]), array([1]), array([0]), array([2]), array([1]), array([0]), array([1]), array([0]), array([1]), array([0]), array([2]), array([1]), array([0]), array([0]), array([0]), array([1]), array([2]), array([2]), array([1]), array([2]), array([0]), array([0]), array([1]), array([1]), array([1]), array([2]), array([1]), array([2]), array([0]), array([0]), array([2]), array([2]), array([0]), array([2]), array([2]), array([1]), array([1]), array([0]), array([2]), array([0]), array([0]), array([0]), array([1]), array([2]), array([0]), array([0]), array([1]), array([0]), array([0]), array([0]), array([1]), array([1]), array([1]), array([2]), array([2]), array([1]), array([1]), array([1]), array([1]), array([2]), array([2]), array([2]), array([0]), array([0]), array([1]), array([2]), array([1]), array([0]), array([2]), array([1]), array([2]), array([0]), array([1]), array([0]), array([1]), array([2]), array([1]), array([1]), array([1]), array([1]), array([0]), array([0]), array([1]), array([2]), array([1]), array([1]), array([0]), array([0]), array([2]), array([0]), array([1]), array([2]), array([2]), array([1]), array([2]), array([0]), array([0]), array([1]), array([0]), array([0]), array([0]), array([2]), array([1]), array([2]), array([0]), array([2]), array([1]), array([2]), array([2]), array([1]), array([2]), array([0]), array([0]), array([0]), array([1]), array([1]), array([1]), array([2]), array([2]), array([2]), array([2]), array([0]), array([1]), array([0]), array([1]), array([1]), array([2]), array([0]), array([1]), array([2]), array([2]), array([0]), array([0]), array([0]), array([1]), array([2]), array([0])]\n",
            "[array([1]), array([1]), array([0]), array([1]), array([1]), array([2]), array([0]), array([2]), array([0]), array([2]), array([2]), array([0]), array([2]), array([0]), array([1]), array([0]), array([0]), array([1]), array([2]), array([0]), array([1]), array([0]), array([0]), array([1]), array([2]), array([1]), array([0]), array([0]), array([0]), array([1]), array([0]), array([0]), array([1]), array([1]), array([2]), array([0]), array([2]), array([0]), array([2]), array([2]), array([2]), array([0]), array([1]), array([2]), array([2]), array([0]), array([2]), array([1]), array([1]), array([1]), array([2]), array([0]), array([1]), array([1]), array([2]), array([0]), array([2]), array([2]), array([1]), array([2]), array([0]), array([1]), array([1]), array([0]), array([2]), array([0]), array([2]), array([1]), array([1]), array([0]), array([2]), array([1]), array([0]), array([2]), array([2]), array([2]), array([0]), array([0]), array([1]), array([2]), array([2]), array([1]), array([2]), array([2]), array([1]), array([1]), array([2]), array([2]), array([0]), array([1]), array([0]), array([2]), array([1]), array([2]), array([1]), array([2]), array([0]), array([1]), array([1]), array([0]), array([2]), array([2]), array([0]), array([0]), array([2]), array([1]), array([2]), array([1]), array([2]), array([0]), array([1]), array([0]), array([2]), array([1]), array([2]), array([0]), array([0]), array([1]), array([0]), array([0]), array([1]), array([2]), array([1]), array([1]), array([2]), array([0]), array([1]), array([0]), array([2]), array([1]), array([1]), array([0]), array([0]), array([0]), array([0]), array([1]), array([0]), array([2]), array([2]), array([1]), array([0]), array([1]), array([0]), array([0]), array([0]), array([2]), array([0]), array([1]), array([2]), array([1]), array([1]), array([2]), array([2]), array([2]), array([1]), array([2]), array([2]), array([2]), array([0]), array([2]), array([1]), array([2]), array([2]), array([1]), array([1]), array([0]), array([2]), array([1]), array([0]), array([1]), array([0]), array([1]), array([0]), array([2]), array([1]), array([0]), array([0]), array([0]), array([1]), array([2]), array([2]), array([1]), array([2]), array([0]), array([0]), array([1]), array([1]), array([1]), array([2]), array([1]), array([2]), array([0]), array([0]), array([2]), array([2]), array([0]), array([2]), array([2]), array([1]), array([1]), array([0]), array([2]), array([0]), array([0]), array([0]), array([1]), array([2]), array([0]), array([0]), array([1]), array([0]), array([0]), array([0]), array([1]), array([1]), array([1]), array([2]), array([1]), array([1]), array([1]), array([1]), array([1]), array([2]), array([2]), array([2]), array([0]), array([0]), array([1]), array([2]), array([1]), array([0]), array([2]), array([1]), array([0]), array([0]), array([1]), array([0]), array([1]), array([2]), array([1]), array([1]), array([1]), array([1]), array([0]), array([0]), array([1]), array([2]), array([1]), array([1]), array([0]), array([0]), array([2]), array([0]), array([1]), array([2]), array([2]), array([1]), array([2]), array([0]), array([0]), array([1]), array([0]), array([0]), array([0]), array([2]), array([1]), array([2]), array([0]), array([2]), array([1]), array([2]), array([2]), array([1]), array([2]), array([0]), array([0]), array([0]), array([1]), array([1]), array([1]), array([2]), array([2]), array([2]), array([2]), array([0]), array([1]), array([0]), array([1]), array([1]), array([2]), array([0]), array([1]), array([1]), array([2]), array([0]), array([0]), array([0]), array([1]), array([0]), array([0])]\n"
          ]
        },
        {
          "data": {
            "image/png": "[encoded data removed]",
            "text/plain": [
              "<Figure size 800x600 with 2 Axes>"
            ]
          },
          "metadata": {},
          "output_type": "display_data"
        }
      ],
      "source": [
        "class_dict={0:'Red Cycle',1:'Green Cycle',2:'Acyclic'}\n",
        "plot_confusion_matrix(model,dataset,class_dict)"
      ]
    },
    {
      "cell_type": "code",
      "execution_count": null,
      "metadata": {
        "id": "JwugGJ17uC9P"
      },
      "outputs": [],
      "source": [
        "N=25\n",
        "def GraphRep(N,classdata):\n",
        "  from tqdm import tqdm\n",
        "  X=np.zeros((N,2))# Node Type Matrix for nodes of 10 types\n",
        "  targetclass=classdata\n",
        "  print(\"length of target class\",len(targetclass))\n",
        "\n",
        "  #Learning the node representations\n",
        "  for i in tqdm(range(len(targetclass))):#len(data1))\n",
        "      data=targetclass[i]\n",
        "      x=data.x\n",
        "      x=np.array(x,dtype=int)\n",
        "\n",
        "      #print(x)\n",
        "      for j in range(len(x)):\n",
        "          X[j][x[j]]+=1\n",
        "      for k in range(j+1,N):\n",
        "          X[k][0]+=1\n",
        "\n",
        "  #Learning the edge representations\n",
        "  Adj=np.zeros((N,N,3))# Edge type count for three types of edges absent/red/green\n",
        "  for i in tqdm(range(len(targetclass))):\n",
        "      data=targetclass[i]\n",
        "      adj=data.edge_index\n",
        "      edgecolor=data.edge_attr\n",
        "      rowlen=len(adj[0][:])\n",
        "      #print(rowlen)\n",
        "      #print(adj[:][0])\n",
        "      #print(adj[:][1])\n",
        "      for j in range(rowlen):\n",
        "          k1=adj[0][j]\n",
        "          k2=adj[1][j]\n",
        "          if(edgecolor[j]==0):\n",
        "            Adj[k1][k2][1]+=1\n",
        "            Adj[k1][k2][0]-=1\n",
        "          else:\n",
        "            Adj[k1][k2][2]+=1\n",
        "            Adj[k1][k2][0]-=1\n",
        "\n",
        "          #Adj[k2][k1]+=1\n",
        "\n",
        "\n",
        "  #Learning the parameters for the distribution of nodes\n",
        "  numgraphs=len(targetclass)\n",
        "  print(numgraphs)\n",
        "  Adj[:,:,0]=Adj[:,:,0]+numgraphs\n",
        "\n",
        "  X=X/numgraphs #converting X to the node distribution matrix\n",
        "\n",
        "  Adj=Adj/numgraphs\n",
        "  return X, Adj\n",
        "\n"
      ]
    },
    {
      "cell_type": "code",
      "execution_count": null,
      "metadata": {
        "colab": {
          "base_uri": "https://localhost:8080/"
        },
        "id": "Utwe8QPFq7C7",
        "outputId": "0d55064f-707f-4d6f-ff87-6250931734af"
      },
      "outputs": [
        {
          "name": "stdout",
          "output_type": "stream",
          "text": [
            "length of target class 103\n"
          ]
        },
        {
          "name": "stderr",
          "output_type": "stream",
          "text": [
            "100%|██████████| 103/103 [00:00<00:00, 14838.68it/s]\n",
            "100%|██████████| 103/103 [00:00<00:00, 1573.17it/s]\n"
          ]
        },
        {
          "name": "stdout",
          "output_type": "stream",
          "text": [
            "103\n",
            "length of target class 104\n"
          ]
        },
        {
          "name": "stderr",
          "output_type": "stream",
          "text": [
            "100%|██████████| 104/104 [00:00<00:00, 6742.84it/s]\n",
            "100%|██████████| 104/104 [00:00<00:00, 1268.77it/s]\n"
          ]
        },
        {
          "name": "stdout",
          "output_type": "stream",
          "text": [
            "104\n",
            "length of target class 93\n"
          ]
        },
        {
          "name": "stderr",
          "output_type": "stream",
          "text": [
            "100%|██████████| 93/93 [00:00<00:00, 4688.96it/s]\n",
            "100%|██████████| 93/93 [00:00<00:00, 1442.71it/s]"
          ]
        },
        {
          "name": "stdout",
          "output_type": "stream",
          "text": [
            "93\n"
          ]
        },
        {
          "name": "stderr",
          "output_type": "stream",
          "text": [
            "\n"
          ]
        }
      ],
      "source": [
        "X1,Adj1=GraphRep(N,data1)\n",
        "X2,Adj2=GraphRep(N,data2)\n",
        "X3,Adj3=GraphRep(N,data3)\n",
        "AllX=[X1,X2,X3]\n",
        "AllAdj=[Adj1,Adj2,Adj3]"
      ]
    },
    {
      "cell_type": "code",
      "execution_count": null,
      "metadata": {
        "id": "FThgQA492f2a"
      },
      "outputs": [],
      "source": [
        "accuracy=[]\n",
        "density=[]\n",
        "latent_explanations=[]"
      ]
    },
    {
      "cell_type": "code",
      "execution_count": null,
      "metadata": {
        "id": "QcDE6fdoTQrX"
      },
      "outputs": [],
      "source": [
        "\n",
        "\n",
        "def extract_edge_attributes(edge_index, edge_attribute_matrix):\n",
        "    edge_attributes = []\n",
        "    # Iterate over each edge in the PyTorch Geometric data object\n",
        "    for i, j in edge_index.T:\n",
        "        # Retrieve the value from the edge attribute matrix\n",
        "        value = edge_attribute_matrix[i][j]\n",
        "        # Append the value to the list of edge attributes\n",
        "        edge_attributes.append(value)\n",
        "    return torch.tensor(edge_attributes).view(-1, 1)  # Convert to tensor and reshape\n",
        "\n",
        "# Example usage\n",
        "# Let's assume 'data' is your PyTorch Geometric data object\n",
        "# Let 'edge_attribute_matrix' be your NXN matrix containing edge attributes\n",
        "# Ensure that 'data' already has 'edge_index' initialized properly\n",
        "\n",
        "# Extract edge attributes\n",
        "# edge_attributes = extract_edge_attributes(data, edge_attribute_matrix)\n",
        "\n"
      ]
    },
    {
      "cell_type": "code",
      "execution_count": null,
      "metadata": {
        "id": "Bsp-lJ6hYAAb"
      },
      "outputs": [],
      "source": [
        "import networkx as nx\n",
        "import matplotlib.pyplot as plt\n",
        "import torch\n",
        "\n",
        "def draw_graph_from_data(data):\n",
        "    # Create an empty undirected graph\n",
        "    G = nx.Graph()\n",
        "\n",
        "    # Add nodes to the graph\n",
        "    G.add_nodes_from(range(data.num_nodes))\n",
        "\n",
        "    # Extract edge attributes from the data object\n",
        "    edge_attributes = data.edge_attr.numpy().flatten()\n",
        "\n",
        "    # Iterate over each edge in the edge index\n",
        "    for i, j in data.edge_index.T:\n",
        "        # Add edges to the graph with color based on edge attribute\n",
        "        if edge_attributes[i] == 0 and edge_attributes[j] == 0:\n",
        "            G.add_edge(i.item(), j.item(), color='red')\n",
        "        elif edge_attributes[i] == 1 and edge_attributes[j] == 1:\n",
        "            G.add_edge(i.item(), j.item(), color='green')\n",
        "\n",
        "    # Get edge colors from the graph\n",
        "    edge_colors = [G[u][v]['color'] for u, v in G.edges()]\n",
        "\n",
        "    # Draw the graph with edge colors\n",
        "    nx.draw_networkx(G, with_labels=True, node_color='black', edge_color=edge_colors, width=2, node_size=150)\n",
        "    plt.show()\n",
        "\n",
        "# Example usage:\n",
        "# Assume 'data' is your PyTorch Geometric data object with edge attributes\n",
        "# Call the function with your data object\n",
        "# draw_graph_from_data(data)\n"
      ]
    },
    {
      "cell_type": "code",
      "execution_count": null,
      "metadata": {
        "id": "gF4OjnpIZcbv"
      },
      "outputs": [],
      "source": [
        "from torch.distributions import Categorical\n",
        "import torch.distributions as dist\n",
        "from torch_geometric.utils import subgraph\n",
        "from torch_geometric.utils import remove_isolated_nodes\n",
        "from torch_geometric.data import Data\n",
        "from torch_geometric.utils import to_networkx\n",
        "def GraphSampler(N,X,Adj,show=False):\n",
        "  nodeset=[]\n",
        "  keepnodes=[]\n",
        "  newnodes=[]\n",
        "  count=0\n",
        "\n",
        "\n",
        "  for i in range(N):\n",
        "      probs=X[i][:]\n",
        "      probs=torch.from_numpy(probs)\n",
        "      m=Categorical(probs)\n",
        "      chosennode=m.sample()\n",
        "      nodeset.append(chosennode)\n",
        "      if(chosennode!=0):\n",
        "          keepnodes.append(i)\n",
        "          newnodes.append(chosennode)\n",
        "  # print(\"Whole set of nodes \")\n",
        "  # print(nodeset)\n",
        "  # print(\"Nodes to keep\")\n",
        "  # print(keepnodes)\n",
        "  # print(newnodes)\n",
        "  #print(Adjacency)\n",
        "  keepnodescp=keepnodes.copy()\n",
        "\n",
        "  # Adj1=torch.from_numpy(Adj)\n",
        "  # Adjacency= torch.categorical(Adj1)\n",
        "  Adjacency=np.zeros((N,N))# sampled adjacency matrix\n",
        "  Edgecolor=np.zeros((N,N))\n",
        "  for i in range(N):\n",
        "    for j in range(i+1):\n",
        "      p=Adj[i][j][:]\n",
        "      #print(p)\n",
        "      sample=np.random.choice([0, 1, 2], p=p)\n",
        "      if(sample==1):\n",
        "        Adjacency[i][j]=1\n",
        "        Edgecolor[i][j]=1\n",
        "      if(sample==2):\n",
        "        Adjacency[i][j]=1\n",
        "        Edgecolor[i][j]=2\n",
        "      if(sample==0):\n",
        "        Adjacency[i][j]=0\n",
        "        Edgecolor[i][j]=0\n",
        "      #Adjacency[i][j]=1 if sample!=0 else 0\n",
        "\n",
        "  #Symmetrizing the adjacency matrix as it is a dataset of undirected graphs\n",
        "  #print(\"Adjacency matrix before symmetrizing\",Adjacency)\n",
        "  for i in range(N):\n",
        "    for j in range(i+1):\n",
        "      Adjacency[j][i]=Adjacency[i][j]\n",
        "      Edgecolor[j][i]=Edgecolor[i][j]\n",
        "  #print(Adjacency.size())\n",
        "  # Removing edges generated for absent nodes\n",
        "  for i in range(len(nodeset)):\n",
        "    if(nodeset[i]==0):\n",
        "\n",
        "      Adjacency[i][:]=0\n",
        "      Adjacency[:][i]=0\n",
        "      Edgecolor[i][:]=0\n",
        "      Edgecolor[:][i]=0\n",
        "\n",
        "  #print(\"Length of keepnodes list\",len(keepnodes))\n",
        "\n",
        "  templen =  len(keepnodes)\n",
        "  for j in range(templen):\n",
        "    testval=0\n",
        "  # print(\"value of loop counter j\",j)\n",
        "    place=keepnodes[j]\n",
        "    #print(\"corresponding keepnode value\",place)\n",
        "    for k in range(10):\n",
        "      if(Adjacency[place][k]!=0):\n",
        "        testval=1\n",
        "        break\n",
        "    if(testval==0):\n",
        "      keepnodescp.remove(place)\n",
        "\n",
        "\n",
        "\n",
        "\n",
        "  # To test how potent the explainer is we need to feed samples generated from this to the GNN to classify\n",
        "  #First we need to convert the data into the tensor proper for fitting into the GNN\n",
        "  Adjacency=torch.tensor(Adjacency)\n",
        "  edge_ind=Adjacency.nonzero().t().contiguous()\n",
        "  Edgecolor=Edgecolor-1\n",
        "  edgeattr=extract_edge_attributes(edge_ind,Edgecolor)\n",
        "  newgraph=Data(x=nodeset,edge_index=edge_ind,edge_attr=Edgecolor)\n",
        "  # print(\"Edge index of graph with all nodes\")\n",
        "  # print(edge_ind)\n",
        "  # #print(newgraph.x)\n",
        "\n",
        "\n",
        "  # print(\"Finally nodes that remain in the graph\")\n",
        "  # print(keepnodescp)\n",
        "\n",
        "  extractededge=subgraph(keepnodescp,edge_ind,edge_attr=edgeattr,relabel_nodes=True)\n",
        "  extedge=subgraph(keepnodescp,edge_ind,relabel_nodes=False)\n",
        "\n",
        "  # print(\"Final edges with nodes same as before\")\n",
        "  # print(extedge[0])\n",
        "  # print(\"Final edges with relabelled nodes\")\n",
        "  # print(extractededge[0])\n",
        "\n",
        "\n",
        "  newnodes1=[nodeset[i] for i in keepnodescp]\n",
        "  newnodes=newnodes1\n",
        "  x1=torch.ones(len(newnodes),1)\n",
        "  x1=x1.float()\n",
        "  #print(newnodes)\n",
        "  newnodes=torch.stack(newnodes)\n",
        "\n",
        "  #print(newnodes)\n",
        "\n",
        "  newnodes=newnodes.float()\n",
        "\n",
        "  #print(newnodes)\n",
        "  edge_attr=extractededge[1]\n",
        "  # print(\" Length of Edge attribute is\",len(edge_attr))\n",
        "  # print(\"Edge Attributes is\",edge_attr)\n",
        "  edge_attr=edge_attr.float()\n",
        "  finalgraph=Data(x=x1,edge_index=extractededge[0],edge_attr=edge_attr)\n",
        "  #print(finalgraph.edge_index)\n",
        "\n",
        "\n",
        "  # print(finalgraph.edge_index.size())\n",
        "  # print(finalgraph.edge_attr.size())\n",
        "  embedding,out=model(finalgraph.x,finalgraph.edge_index,finalgraph.edge_attr,None)\n",
        "  #print(embedding)\n",
        "  #print(out\n",
        "  # soft=torch.nn.Softmax(dim=1)\n",
        "  # print(soft(out))\n",
        "  # print(out)\n",
        "  explainergraph=to_networkx(finalgraph,to_undirected=True)\n",
        "  problities=torch.exp(out)\n",
        "  degreedist=degree_distribution(finalgraph,N)\n",
        "  cluscoeffexp=clustering_coefficient(finalgraph)\n",
        "  specdist=spectrum_distribution(finalgraph,N)\n",
        "\n",
        "\n",
        "  #nx.draw_networkx(explainergraph, node_size=150,nod edge_color='green',with_labels=False)\n",
        "  #nx.draw_networkx(explainergraph, node_size=150, node_color='black',edge_color='red',with_labels=False)\n",
        "  if show:\n",
        "    draw_graph_from_data(finalgraph)\n",
        "  explainernodes=nx.number_of_nodes(explainergraph)\n",
        "  explaineredges=nx.number_of_edges(explainergraph)\n",
        "  explainerdensity=(explaineredges)/(explainernodes*explainernodes)\n",
        "  return problities, explainerdensity, embedding, degreedist, cluscoeffexp, specdist\n"
      ]
    },
    {
      "cell_type": "code",
      "execution_count": null,
      "metadata": {
        "colab": {
          "base_uri": "https://localhost:8080/"
        },
        "id": "Z-d_Ul_epCvF",
        "outputId": "0ae5d949-9085-4aed-ba1d-8f9f8728e752"
      },
      "outputs": [
        {
          "name": "stdout",
          "output_type": "stream",
          "text": [
            "MMD between the two samples: 0.0001\n"
          ]
        }
      ],
      "source": [
        "import torch\n",
        "\n",
        "def mmd_kernel(X, Y, kernel_func):\n",
        "    \"\"\"\n",
        "    Compute Maximum Mean Discrepancy (MMD) between two samples using a given kernel function.\n",
        "\n",
        "    Parameters:\n",
        "    - X: torch.Tensor, shape (n_samples, n_features)\n",
        "    - Y: torch.Tensor, shape (m_samples, n_features)\n",
        "    - kernel_func: function, kernel function to compute pairwise kernel values\n",
        "\n",
        "    Returns:\n",
        "    - mmd: float, Maximum Mean Discrepancy\n",
        "    \"\"\"\n",
        "    m, n = len(X), len(Y)\n",
        "\n",
        "    # Compute kernel matrices\n",
        "    K_xx = kernel_func(X, X)\n",
        "    K_yy = kernel_func(Y, Y)\n",
        "    K_xy = kernel_func(X, Y)\n",
        "\n",
        "    # Compute MMD statistic\n",
        "    mmd = 1.0 / (m * (m - 1)) * torch.sum(K_xx - torch.diag(torch.diagonal(K_xx))) + \\\n",
        "          1.0 / (n * (n - 1)) * torch.sum(K_yy - torch.diag(torch.diagonal(K_yy))) - \\\n",
        "          2.0 / (m * n) * torch.sum(K_xy)\n",
        "\n",
        "    return mmd.item()  # Convert the result to a Python float\n",
        "\n",
        "# Example of using a Gaussian (RBF) kernel function for PyTorch\n",
        "def gaussian_kernel(X, Y, sigma=1.0):\n",
        "    \"\"\"\n",
        "    Gaussian (RBF) kernel function.\n",
        "\n",
        "    Parameters:\n",
        "    - X: torch.Tensor, shape (n_samples, n_features)\n",
        "    - Y: torch.Tensor, shape (m_samples, n_features)\n",
        "    - sigma: float, bandwidth parameter of the kernel\n",
        "\n",
        "    Returns:\n",
        "    - K: torch.Tensor, shape (n_samples, m_samples), kernel matrix\n",
        "    \"\"\"\n",
        "    pairwise_sq_dists = torch.sum(X**2, dim=1, keepdim=True) + torch.sum(Y**2, dim=1, keepdim=True).t() - 2 * torch.mm(X, Y.t())\n",
        "    K = torch.exp(-pairwise_sq_dists / (2.0 * sigma**2))\n",
        "    return K\n",
        "\n",
        "# Example usage with PyTorch tensors\n",
        "torch.manual_seed(42)\n",
        "sample_X = torch.rand(100, 64)  # Replace with your first sample\n",
        "sample_Y = torch.rand(50, 64)  # Replace with your second sample\n",
        "\n",
        "mmd_value = mmd_kernel(sample_X, sample_Y, gaussian_kernel)\n",
        "print(f'MMD between the two samples: {mmd_value:.4f}')\n"
      ]
    },
    {
      "cell_type": "code",
      "execution_count": null,
      "metadata": {
        "colab": {
          "base_uri": "https://localhost:8080/",
          "height": 423
        },
        "id": "dvO2CkKUe3GT",
        "outputId": "17f6cd4d-ea37-49cf-db98-20021a3d5803"
      },
      "outputs": [
        {
          "data": {
            "image/png": "[encoded data removed]",
            "text/plain": [
              "<Figure size 640x480 with 1 Axes>"
            ]
          },
          "metadata": {},
          "output_type": "display_data"
        },
        {
          "name": "stdout",
          "output_type": "stream",
          "text": [
            "tensor([[2.6503e-03, 6.3491e+01, 1.3754e+00]], grad_fn=<ExpBackward0>)\n"
          ]
        }
      ],
      "source": [
        "problities,*_=GraphSampler(N,X2,Adj2,show=True)\n",
        "print(problities)"
      ]
    },
    {
      "cell_type": "code",
      "execution_count": null,
      "metadata": {
        "id": "mpW2sch1FC3V"
      },
      "outputs": [],
      "source": [
        "import statistics\n",
        "def robustnessanalysis(X,Adj,N,latent,numsample,label=0):\n",
        "  epsilon=0.01\n",
        "  alpha=0.0\n",
        "  perturbedX=X#perturbX(X,epsilon)\n",
        "  perturbedAdj=Adj#perturbadj(Adj,epsilon)\n",
        "  meanaccuracy=[]\n",
        "  stdaccuracy=[]\n",
        "  meandensity=[]\n",
        "  stddensity=[]\n",
        "  MMD=[]\n",
        "\n",
        "  while(alpha<0.1):\n",
        "    accuracy=[]\n",
        "    density=[]\n",
        "    embeddings=[]\n",
        "    degreedistlist=[]\n",
        "    cluslist=[]\n",
        "    speclist=[]\n",
        "    for i in range(100):\n",
        "      newX=X#nodefeatcomb(perturbedX,X,alpha)\n",
        "      newAdj=Adj#adjcomb(perturbedAdj,Adj,alpha)\n",
        "      max=0\n",
        "      for num in range(numsample):\n",
        "        problities,explainerdensity,embedding,degreedistb,clus,spec=GraphSampler(N,newX,newAdj)\n",
        "        #max=problities[0][label]\n",
        "        if(problities[0][label]>max):\n",
        "          sampleaccuracy=problities[0][label]\n",
        "          sampledensity=explainerdensity\n",
        "          sampleembedding=embedding\n",
        "          sampledeg=degreedistb\n",
        "          sampleclus=clus\n",
        "          samplespec=spec\n",
        "          max=problities[0][label]\n",
        "      accuracy.append(sampleaccuracy)\n",
        "      density.append(sampledensity)\n",
        "      embeddings.append(sampleembedding)\n",
        "      degreedistlist.append(sampledeg)\n",
        "      cluslist.append(sampleclus)\n",
        "      speclist.append(samplespec)\n",
        "    meanacc=torch.mean(torch.stack(accuracy))\n",
        "    stdacc=torch.std(torch.stack(accuracy))\n",
        "    meanden=statistics.mean(density)\n",
        "    stdden=statistics.stdev(density)\n",
        "    meanaccuracy.append(meanacc)\n",
        "    stdaccuracy.append(stdacc)\n",
        "    meandensity.append(meanden)\n",
        "    stddensity.append(stdden)\n",
        "    MMDdist=mmd_kernel(torch.cat(latent,dim=0),torch.cat(embeddings,dim=0),gaussian_kernel)\n",
        "    MMD.append(MMDdist)\n",
        "    alpha+=0.05\n",
        "  return meanaccuracy , stdaccuracy, meandensity, stddensity, MMD, degreedistlist,cluslist,speclist\n",
        "\n",
        "\n",
        "\n"
      ]
    },
    {
      "cell_type": "code",
      "execution_count": null,
      "metadata": {
        "colab": {
          "base_uri": "https://localhost:8080/"
        },
        "id": "BypXUYOCb13S",
        "outputId": "77c5160a-9d97-4480-bd12-d33bf1dec784"
      },
      "outputs": [
        {
          "name": "stdout",
          "output_type": "stream",
          "text": [
            "--- 15.817933082580566 seconds ---\n"
          ]
        }
      ],
      "source": [
        "import time\n",
        "start_time = time.time()\n",
        "meanacc,stdacc, meandensity, stddensity, MMD, deg,cluslist,speclist   =robustnessanalysis(X3,Adj3,N,latent3,4,2)\n",
        "print(\"--- %s seconds ---\" % (time.time() - start_time))\n",
        "\n"
      ]
    },
    {
      "cell_type": "code",
      "execution_count": null,
      "metadata": {
        "colab": {
          "base_uri": "https://localhost:8080/"
        },
        "id": "Hr633NcFcGGt",
        "outputId": "24053fb5-0f82-4021-c409-de5e37a26a08"
      },
      "outputs": [
        {
          "name": "stdout",
          "output_type": "stream",
          "text": [
            "Accuracy is [tensor(0.9990, grad_fn=<MeanBackward0>), tensor(0.9991, grad_fn=<MeanBackward0>)] std is [tensor(0.0002, grad_fn=<StdBackward0>), tensor(0.0001, grad_fn=<StdBackward0>)]\n",
            "Density is [0.10321395362393739, 0.10038956496345565] std is [0.020378714893193716, 0.019354687760983428]\n",
            "MMD is [0.025209546089172363, 0.03089118003845215]\n"
          ]
        }
      ],
      "source": [
        "print(\"Accuracy is\",meanacc,\"std is\",stdacc)\n",
        "print(\"Density is\", meandensity,\"std is\",stddensity)\n",
        "print(\"MMD is\",MMD)"
      ]
    },
    {
      "cell_type": "code",
      "execution_count": null,
      "metadata": {
        "colab": {
          "base_uri": "https://localhost:8080/"
        },
        "id": "o0zEpAHXC205",
        "outputId": "9bdabd3e-6418-4089-9721-1594935e0f30"
      },
      "outputs": [
        {
          "name": "stdout",
          "output_type": "stream",
          "text": [
            "0.044310521334409714\n",
            "0.0004153251647949219\n",
            "(0.033308106976327766-5.276031053364263e-21j)\n"
          ]
        }
      ],
      "source": [
        "import torch\n",
        "\n",
        "def nptotensor(numpy_array_list):\n",
        "    \"\"\"\n",
        "    Convert a list of NumPy arrays to a list of PyTorch tensors.\n",
        "\n",
        "    Args:\n",
        "        numpy_array_list (list): List of NumPy arrays.\n",
        "\n",
        "    Returns:\n",
        "        list: List of PyTorch tensors.\n",
        "    \"\"\"\n",
        "    return list(map(torch.tensor, numpy_array_list))\n",
        "\n",
        "\n",
        "MMDdegdist=mmd_kernel(torch.cat(degreedist3,dim=0).view(-1,N),torch.cat(deg,dim=0).view(-1,N),gaussian_kernel)\n",
        "print(MMDdegdist)\n",
        "MMDdistclus=mmd_kernel(torch.stack(cluscoeff3).view(-1,1),torch.stack(cluslist).view(-1,1),gaussian_kernel)\n",
        "print(MMDdistclus)\n",
        "MMDspec=mmd_kernel(torch.cat(nptotensor(spec3),dim=0).view(-1,N),torch.cat(nptotensor(speclist),dim=0).view(-1,N),gaussian_kernel)\n",
        "print(MMDspec)"
      ]
    },
    {
      "cell_type": "code",
      "execution_count": null,
      "metadata": {
        "id": "Gu-YYMNDIxVj"
      },
      "outputs": [],
      "source": [
        "import matplotlib.pyplot as plt\n",
        "import numpy as np\n",
        "\n",
        "def plot_mean_with_error(mean, std, threshold, label, numsample,title=None, ax=None):\n",
        "    \"\"\"\n",
        "    Plot mean with error bars.\n",
        "\n",
        "    Parameters:\n",
        "        mean (array_like): Array containing mean values.\n",
        "        std (array_like): Array containing standard deviation values.\n",
        "        threshold (array_like): Array containing threshold values.\n",
        "        label (str): Label for the data.\n",
        "        color (str): Color of the line.\n",
        "        numsample (int): Sample number.\n",
        "        ax (matplotlib.axes.Axes, optional): Axes object to plot on. If not provided, a new figure will be created.\n",
        "    \"\"\"\n",
        "    # Flatten the arrays\n",
        "    mean=torch.tensor(mean,dtype=torch.float32)\n",
        "    std=torch.tensor(std,dtype=torch.float32)\n",
        "    mean = np.array(mean).flatten()\n",
        "    std = np.array(std).flatten()\n",
        "    threshold = np.array(threshold).flatten()\n",
        "    # Select color automatically\n",
        "    colors = plt.cm.tab10(np.linspace(0, 1, 10))\n",
        "    color = colors[numsample % 10]  # Cycle through colors\n",
        "\n",
        "    # Plotting\n",
        "    if ax is None:\n",
        "        fig, ax = plt.subplots()\n",
        "    ax.errorbar(threshold, mean, yerr=std, fmt='-', color=color, label=f'NumSample={numsample}')  # '-' for line\n",
        "\n",
        "    # Adding labels and title\n",
        "    ax.set_xlabel('Threshold')\n",
        "    ax.set_ylabel('Accuracy')\n",
        "    ax.set_title(title)\n",
        "\n",
        "    ax.legend(loc='lower right',fontsize='small')  # Show legend\n",
        "    ax.grid(True)  # Add grid\n",
        "# Create a figure outside the function\n",
        "# fig, ax = plt.subplots()\n",
        "# plot_mean_with_error(Mean1,Std1,Threshold,label='class1',numsample=1,ax=ax)\n",
        "# plot_mean_with_error(Mean2,Std2,Threshold,label='class1',numsample=2,ax=ax)\n",
        "# plt.show()\n"
      ]
    },
    {
      "cell_type": "code",
      "execution_count": null,
      "metadata": {
        "id": "YOfX0kbgYtYi"
      },
      "outputs": [],
      "source": [
        "def Dpc(dataset,threshold):\n",
        "  boundary1=[]\n",
        "  boundary2=[]\n",
        "  boundary3=[]\n",
        "  m=torch.nn.Softmax(dim=1)\n",
        "  for i in range(len(dataset)):\n",
        "      model.eval()\n",
        "      data=dataset[i]\n",
        "      embedding , out = model(data)\n",
        "      probs=m(out)\n",
        "      #out=torch.nn.Softmax(out,dim=0)\n",
        "      #pred = out.argmax(dim=1)\n",
        "      if(threshold<probs[0][0]):\n",
        "          boundary1.append(data)\n",
        "          #latent_data1.append(embedding)\n",
        "      if(threshold <probs[0][1]):\n",
        "          boundary2.append(data)\n",
        "      if(threshold<probs[0][2]):\n",
        "          boundary3.append(data)\n",
        "  return boundary1 , boundary2, boundary3\n"
      ]
    },
    {
      "cell_type": "code",
      "execution_count": null,
      "metadata": {
        "id": "lXUHpU_SZ9MN"
      },
      "outputs": [],
      "source": [
        "import statistics\n",
        "def sensitivityanalysis(X,Adj,N,numsample,label=0):\n",
        "  epsilon=0.01\n",
        "  alpha=0.0\n",
        "  # perturbedX=perturbX(X,epsilon)\n",
        "  # perturbedAdj=perturbadj(Adj,epsilon)\n",
        "  meanaccuracy=[]\n",
        "  stdaccuracy=[]\n",
        "  meandensity=[]\n",
        "  stddensity=[]\n",
        "  MMD=[]\n",
        "\n",
        "  while(alpha==0.0):\n",
        "    accuracy=[]\n",
        "    density=[]\n",
        "    embeddings=[]\n",
        "    for i in range(100):\n",
        "      newX=X#nodefeatcomb(perturbedX,X,alpha)\n",
        "      newAdj=Adj#adjcomb(perturbedAdj,Adj,alpha)\n",
        "      max=0\n",
        "      for num in range(numsample):\n",
        "        problities,explainerdensity,embedding=GraphSampler(N,newX,newAdj)\n",
        "        #max=problities[0][label]\n",
        "        if(problities[0][label]>max):\n",
        "          sampleaccuracy=problities[0][label]\n",
        "          sampledensity=explainerdensity\n",
        "          sampleembedding=embedding\n",
        "          max=problities[0][label]\n",
        "      accuracy.append(sampleaccuracy)\n",
        "      density.append(sampledensity)\n",
        "      embeddings.append(sampleembedding)\n",
        "    meanacc=torch.mean(torch.stack(accuracy))\n",
        "    stdacc=torch.std(torch.stack(accuracy))\n",
        "    # meanden=statistics.mean(density)\n",
        "    # stdden=statistics.stdev(density)\n",
        "    meanaccuracy.append(meanacc)\n",
        "    stdaccuracy.append(stdacc)\n",
        "    # meandensity.append(meanden)\n",
        "    # stddensity.append(stdden)\n",
        "    # MMDdist=mmd_kernel(torch.cat(latent,dim=0),torch.cat(embeddings,dim=0),gaussian_kernel)\n",
        "    # MMD.append(MMDdist)\n",
        "    alpha+=0.05\n",
        "  return meanaccuracy , stdaccuracy"
      ]
    },
    {
      "cell_type": "code",
      "execution_count": null,
      "metadata": {
        "colab": {
          "base_uri": "https://localhost:8080/",
          "height": 1000
        },
        "id": "Rpyb55jstCru",
        "outputId": "163af202-7b35-4476-ea1f-6d482d8fb88c"
      },
      "outputs": [
        {
          "name": "stdout",
          "output_type": "stream",
          "text": [
            "length of target class 104\n"
          ]
        },
        {
          "name": "stderr",
          "output_type": "stream",
          "text": [
            "100%|██████████| 104/104 [00:00<00:00, 9996.74it/s]\n",
            "100%|██████████| 104/104 [00:00<00:00, 1534.04it/s]\n"
          ]
        },
        {
          "name": "stdout",
          "output_type": "stream",
          "text": [
            "104\n",
            "length of target class 103\n"
          ]
        },
        {
          "name": "stderr",
          "output_type": "stream",
          "text": [
            "100%|██████████| 103/103 [00:00<00:00, 10554.67it/s]\n",
            "100%|██████████| 103/103 [00:00<00:00, 1181.25it/s]\n"
          ]
        },
        {
          "name": "stdout",
          "output_type": "stream",
          "text": [
            "103\n",
            "length of target class 93\n"
          ]
        },
        {
          "name": "stderr",
          "output_type": "stream",
          "text": [
            "100%|██████████| 93/93 [00:00<00:00, 7318.53it/s]\n",
            "100%|██████████| 93/93 [00:00<00:00, 1394.13it/s]\n"
          ]
        },
        {
          "name": "stdout",
          "output_type": "stream",
          "text": [
            "93\n",
            "length of target class 104\n"
          ]
        },
        {
          "name": "stderr",
          "output_type": "stream",
          "text": [
            "100%|██████████| 104/104 [00:00<00:00, 7811.46it/s]\n",
            "100%|██████████| 104/104 [00:00<00:00, 1524.76it/s]\n"
          ]
        },
        {
          "name": "stdout",
          "output_type": "stream",
          "text": [
            "104\n",
            "length of target class 103\n"
          ]
        },
        {
          "name": "stderr",
          "output_type": "stream",
          "text": [
            "100%|██████████| 103/103 [00:00<00:00, 7620.22it/s]\n",
            "100%|██████████| 103/103 [00:00<00:00, 1454.96it/s]\n"
          ]
        },
        {
          "name": "stdout",
          "output_type": "stream",
          "text": [
            "103\n",
            "length of target class 93\n"
          ]
        },
        {
          "name": "stderr",
          "output_type": "stream",
          "text": [
            "100%|██████████| 93/93 [00:00<00:00, 9287.83it/s]\n",
            "100%|██████████| 93/93 [00:00<00:00, 1564.23it/s]\n"
          ]
        },
        {
          "name": "stdout",
          "output_type": "stream",
          "text": [
            "93\n",
            "length of target class 104\n"
          ]
        },
        {
          "name": "stderr",
          "output_type": "stream",
          "text": [
            "100%|██████████| 104/104 [00:00<00:00, 9901.21it/s]\n",
            "100%|██████████| 104/104 [00:00<00:00, 1540.41it/s]\n"
          ]
        },
        {
          "name": "stdout",
          "output_type": "stream",
          "text": [
            "104\n",
            "length of target class 103\n"
          ]
        },
        {
          "name": "stderr",
          "output_type": "stream",
          "text": [
            "100%|██████████| 103/103 [00:00<00:00, 8672.35it/s]\n",
            "100%|██████████| 103/103 [00:00<00:00, 1249.43it/s]\n"
          ]
        },
        {
          "name": "stdout",
          "output_type": "stream",
          "text": [
            "103\n",
            "length of target class 93\n"
          ]
        },
        {
          "name": "stderr",
          "output_type": "stream",
          "text": [
            "100%|██████████| 93/93 [00:00<00:00, 7152.53it/s]\n",
            "100%|██████████| 93/93 [00:00<00:00, 1513.04it/s]\n"
          ]
        },
        {
          "name": "stdout",
          "output_type": "stream",
          "text": [
            "93\n",
            "length of target class 104\n"
          ]
        },
        {
          "name": "stderr",
          "output_type": "stream",
          "text": [
            "100%|██████████| 104/104 [00:00<00:00, 8590.65it/s]\n",
            "100%|██████████| 104/104 [00:00<00:00, 1474.05it/s]\n"
          ]
        },
        {
          "name": "stdout",
          "output_type": "stream",
          "text": [
            "104\n",
            "length of target class 103\n"
          ]
        },
        {
          "name": "stderr",
          "output_type": "stream",
          "text": [
            "100%|██████████| 103/103 [00:00<00:00, 9271.27it/s]\n",
            "100%|██████████| 103/103 [00:00<00:00, 1419.18it/s]\n"
          ]
        },
        {
          "name": "stdout",
          "output_type": "stream",
          "text": [
            "103\n",
            "length of target class 93\n"
          ]
        },
        {
          "name": "stderr",
          "output_type": "stream",
          "text": [
            "100%|██████████| 93/93 [00:00<00:00, 7527.99it/s]\n",
            "100%|██████████| 93/93 [00:00<00:00, 1402.30it/s]\n"
          ]
        },
        {
          "name": "stdout",
          "output_type": "stream",
          "text": [
            "93\n",
            "length of target class 104\n"
          ]
        },
        {
          "name": "stderr",
          "output_type": "stream",
          "text": [
            "100%|██████████| 104/104 [00:00<00:00, 9974.56it/s]\n",
            "100%|██████████| 104/104 [00:00<00:00, 1640.72it/s]\n"
          ]
        },
        {
          "name": "stdout",
          "output_type": "stream",
          "text": [
            "104\n",
            "length of target class 103\n"
          ]
        },
        {
          "name": "stderr",
          "output_type": "stream",
          "text": [
            "100%|██████████| 103/103 [00:00<00:00, 7148.99it/s]\n",
            "100%|██████████| 103/103 [00:00<00:00, 1535.28it/s]\n"
          ]
        },
        {
          "name": "stdout",
          "output_type": "stream",
          "text": [
            "103\n",
            "length of target class 92\n"
          ]
        },
        {
          "name": "stderr",
          "output_type": "stream",
          "text": [
            "100%|██████████| 92/92 [00:00<00:00, 7822.97it/s]\n",
            "100%|██████████| 92/92 [00:00<00:00, 1543.99it/s]\n"
          ]
        },
        {
          "name": "stdout",
          "output_type": "stream",
          "text": [
            "92\n",
            "length of target class 104\n"
          ]
        },
        {
          "name": "stderr",
          "output_type": "stream",
          "text": [
            "100%|██████████| 104/104 [00:00<00:00, 7154.58it/s]\n",
            "100%|██████████| 104/104 [00:00<00:00, 1424.16it/s]\n"
          ]
        },
        {
          "name": "stdout",
          "output_type": "stream",
          "text": [
            "104\n",
            "length of target class 103\n"
          ]
        },
        {
          "name": "stderr",
          "output_type": "stream",
          "text": [
            "100%|██████████| 103/103 [00:00<00:00, 9725.43it/s]\n",
            "100%|██████████| 103/103 [00:00<00:00, 1534.93it/s]\n"
          ]
        },
        {
          "name": "stdout",
          "output_type": "stream",
          "text": [
            "103\n",
            "length of target class 92\n"
          ]
        },
        {
          "name": "stderr",
          "output_type": "stream",
          "text": [
            "100%|██████████| 92/92 [00:00<00:00, 9365.24it/s]\n",
            "100%|██████████| 92/92 [00:00<00:00, 1484.97it/s]\n"
          ]
        },
        {
          "name": "stdout",
          "output_type": "stream",
          "text": [
            "92\n",
            "length of target class 104\n"
          ]
        },
        {
          "name": "stderr",
          "output_type": "stream",
          "text": [
            "100%|██████████| 104/104 [00:00<00:00, 6846.77it/s]\n",
            "100%|██████████| 104/104 [00:00<00:00, 1331.99it/s]\n"
          ]
        },
        {
          "name": "stdout",
          "output_type": "stream",
          "text": [
            "104\n",
            "length of target class 103\n"
          ]
        },
        {
          "name": "stderr",
          "output_type": "stream",
          "text": [
            "100%|██████████| 103/103 [00:00<00:00, 9330.54it/s]\n",
            "100%|██████████| 103/103 [00:00<00:00, 1503.29it/s]\n"
          ]
        },
        {
          "name": "stdout",
          "output_type": "stream",
          "text": [
            "103\n",
            "length of target class 92\n"
          ]
        },
        {
          "name": "stderr",
          "output_type": "stream",
          "text": [
            "100%|██████████| 92/92 [00:00<00:00, 6474.10it/s]\n",
            "100%|██████████| 92/92 [00:00<00:00, 1571.85it/s]\n"
          ]
        },
        {
          "name": "stdout",
          "output_type": "stream",
          "text": [
            "92\n",
            "length of target class 104\n"
          ]
        },
        {
          "name": "stderr",
          "output_type": "stream",
          "text": [
            "100%|██████████| 104/104 [00:00<00:00, 9830.47it/s]\n",
            "100%|██████████| 104/104 [00:00<00:00, 1525.83it/s]\n"
          ]
        },
        {
          "name": "stdout",
          "output_type": "stream",
          "text": [
            "104\n",
            "length of target class 103\n"
          ]
        },
        {
          "name": "stderr",
          "output_type": "stream",
          "text": [
            "100%|██████████| 103/103 [00:00<00:00, 6758.87it/s]\n",
            "100%|██████████| 103/103 [00:00<00:00, 1504.36it/s]\n"
          ]
        },
        {
          "name": "stdout",
          "output_type": "stream",
          "text": [
            "103\n",
            "length of target class 92\n"
          ]
        },
        {
          "name": "stderr",
          "output_type": "stream",
          "text": [
            "100%|██████████| 92/92 [00:00<00:00, 8648.44it/s]\n",
            "100%|██████████| 92/92 [00:00<00:00, 1565.52it/s]\n"
          ]
        },
        {
          "name": "stdout",
          "output_type": "stream",
          "text": [
            "92\n",
            "length of target class 104\n"
          ]
        },
        {
          "name": "stderr",
          "output_type": "stream",
          "text": [
            "100%|██████████| 104/104 [00:00<00:00, 10129.29it/s]\n",
            "100%|██████████| 104/104 [00:00<00:00, 1659.45it/s]\n"
          ]
        },
        {
          "name": "stdout",
          "output_type": "stream",
          "text": [
            "104\n",
            "length of target class 103\n"
          ]
        },
        {
          "name": "stderr",
          "output_type": "stream",
          "text": [
            "100%|██████████| 103/103 [00:00<00:00, 8959.03it/s]\n",
            "100%|██████████| 103/103 [00:00<00:00, 1391.28it/s]\n"
          ]
        },
        {
          "name": "stdout",
          "output_type": "stream",
          "text": [
            "103\n",
            "length of target class 92\n"
          ]
        },
        {
          "name": "stderr",
          "output_type": "stream",
          "text": [
            "100%|██████████| 92/92 [00:00<00:00, 8127.81it/s]\n",
            "100%|██████████| 92/92 [00:00<00:00, 1495.58it/s]\n"
          ]
        },
        {
          "name": "stdout",
          "output_type": "stream",
          "text": [
            "92\n",
            "length of target class 104\n"
          ]
        },
        {
          "name": "stderr",
          "output_type": "stream",
          "text": [
            "100%|██████████| 104/104 [00:00<00:00, 9624.85it/s]\n",
            "100%|██████████| 104/104 [00:00<00:00, 1564.20it/s]\n"
          ]
        },
        {
          "name": "stdout",
          "output_type": "stream",
          "text": [
            "104\n",
            "length of target class 103\n"
          ]
        },
        {
          "name": "stderr",
          "output_type": "stream",
          "text": [
            "100%|██████████| 103/103 [00:00<00:00, 8400.84it/s]\n",
            "100%|██████████| 103/103 [00:00<00:00, 1469.19it/s]\n"
          ]
        },
        {
          "name": "stdout",
          "output_type": "stream",
          "text": [
            "103\n",
            "length of target class 92\n"
          ]
        },
        {
          "name": "stderr",
          "output_type": "stream",
          "text": [
            "100%|██████████| 92/92 [00:00<00:00, 6928.25it/s]\n",
            "100%|██████████| 92/92 [00:00<00:00, 1556.57it/s]\n"
          ]
        },
        {
          "name": "stdout",
          "output_type": "stream",
          "text": [
            "92\n",
            "length of target class 104\n"
          ]
        },
        {
          "name": "stderr",
          "output_type": "stream",
          "text": [
            "100%|██████████| 104/104 [00:00<00:00, 9768.39it/s]\n",
            "100%|██████████| 104/104 [00:00<00:00, 1576.17it/s]\n"
          ]
        },
        {
          "name": "stdout",
          "output_type": "stream",
          "text": [
            "104\n",
            "length of target class 103\n"
          ]
        },
        {
          "name": "stderr",
          "output_type": "stream",
          "text": [
            "100%|██████████| 103/103 [00:00<00:00, 8484.66it/s]\n",
            "100%|██████████| 103/103 [00:00<00:00, 1279.01it/s]\n"
          ]
        },
        {
          "name": "stdout",
          "output_type": "stream",
          "text": [
            "103\n",
            "length of target class 93\n"
          ]
        },
        {
          "name": "stderr",
          "output_type": "stream",
          "text": [
            "100%|██████████| 93/93 [00:00<00:00, 5519.68it/s]\n",
            "100%|██████████| 93/93 [00:00<00:00, 1394.15it/s]\n"
          ]
        },
        {
          "name": "stdout",
          "output_type": "stream",
          "text": [
            "93\n",
            "length of target class 104\n"
          ]
        },
        {
          "name": "stderr",
          "output_type": "stream",
          "text": [
            "100%|██████████| 104/104 [00:00<00:00, 8382.80it/s]\n",
            "100%|██████████| 104/104 [00:00<00:00, 1102.93it/s]\n"
          ]
        },
        {
          "name": "stdout",
          "output_type": "stream",
          "text": [
            "104\n",
            "length of target class 103\n"
          ]
        },
        {
          "name": "stderr",
          "output_type": "stream",
          "text": [
            "100%|██████████| 103/103 [00:00<00:00, 8781.83it/s]\n",
            "100%|██████████| 103/103 [00:00<00:00, 906.32it/s]\n"
          ]
        },
        {
          "name": "stdout",
          "output_type": "stream",
          "text": [
            "103\n",
            "length of target class 93\n"
          ]
        },
        {
          "name": "stderr",
          "output_type": "stream",
          "text": [
            "100%|██████████| 93/93 [00:00<00:00, 6607.66it/s]\n",
            "100%|██████████| 93/93 [00:00<00:00, 849.84it/s]\n"
          ]
        },
        {
          "name": "stdout",
          "output_type": "stream",
          "text": [
            "93\n",
            "length of target class 104\n"
          ]
        },
        {
          "name": "stderr",
          "output_type": "stream",
          "text": [
            "100%|██████████| 104/104 [00:00<00:00, 10509.25it/s]\n",
            "100%|██████████| 104/104 [00:00<00:00, 1256.50it/s]\n"
          ]
        },
        {
          "name": "stdout",
          "output_type": "stream",
          "text": [
            "104\n",
            "length of target class 103\n"
          ]
        },
        {
          "name": "stderr",
          "output_type": "stream",
          "text": [
            "100%|██████████| 103/103 [00:00<00:00, 8121.92it/s]\n",
            "100%|██████████| 103/103 [00:00<00:00, 1497.85it/s]\n"
          ]
        },
        {
          "name": "stdout",
          "output_type": "stream",
          "text": [
            "103\n",
            "length of target class 93\n"
          ]
        },
        {
          "name": "stderr",
          "output_type": "stream",
          "text": [
            "100%|██████████| 93/93 [00:00<00:00, 7902.72it/s]\n",
            "100%|██████████| 93/93 [00:00<00:00, 1511.96it/s]\n"
          ]
        },
        {
          "name": "stdout",
          "output_type": "stream",
          "text": [
            "93\n",
            "length of target class 104\n"
          ]
        },
        {
          "name": "stderr",
          "output_type": "stream",
          "text": [
            "100%|██████████| 104/104 [00:00<00:00, 9277.66it/s]\n",
            "100%|██████████| 104/104 [00:00<00:00, 1445.28it/s]\n"
          ]
        },
        {
          "name": "stdout",
          "output_type": "stream",
          "text": [
            "104\n",
            "length of target class 103\n"
          ]
        },
        {
          "name": "stderr",
          "output_type": "stream",
          "text": [
            "100%|██████████| 103/103 [00:00<00:00, 8709.42it/s]\n",
            "100%|██████████| 103/103 [00:00<00:00, 1550.00it/s]\n"
          ]
        },
        {
          "name": "stdout",
          "output_type": "stream",
          "text": [
            "103\n",
            "length of target class 93\n"
          ]
        },
        {
          "name": "stderr",
          "output_type": "stream",
          "text": [
            "100%|██████████| 93/93 [00:00<00:00, 7179.65it/s]\n",
            "100%|██████████| 93/93 [00:00<00:00, 1483.50it/s]\n"
          ]
        },
        {
          "name": "stdout",
          "output_type": "stream",
          "text": [
            "93\n",
            "length of target class 104\n"
          ]
        },
        {
          "name": "stderr",
          "output_type": "stream",
          "text": [
            "100%|██████████| 104/104 [00:00<00:00, 11214.43it/s]\n",
            "100%|██████████| 104/104 [00:00<00:00, 1485.63it/s]\n"
          ]
        },
        {
          "name": "stdout",
          "output_type": "stream",
          "text": [
            "104\n",
            "length of target class 103\n"
          ]
        },
        {
          "name": "stderr",
          "output_type": "stream",
          "text": [
            "100%|██████████| 103/103 [00:00<00:00, 8554.38it/s]\n",
            "100%|██████████| 103/103 [00:00<00:00, 1501.56it/s]\n"
          ]
        },
        {
          "name": "stdout",
          "output_type": "stream",
          "text": [
            "103\n",
            "length of target class 92\n"
          ]
        },
        {
          "name": "stderr",
          "output_type": "stream",
          "text": [
            "100%|██████████| 92/92 [00:00<00:00, 8202.80it/s]\n",
            "100%|██████████| 92/92 [00:00<00:00, 1457.34it/s]\n"
          ]
        },
        {
          "name": "stdout",
          "output_type": "stream",
          "text": [
            "92\n",
            "length of target class 104\n"
          ]
        },
        {
          "name": "stderr",
          "output_type": "stream",
          "text": [
            "100%|██████████| 104/104 [00:00<00:00, 6148.36it/s]\n",
            "100%|██████████| 104/104 [00:00<00:00, 1052.32it/s]\n"
          ]
        },
        {
          "name": "stdout",
          "output_type": "stream",
          "text": [
            "104\n",
            "length of target class 103\n"
          ]
        },
        {
          "name": "stderr",
          "output_type": "stream",
          "text": [
            "100%|██████████| 103/103 [00:00<00:00, 11805.26it/s]\n",
            "100%|██████████| 103/103 [00:00<00:00, 1339.72it/s]\n"
          ]
        },
        {
          "name": "stdout",
          "output_type": "stream",
          "text": [
            "103\n",
            "length of target class 92\n"
          ]
        },
        {
          "name": "stderr",
          "output_type": "stream",
          "text": [
            "100%|██████████| 92/92 [00:00<00:00, 8812.17it/s]\n",
            "100%|██████████| 92/92 [00:00<00:00, 1417.42it/s]\n"
          ]
        },
        {
          "name": "stdout",
          "output_type": "stream",
          "text": [
            "92\n",
            "length of target class 104\n"
          ]
        },
        {
          "name": "stderr",
          "output_type": "stream",
          "text": [
            "100%|██████████| 104/104 [00:00<00:00, 9313.31it/s]\n",
            "100%|██████████| 104/104 [00:00<00:00, 1551.30it/s]\n"
          ]
        },
        {
          "name": "stdout",
          "output_type": "stream",
          "text": [
            "104\n",
            "length of target class 103\n"
          ]
        },
        {
          "name": "stderr",
          "output_type": "stream",
          "text": [
            "100%|██████████| 103/103 [00:00<00:00, 8937.71it/s]\n",
            "100%|██████████| 103/103 [00:00<00:00, 1523.79it/s]\n"
          ]
        },
        {
          "name": "stdout",
          "output_type": "stream",
          "text": [
            "103\n",
            "length of target class 92\n"
          ]
        },
        {
          "name": "stderr",
          "output_type": "stream",
          "text": [
            "100%|██████████| 92/92 [00:00<00:00, 8218.70it/s]\n",
            "100%|██████████| 92/92 [00:00<00:00, 1513.88it/s]\n"
          ]
        },
        {
          "name": "stdout",
          "output_type": "stream",
          "text": [
            "92\n",
            "length of target class 104\n"
          ]
        },
        {
          "name": "stderr",
          "output_type": "stream",
          "text": [
            "100%|██████████| 104/104 [00:00<00:00, 8204.94it/s]\n",
            "100%|██████████| 104/104 [00:00<00:00, 1650.35it/s]\n"
          ]
        },
        {
          "name": "stdout",
          "output_type": "stream",
          "text": [
            "104\n",
            "length of target class 103\n"
          ]
        },
        {
          "name": "stderr",
          "output_type": "stream",
          "text": [
            "100%|██████████| 103/103 [00:00<00:00, 7804.84it/s]\n",
            "100%|██████████| 103/103 [00:00<00:00, 1319.28it/s]\n"
          ]
        },
        {
          "name": "stdout",
          "output_type": "stream",
          "text": [
            "103\n",
            "length of target class 92\n"
          ]
        },
        {
          "name": "stderr",
          "output_type": "stream",
          "text": [
            "100%|██████████| 92/92 [00:00<00:00, 9011.16it/s]\n",
            "100%|██████████| 92/92 [00:00<00:00, 1340.86it/s]\n"
          ]
        },
        {
          "name": "stdout",
          "output_type": "stream",
          "text": [
            "92\n",
            "length of target class 104\n"
          ]
        },
        {
          "name": "stderr",
          "output_type": "stream",
          "text": [
            "100%|██████████| 104/104 [00:00<00:00, 7236.60it/s]\n",
            "100%|██████████| 104/104 [00:00<00:00, 1253.47it/s]\n"
          ]
        },
        {
          "name": "stdout",
          "output_type": "stream",
          "text": [
            "104\n",
            "length of target class 103\n"
          ]
        },
        {
          "name": "stderr",
          "output_type": "stream",
          "text": [
            "100%|██████████| 103/103 [00:00<00:00, 9244.68it/s]\n",
            "100%|██████████| 103/103 [00:00<00:00, 1486.68it/s]\n"
          ]
        },
        {
          "name": "stdout",
          "output_type": "stream",
          "text": [
            "103\n",
            "length of target class 92\n"
          ]
        },
        {
          "name": "stderr",
          "output_type": "stream",
          "text": [
            "100%|██████████| 92/92 [00:00<00:00, 8154.09it/s]\n",
            "100%|██████████| 92/92 [00:00<00:00, 1465.88it/s]\n"
          ]
        },
        {
          "name": "stdout",
          "output_type": "stream",
          "text": [
            "92\n",
            "length of target class 104\n"
          ]
        },
        {
          "name": "stderr",
          "output_type": "stream",
          "text": [
            "100%|██████████| 104/104 [00:00<00:00, 8382.48it/s]\n",
            "100%|██████████| 104/104 [00:00<00:00, 1458.29it/s]\n"
          ]
        },
        {
          "name": "stdout",
          "output_type": "stream",
          "text": [
            "104\n",
            "length of target class 103\n"
          ]
        },
        {
          "name": "stderr",
          "output_type": "stream",
          "text": [
            "100%|██████████| 103/103 [00:00<00:00, 8477.00it/s]\n",
            "100%|██████████| 103/103 [00:00<00:00, 1408.95it/s]\n"
          ]
        },
        {
          "name": "stdout",
          "output_type": "stream",
          "text": [
            "103\n",
            "length of target class 92\n"
          ]
        },
        {
          "name": "stderr",
          "output_type": "stream",
          "text": [
            "100%|██████████| 92/92 [00:00<00:00, 8389.88it/s]\n",
            "100%|██████████| 92/92 [00:00<00:00, 1482.91it/s]\n"
          ]
        },
        {
          "name": "stdout",
          "output_type": "stream",
          "text": [
            "92\n",
            "length of target class 104\n"
          ]
        },
        {
          "name": "stderr",
          "output_type": "stream",
          "text": [
            "100%|██████████| 104/104 [00:00<00:00, 9958.85it/s]\n",
            "100%|██████████| 104/104 [00:00<00:00, 1509.93it/s]\n"
          ]
        },
        {
          "name": "stdout",
          "output_type": "stream",
          "text": [
            "104\n",
            "length of target class 103\n"
          ]
        },
        {
          "name": "stderr",
          "output_type": "stream",
          "text": [
            "100%|██████████| 103/103 [00:00<00:00, 9305.62it/s]\n",
            "100%|██████████| 103/103 [00:00<00:00, 1243.48it/s]\n"
          ]
        },
        {
          "name": "stdout",
          "output_type": "stream",
          "text": [
            "103\n",
            "length of target class 93\n"
          ]
        },
        {
          "name": "stderr",
          "output_type": "stream",
          "text": [
            "100%|██████████| 93/93 [00:00<00:00, 8274.54it/s]\n",
            "100%|██████████| 93/93 [00:00<00:00, 1382.98it/s]\n"
          ]
        },
        {
          "name": "stdout",
          "output_type": "stream",
          "text": [
            "93\n",
            "length of target class 104\n"
          ]
        },
        {
          "name": "stderr",
          "output_type": "stream",
          "text": [
            "100%|██████████| 104/104 [00:00<00:00, 7847.15it/s]\n",
            "100%|██████████| 104/104 [00:00<00:00, 924.82it/s]\n"
          ]
        },
        {
          "name": "stdout",
          "output_type": "stream",
          "text": [
            "104\n",
            "length of target class 103\n"
          ]
        },
        {
          "name": "stderr",
          "output_type": "stream",
          "text": [
            "100%|██████████| 103/103 [00:00<00:00, 7693.91it/s]\n",
            "100%|██████████| 103/103 [00:00<00:00, 853.61it/s]\n"
          ]
        },
        {
          "name": "stdout",
          "output_type": "stream",
          "text": [
            "103\n",
            "length of target class 93\n"
          ]
        },
        {
          "name": "stderr",
          "output_type": "stream",
          "text": [
            "100%|██████████| 93/93 [00:00<00:00, 7386.30it/s]\n",
            "100%|██████████| 93/93 [00:00<00:00, 754.38it/s]\n"
          ]
        },
        {
          "name": "stdout",
          "output_type": "stream",
          "text": [
            "93\n",
            "length of target class 104\n"
          ]
        },
        {
          "name": "stderr",
          "output_type": "stream",
          "text": [
            "100%|██████████| 104/104 [00:00<00:00, 8730.09it/s]\n",
            "100%|██████████| 104/104 [00:00<00:00, 1582.66it/s]\n"
          ]
        },
        {
          "name": "stdout",
          "output_type": "stream",
          "text": [
            "104\n",
            "length of target class 103\n"
          ]
        },
        {
          "name": "stderr",
          "output_type": "stream",
          "text": [
            "100%|██████████| 103/103 [00:00<00:00, 8763.84it/s]\n",
            "100%|██████████| 103/103 [00:00<00:00, 1512.34it/s]\n"
          ]
        },
        {
          "name": "stdout",
          "output_type": "stream",
          "text": [
            "103\n",
            "length of target class 93\n"
          ]
        },
        {
          "name": "stderr",
          "output_type": "stream",
          "text": [
            "100%|██████████| 93/93 [00:00<00:00, 6612.82it/s]\n",
            "100%|██████████| 93/93 [00:00<00:00, 1478.74it/s]\n"
          ]
        },
        {
          "name": "stdout",
          "output_type": "stream",
          "text": [
            "93\n",
            "length of target class 104\n"
          ]
        },
        {
          "name": "stderr",
          "output_type": "stream",
          "text": [
            "100%|██████████| 104/104 [00:00<00:00, 9690.06it/s]\n",
            "100%|██████████| 104/104 [00:00<00:00, 1236.80it/s]\n"
          ]
        },
        {
          "name": "stdout",
          "output_type": "stream",
          "text": [
            "104\n",
            "length of target class 103\n"
          ]
        },
        {
          "name": "stderr",
          "output_type": "stream",
          "text": [
            "100%|██████████| 103/103 [00:00<00:00, 8061.30it/s]\n",
            "100%|██████████| 103/103 [00:00<00:00, 1432.98it/s]\n"
          ]
        },
        {
          "name": "stdout",
          "output_type": "stream",
          "text": [
            "103\n",
            "length of target class 93\n"
          ]
        },
        {
          "name": "stderr",
          "output_type": "stream",
          "text": [
            "100%|██████████| 93/93 [00:00<00:00, 6681.00it/s]\n",
            "100%|██████████| 93/93 [00:00<00:00, 1532.67it/s]\n"
          ]
        },
        {
          "name": "stdout",
          "output_type": "stream",
          "text": [
            "93\n",
            "length of target class 104\n"
          ]
        },
        {
          "name": "stderr",
          "output_type": "stream",
          "text": [
            "100%|██████████| 104/104 [00:00<00:00, 9024.30it/s]\n",
            "100%|██████████| 104/104 [00:00<00:00, 1375.22it/s]\n"
          ]
        },
        {
          "name": "stdout",
          "output_type": "stream",
          "text": [
            "104\n",
            "length of target class 103\n"
          ]
        },
        {
          "name": "stderr",
          "output_type": "stream",
          "text": [
            "100%|██████████| 103/103 [00:00<00:00, 6355.01it/s]\n",
            "100%|██████████| 103/103 [00:00<00:00, 1430.17it/s]\n"
          ]
        },
        {
          "name": "stdout",
          "output_type": "stream",
          "text": [
            "103\n",
            "length of target class 92\n"
          ]
        },
        {
          "name": "stderr",
          "output_type": "stream",
          "text": [
            "100%|██████████| 92/92 [00:00<00:00, 8239.23it/s]\n",
            "100%|██████████| 92/92 [00:00<00:00, 1387.72it/s]\n"
          ]
        },
        {
          "name": "stdout",
          "output_type": "stream",
          "text": [
            "92\n",
            "length of target class 104\n"
          ]
        },
        {
          "name": "stderr",
          "output_type": "stream",
          "text": [
            "100%|██████████| 104/104 [00:00<00:00, 10234.81it/s]\n",
            "100%|██████████| 104/104 [00:00<00:00, 1428.47it/s]\n"
          ]
        },
        {
          "name": "stdout",
          "output_type": "stream",
          "text": [
            "104\n",
            "length of target class 103\n"
          ]
        },
        {
          "name": "stderr",
          "output_type": "stream",
          "text": [
            "100%|██████████| 103/103 [00:00<00:00, 8663.66it/s]\n",
            "100%|██████████| 103/103 [00:00<00:00, 1432.43it/s]\n"
          ]
        },
        {
          "name": "stdout",
          "output_type": "stream",
          "text": [
            "103\n",
            "length of target class 92\n"
          ]
        },
        {
          "name": "stderr",
          "output_type": "stream",
          "text": [
            "100%|██████████| 92/92 [00:00<00:00, 5063.79it/s]\n",
            "100%|██████████| 92/92 [00:00<00:00, 1205.62it/s]\n"
          ]
        },
        {
          "name": "stdout",
          "output_type": "stream",
          "text": [
            "92\n",
            "length of target class 104\n"
          ]
        },
        {
          "name": "stderr",
          "output_type": "stream",
          "text": [
            "100%|██████████| 104/104 [00:00<00:00, 9515.87it/s]\n",
            "100%|██████████| 104/104 [00:00<00:00, 1547.52it/s]\n"
          ]
        },
        {
          "name": "stdout",
          "output_type": "stream",
          "text": [
            "104\n",
            "length of target class 103\n"
          ]
        },
        {
          "name": "stderr",
          "output_type": "stream",
          "text": [
            "100%|██████████| 103/103 [00:00<00:00, 7127.17it/s]\n",
            "100%|██████████| 103/103 [00:00<00:00, 1375.26it/s]\n"
          ]
        },
        {
          "name": "stdout",
          "output_type": "stream",
          "text": [
            "103\n",
            "length of target class 92\n"
          ]
        },
        {
          "name": "stderr",
          "output_type": "stream",
          "text": [
            "100%|██████████| 92/92 [00:00<00:00, 7557.45it/s]\n",
            "100%|██████████| 92/92 [00:00<00:00, 1197.20it/s]\n"
          ]
        },
        {
          "name": "stdout",
          "output_type": "stream",
          "text": [
            "92\n",
            "length of target class 104\n"
          ]
        },
        {
          "name": "stderr",
          "output_type": "stream",
          "text": [
            "100%|██████████| 104/104 [00:00<00:00, 8732.89it/s]\n",
            "100%|██████████| 104/104 [00:00<00:00, 1514.97it/s]\n"
          ]
        },
        {
          "name": "stdout",
          "output_type": "stream",
          "text": [
            "104\n",
            "length of target class 103\n"
          ]
        },
        {
          "name": "stderr",
          "output_type": "stream",
          "text": [
            "100%|██████████| 103/103 [00:00<00:00, 6995.15it/s]\n",
            "100%|██████████| 103/103 [00:00<00:00, 1516.83it/s]"
          ]
        },
        {
          "name": "stdout",
          "output_type": "stream",
          "text": [
            "103\n"
          ]
        },
        {
          "name": "stderr",
          "output_type": "stream",
          "text": [
            "\n"
          ]
        },
        {
          "name": "stdout",
          "output_type": "stream",
          "text": [
            "length of target class 92\n"
          ]
        },
        {
          "name": "stderr",
          "output_type": "stream",
          "text": [
            "100%|██████████| 92/92 [00:00<00:00, 5906.20it/s]\n",
            "100%|██████████| 92/92 [00:00<00:00, 1461.91it/s]"
          ]
        },
        {
          "name": "stdout",
          "output_type": "stream",
          "text": [
            "92"
          ]
        },
        {
          "name": "stderr",
          "output_type": "stream",
          "text": [
            "\n"
          ]
        },
        {
          "name": "stdout",
          "output_type": "stream",
          "text": [
            "\n",
            "length of target class 104\n"
          ]
        },
        {
          "name": "stderr",
          "output_type": "stream",
          "text": [
            "100%|██████████| 104/104 [00:00<00:00, 8687.15it/s]\n",
            "100%|██████████| 104/104 [00:00<00:00, 1513.67it/s]\n"
          ]
        },
        {
          "name": "stdout",
          "output_type": "stream",
          "text": [
            "104\n",
            "length of target class 103\n"
          ]
        },
        {
          "name": "stderr",
          "output_type": "stream",
          "text": [
            "100%|██████████| 103/103 [00:00<00:00, 7486.58it/s]\n",
            "100%|██████████| 103/103 [00:00<00:00, 1315.23it/s]\n"
          ]
        },
        {
          "name": "stdout",
          "output_type": "stream",
          "text": [
            "103\n",
            "length of target class 92\n"
          ]
        },
        {
          "name": "stderr",
          "output_type": "stream",
          "text": [
            "100%|██████████| 92/92 [00:00<00:00, 7564.86it/s]\n",
            "100%|██████████| 92/92 [00:00<00:00, 1394.04it/s]\n"
          ]
        },
        {
          "name": "stdout",
          "output_type": "stream",
          "text": [
            "92\n",
            "length of target class 104\n"
          ]
        },
        {
          "name": "stderr",
          "output_type": "stream",
          "text": [
            "100%|██████████| 104/104 [00:00<00:00, 10300.06it/s]\n",
            "100%|██████████| 104/104 [00:00<00:00, 1438.02it/s]\n"
          ]
        },
        {
          "name": "stdout",
          "output_type": "stream",
          "text": [
            "104\n",
            "length of target class 103\n"
          ]
        },
        {
          "name": "stderr",
          "output_type": "stream",
          "text": [
            "100%|██████████| 103/103 [00:00<00:00, 7555.19it/s]\n",
            "100%|██████████| 103/103 [00:00<00:00, 1315.37it/s]\n"
          ]
        },
        {
          "name": "stdout",
          "output_type": "stream",
          "text": [
            "103\n",
            "length of target class 92\n"
          ]
        },
        {
          "name": "stderr",
          "output_type": "stream",
          "text": [
            "100%|██████████| 92/92 [00:00<00:00, 6805.33it/s]\n",
            "100%|██████████| 92/92 [00:00<00:00, 1362.27it/s]\n"
          ]
        },
        {
          "name": "stdout",
          "output_type": "stream",
          "text": [
            "92\n",
            "length of target class 104\n"
          ]
        },
        {
          "name": "stderr",
          "output_type": "stream",
          "text": [
            "100%|██████████| 104/104 [00:00<00:00, 5663.56it/s]\n",
            "100%|██████████| 104/104 [00:00<00:00, 964.20it/s] \n"
          ]
        },
        {
          "name": "stdout",
          "output_type": "stream",
          "text": [
            "104\n",
            "length of target class 103\n"
          ]
        },
        {
          "name": "stderr",
          "output_type": "stream",
          "text": [
            "100%|██████████| 103/103 [00:00<00:00, 8692.25it/s]\n",
            "100%|██████████| 103/103 [00:00<00:00, 764.73it/s]\n"
          ]
        },
        {
          "name": "stdout",
          "output_type": "stream",
          "text": [
            "103\n",
            "length of target class 93\n"
          ]
        },
        {
          "name": "stderr",
          "output_type": "stream",
          "text": [
            "100%|██████████| 93/93 [00:00<00:00, 8204.92it/s]\n",
            "100%|██████████| 93/93 [00:00<00:00, 1033.15it/s]\n"
          ]
        },
        {
          "name": "stdout",
          "output_type": "stream",
          "text": [
            "93\n",
            "length of target class 104\n"
          ]
        },
        {
          "name": "stderr",
          "output_type": "stream",
          "text": [
            "100%|██████████| 104/104 [00:00<00:00, 12603.15it/s]\n",
            "100%|██████████| 104/104 [00:00<00:00, 1523.75it/s]\n"
          ]
        },
        {
          "name": "stdout",
          "output_type": "stream",
          "text": [
            "104\n",
            "length of target class 103\n"
          ]
        },
        {
          "name": "stderr",
          "output_type": "stream",
          "text": [
            "100%|██████████| 103/103 [00:00<00:00, 7765.00it/s]\n",
            "100%|██████████| 103/103 [00:00<00:00, 1398.82it/s]\n"
          ]
        },
        {
          "name": "stdout",
          "output_type": "stream",
          "text": [
            "103\n",
            "length of target class 93\n"
          ]
        },
        {
          "name": "stderr",
          "output_type": "stream",
          "text": [
            "100%|██████████| 93/93 [00:00<00:00, 5556.56it/s]\n",
            "100%|██████████| 93/93 [00:00<00:00, 1400.84it/s]\n"
          ]
        },
        {
          "name": "stdout",
          "output_type": "stream",
          "text": [
            "93\n",
            "length of target class 104\n"
          ]
        },
        {
          "name": "stderr",
          "output_type": "stream",
          "text": [
            "100%|██████████| 104/104 [00:00<00:00, 11281.43it/s]\n",
            "100%|██████████| 104/104 [00:00<00:00, 1516.40it/s]\n"
          ]
        },
        {
          "name": "stdout",
          "output_type": "stream",
          "text": [
            "104\n",
            "length of target class 103\n"
          ]
        },
        {
          "name": "stderr",
          "output_type": "stream",
          "text": [
            "100%|██████████| 103/103 [00:00<00:00, 7758.30it/s]\n",
            "100%|██████████| 103/103 [00:00<00:00, 1510.15it/s]\n"
          ]
        },
        {
          "name": "stdout",
          "output_type": "stream",
          "text": [
            "103\n",
            "length of target class 93\n"
          ]
        },
        {
          "name": "stderr",
          "output_type": "stream",
          "text": [
            "100%|██████████| 93/93 [00:00<00:00, 7207.91it/s]\n",
            "100%|██████████| 93/93 [00:00<00:00, 1356.57it/s]\n"
          ]
        },
        {
          "name": "stdout",
          "output_type": "stream",
          "text": [
            "93\n",
            "length of target class 104\n"
          ]
        },
        {
          "name": "stderr",
          "output_type": "stream",
          "text": [
            "100%|██████████| 104/104 [00:00<00:00, 9943.87it/s]\n",
            "100%|██████████| 104/104 [00:00<00:00, 1493.74it/s]\n"
          ]
        },
        {
          "name": "stdout",
          "output_type": "stream",
          "text": [
            "104\n",
            "length of target class 103\n"
          ]
        },
        {
          "name": "stderr",
          "output_type": "stream",
          "text": [
            "100%|██████████| 103/103 [00:00<00:00, 8221.15it/s]\n",
            "100%|██████████| 103/103 [00:00<00:00, 1492.04it/s]\n"
          ]
        },
        {
          "name": "stdout",
          "output_type": "stream",
          "text": [
            "103\n",
            "length of target class 93\n"
          ]
        },
        {
          "name": "stderr",
          "output_type": "stream",
          "text": [
            "100%|██████████| 93/93 [00:00<00:00, 7274.72it/s]\n",
            "100%|██████████| 93/93 [00:00<00:00, 1409.40it/s]\n"
          ]
        },
        {
          "name": "stdout",
          "output_type": "stream",
          "text": [
            "93\n",
            "length of target class 104\n"
          ]
        },
        {
          "name": "stderr",
          "output_type": "stream",
          "text": [
            "100%|██████████| 104/104 [00:00<00:00, 8657.49it/s]\n",
            "100%|██████████| 104/104 [00:00<00:00, 1537.94it/s]\n"
          ]
        },
        {
          "name": "stdout",
          "output_type": "stream",
          "text": [
            "104\n",
            "length of target class 103\n"
          ]
        },
        {
          "name": "stderr",
          "output_type": "stream",
          "text": [
            "100%|██████████| 103/103 [00:00<00:00, 10000.54it/s]\n",
            "100%|██████████| 103/103 [00:00<00:00, 1370.55it/s]\n"
          ]
        },
        {
          "name": "stdout",
          "output_type": "stream",
          "text": [
            "103\n",
            "length of target class 92\n"
          ]
        },
        {
          "name": "stderr",
          "output_type": "stream",
          "text": [
            "100%|██████████| 92/92 [00:00<00:00, 7697.81it/s]\n",
            "100%|██████████| 92/92 [00:00<00:00, 1152.41it/s]\n"
          ]
        },
        {
          "name": "stdout",
          "output_type": "stream",
          "text": [
            "92\n",
            "length of target class 104\n"
          ]
        },
        {
          "name": "stderr",
          "output_type": "stream",
          "text": [
            "100%|██████████| 104/104 [00:00<00:00, 8745.49it/s]\n",
            "100%|██████████| 104/104 [00:00<00:00, 1045.45it/s]\n"
          ]
        },
        {
          "name": "stdout",
          "output_type": "stream",
          "text": [
            "104\n",
            "length of target class 103\n"
          ]
        },
        {
          "name": "stderr",
          "output_type": "stream",
          "text": [
            "100%|██████████| 103/103 [00:00<00:00, 7779.26it/s]\n",
            "100%|██████████| 103/103 [00:00<00:00, 791.61it/s]\n"
          ]
        },
        {
          "name": "stdout",
          "output_type": "stream",
          "text": [
            "103\n",
            "length of target class 92\n"
          ]
        },
        {
          "name": "stderr",
          "output_type": "stream",
          "text": [
            "100%|██████████| 92/92 [00:00<00:00, 7336.88it/s]\n",
            "100%|██████████| 92/92 [00:00<00:00, 723.25it/s]\n"
          ]
        },
        {
          "name": "stdout",
          "output_type": "stream",
          "text": [
            "92\n",
            "length of target class 104\n"
          ]
        },
        {
          "name": "stderr",
          "output_type": "stream",
          "text": [
            "100%|██████████| 104/104 [00:00<00:00, 8174.19it/s]\n",
            "100%|██████████| 104/104 [00:00<00:00, 1494.82it/s]\n"
          ]
        },
        {
          "name": "stdout",
          "output_type": "stream",
          "text": [
            "104\n",
            "length of target class 103\n"
          ]
        },
        {
          "name": "stderr",
          "output_type": "stream",
          "text": [
            "100%|██████████| 103/103 [00:00<00:00, 9126.33it/s]\n",
            "100%|██████████| 103/103 [00:00<00:00, 1455.68it/s]\n"
          ]
        },
        {
          "name": "stdout",
          "output_type": "stream",
          "text": [
            "103\n",
            "length of target class 92\n"
          ]
        },
        {
          "name": "stderr",
          "output_type": "stream",
          "text": [
            "100%|██████████| 92/92 [00:00<00:00, 8014.70it/s]\n",
            "100%|██████████| 92/92 [00:00<00:00, 1427.75it/s]\n"
          ]
        },
        {
          "name": "stdout",
          "output_type": "stream",
          "text": [
            "92\n",
            "length of target class 104\n"
          ]
        },
        {
          "name": "stderr",
          "output_type": "stream",
          "text": [
            "100%|██████████| 104/104 [00:00<00:00, 10297.63it/s]\n",
            "100%|██████████| 104/104 [00:00<00:00, 1289.58it/s]\n"
          ]
        },
        {
          "name": "stdout",
          "output_type": "stream",
          "text": [
            "104\n",
            "length of target class 103\n"
          ]
        },
        {
          "name": "stderr",
          "output_type": "stream",
          "text": [
            "100%|██████████| 103/103 [00:00<00:00, 7411.07it/s]\n",
            "100%|██████████| 103/103 [00:00<00:00, 1486.91it/s]\n"
          ]
        },
        {
          "name": "stdout",
          "output_type": "stream",
          "text": [
            "103\n",
            "length of target class 92\n"
          ]
        },
        {
          "name": "stderr",
          "output_type": "stream",
          "text": [
            "100%|██████████| 92/92 [00:00<00:00, 8308.23it/s]\n",
            "100%|██████████| 92/92 [00:00<00:00, 1329.52it/s]\n"
          ]
        },
        {
          "name": "stdout",
          "output_type": "stream",
          "text": [
            "92\n",
            "length of target class 104\n"
          ]
        },
        {
          "name": "stderr",
          "output_type": "stream",
          "text": [
            "100%|██████████| 104/104 [00:00<00:00, 8919.85it/s]\n",
            "100%|██████████| 104/104 [00:00<00:00, 1442.18it/s]\n"
          ]
        },
        {
          "name": "stdout",
          "output_type": "stream",
          "text": [
            "104\n",
            "length of target class 103\n"
          ]
        },
        {
          "name": "stderr",
          "output_type": "stream",
          "text": [
            "100%|██████████| 103/103 [00:00<00:00, 8322.67it/s]\n",
            "100%|██████████| 103/103 [00:00<00:00, 1395.00it/s]\n"
          ]
        },
        {
          "name": "stdout",
          "output_type": "stream",
          "text": [
            "103\n",
            "length of target class 92\n"
          ]
        },
        {
          "name": "stderr",
          "output_type": "stream",
          "text": [
            "100%|██████████| 92/92 [00:00<00:00, 7675.46it/s]\n",
            "100%|██████████| 92/92 [00:00<00:00, 1414.10it/s]\n"
          ]
        },
        {
          "name": "stdout",
          "output_type": "stream",
          "text": [
            "92\n",
            "length of target class 104\n"
          ]
        },
        {
          "name": "stderr",
          "output_type": "stream",
          "text": [
            "100%|██████████| 104/104 [00:00<00:00, 9748.09it/s]\n",
            "100%|██████████| 104/104 [00:00<00:00, 1475.46it/s]\n"
          ]
        },
        {
          "name": "stdout",
          "output_type": "stream",
          "text": [
            "104\n",
            "length of target class 103\n"
          ]
        },
        {
          "name": "stderr",
          "output_type": "stream",
          "text": [
            "100%|██████████| 103/103 [00:00<00:00, 6938.97it/s]\n",
            "100%|██████████| 103/103 [00:00<00:00, 1507.73it/s]\n"
          ]
        },
        {
          "name": "stdout",
          "output_type": "stream",
          "text": [
            "103\n",
            "length of target class 92\n"
          ]
        },
        {
          "name": "stderr",
          "output_type": "stream",
          "text": [
            "100%|██████████| 92/92 [00:00<00:00, 7468.81it/s]\n",
            "100%|██████████| 92/92 [00:00<00:00, 1330.68it/s]\n"
          ]
        },
        {
          "name": "stdout",
          "output_type": "stream",
          "text": [
            "92\n",
            "length of target class 104\n"
          ]
        },
        {
          "name": "stderr",
          "output_type": "stream",
          "text": [
            "100%|██████████| 104/104 [00:00<00:00, 9066.88it/s]\n",
            "100%|██████████| 104/104 [00:00<00:00, 904.77it/s]\n"
          ]
        },
        {
          "name": "stdout",
          "output_type": "stream",
          "text": [
            "104\n",
            "length of target class 103\n"
          ]
        },
        {
          "name": "stderr",
          "output_type": "stream",
          "text": [
            "100%|██████████| 103/103 [00:00<00:00, 6553.10it/s]\n",
            "100%|██████████| 103/103 [00:00<00:00, 815.40it/s]\n"
          ]
        },
        {
          "name": "stdout",
          "output_type": "stream",
          "text": [
            "103\n",
            "length of target class 93\n"
          ]
        },
        {
          "name": "stderr",
          "output_type": "stream",
          "text": [
            "100%|██████████| 93/93 [00:00<00:00, 6337.35it/s]\n",
            "100%|██████████| 93/93 [00:00<00:00, 785.81it/s]\n"
          ]
        },
        {
          "name": "stdout",
          "output_type": "stream",
          "text": [
            "93\n",
            "length of target class 104\n"
          ]
        },
        {
          "name": "stderr",
          "output_type": "stream",
          "text": [
            "100%|██████████| 104/104 [00:00<00:00, 9661.08it/s]\n",
            "100%|██████████| 104/104 [00:00<00:00, 1472.38it/s]\n"
          ]
        },
        {
          "name": "stdout",
          "output_type": "stream",
          "text": [
            "104\n",
            "length of target class 103\n"
          ]
        },
        {
          "name": "stderr",
          "output_type": "stream",
          "text": [
            "100%|██████████| 103/103 [00:00<00:00, 5514.38it/s]\n",
            "100%|██████████| 103/103 [00:00<00:00, 1550.65it/s]\n"
          ]
        },
        {
          "name": "stdout",
          "output_type": "stream",
          "text": [
            "103\n",
            "length of target class 93\n"
          ]
        },
        {
          "name": "stderr",
          "output_type": "stream",
          "text": [
            "100%|██████████| 93/93 [00:00<00:00, 5640.85it/s]\n",
            "100%|██████████| 93/93 [00:00<00:00, 1354.84it/s]\n"
          ]
        },
        {
          "name": "stdout",
          "output_type": "stream",
          "text": [
            "93\n",
            "length of target class 104\n"
          ]
        },
        {
          "name": "stderr",
          "output_type": "stream",
          "text": [
            "100%|██████████| 104/104 [00:00<00:00, 7189.48it/s]\n",
            "100%|██████████| 104/104 [00:00<00:00, 1195.69it/s]\n"
          ]
        },
        {
          "name": "stdout",
          "output_type": "stream",
          "text": [
            "104\n",
            "length of target class 103\n"
          ]
        },
        {
          "name": "stderr",
          "output_type": "stream",
          "text": [
            "100%|██████████| 103/103 [00:00<00:00, 8802.23it/s]\n",
            "100%|██████████| 103/103 [00:00<00:00, 1110.04it/s]\n"
          ]
        },
        {
          "name": "stdout",
          "output_type": "stream",
          "text": [
            "103\n",
            "length of target class 93\n"
          ]
        },
        {
          "name": "stderr",
          "output_type": "stream",
          "text": [
            "100%|██████████| 93/93 [00:00<00:00, 8070.31it/s]\n",
            "100%|██████████| 93/93 [00:00<00:00, 1404.46it/s]\n"
          ]
        },
        {
          "name": "stdout",
          "output_type": "stream",
          "text": [
            "93\n",
            "length of target class 104\n"
          ]
        },
        {
          "name": "stderr",
          "output_type": "stream",
          "text": [
            "100%|██████████| 104/104 [00:00<00:00, 8170.06it/s]\n",
            "100%|██████████| 104/104 [00:00<00:00, 1331.31it/s]\n"
          ]
        },
        {
          "name": "stdout",
          "output_type": "stream",
          "text": [
            "104\n",
            "length of target class 103\n"
          ]
        },
        {
          "name": "stderr",
          "output_type": "stream",
          "text": [
            "100%|██████████| 103/103 [00:00<00:00, 8028.49it/s]\n",
            "100%|██████████| 103/103 [00:00<00:00, 1164.00it/s]\n"
          ]
        },
        {
          "name": "stdout",
          "output_type": "stream",
          "text": [
            "103\n",
            "length of target class 93\n"
          ]
        },
        {
          "name": "stderr",
          "output_type": "stream",
          "text": [
            "100%|██████████| 93/93 [00:00<00:00, 6209.83it/s]\n",
            "100%|██████████| 93/93 [00:00<00:00, 1186.45it/s]\n"
          ]
        },
        {
          "name": "stdout",
          "output_type": "stream",
          "text": [
            "93\n",
            "length of target class 104\n"
          ]
        },
        {
          "name": "stderr",
          "output_type": "stream",
          "text": [
            "100%|██████████| 104/104 [00:00<00:00, 10177.26it/s]\n",
            "100%|██████████| 104/104 [00:00<00:00, 1537.40it/s]\n"
          ]
        },
        {
          "name": "stdout",
          "output_type": "stream",
          "text": [
            "104\n",
            "length of target class 103\n"
          ]
        },
        {
          "name": "stderr",
          "output_type": "stream",
          "text": [
            "100%|██████████| 103/103 [00:00<00:00, 6155.18it/s]\n",
            "100%|██████████| 103/103 [00:00<00:00, 1379.68it/s]\n"
          ]
        },
        {
          "name": "stdout",
          "output_type": "stream",
          "text": [
            "103\n",
            "length of target class 92\n"
          ]
        },
        {
          "name": "stderr",
          "output_type": "stream",
          "text": [
            "100%|██████████| 92/92 [00:00<00:00, 7946.87it/s]\n",
            "100%|██████████| 92/92 [00:00<00:00, 1380.71it/s]\n"
          ]
        },
        {
          "name": "stdout",
          "output_type": "stream",
          "text": [
            "92\n",
            "length of target class 104\n"
          ]
        },
        {
          "name": "stderr",
          "output_type": "stream",
          "text": [
            "100%|██████████| 104/104 [00:00<00:00, 8500.42it/s]\n",
            "100%|██████████| 104/104 [00:00<00:00, 1530.55it/s]\n"
          ]
        },
        {
          "name": "stdout",
          "output_type": "stream",
          "text": [
            "104\n",
            "length of target class 103\n"
          ]
        },
        {
          "name": "stderr",
          "output_type": "stream",
          "text": [
            "100%|██████████| 103/103 [00:00<00:00, 8614.94it/s]\n",
            "100%|██████████| 103/103 [00:00<00:00, 1434.19it/s]"
          ]
        },
        {
          "name": "stdout",
          "output_type": "stream",
          "text": [
            "103\n",
            "length of target class 92"
          ]
        },
        {
          "name": "stderr",
          "output_type": "stream",
          "text": [
            "\n"
          ]
        },
        {
          "name": "stdout",
          "output_type": "stream",
          "text": [
            "\n"
          ]
        },
        {
          "name": "stderr",
          "output_type": "stream",
          "text": [
            "100%|██████████| 92/92 [00:00<00:00, 8208.38it/s]\n",
            "100%|██████████| 92/92 [00:00<00:00, 1271.53it/s]\n"
          ]
        },
        {
          "name": "stdout",
          "output_type": "stream",
          "text": [
            "92\n",
            "length of target class 104\n"
          ]
        },
        {
          "name": "stderr",
          "output_type": "stream",
          "text": [
            "100%|██████████| 104/104 [00:00<00:00, 6653.36it/s]\n",
            "100%|██████████| 104/104 [00:00<00:00, 1462.95it/s]\n"
          ]
        },
        {
          "name": "stdout",
          "output_type": "stream",
          "text": [
            "104\n",
            "length of target class 103\n"
          ]
        },
        {
          "name": "stderr",
          "output_type": "stream",
          "text": [
            "100%|██████████| 103/103 [00:00<00:00, 6833.17it/s]\n",
            "100%|██████████| 103/103 [00:00<00:00, 1395.19it/s]\n"
          ]
        },
        {
          "name": "stdout",
          "output_type": "stream",
          "text": [
            "103\n",
            "length of target class 92\n"
          ]
        },
        {
          "name": "stderr",
          "output_type": "stream",
          "text": [
            "100%|██████████| 92/92 [00:00<00:00, 5741.86it/s]\n",
            "100%|██████████| 92/92 [00:00<00:00, 1406.36it/s]\n"
          ]
        },
        {
          "name": "stdout",
          "output_type": "stream",
          "text": [
            "92\n",
            "length of target class 104\n"
          ]
        },
        {
          "name": "stderr",
          "output_type": "stream",
          "text": [
            "100%|██████████| 104/104 [00:00<00:00, 5267.13it/s]\n",
            "100%|██████████| 104/104 [00:00<00:00, 1262.38it/s]\n"
          ]
        },
        {
          "name": "stdout",
          "output_type": "stream",
          "text": [
            "104\n",
            "length of target class 103\n"
          ]
        },
        {
          "name": "stderr",
          "output_type": "stream",
          "text": [
            "100%|██████████| 103/103 [00:00<00:00, 8506.54it/s]\n",
            "100%|██████████| 103/103 [00:00<00:00, 1374.74it/s]\n"
          ]
        },
        {
          "name": "stdout",
          "output_type": "stream",
          "text": [
            "103\n",
            "length of target class 92\n"
          ]
        },
        {
          "name": "stderr",
          "output_type": "stream",
          "text": [
            "100%|██████████| 92/92 [00:00<00:00, 8107.32it/s]\n",
            "100%|██████████| 92/92 [00:00<00:00, 1213.23it/s]\n"
          ]
        },
        {
          "name": "stdout",
          "output_type": "stream",
          "text": [
            "92\n",
            "length of target class 104\n"
          ]
        },
        {
          "name": "stderr",
          "output_type": "stream",
          "text": [
            "100%|██████████| 104/104 [00:00<00:00, 8517.85it/s]\n",
            "100%|██████████| 104/104 [00:00<00:00, 911.25it/s]\n"
          ]
        },
        {
          "name": "stdout",
          "output_type": "stream",
          "text": [
            "104\n",
            "length of target class 103\n"
          ]
        },
        {
          "name": "stderr",
          "output_type": "stream",
          "text": [
            "100%|██████████| 103/103 [00:00<00:00, 5900.61it/s]\n",
            "100%|██████████| 103/103 [00:00<00:00, 786.16it/s]\n"
          ]
        },
        {
          "name": "stdout",
          "output_type": "stream",
          "text": [
            "103\n",
            "length of target class 92\n"
          ]
        },
        {
          "name": "stderr",
          "output_type": "stream",
          "text": [
            "100%|██████████| 92/92 [00:00<00:00, 7968.86it/s]\n",
            "100%|██████████| 92/92 [00:00<00:00, 952.37it/s]\n"
          ]
        },
        {
          "name": "stdout",
          "output_type": "stream",
          "text": [
            "92\n",
            "length of target class 104\n"
          ]
        },
        {
          "name": "stderr",
          "output_type": "stream",
          "text": [
            "100%|██████████| 104/104 [00:00<00:00, 6745.65it/s]\n",
            "100%|██████████| 104/104 [00:00<00:00, 934.77it/s]\n"
          ]
        },
        {
          "name": "stdout",
          "output_type": "stream",
          "text": [
            "104\n",
            "length of target class 103\n"
          ]
        },
        {
          "name": "stderr",
          "output_type": "stream",
          "text": [
            "100%|██████████| 103/103 [00:00<00:00, 7307.03it/s]\n",
            "100%|██████████| 103/103 [00:00<00:00, 781.15it/s]\n"
          ]
        },
        {
          "name": "stdout",
          "output_type": "stream",
          "text": [
            "103\n",
            "length of target class 92\n"
          ]
        },
        {
          "name": "stderr",
          "output_type": "stream",
          "text": [
            "100%|██████████| 92/92 [00:00<00:00, 7333.95it/s]\n",
            "100%|██████████| 92/92 [00:00<00:00, 762.99it/s]\n"
          ]
        },
        {
          "name": "stdout",
          "output_type": "stream",
          "text": [
            "92\n"
          ]
        },
        {
          "data": {
            "image/png": "[encoded data removed]",
            "text/plain": [
              "<Figure size 640x480 with 1 Axes>"
            ]
          },
          "metadata": {},
          "output_type": "display_data"
        },
        {
          "data": {
            "image/png": "[encoded data removed]",
            "text/plain": [
              "<Figure size 640x480 with 1 Axes>"
            ]
          },
          "metadata": {},
          "output_type": "display_data"
        },
        {
          "data": {
            "image/png": "[encoded data removed]",
            "text/plain": [
              "<Figure size 640x480 with 1 Axes>"
            ]
          },
          "metadata": {},
          "output_type": "display_data"
        }
      ],
      "source": [
        "samplerange=6\n",
        "fig1, ax1 = plt.subplots()\n",
        "fig2, ax2 = plt.subplots()\n",
        "fig3, ax3 = plt.subplots()\n",
        "for numsample in range(1,samplerange):\n",
        "  threshold=0.5\n",
        "  Threshold=[]\n",
        "  Mean1=[]\n",
        "  Std1=[]\n",
        "  Mean2=[]\n",
        "  Std2=[]\n",
        "  Mean3=[]\n",
        "  Std3=[]\n",
        "  while(threshold<1):\n",
        "    Threshold.append(threshold)\n",
        "    data1 , data2, data3=Dpc(dataset,threshold)\n",
        "    X1,Adj1=GraphRep(N,data1)\n",
        "    X2,Adj2=GraphRep(N,data2)\n",
        "    X3,Adj3=GraphRep(N,data3)\n",
        "    mean1,std1=sensitivityanalysis(X1,Adj1,N,numsample,0)\n",
        "    Mean1.append(mean1)\n",
        "    Std1.append(std1)\n",
        "    mean2,std2=sensitivityanalysis(X2,Adj2,N,numsample+5,1)\n",
        "    Mean2.append(mean2)\n",
        "    Std2.append(std2)\n",
        "    # mean3,std3=sensitivityanalysis(X3,Adj3,N,numsample,2)\n",
        "    # Mean3.append(mean3)\n",
        "    # Std3.append(std3)\n",
        "    threshold+=0.05\n",
        "  plot_mean_with_error(Mean1,Std1,Threshold,label='class1',numsample=numsample,title='Sensitivity analysis on Red Cycle',ax=ax1)\n",
        "  plot_mean_with_error(Mean2,Std2,Threshold,label='class2',numsample=numsample+5,title='Sensitivity analysis on Green Cycle',ax=ax2)\n",
        "  # plot_mean_with_error(Mean3,Std3,Threshold,label='class3',numsample=numsample,title='Sensitivity analysis on Acyclic',ax=ax3)\n",
        "\n",
        "plt.show()\n",
        "\n"
      ]
    },
    {
      "cell_type": "markdown",
      "metadata": {
        "id": "vPaHcKFOzNIX"
      },
      "source": [
        "# Function to Calculate whether two classes share a decision boundary"
      ]
    },
    {
      "cell_type": "code",
      "execution_count": null,
      "metadata": {
        "id": "GOb3l5Ia0uwi"
      },
      "outputs": [],
      "source": [
        "import torch\n",
        "import torch.nn.functional as F\n",
        "import random\n",
        "\n",
        "def adjacency_score(model,classifier, data_list1, data_list2, class_indices, num_samples=1000, steps=1000):\n",
        "    \"\"\"\n",
        "    Calculate adjacency score between two classes.\n",
        "\n",
        "    Args:\n",
        "        model (torch.nn.Module): Pre-trained model for classifying embeddings.\n",
        "        embeddings_list1 (list): List of embeddings for class 1.\n",
        "        embeddings_list2 (list): List of embeddings for class 2.\n",
        "        target_class_index (int): Index of the target class for adjacency check.\n",
        "        num_samples (int): Number of samples to draw from each list for checking.\n",
        "        steps (int): Number of steps for linear interpolation.\n",
        "\n",
        "    Returns:\n",
        "    return score      int: 1 if classes are adjacent, 0 otherwise.\n",
        "    \"\"\"\n",
        "    adjmeasure=0\n",
        "      # Assume classes are adjacent initially\n",
        "    with torch.no_grad():\n",
        "        for _ in range(num_samples):\n",
        "            # Randomly sample an embedding from each list\n",
        "            data1 = random.choice(data_list1)\n",
        "            data2 = random.choice(data_list2)\n",
        "            emb1,out1=model(data1.x,data1.edge_index,data1.edge_attr,None)\n",
        "            emb2,out2=model(data2.x,data2.edge_index,data2.edge_attr,None)\n",
        "            score=1\n",
        "\n",
        "            # Convert to tensors if they're not already\n",
        "            if not isinstance(emb1, torch.Tensor):\n",
        "                emb1 = torch.tensor(emb1, dtype=torch.float32)\n",
        "            if not isinstance(emb2, torch.Tensor):\n",
        "                emb2 = torch.tensor(emb2, dtype=torch.float32)\n",
        "\n",
        "            for alpha in torch.linspace(0, 1, steps):\n",
        "                # Create a linear combination of the embeddings\n",
        "                combination = alpha * emb1 + (1 - alpha) * emb2\n",
        "\n",
        "                # Pass the combination through the model to get probabilities\n",
        "                output = classifier(combination)  # Add batch dimension\n",
        "                #print(output)\n",
        "                probabilities = F.softmax(output, dim=1)\n",
        "                #print(probabilities)\n",
        "\n",
        "                # Check if the maximum probability belongs to the target class\n",
        "                if probabilities.argmax(dim=1).item() not in class_indices:\n",
        "                    score = 0\n",
        "                    break;\n",
        "            adjmeasure+=score\n",
        "\n",
        "    return adjmeasure/num_samples\n",
        "\n",
        "\n"
      ]
    },
    {
      "cell_type": "markdown",
      "metadata": {
        "id": "LuJUMTWunXu5"
      },
      "source": [
        "# Function to Approximate the Boundary Generative Distribution and Sample from it"
      ]
    },
    {
      "cell_type": "code",
      "execution_count": null,
      "metadata": {
        "id": "l0zMvj720ArQ"
      },
      "outputs": [],
      "source": [
        "def boundarysampler(class_indices,N, AdjList=AllAdj,Xlist=AllAdj,numtrials=100,numsample=100,pmix=0.5):\n",
        "  label1=class_indices[0]\n",
        "  label2=class_indices[1]\n",
        "  print(label1,label2)\n",
        "  X1=AllX[label1]\n",
        "  X2=AllX[label2]\n",
        "  Adj1=AdjList[label1]\n",
        "  Adj2=AdjList[label2]\n",
        "  X=pmix*X1+(1-pmix)*X2\n",
        "  Adj=pmix*Adj1+(1-pmix)*Adj2\n",
        "  accuracies=[]\n",
        "  embeddings=[]\n",
        "  acc2=[]\n",
        "  for _ in range(numtrials):\n",
        "    min_difference = float('inf')\n",
        "    sample_accuracy = None\n",
        "    sample_embedding = None\n",
        "\n",
        "    for _ in range(numsample):\n",
        "        out, _, embedding,*_ = GraphSampler(N, X, Adj, show=False)\n",
        "        probabilities=F.softmax(out,dim=1)\n",
        "\n",
        "        # Difference in class scores\n",
        "        score_diff = abs(probabilities[0][label1] - probabilities[0][label2])\n",
        "\n",
        "        if score_diff < min_difference:\n",
        "            min_difference = score_diff\n",
        "            print(probabilities)\n",
        "            sample_accuracy = probabilities[0][label1]\n",
        "            otheracc=1-probabilities[0][label1]\n",
        "            sample_embedding = embedding\n",
        "\n",
        "    accuracies.append(sample_accuracy)\n",
        "    acc2.append(otheracc)\n",
        "    embeddings.append(sample_embedding)\n",
        "\n",
        "  # Calculate mean and standard deviation of accuracies\n",
        "  mean_accuracy = torch.mean(torch.tensor(accuracies))\n",
        "  mean_acc2=torch.mean(torch.tensor(acc2))\n",
        "  std_accuracy = torch.std(torch.tensor(accuracies))\n",
        "  return mean_accuracy,mean_acc2, std_accuracy, embeddings\n"
      ]
    },
    {
      "cell_type": "markdown",
      "metadata": {
        "id": "q0ENgAclnllW"
      },
      "source": [
        "# First find out whether two classes share a boundary by computing their adjacency score. If the score is above 0.9, consider that they share a boundary"
      ]
    },
    {
      "cell_type": "code",
      "execution_count": null,
      "metadata": {
        "colab": {
          "base_uri": "https://localhost:8080/"
        },
        "id": "FvNuT8MHvNXB",
        "outputId": "8e8d348e-946e-45f6-8cd6-7d969b8bcc87"
      },
      "outputs": [
        {
          "name": "stdout",
          "output_type": "stream",
          "text": [
            "1.0\n"
          ]
        }
      ],
      "source": [
        "classifier=model.classifier\n",
        "class_indices=[0,2]\n",
        "adjscore=adjacency_score(model,classifier,data1,data3,class_indices)\n",
        "print(adjscore)\n"
      ]
    },
    {
      "cell_type": "code",
      "execution_count": null,
      "metadata": {
        "colab": {
          "background_save": true
        },
        "id": "L9yrN1yP5uch"
      },
      "outputs": [],
      "source": [
        "#class_indices=[0,2]\n",
        "accuracies,acc2, stdacc, embeddings=boundarysampler([0,2],N,AllAdj,AllX,numtrials=2,numsample=2000)\n",
        "print(accuracies,acc2)\n",
        "print(stdacc)"
      ]
    },
    {
      "cell_type": "code",
      "execution_count": null,
      "metadata": {
        "colab": {
          "base_uri": "https://localhost:8080/"
        },
        "id": "wWaKCCPB8jLE",
        "outputId": "2f1ad98f-b9d5-4099-fdbd-52b48aae764d"
      },
      "outputs": [
        {
          "name": "stdout",
          "output_type": "stream",
          "text": [
            "tensor(0.2101)\n"
          ]
        }
      ],
      "source": [
        "print(accuracies)"
      ]
    },
    {
      "cell_type": "code",
      "execution_count": null,
      "metadata": {
        "id": "tHGTBOVJnC-n"
      },
      "outputs": [],
      "source": [
        "# Computing boundary metrics\n",
        "import torch\n",
        "import torch.nn.functional as F\n",
        "\n",
        "def boundary_margin(embeddings_c1, embeddings_c2):\n",
        "    \"\"\"\n",
        "    Compute the boundary margin.\n",
        "\n",
        "    Args:\n",
        "    - embeddings_c1 (torch.Tensor): Embeddings of class c1 graphs.\n",
        "    - embeddings_c2 (torch.Tensor): Embeddings of boundary graphs between class c1 and c2.\n",
        "\n",
        "    Returns:\n",
        "    - margin (float): The boundary margin.\n",
        "\n",
        "    \"\"\"\n",
        "    embeddings_c1=torch.cat(embeddings_c1,dim=0)\n",
        "    embeddings_c2=torch.cat(embeddings_c2,dim=0)\n",
        "    distances = torch.norm(embeddings_c1 - embeddings_c2, dim=1)\n",
        "    margin = torch.min(distances).item()\n",
        "    return margin\n",
        "\n",
        "def boundary_thickness(embeddings_c1, embeddings_c1_c2, model, c1, c2, gamma=0.75, num_points=100):\n",
        "    thickness_values = []\n",
        "\n",
        "    for emb_c1, emb_c1_c2 in zip(embeddings_c1, embeddings_c1_c2):\n",
        "        t_values = torch.linspace(0, 1, num_points)\n",
        "        h_t = (1 - t_values).unsqueeze(1) * emb_c1 + t_values.unsqueeze(1) * emb_c1_c2\n",
        "        #print(model(h_t).size())\n",
        "\n",
        "        # Compute the logits\n",
        "        logits_h_t = model(h_t)  # Assuming `model` is your classifier\n",
        "        probs_h_t = F.softmax(logits_h_t, dim=1)\n",
        "\n",
        "        # Compute the integrand\n",
        "        integrand = (gamma > (probs_h_t[:, c1] - probs_h_t[:, c2])).float()\n",
        "\n",
        "        # Approximate the integral using the trapezoidal rule\n",
        "        integral = torch.trapz(integrand, t_values)\n",
        "\n",
        "        # Compute the thickness value\n",
        "        thickness_value = (emb_c1 - emb_c1_c2).norm() * integral.mean()\n",
        "        thickness_values.append(thickness_value.item())\n",
        "\n",
        "    return sum(thickness_values) / len(thickness_values)\n",
        "\n",
        "# def boundary_complexity(embeddings, D):\n",
        "#     \"\"\"\n",
        "#     Compute the boundary complexity.\n",
        "\n",
        "#     Args:\n",
        "#     - embeddings (torch.Tensor): Embeddings of the boundary graphs with shape (num_graphs, embedding_dim).\n",
        "#     - D (int): Dimensionality of the embeddings.\n",
        "\n",
        "#     Returns:\n",
        "#     - complexity (float): The boundary complexity.\n",
        "#     \"\"\"\n",
        "#     # Compute the covariance matrix of the embeddings\n",
        "#     embeddings=torch.cat(embeddings,dim=0)\n",
        "#     covariance_matrix = torch.cov(embeddings.T)\n",
        "\n",
        "#     # Compute the eigenvalues of the covariance matrix\n",
        "#     eigenvalues = torch.linalg.eigvalsh(covariance_matrix)\n",
        "#     print(eigenvalues)\n",
        "\n",
        "#     # Normalize the eigenvalues\n",
        "#     eigenvalues_normalized = eigenvalues / eigenvalues.sum()\n",
        "#     print(eigenvalues_normalized)\n",
        "\n",
        "#     # Compute the entropy of the normalized eigenvalues\n",
        "#     entropy = -torch.sum(eigenvalues_normalized * torch.log(eigenvalues_normalized + 1e-7))\n",
        "#     print(entropy)\n",
        "\n",
        "#     # Normalize the entropy by dividing it by log(D)\n",
        "#     complexity = entropy / torch.log(torch.tensor(D, dtype=torch.float32))\n",
        "\n",
        "#     return complexity.item()\n",
        "def boundary_complexity(embeddings, D, epsilon=1e-7):\n",
        "    \"\"\"\n",
        "    Compute the boundary complexity.\n",
        "\n",
        "    Args:\n",
        "    - embeddings (torch.Tensor): Embeddings of the boundary graphs with shape (num_graphs, embedding_dim).\n",
        "    - D (int): Dimensionality of the embeddings.\n",
        "    - epsilon (float): Small value added to eigenvalues to prevent log(0).\n",
        "\n",
        "    Returns:\n",
        "    - complexity (float): The boundary complexity.\n",
        "    \"\"\"\n",
        "    # Flatten and concatenate embeddings\n",
        "    embeddings = torch.cat(embeddings, dim=0)\n",
        "\n",
        "    # Compute the covariance matrix of the embeddings\n",
        "    covariance_matrix = torch.cov(embeddings.T)\n",
        "\n",
        "    # Add a small value to the diagonal for regularization\n",
        "    covariance_matrix += epsilon * torch.eye(covariance_matrix.size(0))\n",
        "\n",
        "    # Compute the eigenvalues of the covariance matrix\n",
        "    eigenvalues = torch.linalg.eigvalsh(covariance_matrix)\n",
        "\n",
        "    # Clamp eigenvalues to avoid very small negative values due to numerical errors\n",
        "    eigenvalues = torch.clamp(eigenvalues, min=epsilon)\n",
        "\n",
        "    # Normalize the eigenvalues\n",
        "    eigenvalues_normalized = eigenvalues / eigenvalues.sum()\n",
        "\n",
        "    # Compute the entropy of the normalized eigenvalues\n",
        "    entropy = -torch.sum(eigenvalues_normalized * torch.log(eigenvalues_normalized + epsilon))\n",
        "\n",
        "    # Normalize the entropy by dividing it by log(D)\n",
        "    complexity = entropy / torch.log(torch.tensor(D, dtype=torch.float32))\n",
        "\n",
        "    return complexity.item()"
      ]
    },
    {
      "cell_type": "code",
      "execution_count": null,
      "metadata": {
        "colab": {
          "base_uri": "https://localhost:8080/"
        },
        "id": "RMPPyubSnGC7",
        "outputId": "ae5381e1-475e-4aa0-f8a6-3de4c2da49dc"
      },
      "outputs": [
        {
          "name": "stdout",
          "output_type": "stream",
          "text": [
            "1.846235752105713\n",
            "64.27653145328725\n",
            "0.005051757209002972\n"
          ]
        }
      ],
      "source": [
        "boundaryembeddings=embeddings\n",
        "latent_data=latent_data2\n",
        "margin=boundary_margin(boundaryembeddings[:len(latent_data)],latent_data)\n",
        "print(margin)\n",
        "thickness=boundary_thickness(boundaryembeddings[:len(latent_data)],latent_data,model.classifier,1,0)\n",
        "print(thickness)\n",
        "complexity=boundary_complexity(boundaryembeddings[:len(latent_data)],64)\n",
        "print(complexity)"
      ]
    }
  ],
  "metadata": {
    "colab": {
      "provenance": []
    },
    "kernelspec": {
      "display_name": "Python 3",
      "name": "python3"
    },
    "language_info": {
      "name": "python"
    }
  },
  "nbformat": 4,
  "nbformat_minor": 0
}