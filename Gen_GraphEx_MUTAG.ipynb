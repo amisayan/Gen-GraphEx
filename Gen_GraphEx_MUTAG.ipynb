{
  "cells": [
    {
      "cell_type": "code",
      "execution_count": null,
      "id": "bdff95ab",
      "metadata": {
        "id": "bdff95ab"
      },
      "outputs": [],
      "source": []
    },
    {
      "cell_type": "code",
      "execution_count": null,
      "id": "3dfd5393",
      "metadata": {
        "colab": {
          "base_uri": "https://localhost:8080/"
        },
        "id": "3dfd5393",
        "outputId": "b361dcc7-bac6-4018-c23b-a23cdc33d67f"
      },
      "outputs": [
        {
          "output_type": "stream",
          "name": "stdout",
          "text": [
            "2.5.1+cu121\n",
            "  Installing build dependencies ... \u001b[?25l\u001b[?25hdone\n",
            "  Getting requirements to build wheel ... \u001b[?25l\u001b[?25hdone\n",
            "  Preparing metadata (pyproject.toml) ... \u001b[?25l\u001b[?25hdone\n"
          ]
        }
      ],
      "source": [
        "import os\n",
        "import torch\n",
        "os.environ['TORCH'] = torch.__version__\n",
        "print(torch.__version__)\n",
        "\n",
        "!pip install -q torch-scatter -f https://data.pyg.org/whl/torch-${TORCH}.html\n",
        "!pip install -q torch-sparse -f https://data.pyg.org/whl/torch-${TORCH}.html\n",
        "!pip install -q git+https://github.com/pyg-team/pytorch_geometric.git"
      ]
    },
    {
      "cell_type": "code",
      "execution_count": null,
      "id": "e1c41b12",
      "metadata": {
        "colab": {
          "base_uri": "https://localhost:8080/"
        },
        "id": "e1c41b12",
        "outputId": "f6155c56-cc54-4db8-9a3d-9eb06ce65a91"
      },
      "outputs": [
        {
          "output_type": "stream",
          "name": "stderr",
          "text": [
            "Downloading https://www.chrsmrrs.com/graphkerneldatasets/MUTAG.zip\n",
            "Processing...\n"
          ]
        },
        {
          "output_type": "stream",
          "name": "stdout",
          "text": [
            "\n",
            "Dataset: MUTAG(188):\n",
            "====================\n",
            "Number of graphs: 188\n",
            "Number of features: 7\n",
            "Number of classes: 2\n",
            "\n",
            "Data(edge_index=[2, 38], x=[17, 7], edge_attr=[38, 4], y=[1])\n",
            "=============================================================\n",
            "Number of nodes: 17\n",
            "Number of edges: 38\n",
            "Average node degree: 2.24\n",
            "Has isolated nodes: False\n",
            "Has self-loops: False\n",
            "Is undirected: True\n"
          ]
        },
        {
          "output_type": "stream",
          "name": "stderr",
          "text": [
            "Done!\n"
          ]
        }
      ],
      "source": [
        "import torch\n",
        "from torch_geometric.datasets import TUDataset\n",
        "\n",
        "dataset = TUDataset(root='data/TUDataset', name='MUTAG')\n",
        "\n",
        "print()\n",
        "print(f'Dataset: {dataset}:')\n",
        "print('====================')\n",
        "print(f'Number of graphs: {len(dataset)}')\n",
        "print(f'Number of features: {dataset.num_features}')\n",
        "print(f'Number of classes: {dataset.num_classes}')\n",
        "\n",
        "data = dataset[0]  # Get the first graph object.\n",
        "\n",
        "print()\n",
        "print(data)\n",
        "print('=============================================================')\n",
        "\n",
        "# Gather some statistics about the first graph.\n",
        "print(f'Number of nodes: {data.num_nodes}')\n",
        "print(f'Number of edges: {data.num_edges}')\n",
        "print(f'Average node degree: {data.num_edges / data.num_nodes:.2f}')\n",
        "print(f'Has isolated nodes: {data.has_isolated_nodes()}')\n",
        "print(f'Has self-loops: {data.has_self_loops()}')\n",
        "print(f'Is undirected: {data.is_undirected()}')\n"
      ]
    },
    {
      "cell_type": "code",
      "execution_count": null,
      "id": "JeCq7cF0F-p-",
      "metadata": {
        "id": "JeCq7cF0F-p-"
      },
      "outputs": [],
      "source": [
        "from torch_geometric.utils import to_networkx\n",
        "import matplotlib.colors as colors\n",
        "import matplotlib.cm as cmx\n",
        "import networkx as nx\n",
        "import matplotlib.pyplot as plt\n",
        "import networkx as nx\n",
        "def plotmutag(data):\n",
        "  cmap = colors.ListedColormap(['blue', 'black','red','yellow','orange','green','purple'])\n",
        "  ColorLegend = {'Carbon': 0,'Nitrogen': 1,'Oxygen': 2,'Fluorine': 3,'Iodine':4,'Chlorine':5,'Bromine':6}\n",
        "  cNorm  = colors.Normalize(vmin=0, vmax=6)\n",
        "  scalarMap = cmx.ScalarMappable(norm=cNorm, cmap=cmap)\n",
        "  #print(cmap.colors)\n",
        "\n",
        "  exampledata=data\n",
        "  exfeatures=exampledata.x\n",
        "  #exlabel=exampledata.y\n",
        "  examplelabels=torch.argmax(exfeatures,dim=1)\n",
        "  #print(exlabel)\n",
        "  examplegraph=to_networkx(exampledata,to_undirected=True)\n",
        "  f = plt.figure(2,figsize=(8,8))\n",
        "  ax = f.add_subplot(1,1,1)\n",
        "  for label in ColorLegend:\n",
        "      ax.plot([0],[0],color=scalarMap.to_rgba(ColorLegend[label]),label=label)\n",
        "  nx.draw_networkx(examplegraph, node_size=150,node_color=examplelabels,cmap=cmap,vmin=0,vmax=6,with_labels=False,ax=ax)\n",
        "  plt.legend(fontsize=12,loc='best')\n",
        "  plt.show()\n",
        "\n"
      ]
    },
    {
      "cell_type": "code",
      "execution_count": null,
      "id": "VZ9clDXnJvq-",
      "metadata": {
        "colab": {
          "base_uri": "https://localhost:8080/",
          "height": 1000
        },
        "id": "VZ9clDXnJvq-",
        "outputId": "f0739245-b8a5-4185-f5fa-c8c3a566f58b"
      },
      "outputs": [
        {
          "output_type": "display_data",
          "data": {
            "text/plain": [
              "<Figure size 800x800 with 1 Axes>"
            ],
            "image/png": "[encoded data removed]"
          },
          "metadata": {}
        },
        {
          "output_type": "display_data",
          "data": {
            "text/plain": [
              "<Figure size 800x800 with 1 Axes>"
            ],
            "image/png": "[encoded data removed]"
          },
          "metadata": {}
        },
        {
          "output_type": "display_data",
          "data": {
            "text/plain": [
              "<Figure size 800x800 with 1 Axes>"
            ],
            "image/png": "[encoded data removed]"
          },
          "metadata": {}
        },
        {
          "output_type": "display_data",
          "data": {
            "text/plain": [
              "<Figure size 800x800 with 1 Axes>"
            ],
            "image/png": "[encoded data removed]"
          },
          "metadata": {}
        }
      ],
      "source": [
        "for data in dataset[10:15]:\n",
        "  if(data.y==1):\n",
        "    plotmutag(data)"
      ]
    },
    {
      "cell_type": "code",
      "execution_count": null,
      "id": "148313c8",
      "metadata": {
        "colab": {
          "base_uri": "https://localhost:8080/"
        },
        "id": "148313c8",
        "outputId": "0f66aff5-49f7-487e-baa7-7d7ba5b8a744"
      },
      "outputs": [
        {
          "output_type": "stream",
          "name": "stdout",
          "text": [
            "Number of training graphs: 170\n",
            "Number of test graphs: 18\n"
          ]
        }
      ],
      "source": [
        "import random\n",
        "torch.manual_seed(12345)\n",
        "dataset.shuffle(dataset)\n",
        "\n",
        "train_dataset = dataset[:170]\n",
        "test_dataset = dataset[170:]\n",
        "\n",
        "print(f'Number of training graphs: {len(train_dataset)}')\n",
        "print(f'Number of test graphs: {len(test_dataset)}')"
      ]
    },
    {
      "cell_type": "code",
      "execution_count": null,
      "id": "d0dc926d",
      "metadata": {
        "colab": {
          "base_uri": "https://localhost:8080/"
        },
        "id": "d0dc926d",
        "outputId": "92c8c658-1ca8-48d0-df3b-20685c2cbe63"
      },
      "outputs": [
        {
          "output_type": "stream",
          "name": "stdout",
          "text": [
            "Step 1:\n",
            "=======\n",
            "Number of graphs in the current batch: 64\n",
            "DataBatch(edge_index=[2, 2590], x=[1158, 7], edge_attr=[2590, 4], y=[64], batch=[1158], ptr=[65])\n",
            "\n",
            "Step 2:\n",
            "=======\n",
            "Number of graphs in the current batch: 64\n",
            "DataBatch(edge_index=[2, 2526], x=[1149, 7], edge_attr=[2526, 4], y=[64], batch=[1149], ptr=[65])\n",
            "\n",
            "Step 3:\n",
            "=======\n",
            "Number of graphs in the current batch: 42\n",
            "DataBatch(edge_index=[2, 1610], x=[737, 7], edge_attr=[1610, 4], y=[42], batch=[737], ptr=[43])\n",
            "\n"
          ]
        }
      ],
      "source": [
        "from torch_geometric.loader import DataLoader\n",
        "\n",
        "train_loader = DataLoader(train_dataset, batch_size=64, shuffle=True)\n",
        "test_loader = DataLoader(test_dataset, batch_size=64, shuffle=False)\n",
        "\n",
        "for step, data in enumerate(train_loader):\n",
        "    print(f'Step {step + 1}:')\n",
        "    print('=======')\n",
        "    print(f'Number of graphs in the current batch: {data.num_graphs}')\n",
        "    print(data)\n",
        "    print()"
      ]
    },
    {
      "cell_type": "markdown",
      "source": [
        "# Defining the Classifier"
      ],
      "metadata": {
        "id": "M7olrC108O9a"
      },
      "id": "M7olrC108O9a"
    },
    {
      "cell_type": "code",
      "source": [
        "import torch\n",
        "from torch.nn import Linear\n",
        "import torch.nn.functional as F\n",
        "from torch_geometric.nn import GCNConv, global_mean_pool\n",
        "\n",
        "class GCNEncoder(torch.nn.Module):\n",
        "    def __init__(self, inputdim,hidden_channels):\n",
        "        super(GCNEncoder, self).__init__()\n",
        "        torch.manual_seed(12345)\n",
        "        self.conv1 = GCNConv(inputdim, hidden_channels)\n",
        "        self.conv2 = GCNConv(hidden_channels, hidden_channels)\n",
        "        self.conv3 = GCNConv(hidden_channels, hidden_channels)\n",
        "        self.bn = torch.nn.BatchNorm1d(hidden_channels)\n",
        "        self.dropout = torch.nn.Dropout(0.5)\n",
        "        self.leaky_relu = torch.nn.LeakyReLU(0.2)\n",
        "\n",
        "    def forward(self, x, edge_index, batch):\n",
        "        x = self.conv1(x, edge_index)\n",
        "        x = self.leaky_relu(x)\n",
        "        x = self.conv2(x, edge_index)\n",
        "        x = self.leaky_relu(x)\n",
        "        x = self.conv3(x, edge_index)\n",
        "\n",
        "        x = global_mean_pool(x, batch)\n",
        "        x = self.bn(x)\n",
        "        x = F.dropout(x, p=0.5, training=self.training)\n",
        "        return x\n",
        "\n",
        "class LinearClassifier(torch.nn.Module):\n",
        "    def __init__(self, input_dim, num_classes):\n",
        "        super(LinearClassifier, self).__init__()\n",
        "        self.linear = Linear(input_dim, num_classes)\n",
        "\n",
        "    def forward(self, x):\n",
        "        return self.linear(x)\n",
        "class CombinedModel(torch.nn.Module):\n",
        "    def __init__(self,inputdim, hidden_channels, num_classes):\n",
        "        super(CombinedModel, self).__init__()\n",
        "        self.encoder = GCNEncoder(inputdim,hidden_channels)\n",
        "        self.classifier = LinearClassifier(input_dim=hidden_channels, num_classes=num_classes)\n",
        "\n",
        "    def forward(self, x, edge_index, batch):\n",
        "        # Get the embeddings from the encoder\n",
        "        embeddings = self.encoder(x, edge_index, batch)\n",
        "\n",
        "        # Get the logits from the classifier\n",
        "        logits = self.classifier(embeddings)\n",
        "\n",
        "        return embeddings, logits\n",
        "num_features=7\n",
        "inputdim=num_features\n",
        "model=CombinedModel(inputdim, hidden_channels=64,num_classes=2)\n"
      ],
      "metadata": {
        "id": "Ap3fspvH93at"
      },
      "id": "Ap3fspvH93at",
      "execution_count": null,
      "outputs": []
    },
    {
      "cell_type": "markdown",
      "source": [
        "# Training Loop of The Classifier"
      ],
      "metadata": {
        "id": "w32RSHnF8Sjk"
      },
      "id": "w32RSHnF8Sjk"
    },
    {
      "cell_type": "code",
      "execution_count": null,
      "id": "xQ3Vf634cVfa",
      "metadata": {
        "colab": {
          "base_uri": "https://localhost:8080/"
        },
        "id": "xQ3Vf634cVfa",
        "outputId": "ddc0327a-d6f0-436c-a428-74ba662a9326"
      },
      "outputs": [
        {
          "output_type": "stream",
          "name": "stdout",
          "text": [
            "Epoch 1/1600, Learning Rate: 0.0099, Loss: 0.583014726638794\n",
            "Epoch 2/1600, Learning Rate: 0.009801, Loss: 0.5798236131668091\n",
            "Epoch 3/1600, Learning Rate: 0.00970299, Loss: 0.719351589679718\n",
            "Epoch 4/1600, Learning Rate: 0.0096059601, Loss: 0.5479778051376343\n",
            "Epoch 5/1600, Learning Rate: 0.009509900499, Loss: 0.5307698845863342\n",
            "Epoch 6/1600, Learning Rate: 0.00941480149401, Loss: 0.3929470181465149\n",
            "Epoch 7/1600, Learning Rate: 0.0093206534790699, Loss: 0.5779145956039429\n",
            "Epoch 8/1600, Learning Rate: 0.0092274469442792, Loss: 0.4330286383628845\n",
            "Epoch 9/1600, Learning Rate: 0.009135172474836408, Loss: 0.6181802749633789\n",
            "Epoch 10/1600, Learning Rate: 0.009043820750088045, Loss: 0.48614466190338135\n",
            "Epoch 11/1600, Learning Rate: 0.008953382542587164, Loss: 0.59590083360672\n",
            "Epoch 12/1600, Learning Rate: 0.008863848717161293, Loss: 0.5017475485801697\n",
            "Epoch 13/1600, Learning Rate: 0.00877521022998968, Loss: 0.6028885841369629\n",
            "Epoch 14/1600, Learning Rate: 0.008687458127689783, Loss: 0.3868853747844696\n",
            "Epoch 15/1600, Learning Rate: 0.008600583546412886, Loss: 0.5131303668022156\n",
            "Epoch 16/1600, Learning Rate: 0.008514577710948757, Loss: 0.45122554898262024\n",
            "Epoch 17/1600, Learning Rate: 0.00842943193383927, Loss: 0.41205310821533203\n",
            "Epoch 18/1600, Learning Rate: 0.008345137614500876, Loss: 0.4307272434234619\n",
            "Epoch 19/1600, Learning Rate: 0.008261686238355867, Loss: 0.5217834711074829\n",
            "Epoch 20/1600, Learning Rate: 0.008179069375972308, Loss: 0.37394979596138\n",
            "Epoch 21/1600, Learning Rate: 0.008097278682212584, Loss: 0.5582610368728638\n",
            "Epoch 22/1600, Learning Rate: 0.00801630589539046, Loss: 0.5630114674568176\n",
            "Epoch 23/1600, Learning Rate: 0.007936142836436554, Loss: 0.534005880355835\n",
            "Epoch 24/1600, Learning Rate: 0.007856781408072189, Loss: 0.41078299283981323\n",
            "Epoch 25/1600, Learning Rate: 0.007778213593991467, Loss: 0.4369984269142151\n",
            "Epoch 26/1600, Learning Rate: 0.007700431458051552, Loss: 0.5538792610168457\n",
            "Epoch 27/1600, Learning Rate: 0.007623427143471037, Loss: 0.3768303394317627\n",
            "Epoch 28/1600, Learning Rate: 0.007547192872036326, Loss: 0.512509822845459\n",
            "Epoch 29/1600, Learning Rate: 0.007471720943315963, Loss: 0.6154823899269104\n",
            "Epoch 30/1600, Learning Rate: 0.007397003733882804, Loss: 0.558799147605896\n",
            "Epoch 31/1600, Learning Rate: 0.007323033696543976, Loss: 0.4062824249267578\n",
            "Epoch 32/1600, Learning Rate: 0.007249803359578536, Loss: 0.43391141295433044\n",
            "Epoch 33/1600, Learning Rate: 0.0071773053259827505, Loss: 0.41027864813804626\n",
            "Epoch 34/1600, Learning Rate: 0.007105532272722923, Loss: 0.49071335792541504\n",
            "Epoch 35/1600, Learning Rate: 0.007034476949995694, Loss: 0.46886876225471497\n",
            "Epoch 36/1600, Learning Rate: 0.006964132180495737, Loss: 0.4908708930015564\n",
            "Epoch 37/1600, Learning Rate: 0.00689449085869078, Loss: 0.42541033029556274\n",
            "Epoch 38/1600, Learning Rate: 0.006825545950103872, Loss: 0.40070661902427673\n",
            "Epoch 39/1600, Learning Rate: 0.0067572904906028335, Loss: 0.48428648710250854\n",
            "Epoch 40/1600, Learning Rate: 0.006689717585696805, Loss: 0.5856480598449707\n",
            "Epoch 41/1600, Learning Rate: 0.006622820409839836, Loss: 0.5818991661071777\n",
            "Epoch 42/1600, Learning Rate: 0.006556592205741438, Loss: 0.42123475670814514\n",
            "Epoch 43/1600, Learning Rate: 0.006491026283684023, Loss: 0.42654329538345337\n",
            "Epoch 44/1600, Learning Rate: 0.006426116020847182, Loss: 0.4750346541404724\n",
            "Epoch 45/1600, Learning Rate: 0.006361854860638711, Loss: 0.3650000989437103\n",
            "Epoch 46/1600, Learning Rate: 0.006298236312032323, Loss: 0.5667306184768677\n",
            "Epoch 47/1600, Learning Rate: 0.006235253948912, Loss: 0.642427921295166\n",
            "Epoch 48/1600, Learning Rate: 0.00617290140942288, Loss: 0.4635971188545227\n",
            "Epoch 49/1600, Learning Rate: 0.006111172395328651, Loss: 0.5484318733215332\n",
            "Epoch 50/1600, Learning Rate: 0.0060500606713753645, Loss: 0.5074211955070496\n",
            "Epoch 51/1600, Learning Rate: 0.005989560064661611, Loss: 0.5836935043334961\n",
            "Epoch 52/1600, Learning Rate: 0.005929664464014994, Loss: 0.38985520601272583\n",
            "Epoch 53/1600, Learning Rate: 0.0058703678193748445, Loss: 0.6468014717102051\n",
            "Epoch 54/1600, Learning Rate: 0.005811664141181096, Loss: 0.45718494057655334\n",
            "Epoch 55/1600, Learning Rate: 0.0057535474997692845, Loss: 0.5979514122009277\n",
            "Epoch 56/1600, Learning Rate: 0.005696012024771591, Loss: 0.49379411339759827\n",
            "Epoch 57/1600, Learning Rate: 0.005639051904523875, Loss: 0.42965221405029297\n",
            "Epoch 58/1600, Learning Rate: 0.005582661385478636, Loss: 0.5189543962478638\n",
            "Epoch 59/1600, Learning Rate: 0.0055268347716238495, Loss: 0.49721068143844604\n",
            "Epoch 60/1600, Learning Rate: 0.005471566423907611, Loss: 0.5998721122741699\n",
            "Epoch 61/1600, Learning Rate: 0.005416850759668535, Loss: 0.5630564093589783\n",
            "Epoch 62/1600, Learning Rate: 0.005362682252071849, Loss: 0.4610418975353241\n",
            "Epoch 63/1600, Learning Rate: 0.005309055429551131, Loss: 0.5173953771591187\n",
            "Epoch 64/1600, Learning Rate: 0.00525596487525562, Loss: 0.46427544951438904\n",
            "Epoch 65/1600, Learning Rate: 0.005203405226503063, Loss: 0.54256671667099\n",
            "Epoch 66/1600, Learning Rate: 0.005151371174238033, Loss: 0.7089701294898987\n",
            "Epoch 67/1600, Learning Rate: 0.005099857462495652, Loss: 0.45590826869010925\n",
            "Epoch 68/1600, Learning Rate: 0.005048858887870696, Loss: 0.4196045696735382\n",
            "Epoch 69/1600, Learning Rate: 0.004998370298991989, Loss: 0.3592401146888733\n",
            "Epoch 70/1600, Learning Rate: 0.00494838659600207, Loss: 0.4433957636356354\n",
            "Epoch 71/1600, Learning Rate: 0.004898902730042049, Loss: 0.4464147090911865\n",
            "Epoch 72/1600, Learning Rate: 0.004849913702741628, Loss: 0.4345189034938812\n",
            "Epoch 73/1600, Learning Rate: 0.004801414565714212, Loss: 0.4748552441596985\n",
            "Epoch 74/1600, Learning Rate: 0.0047534004200570695, Loss: 0.3237205445766449\n",
            "Epoch 75/1600, Learning Rate: 0.004705866415856499, Loss: 0.4424220621585846\n",
            "Epoch 76/1600, Learning Rate: 0.004658807751697934, Loss: 0.4435808062553406\n",
            "Epoch 77/1600, Learning Rate: 0.004612219674180955, Loss: 0.5818414092063904\n",
            "Epoch 78/1600, Learning Rate: 0.004566097477439145, Loss: 0.33478888869285583\n",
            "Epoch 79/1600, Learning Rate: 0.004520436502664754, Loss: 0.5151575803756714\n",
            "Epoch 80/1600, Learning Rate: 0.004475232137638106, Loss: 0.4563226103782654\n",
            "Epoch 81/1600, Learning Rate: 0.004430479816261725, Loss: 0.6747922897338867\n",
            "Epoch 82/1600, Learning Rate: 0.004386175018099108, Loss: 0.4755716323852539\n",
            "Epoch 83/1600, Learning Rate: 0.004342313267918117, Loss: 0.4145270884037018\n",
            "Epoch 84/1600, Learning Rate: 0.004298890135238936, Loss: 0.43529459834098816\n",
            "Epoch 85/1600, Learning Rate: 0.004255901233886547, Loss: 0.44082382321357727\n",
            "Epoch 86/1600, Learning Rate: 0.004213342221547681, Loss: 0.45784032344818115\n",
            "Epoch 87/1600, Learning Rate: 0.004171208799332205, Loss: 0.38540467619895935\n",
            "Epoch 88/1600, Learning Rate: 0.004129496711338883, Loss: 0.5429953932762146\n",
            "Epoch 89/1600, Learning Rate: 0.004088201744225493, Loss: 0.4388129711151123\n",
            "Epoch 90/1600, Learning Rate: 0.004047319726783238, Loss: 0.41615962982177734\n",
            "Epoch 91/1600, Learning Rate: 0.004006846529515406, Loss: 0.37276244163513184\n",
            "Epoch 92/1600, Learning Rate: 0.003966778064220252, Loss: 0.5039496421813965\n",
            "Epoch 93/1600, Learning Rate: 0.003927110283578049, Loss: 0.616866409778595\n",
            "Epoch 94/1600, Learning Rate: 0.0038878391807422685, Loss: 0.5075680017471313\n",
            "Epoch 95/1600, Learning Rate: 0.0038489607889348456, Loss: 0.5176824927330017\n",
            "Epoch 96/1600, Learning Rate: 0.0038104711810454973, Loss: 0.521949827671051\n",
            "Epoch 97/1600, Learning Rate: 0.0037723664692350424, Loss: 0.6064168214797974\n",
            "Epoch 98/1600, Learning Rate: 0.003734642804542692, Loss: 0.46018022298812866\n",
            "Epoch 99/1600, Learning Rate: 0.003697296376497265, Loss: 0.37582889199256897\n",
            "Epoch 100/1600, Learning Rate: 0.0036603234127322924, Loss: 0.6191831827163696\n",
            "Epoch 101/1600, Learning Rate: 0.0036237201786049693, Loss: 0.48941072821617126\n",
            "Epoch 102/1600, Learning Rate: 0.0035874829768189195, Loss: 0.41552484035491943\n",
            "Epoch 103/1600, Learning Rate: 0.0035516081470507305, Loss: 0.35992902517318726\n",
            "Epoch 104/1600, Learning Rate: 0.0035160920655802233, Loss: 0.34795406460762024\n",
            "Epoch 105/1600, Learning Rate: 0.003480931144924421, Loss: 0.5190370082855225\n",
            "Epoch 106/1600, Learning Rate: 0.003446121833475177, Loss: 0.36754485964775085\n",
            "Epoch 107/1600, Learning Rate: 0.003411660615140425, Loss: 0.5337109565734863\n",
            "Epoch 108/1600, Learning Rate: 0.003377544008989021, Loss: 0.4369734227657318\n",
            "Epoch 109/1600, Learning Rate: 0.003343768568899131, Loss: 0.40761280059814453\n",
            "Epoch 110/1600, Learning Rate: 0.00331033088321014, Loss: 0.3916517496109009\n",
            "Epoch 111/1600, Learning Rate: 0.0032772275743780384, Loss: 0.6443383693695068\n",
            "Epoch 112/1600, Learning Rate: 0.0032444552986342578, Loss: 0.5212736129760742\n",
            "Epoch 113/1600, Learning Rate: 0.0032120107456479153, Loss: 0.5984153747558594\n",
            "Epoch 114/1600, Learning Rate: 0.003179890638191436, Loss: 0.47679850459098816\n",
            "Epoch 115/1600, Learning Rate: 0.003148091731809522, Loss: 0.5832089185714722\n",
            "Epoch 116/1600, Learning Rate: 0.0031166108144914267, Loss: 0.3662763833999634\n",
            "Epoch 117/1600, Learning Rate: 0.0030854447063465122, Loss: 0.48559147119522095\n",
            "Epoch 118/1600, Learning Rate: 0.003054590259283047, Loss: 0.5531912446022034\n",
            "Epoch 119/1600, Learning Rate: 0.0030240443566902165, Loss: 0.6121202111244202\n",
            "Epoch 120/1600, Learning Rate: 0.002993803913123314, Loss: 0.40037745237350464\n",
            "Epoch 121/1600, Learning Rate: 0.002963865873992081, Loss: 0.523679256439209\n",
            "Epoch 122/1600, Learning Rate: 0.00293422721525216, Loss: 0.4592602252960205\n",
            "Epoch 123/1600, Learning Rate: 0.0029048849430996383, Loss: 0.5814202427864075\n",
            "Epoch 124/1600, Learning Rate: 0.002875836093668642, Loss: 0.45170384645462036\n",
            "Epoch 125/1600, Learning Rate: 0.0028470777327319553, Loss: 0.48019900918006897\n",
            "Epoch 126/1600, Learning Rate: 0.0028186069554046356, Loss: 0.36970746517181396\n",
            "Epoch 127/1600, Learning Rate: 0.002790420885850589, Loss: 0.3399820923805237\n",
            "Epoch 128/1600, Learning Rate: 0.002762516676992083, Loss: 0.39461690187454224\n",
            "Epoch 129/1600, Learning Rate: 0.0027348915102221624, Loss: 0.5860480070114136\n",
            "Epoch 130/1600, Learning Rate: 0.0027075425951199406, Loss: 0.5485756397247314\n",
            "Epoch 131/1600, Learning Rate: 0.0026804671691687413, Loss: 0.376361221075058\n",
            "Epoch 132/1600, Learning Rate: 0.0026536624974770537, Loss: 0.48109591007232666\n",
            "Epoch 133/1600, Learning Rate: 0.002627125872502283, Loss: 0.6009202003479004\n",
            "Epoch 134/1600, Learning Rate: 0.0026008546137772605, Loss: 0.39117351174354553\n",
            "Epoch 135/1600, Learning Rate: 0.0025748460676394878, Loss: 0.4692959487438202\n",
            "Epoch 136/1600, Learning Rate: 0.002549097606963093, Loss: 0.43582892417907715\n",
            "Epoch 137/1600, Learning Rate: 0.002523606630893462, Loss: 0.5570020079612732\n",
            "Epoch 138/1600, Learning Rate: 0.0024983705645845273, Loss: 0.3686724305152893\n",
            "Epoch 139/1600, Learning Rate: 0.002473386858938682, Loss: 0.3295106887817383\n",
            "Epoch 140/1600, Learning Rate: 0.002448652990349295, Loss: 0.5857212543487549\n",
            "Epoch 141/1600, Learning Rate: 0.0024241664604458023, Loss: 0.5495346188545227\n",
            "Epoch 142/1600, Learning Rate: 0.002399924795841344, Loss: 0.3192732036113739\n",
            "Epoch 143/1600, Learning Rate: 0.0023759255478829305, Loss: 0.3883621096611023\n",
            "Epoch 144/1600, Learning Rate: 0.002352166292404101, Loss: 0.26455357670783997\n",
            "Epoch 145/1600, Learning Rate: 0.00232864462948006, Loss: 0.5600647926330566\n",
            "Epoch 146/1600, Learning Rate: 0.0023053581831852595, Loss: 0.4933205246925354\n",
            "Epoch 147/1600, Learning Rate: 0.002282304601353407, Loss: 0.4234357178211212\n",
            "Epoch 148/1600, Learning Rate: 0.002259481555339873, Loss: 0.2691238522529602\n",
            "Epoch 149/1600, Learning Rate: 0.0022368867397864743, Loss: 0.36913585662841797\n",
            "Epoch 150/1600, Learning Rate: 0.0022145178723886093, Loss: 0.4961239993572235\n",
            "Epoch 151/1600, Learning Rate: 0.002192372693664723, Loss: 0.38987940549850464\n",
            "Epoch 152/1600, Learning Rate: 0.002170448966728076, Loss: 0.49477189779281616\n",
            "Epoch 153/1600, Learning Rate: 0.002148744477060795, Loss: 0.3971163034439087\n",
            "Epoch 154/1600, Learning Rate: 0.002127257032290187, Loss: 0.3530585467815399\n",
            "Epoch 155/1600, Learning Rate: 0.002105984461967285, Loss: 0.4198129177093506\n",
            "Epoch 156/1600, Learning Rate: 0.0020849246173476124, Loss: 0.3110053241252899\n",
            "Epoch 157/1600, Learning Rate: 0.0020640753711741364, Loss: 0.46428734064102173\n",
            "Epoch 158/1600, Learning Rate: 0.0020434346174623952, Loss: 0.41245755553245544\n",
            "Epoch 159/1600, Learning Rate: 0.0020230002712877714, Loss: 0.44043126702308655\n",
            "Epoch 160/1600, Learning Rate: 0.0020027702685748937, Loss: 0.4445880353450775\n",
            "Epoch 161/1600, Learning Rate: 0.0019827425658891446, Loss: 0.36638227105140686\n",
            "Epoch 162/1600, Learning Rate: 0.001962915140230253, Loss: 0.4030236303806305\n",
            "Epoch 163/1600, Learning Rate: 0.0019432859888279506, Loss: 0.4647640585899353\n",
            "Epoch 164/1600, Learning Rate: 0.0019238531289396711, Loss: 0.2852799594402313\n",
            "Epoch 165/1600, Learning Rate: 0.0019046145976502743, Loss: 0.43431591987609863\n",
            "Epoch 166/1600, Learning Rate: 0.0018855684516737715, Loss: 0.6423081755638123\n",
            "Epoch 167/1600, Learning Rate: 0.0018667127671570338, Loss: 0.44867610931396484\n",
            "Epoch 168/1600, Learning Rate: 0.0018480456394854635, Loss: 0.5013502240180969\n",
            "Epoch 169/1600, Learning Rate: 0.0018295651830906089, Loss: 0.41826334595680237\n",
            "Epoch 170/1600, Learning Rate: 0.0018112695312597028, Loss: 0.44465336203575134\n",
            "Epoch 171/1600, Learning Rate: 0.0017931568359471058, Loss: 0.4407307207584381\n",
            "Epoch 172/1600, Learning Rate: 0.0017752252675876346, Loss: 0.5853726863861084\n",
            "Epoch 173/1600, Learning Rate: 0.0017574730149117583, Loss: 0.4714154601097107\n",
            "Epoch 174/1600, Learning Rate: 0.0017398982847626407, Loss: 0.504056453704834\n",
            "Epoch 175/1600, Learning Rate: 0.0017224993019150142, Loss: 0.46355870366096497\n",
            "Epoch 176/1600, Learning Rate: 0.001705274308895864, Loss: 0.4338362216949463\n",
            "Epoch 177/1600, Learning Rate: 0.0016882215658069054, Loss: 0.5257124900817871\n",
            "Epoch 178/1600, Learning Rate: 0.0016713393501488363, Loss: 0.5935779809951782\n",
            "Epoch 179/1600, Learning Rate: 0.001654625956647348, Loss: 0.3900103271007538\n",
            "Epoch 180/1600, Learning Rate: 0.0016380796970808745, Loss: 0.5640468597412109\n",
            "Epoch 181/1600, Learning Rate: 0.0016216989001100659, Loss: 0.5297858715057373\n",
            "Epoch 182/1600, Learning Rate: 0.0016054819111089651, Loss: 0.4630729556083679\n",
            "Epoch 183/1600, Learning Rate: 0.0015894270919978755, Loss: 0.37841248512268066\n",
            "Epoch 184/1600, Learning Rate: 0.0015735328210778967, Loss: 0.32854795455932617\n",
            "Epoch 185/1600, Learning Rate: 0.0015577974928671179, Loss: 0.4170212149620056\n",
            "Epoch 186/1600, Learning Rate: 0.0015422195179384467, Loss: 0.30300816893577576\n",
            "Epoch 187/1600, Learning Rate: 0.0015267973227590622, Loss: 0.3858199417591095\n",
            "Epoch 188/1600, Learning Rate: 0.0015115293495314716, Loss: 0.44379615783691406\n",
            "Epoch 189/1600, Learning Rate: 0.001496414056036157, Loss: 0.5111773610115051\n",
            "Epoch 190/1600, Learning Rate: 0.0014814499154757953, Loss: 0.4215894937515259\n",
            "Epoch 191/1600, Learning Rate: 0.0014666354163210373, Loss: 0.2805553376674652\n",
            "Epoch 192/1600, Learning Rate: 0.0014519690621578268, Loss: 0.5579529404640198\n",
            "Epoch 193/1600, Learning Rate: 0.0014374493715362485, Loss: 0.4503993093967438\n",
            "Epoch 194/1600, Learning Rate: 0.001423074877820886, Loss: 0.3813402056694031\n",
            "Epoch 195/1600, Learning Rate: 0.0014088441290426772, Loss: 0.46247750520706177\n",
            "Epoch 196/1600, Learning Rate: 0.0013947556877522505, Loss: 0.2901747226715088\n",
            "Epoch 197/1600, Learning Rate: 0.001380808130874728, Loss: 0.3491641581058502\n",
            "Epoch 198/1600, Learning Rate: 0.0013670000495659808, Loss: 0.5507378578186035\n",
            "Epoch 199/1600, Learning Rate: 0.001353330049070321, Loss: 0.5724709033966064\n",
            "Epoch 200/1600, Learning Rate: 0.0013397967485796176, Loss: 0.3780180513858795\n",
            "Epoch 201/1600, Learning Rate: 0.0013263987810938215, Loss: 0.31851115822792053\n",
            "Epoch 202/1600, Learning Rate: 0.0013131347932828833, Loss: 0.26931679248809814\n",
            "Epoch 203/1600, Learning Rate: 0.0013000034453500545, Loss: 0.36647868156433105\n",
            "Epoch 204/1600, Learning Rate: 0.0012870034108965539, Loss: 0.3183947205543518\n",
            "Epoch 205/1600, Learning Rate: 0.0012741333767875883, Loss: 0.4029202163219452\n",
            "Epoch 206/1600, Learning Rate: 0.0012613920430197124, Loss: 0.43531328439712524\n",
            "Epoch 207/1600, Learning Rate: 0.0012487781225895152, Loss: 0.44863161444664\n",
            "Epoch 208/1600, Learning Rate: 0.00123629034136362, Loss: 0.4093131124973297\n",
            "Epoch 209/1600, Learning Rate: 0.0012239274379499839, Loss: 0.29798227548599243\n",
            "Epoch 210/1600, Learning Rate: 0.001211688163570484, Loss: 0.37345537543296814\n",
            "Epoch 211/1600, Learning Rate: 0.001199571281934779, Loss: 0.3925743103027344\n",
            "Epoch 212/1600, Learning Rate: 0.0011875755691154314, Loss: 0.5394584536552429\n",
            "Epoch 213/1600, Learning Rate: 0.001175699813424277, Loss: 0.4360674023628235\n",
            "Epoch 214/1600, Learning Rate: 0.0011639428152900343, Loss: 0.5352029800415039\n",
            "Epoch 215/1600, Learning Rate: 0.001152303387137134, Loss: 0.2783854305744171\n",
            "Epoch 216/1600, Learning Rate: 0.0011407803532657627, Loss: 0.4825069308280945\n",
            "Epoch 217/1600, Learning Rate: 0.001129372549733105, Loss: 0.3300130069255829\n",
            "Epoch 218/1600, Learning Rate: 0.0011180788242357738, Loss: 0.34617477655410767\n",
            "Epoch 219/1600, Learning Rate: 0.001106898035993416, Loss: 0.5543473362922668\n",
            "Epoch 220/1600, Learning Rate: 0.0010958290556334817, Loss: 0.3999675214290619\n",
            "Epoch 221/1600, Learning Rate: 0.001084870765077147, Loss: 0.3703140318393707\n",
            "Epoch 222/1600, Learning Rate: 0.0010740220574263755, Loss: 0.2917201817035675\n",
            "Epoch 223/1600, Learning Rate: 0.0010632818368521118, Loss: 0.35534563660621643\n",
            "Epoch 224/1600, Learning Rate: 0.0010526490184835906, Loss: 0.45297518372535706\n",
            "Epoch 225/1600, Learning Rate: 0.0010421225282987547, Loss: 0.4538233280181885\n",
            "Epoch 226/1600, Learning Rate: 0.001031701303015767, Loss: 0.4527946710586548\n",
            "Epoch 227/1600, Learning Rate: 0.0010213842899856095, Loss: 0.3005419373512268\n",
            "Epoch 228/1600, Learning Rate: 0.0010111704470857534, Loss: 0.36009448766708374\n",
            "Epoch 229/1600, Learning Rate: 0.001001058742614896, Loss: 0.4511464536190033\n",
            "Epoch 230/1600, Learning Rate: 0.000991048155188747, Loss: 0.3265623450279236\n",
            "Epoch 231/1600, Learning Rate: 0.0009811376736368596, Loss: 0.35819247364997864\n",
            "Epoch 232/1600, Learning Rate: 0.000971326296900491, Loss: 0.3161071240901947\n",
            "Epoch 233/1600, Learning Rate: 0.000961613033931486, Loss: 0.5757344365119934\n",
            "Epoch 234/1600, Learning Rate: 0.0009519969035921711, Loss: 0.34106940031051636\n",
            "Epoch 235/1600, Learning Rate: 0.0009424769345562494, Loss: 0.37369877099990845\n",
            "Epoch 236/1600, Learning Rate: 0.0009330521652106869, Loss: 0.4061901569366455\n",
            "Epoch 237/1600, Learning Rate: 0.00092372164355858, Loss: 0.37311530113220215\n",
            "Epoch 238/1600, Learning Rate: 0.0009144844271229942, Loss: 0.35523056983947754\n",
            "Epoch 239/1600, Learning Rate: 0.0009053395828517643, Loss: 0.3789302408695221\n",
            "Epoch 240/1600, Learning Rate: 0.0008962861870232467, Loss: 0.4702439606189728\n",
            "Epoch 241/1600, Learning Rate: 0.0008873233251530142, Loss: 0.33042141795158386\n",
            "Epoch 242/1600, Learning Rate: 0.0008784500919014841, Loss: 0.4206438660621643\n",
            "Epoch 243/1600, Learning Rate: 0.0008696655909824692, Loss: 0.3543379306793213\n",
            "Epoch 244/1600, Learning Rate: 0.0008609689350726445, Loss: 0.3490610718727112\n",
            "Epoch 245/1600, Learning Rate: 0.000852359245721918, Loss: 0.3955651819705963\n",
            "Epoch 246/1600, Learning Rate: 0.0008438356532646988, Loss: 0.5294557809829712\n",
            "Epoch 247/1600, Learning Rate: 0.0008353972967320518, Loss: 0.45900988578796387\n",
            "Epoch 248/1600, Learning Rate: 0.0008270433237647312, Loss: 0.41174593567848206\n",
            "Epoch 249/1600, Learning Rate: 0.0008187728905270839, Loss: 0.2714322507381439\n",
            "Epoch 250/1600, Learning Rate: 0.000810585161621813, Loss: 0.38389915227890015\n",
            "Epoch 251/1600, Learning Rate: 0.0008024793100055949, Loss: 0.44440555572509766\n",
            "Epoch 252/1600, Learning Rate: 0.000794454516905539, Loss: 0.3276028335094452\n",
            "Epoch 253/1600, Learning Rate: 0.0007865099717364836, Loss: 0.40465205907821655\n",
            "Epoch 254/1600, Learning Rate: 0.0007786448720191188, Loss: 0.34421753883361816\n",
            "Epoch 255/1600, Learning Rate: 0.0007708584232989276, Loss: 0.3110926151275635\n",
            "Epoch 256/1600, Learning Rate: 0.0007631498390659383, Loss: 0.42868685722351074\n",
            "Epoch 257/1600, Learning Rate: 0.000755518340675279, Loss: 0.4545564651489258\n",
            "Epoch 258/1600, Learning Rate: 0.0007479631572685261, Loss: 0.36281460523605347\n",
            "Epoch 259/1600, Learning Rate: 0.0007404835256958409, Loss: 0.3570479154586792\n",
            "Epoch 260/1600, Learning Rate: 0.0007330786904388825, Loss: 0.5268935561180115\n",
            "Epoch 261/1600, Learning Rate: 0.0007257479035344936, Loss: 0.3690605163574219\n",
            "Epoch 262/1600, Learning Rate: 0.0007184904244991487, Loss: 0.40123534202575684\n",
            "Epoch 263/1600, Learning Rate: 0.0007113055202541572, Loss: 0.27050989866256714\n",
            "Epoch 264/1600, Learning Rate: 0.0007041924650516157, Loss: 0.4086626470088959\n",
            "Epoch 265/1600, Learning Rate: 0.0006971505404010995, Loss: 0.32569384574890137\n",
            "Epoch 266/1600, Learning Rate: 0.0006901790349970885, Loss: 0.28544241189956665\n",
            "Epoch 267/1600, Learning Rate: 0.0006832772446471176, Loss: 0.38649117946624756\n",
            "Epoch 268/1600, Learning Rate: 0.0006764444722006464, Loss: 0.3170776665210724\n",
            "Epoch 269/1600, Learning Rate: 0.00066968002747864, Loss: 0.3277938663959503\n",
            "Epoch 270/1600, Learning Rate: 0.0006629832272038536, Loss: 0.37861523032188416\n",
            "Epoch 271/1600, Learning Rate: 0.000656353394931815, Loss: 0.44334274530410767\n",
            "Epoch 272/1600, Learning Rate: 0.0006497898609824969, Loss: 0.35797587037086487\n",
            "Epoch 273/1600, Learning Rate: 0.0006432919623726719, Loss: 0.4614008963108063\n",
            "Epoch 274/1600, Learning Rate: 0.0006368590427489453, Loss: 0.431630402803421\n",
            "Epoch 275/1600, Learning Rate: 0.0006304904523214558, Loss: 0.3589150011539459\n",
            "Epoch 276/1600, Learning Rate: 0.0006241855477982413, Loss: 0.40029484033584595\n",
            "Epoch 277/1600, Learning Rate: 0.0006179436923202589, Loss: 0.2922559678554535\n",
            "Epoch 278/1600, Learning Rate: 0.0006117642553970563, Loss: 0.3009825348854065\n",
            "Epoch 279/1600, Learning Rate: 0.0006056466128430857, Loss: 0.45207446813583374\n",
            "Epoch 280/1600, Learning Rate: 0.0005995901467146549, Loss: 0.39143937826156616\n",
            "Epoch 281/1600, Learning Rate: 0.0005935942452475083, Loss: 0.4214494824409485\n",
            "Epoch 282/1600, Learning Rate: 0.0005876583027950332, Loss: 0.4171850085258484\n",
            "Epoch 283/1600, Learning Rate: 0.0005817817197670828, Loss: 0.4333992004394531\n",
            "Epoch 284/1600, Learning Rate: 0.000575963902569412, Loss: 0.4427248537540436\n",
            "Epoch 285/1600, Learning Rate: 0.0005702042635437178, Loss: 0.29554179310798645\n",
            "Epoch 286/1600, Learning Rate: 0.0005645022209082806, Loss: 0.50693678855896\n",
            "Epoch 287/1600, Learning Rate: 0.0005588571986991978, Loss: 0.4154333472251892\n",
            "Epoch 288/1600, Learning Rate: 0.0005532686267122058, Loss: 0.24858996272087097\n",
            "Epoch 289/1600, Learning Rate: 0.0005477359404450837, Loss: 0.394301176071167\n",
            "Epoch 290/1600, Learning Rate: 0.0005422585810406329, Loss: 0.42090994119644165\n",
            "Epoch 291/1600, Learning Rate: 0.0005368359952302266, Loss: 0.5136573910713196\n",
            "Epoch 292/1600, Learning Rate: 0.0005314676352779243, Loss: 0.4211873412132263\n",
            "Epoch 293/1600, Learning Rate: 0.0005261529589251451, Loss: 0.4190821051597595\n",
            "Epoch 294/1600, Learning Rate: 0.0005208914293358937, Loss: 0.4025518000125885\n",
            "Epoch 295/1600, Learning Rate: 0.0005156825150425347, Loss: 0.40867000818252563\n",
            "Epoch 296/1600, Learning Rate: 0.0005105256898921093, Loss: 0.4141440987586975\n",
            "Epoch 297/1600, Learning Rate: 0.0005054204329931882, Loss: 0.31640222668647766\n",
            "Epoch 298/1600, Learning Rate: 0.0005003662286632563, Loss: 0.39658400416374207\n",
            "Epoch 299/1600, Learning Rate: 0.0004953625663766237, Loss: 0.3114928603172302\n",
            "Epoch 300/1600, Learning Rate: 0.0004904089407128574, Loss: 0.35759732127189636\n",
            "Epoch 301/1600, Learning Rate: 0.00048550485130572886, Loss: 0.34263816475868225\n",
            "Epoch 302/1600, Learning Rate: 0.00048064980279267157, Loss: 0.31537529826164246\n",
            "Epoch 303/1600, Learning Rate: 0.00047584330476474484, Loss: 0.2816583514213562\n",
            "Epoch 304/1600, Learning Rate: 0.0004710848717170974, Loss: 0.38453012704849243\n",
            "Epoch 305/1600, Learning Rate: 0.00046637402299992643, Loss: 0.3531869649887085\n",
            "Epoch 306/1600, Learning Rate: 0.00046171028276992715, Loss: 0.41953882575035095\n",
            "Epoch 307/1600, Learning Rate: 0.0004570931799422279, Loss: 0.3706919848918915\n",
            "Epoch 308/1600, Learning Rate: 0.0004525222481428056, Loss: 0.4407409131526947\n",
            "Epoch 309/1600, Learning Rate: 0.00044799702566137754, Loss: 0.2583637833595276\n",
            "Epoch 310/1600, Learning Rate: 0.0004435170554047638, Loss: 0.3349638879299164\n",
            "Epoch 311/1600, Learning Rate: 0.00043908188485071616, Loss: 0.2213791161775589\n",
            "Epoch 312/1600, Learning Rate: 0.000434691066002209, Loss: 0.40835586190223694\n",
            "Epoch 313/1600, Learning Rate: 0.0004303441553421869, Loss: 0.21897824108600616\n",
            "Epoch 314/1600, Learning Rate: 0.00042604071378876505, Loss: 0.33862805366516113\n",
            "Epoch 315/1600, Learning Rate: 0.0004217803066508774, Loss: 0.41624200344085693\n",
            "Epoch 316/1600, Learning Rate: 0.0004175625035843686, Loss: 0.41829749941825867\n",
            "Epoch 317/1600, Learning Rate: 0.0004133868785485249, Loss: 0.3864940106868744\n",
            "Epoch 318/1600, Learning Rate: 0.00040925300976303965, Loss: 0.32150042057037354\n",
            "Epoch 319/1600, Learning Rate: 0.00040516047966540923, Loss: 0.46642130613327026\n",
            "Epoch 320/1600, Learning Rate: 0.00040110887486875514, Loss: 0.42223912477493286\n",
            "Epoch 321/1600, Learning Rate: 0.0003970977861200676, Loss: 0.45024022459983826\n",
            "Epoch 322/1600, Learning Rate: 0.00039312680825886694, Loss: 0.35520094633102417\n",
            "Epoch 323/1600, Learning Rate: 0.0003891955401762783, Loss: 0.40462860465049744\n",
            "Epoch 324/1600, Learning Rate: 0.00038530358477451547, Loss: 0.30067119002342224\n",
            "Epoch 325/1600, Learning Rate: 0.00038145054892677033, Loss: 0.20952580869197845\n",
            "Epoch 326/1600, Learning Rate: 0.0003776360434375026, Loss: 0.36985424160957336\n",
            "Epoch 327/1600, Learning Rate: 0.00037385968300312757, Loss: 0.2423568069934845\n",
            "Epoch 328/1600, Learning Rate: 0.0003701210861730963, Loss: 0.5264580249786377\n",
            "Epoch 329/1600, Learning Rate: 0.0003664198753113653, Loss: 0.46292203664779663\n",
            "Epoch 330/1600, Learning Rate: 0.0003627556765582517, Loss: 0.4252735674381256\n",
            "Epoch 331/1600, Learning Rate: 0.0003591281197926692, Loss: 0.3271963894367218\n",
            "Epoch 332/1600, Learning Rate: 0.00035553683859474247, Loss: 0.36012980341911316\n",
            "Epoch 333/1600, Learning Rate: 0.00035198147020879504, Loss: 0.42520222067832947\n",
            "Epoch 334/1600, Learning Rate: 0.00034846165550670707, Loss: 0.4056370258331299\n",
            "Epoch 335/1600, Learning Rate: 0.00034497703895164, Loss: 0.2941623032093048\n",
            "Epoch 336/1600, Learning Rate: 0.0003415272685621236, Loss: 0.2334609478712082\n",
            "Epoch 337/1600, Learning Rate: 0.00033811199587650235, Loss: 0.34635621309280396\n",
            "Epoch 338/1600, Learning Rate: 0.0003347308759177373, Loss: 0.3947644531726837\n",
            "Epoch 339/1600, Learning Rate: 0.00033138356715855995, Loss: 0.43299901485443115\n",
            "Epoch 340/1600, Learning Rate: 0.00032806973148697435, Loss: 0.3046504557132721\n",
            "Epoch 341/1600, Learning Rate: 0.0003247890341721046, Loss: 0.24280302226543427\n",
            "Epoch 342/1600, Learning Rate: 0.0003215411438303836, Loss: 0.3246626555919647\n",
            "Epoch 343/1600, Learning Rate: 0.00031832573239207976, Loss: 0.43286949396133423\n",
            "Epoch 344/1600, Learning Rate: 0.00031514247506815894, Loss: 0.2656758427619934\n",
            "Epoch 345/1600, Learning Rate: 0.00031199105031747736, Loss: 0.47846636176109314\n",
            "Epoch 346/1600, Learning Rate: 0.0003088711398143026, Loss: 0.301364541053772\n",
            "Epoch 347/1600, Learning Rate: 0.0003057824284161596, Loss: 0.32642611861228943\n",
            "Epoch 348/1600, Learning Rate: 0.000302724604131998, Loss: 0.37779954075813293\n",
            "Epoch 349/1600, Learning Rate: 0.000299697358090678, Loss: 0.4285086691379547\n",
            "Epoch 350/1600, Learning Rate: 0.00029670038450977125, Loss: 0.27317315340042114\n",
            "Epoch 351/1600, Learning Rate: 0.0002937333806646735, Loss: 0.5087992548942566\n",
            "Epoch 352/1600, Learning Rate: 0.0002907960468580268, Loss: 0.3107168674468994\n",
            "Epoch 353/1600, Learning Rate: 0.0002878880863894465, Loss: 0.3083544373512268\n",
            "Epoch 354/1600, Learning Rate: 0.00028500920552555206, Loss: 0.4257403016090393\n",
            "Epoch 355/1600, Learning Rate: 0.00028215911347029656, Loss: 0.49939027428627014\n",
            "Epoch 356/1600, Learning Rate: 0.0002793375223355936, Loss: 0.37731531262397766\n",
            "Epoch 357/1600, Learning Rate: 0.0002765441471122377, Loss: 0.25243979692459106\n",
            "Epoch 358/1600, Learning Rate: 0.00027377870564111533, Loss: 0.2874424457550049\n",
            "Epoch 359/1600, Learning Rate: 0.0002710409185847042, Loss: 0.39135655760765076\n",
            "Epoch 360/1600, Learning Rate: 0.00026833050939885714, Loss: 0.3919883370399475\n",
            "Epoch 361/1600, Learning Rate: 0.0002656472043048686, Loss: 0.3469938039779663\n",
            "Epoch 362/1600, Learning Rate: 0.0002629907322618199, Loss: 0.25418201088905334\n",
            "Epoch 363/1600, Learning Rate: 0.0002603608249392017, Loss: 0.3264956474304199\n",
            "Epoch 364/1600, Learning Rate: 0.00025775721668980966, Loss: 0.4093495309352875\n",
            "Epoch 365/1600, Learning Rate: 0.00025517964452291157, Loss: 0.3120952546596527\n",
            "Epoch 366/1600, Learning Rate: 0.00025262784807768247, Loss: 0.4210200607776642\n",
            "Epoch 367/1600, Learning Rate: 0.00025010156959690564, Loss: 0.3256492018699646\n",
            "Epoch 368/1600, Learning Rate: 0.00024760055390093657, Loss: 0.2910580635070801\n",
            "Epoch 369/1600, Learning Rate: 0.0002451245483619272, Loss: 0.3497675657272339\n",
            "Epoch 370/1600, Learning Rate: 0.00024267330287830794, Loss: 0.29338210821151733\n",
            "Epoch 371/1600, Learning Rate: 0.00024024656984952486, Loss: 0.41730812191963196\n",
            "Epoch 372/1600, Learning Rate: 0.00023784410415102962, Loss: 0.28223052620887756\n",
            "Epoch 373/1600, Learning Rate: 0.00023546566310951933, Loss: 0.3735670745372772\n",
            "Epoch 374/1600, Learning Rate: 0.00023311100647842415, Loss: 0.32196083664894104\n",
            "Epoch 375/1600, Learning Rate: 0.0002307798964136399, Loss: 0.2835283577442169\n",
            "Epoch 376/1600, Learning Rate: 0.0002284720974495035, Loss: 0.2168939858675003\n",
            "Epoch 377/1600, Learning Rate: 0.00022618737647500848, Loss: 0.3543444871902466\n",
            "Epoch 378/1600, Learning Rate: 0.00022392550271025838, Loss: 0.23554784059524536\n",
            "Epoch 379/1600, Learning Rate: 0.0002216862476831558, Loss: 0.32299843430519104\n",
            "Epoch 380/1600, Learning Rate: 0.00021946938520632424, Loss: 0.32283294200897217\n",
            "Epoch 381/1600, Learning Rate: 0.000217274691354261, Loss: 0.25906822085380554\n",
            "Epoch 382/1600, Learning Rate: 0.00021510194444071838, Loss: 0.24473397433757782\n",
            "Epoch 383/1600, Learning Rate: 0.00021295092499631118, Loss: 0.3822827637195587\n",
            "Epoch 384/1600, Learning Rate: 0.00021082141574634808, Loss: 0.29545673727989197\n",
            "Epoch 385/1600, Learning Rate: 0.0002087132015888846, Loss: 0.3075793385505676\n",
            "Epoch 386/1600, Learning Rate: 0.00020662606957299576, Loss: 0.19830864667892456\n",
            "Epoch 387/1600, Learning Rate: 0.0002045598088772658, Loss: 0.3426058292388916\n",
            "Epoch 388/1600, Learning Rate: 0.00020251421078849315, Loss: 0.45932736992836\n",
            "Epoch 389/1600, Learning Rate: 0.00020048906868060822, Loss: 0.4293642044067383\n",
            "Epoch 390/1600, Learning Rate: 0.00019848417799380214, Loss: 0.35887956619262695\n",
            "Epoch 391/1600, Learning Rate: 0.0001964993362138641, Loss: 0.28625649213790894\n",
            "Epoch 392/1600, Learning Rate: 0.00019453434285172548, Loss: 0.4287208318710327\n",
            "Epoch 393/1600, Learning Rate: 0.00019258899942320822, Loss: 0.3687601685523987\n",
            "Epoch 394/1600, Learning Rate: 0.00019066310942897615, Loss: 0.1770138442516327\n",
            "Epoch 395/1600, Learning Rate: 0.0001887564783346864, Loss: 0.23217369616031647\n",
            "Epoch 396/1600, Learning Rate: 0.00018686891355133953, Loss: 0.3763042986392975\n",
            "Epoch 397/1600, Learning Rate: 0.00018500022441582614, Loss: 0.2765504717826843\n",
            "Epoch 398/1600, Learning Rate: 0.00018315022217166787, Loss: 0.3674125075340271\n",
            "Epoch 399/1600, Learning Rate: 0.0001813187199499512, Loss: 0.3841720223426819\n",
            "Epoch 400/1600, Learning Rate: 0.0001795055327504517, Loss: 0.3690674901008606\n",
            "Epoch 401/1600, Learning Rate: 0.00017771047742294718, Loss: 0.30949756503105164\n",
            "Epoch 402/1600, Learning Rate: 0.0001759333726487177, Loss: 0.18938009440898895\n",
            "Epoch 403/1600, Learning Rate: 0.00017417403892223054, Loss: 0.37625765800476074\n",
            "Epoch 404/1600, Learning Rate: 0.00017243229853300824, Loss: 0.3563421368598938\n",
            "Epoch 405/1600, Learning Rate: 0.00017070797554767815, Loss: 0.2954331934452057\n",
            "Epoch 406/1600, Learning Rate: 0.00016900089579220136, Loss: 0.3377282917499542\n",
            "Epoch 407/1600, Learning Rate: 0.00016731088683427935, Loss: 0.1603565216064453\n",
            "Epoch 408/1600, Learning Rate: 0.00016563777796593654, Loss: 0.25656598806381226\n",
            "Epoch 409/1600, Learning Rate: 0.00016398140018627718, Loss: 0.2674785256385803\n",
            "Epoch 410/1600, Learning Rate: 0.0001623415861844144, Loss: 0.3601292669773102\n",
            "Epoch 411/1600, Learning Rate: 0.00016071817032257027, Loss: 0.5407546162605286\n",
            "Epoch 412/1600, Learning Rate: 0.00015911098861934458, Loss: 0.22345629334449768\n",
            "Epoch 413/1600, Learning Rate: 0.00015751987873315114, Loss: 0.39363664388656616\n",
            "Epoch 414/1600, Learning Rate: 0.00015594467994581963, Loss: 0.32146820425987244\n",
            "Epoch 415/1600, Learning Rate: 0.00015438523314636142, Loss: 0.283834308385849\n",
            "Epoch 416/1600, Learning Rate: 0.0001528413808148978, Loss: 0.39702901244163513\n",
            "Epoch 417/1600, Learning Rate: 0.00015131296700674884, Loss: 0.38367053866386414\n",
            "Epoch 418/1600, Learning Rate: 0.00014979983733668135, Loss: 0.44300952553749084\n",
            "Epoch 419/1600, Learning Rate: 0.00014830183896331453, Loss: 0.5509093403816223\n",
            "Epoch 420/1600, Learning Rate: 0.00014681882057368138, Loss: 0.2546362578868866\n",
            "Epoch 421/1600, Learning Rate: 0.00014535063236794456, Loss: 0.25670886039733887\n",
            "Epoch 422/1600, Learning Rate: 0.00014389712604426512, Loss: 0.2734120190143585\n",
            "Epoch 423/1600, Learning Rate: 0.00014245815478382246, Loss: 0.3120335042476654\n",
            "Epoch 424/1600, Learning Rate: 0.00014103357323598422, Loss: 0.30689194798469543\n",
            "Epoch 425/1600, Learning Rate: 0.00013962323750362437, Loss: 0.3029809296131134\n",
            "Epoch 426/1600, Learning Rate: 0.0001382270051285881, Loss: 0.3054925501346588\n",
            "Epoch 427/1600, Learning Rate: 0.00013684473507730223, Loss: 0.38700413703918457\n",
            "Epoch 428/1600, Learning Rate: 0.0001354762877265292, Loss: 0.39274829626083374\n",
            "Epoch 429/1600, Learning Rate: 0.00013412152484926392, Loss: 0.3995875418186188\n",
            "Epoch 430/1600, Learning Rate: 0.00013278030960077128, Loss: 0.46084198355674744\n",
            "Epoch 431/1600, Learning Rate: 0.00013145250650476356, Loss: 0.3352629840373993\n",
            "Epoch 432/1600, Learning Rate: 0.00013013798143971593, Loss: 0.4220643639564514\n",
            "Epoch 433/1600, Learning Rate: 0.00012883660162531878, Loss: 0.29667744040489197\n",
            "Epoch 434/1600, Learning Rate: 0.00012754823560906558, Loss: 0.3327272832393646\n",
            "Epoch 435/1600, Learning Rate: 0.00012627275325297491, Loss: 0.29897600412368774\n",
            "Epoch 436/1600, Learning Rate: 0.00012501002572044517, Loss: 0.40505242347717285\n",
            "Epoch 437/1600, Learning Rate: 0.00012375992546324072, Loss: 0.21990792453289032\n",
            "Epoch 438/1600, Learning Rate: 0.00012252232620860832, Loss: 0.3444790244102478\n",
            "Epoch 439/1600, Learning Rate: 0.00012129710294652224, Loss: 0.34769779443740845\n",
            "Epoch 440/1600, Learning Rate: 0.00012008413191705701, Loss: 0.31383848190307617\n",
            "Epoch 441/1600, Learning Rate: 0.00011888329059788645, Loss: 0.24407686293125153\n",
            "Epoch 442/1600, Learning Rate: 0.00011769445769190758, Loss: 0.35045045614242554\n",
            "Epoch 443/1600, Learning Rate: 0.00011651751311498851, Loss: 0.3005896806716919\n",
            "Epoch 444/1600, Learning Rate: 0.00011535233798383862, Loss: 0.2332632690668106\n",
            "Epoch 445/1600, Learning Rate: 0.00011419881460400023, Loss: 0.28951409459114075\n",
            "Epoch 446/1600, Learning Rate: 0.00011305682645796022, Loss: 0.27328217029571533\n",
            "Epoch 447/1600, Learning Rate: 0.00011192625819338061, Loss: 0.3090907037258148\n",
            "Epoch 448/1600, Learning Rate: 0.00011080699561144681, Loss: 0.43232235312461853\n",
            "Epoch 449/1600, Learning Rate: 0.00010969892565533234, Loss: 0.2608129382133484\n",
            "Epoch 450/1600, Learning Rate: 0.00010860193639877902, Loss: 0.3558928966522217\n",
            "Epoch 451/1600, Learning Rate: 0.00010751591703479123, Loss: 0.28923359513282776\n",
            "Epoch 452/1600, Learning Rate: 0.00010644075786444332, Loss: 0.3331267833709717\n",
            "Epoch 453/1600, Learning Rate: 0.00010537635028579889, Loss: 0.3904835283756256\n",
            "Epoch 454/1600, Learning Rate: 0.0001043225867829409, Loss: 0.28520941734313965\n",
            "Epoch 455/1600, Learning Rate: 0.00010327936091511149, Loss: 0.4825419783592224\n",
            "Epoch 456/1600, Learning Rate: 0.00010224656730596037, Loss: 0.28577420115470886\n",
            "Epoch 457/1600, Learning Rate: 0.00010122410163290076, Loss: 0.3905288577079773\n",
            "Epoch 458/1600, Learning Rate: 0.00010021186061657176, Loss: 0.3339084982872009\n",
            "Epoch 459/1600, Learning Rate: 9.920974201040605e-05, Loss: 0.43748438358306885\n",
            "Epoch 460/1600, Learning Rate: 9.821764459030198e-05, Loss: 0.2714192867279053\n",
            "Epoch 461/1600, Learning Rate: 9.723546814439895e-05, Loss: 0.3148121237754822\n",
            "Epoch 462/1600, Learning Rate: 9.626311346295496e-05, Loss: 0.26078569889068604\n",
            "Epoch 463/1600, Learning Rate: 9.53004823283254e-05, Loss: 0.28644031286239624\n",
            "Epoch 464/1600, Learning Rate: 9.434747750504215e-05, Loss: 0.49297404289245605\n",
            "Epoch 465/1600, Learning Rate: 9.340400272999173e-05, Loss: 0.25943103432655334\n",
            "Epoch 466/1600, Learning Rate: 9.246996270269181e-05, Loss: 0.4590950608253479\n",
            "Epoch 467/1600, Learning Rate: 9.15452630756649e-05, Loss: 0.37110230326652527\n",
            "Epoch 468/1600, Learning Rate: 9.062981044490825e-05, Loss: 0.3201623857021332\n",
            "Epoch 469/1600, Learning Rate: 8.972351234045917e-05, Loss: 0.4162253439426422\n",
            "Epoch 470/1600, Learning Rate: 8.882627721705458e-05, Loss: 0.20285962522029877\n",
            "Epoch 471/1600, Learning Rate: 8.793801444488403e-05, Loss: 0.257014662027359\n",
            "Epoch 472/1600, Learning Rate: 8.70586343004352e-05, Loss: 0.33234694600105286\n",
            "Epoch 473/1600, Learning Rate: 8.618804795743084e-05, Loss: 0.34929466247558594\n",
            "Epoch 474/1600, Learning Rate: 8.532616747785654e-05, Loss: 0.28913596272468567\n",
            "Epoch 475/1600, Learning Rate: 8.447290580307797e-05, Loss: 0.2910112142562866\n",
            "Epoch 476/1600, Learning Rate: 8.362817674504719e-05, Loss: 0.16200819611549377\n",
            "Epoch 477/1600, Learning Rate: 8.279189497759673e-05, Loss: 0.3297947347164154\n",
            "Epoch 478/1600, Learning Rate: 8.196397602782075e-05, Loss: 0.4003334939479828\n",
            "Epoch 479/1600, Learning Rate: 8.114433626754255e-05, Loss: 0.4311453402042389\n",
            "Epoch 480/1600, Learning Rate: 8.033289290486713e-05, Loss: 0.29343774914741516\n",
            "Epoch 481/1600, Learning Rate: 7.952956397581846e-05, Loss: 0.42428866028785706\n",
            "Epoch 482/1600, Learning Rate: 7.873426833606028e-05, Loss: 0.37097635865211487\n",
            "Epoch 483/1600, Learning Rate: 7.794692565269967e-05, Loss: 0.3192620277404785\n",
            "Epoch 484/1600, Learning Rate: 7.716745639617267e-05, Loss: 0.2451280653476715\n",
            "Epoch 485/1600, Learning Rate: 7.639578183221094e-05, Loss: 0.3506433069705963\n",
            "Epoch 486/1600, Learning Rate: 7.563182401388883e-05, Loss: 0.3663439154624939\n",
            "Epoch 487/1600, Learning Rate: 7.487550577374994e-05, Loss: 0.20019985735416412\n",
            "Epoch 488/1600, Learning Rate: 7.412675071601244e-05, Loss: 0.19389425218105316\n",
            "Epoch 489/1600, Learning Rate: 7.338548320885231e-05, Loss: 0.39746665954589844\n",
            "Epoch 490/1600, Learning Rate: 7.26516283767638e-05, Loss: 0.40429428219795227\n",
            "Epoch 491/1600, Learning Rate: 7.192511209299615e-05, Loss: 0.3090978264808655\n",
            "Epoch 492/1600, Learning Rate: 7.120586097206619e-05, Loss: 0.3989652097225189\n",
            "Epoch 493/1600, Learning Rate: 7.049380236234553e-05, Loss: 0.272159218788147\n",
            "Epoch 494/1600, Learning Rate: 6.978886433872207e-05, Loss: 0.35148128867149353\n",
            "Epoch 495/1600, Learning Rate: 6.909097569533485e-05, Loss: 0.288267582654953\n",
            "Epoch 496/1600, Learning Rate: 6.84000659383815e-05, Loss: 0.27504026889801025\n",
            "Epoch 497/1600, Learning Rate: 6.771606527899769e-05, Loss: 0.4853765070438385\n",
            "Epoch 498/1600, Learning Rate: 6.703890462620771e-05, Loss: 0.2613990902900696\n",
            "Epoch 499/1600, Learning Rate: 6.636851557994564e-05, Loss: 0.32504695653915405\n",
            "Epoch 500/1600, Learning Rate: 6.570483042414618e-05, Loss: 0.4091629385948181\n",
            "Epoch 501/1600, Learning Rate: 6.504778211990472e-05, Loss: 0.33899781107902527\n",
            "Epoch 502/1600, Learning Rate: 6.439730429870567e-05, Loss: 0.31695079803466797\n",
            "Epoch 503/1600, Learning Rate: 6.375333125571861e-05, Loss: 0.39159053564071655\n",
            "Epoch 504/1600, Learning Rate: 6.311579794316142e-05, Loss: 0.4498668909072876\n",
            "Epoch 505/1600, Learning Rate: 6.24846399637298e-05, Loss: 0.2090645283460617\n",
            "Epoch 506/1600, Learning Rate: 6.185979356409251e-05, Loss: 0.2696009874343872\n",
            "Epoch 507/1600, Learning Rate: 6.124119562845158e-05, Loss: 0.3016446530818939\n",
            "Epoch 508/1600, Learning Rate: 6.0628783672167066e-05, Loss: 0.2450496405363083\n",
            "Epoch 509/1600, Learning Rate: 6.00224958354454e-05, Loss: 0.31043609976768494\n",
            "Epoch 510/1600, Learning Rate: 5.942227087709094e-05, Loss: 0.3090086579322815\n",
            "Epoch 511/1600, Learning Rate: 5.8828048168320034e-05, Loss: 0.30145472288131714\n",
            "Epoch 512/1600, Learning Rate: 5.823976768663683e-05, Loss: 0.5348108410835266\n",
            "Epoch 513/1600, Learning Rate: 5.765737000977046e-05, Loss: 0.24214570224285126\n",
            "Epoch 514/1600, Learning Rate: 5.708079630967276e-05, Loss: 0.2851308286190033\n",
            "Epoch 515/1600, Learning Rate: 5.650998834657603e-05, Loss: 0.4643613398075104\n",
            "Epoch 516/1600, Learning Rate: 5.594488846311027e-05, Loss: 0.33089256286621094\n",
            "Epoch 517/1600, Learning Rate: 5.5385439578479166e-05, Loss: 0.38523736596107483\n",
            "Epoch 518/1600, Learning Rate: 5.483158518269437e-05, Loss: 0.26791325211524963\n",
            "Epoch 519/1600, Learning Rate: 5.4283269330867425e-05, Loss: 0.42205315828323364\n",
            "Epoch 520/1600, Learning Rate: 5.374043663755875e-05, Loss: 0.38710665702819824\n",
            "Epoch 521/1600, Learning Rate: 5.320303227118316e-05, Loss: 0.5414120554924011\n",
            "Epoch 522/1600, Learning Rate: 5.267100194847133e-05, Loss: 0.3622405529022217\n",
            "Epoch 523/1600, Learning Rate: 5.2144291928986614e-05, Loss: 0.38150933384895325\n",
            "Epoch 524/1600, Learning Rate: 5.162284900969675e-05, Loss: 0.2590683400630951\n",
            "Epoch 525/1600, Learning Rate: 5.110662051959978e-05, Loss: 0.22384339570999146\n",
            "Epoch 526/1600, Learning Rate: 5.0595554314403785e-05, Loss: 0.28957420587539673\n",
            "Epoch 527/1600, Learning Rate: 5.008959877125975e-05, Loss: 0.41092124581336975\n",
            "Epoch 528/1600, Learning Rate: 4.958870278354715e-05, Loss: 0.40171486139297485\n",
            "Epoch 529/1600, Learning Rate: 4.909281575571168e-05, Loss: 0.2804219424724579\n",
            "Epoch 530/1600, Learning Rate: 4.8601887598154566e-05, Loss: 0.2665863633155823\n",
            "Epoch 531/1600, Learning Rate: 4.811586872217302e-05, Loss: 0.43230006098747253\n",
            "Epoch 532/1600, Learning Rate: 4.7634710034951284e-05, Loss: 0.3117428421974182\n",
            "Epoch 533/1600, Learning Rate: 4.715836293460177e-05, Loss: 0.2880011200904846\n",
            "Epoch 534/1600, Learning Rate: 4.668677930525575e-05, Loss: 0.40529340505599976\n",
            "Epoch 535/1600, Learning Rate: 4.621991151220319e-05, Loss: 0.2619304955005646\n",
            "Epoch 536/1600, Learning Rate: 4.575771239708116e-05, Loss: 0.2282230705022812\n",
            "Epoch 537/1600, Learning Rate: 4.530013527311035e-05, Loss: 0.1992463767528534\n",
            "Epoch 538/1600, Learning Rate: 4.484713392037925e-05, Loss: 0.3158372938632965\n",
            "Epoch 539/1600, Learning Rate: 4.4398662581175456e-05, Loss: 0.31655555963516235\n",
            "Epoch 540/1600, Learning Rate: 4.3954675955363704e-05, Loss: 0.24509671330451965\n",
            "Epoch 541/1600, Learning Rate: 4.351512919581007e-05, Loss: 0.33260175585746765\n",
            "Epoch 542/1600, Learning Rate: 4.307997790385197e-05, Loss: 0.23320825397968292\n",
            "Epoch 543/1600, Learning Rate: 4.264917812481345e-05, Loss: 0.28248152136802673\n",
            "Epoch 544/1600, Learning Rate: 4.222268634356531e-05, Loss: 0.42906153202056885\n",
            "Epoch 545/1600, Learning Rate: 4.180045948012966e-05, Loss: 0.2622555196285248\n",
            "Epoch 546/1600, Learning Rate: 4.1382454885328364e-05, Loss: 0.3422253131866455\n",
            "Epoch 547/1600, Learning Rate: 4.096863033647508e-05, Loss: 0.2527376711368561\n",
            "Epoch 548/1600, Learning Rate: 4.0558944033110324e-05, Loss: 0.24580317735671997\n",
            "Epoch 549/1600, Learning Rate: 4.015335459277922e-05, Loss: 0.40493330359458923\n",
            "Epoch 550/1600, Learning Rate: 3.9751821046851424e-05, Loss: 0.26471370458602905\n",
            "Epoch 551/1600, Learning Rate: 3.9354302836382906e-05, Loss: 0.23288306593894958\n",
            "Epoch 552/1600, Learning Rate: 3.896075980801908e-05, Loss: 0.3081445097923279\n",
            "Epoch 553/1600, Learning Rate: 3.857115220993889e-05, Loss: 0.3546716272830963\n",
            "Epoch 554/1600, Learning Rate: 3.81854406878395e-05, Loss: 0.3472016155719757\n",
            "Epoch 555/1600, Learning Rate: 3.7803586280961107e-05, Loss: 0.39103788137435913\n",
            "Epoch 556/1600, Learning Rate: 3.7425550418151495e-05, Loss: 0.40398165583610535\n",
            "Epoch 557/1600, Learning Rate: 3.705129491396998e-05, Loss: 0.266708642244339\n",
            "Epoch 558/1600, Learning Rate: 3.6680781964830284e-05, Loss: 0.2703101634979248\n",
            "Epoch 559/1600, Learning Rate: 3.631397414518198e-05, Loss: 0.3531222343444824\n",
            "Epoch 560/1600, Learning Rate: 3.5950834403730165e-05, Loss: 0.28104379773139954\n",
            "Epoch 561/1600, Learning Rate: 3.559132605969286e-05, Loss: 0.4083496630191803\n",
            "Epoch 562/1600, Learning Rate: 3.5235412799095935e-05, Loss: 0.39796993136405945\n",
            "Epoch 563/1600, Learning Rate: 3.488305867110497e-05, Loss: 0.15489432215690613\n",
            "Epoch 564/1600, Learning Rate: 3.453422808439392e-05, Loss: 0.3417547643184662\n",
            "Epoch 565/1600, Learning Rate: 3.418888580354998e-05, Loss: 0.2461027204990387\n",
            "Epoch 566/1600, Learning Rate: 3.384699694551448e-05, Loss: 0.32763469219207764\n",
            "Epoch 567/1600, Learning Rate: 3.350852697605933e-05, Loss: 0.24982602894306183\n",
            "Epoch 568/1600, Learning Rate: 3.317344170629874e-05, Loss: 0.21325939893722534\n",
            "Epoch 569/1600, Learning Rate: 3.284170728923575e-05, Loss: 0.351004958152771\n",
            "Epoch 570/1600, Learning Rate: 3.2513290216343394e-05, Loss: 0.43661993741989136\n",
            "Epoch 571/1600, Learning Rate: 3.218815731417996e-05, Loss: 0.35280004143714905\n",
            "Epoch 572/1600, Learning Rate: 3.186627574103816e-05, Loss: 0.35236263275146484\n",
            "Epoch 573/1600, Learning Rate: 3.154761298362778e-05, Loss: 0.32781919836997986\n",
            "Epoch 574/1600, Learning Rate: 3.12321368537915e-05, Loss: 0.40596693754196167\n",
            "Epoch 575/1600, Learning Rate: 3.0919815485253584e-05, Loss: 0.36903610825538635\n",
            "Epoch 576/1600, Learning Rate: 3.0610617330401045e-05, Loss: 0.26513442397117615\n",
            "Epoch 577/1600, Learning Rate: 3.0304511157097033e-05, Loss: 0.28748390078544617\n",
            "Epoch 578/1600, Learning Rate: 3.0001466045526064e-05, Loss: 0.3180236220359802\n",
            "Epoch 579/1600, Learning Rate: 2.9701451385070803e-05, Loss: 0.33564236760139465\n",
            "Epoch 580/1600, Learning Rate: 2.9404436871220096e-05, Loss: 0.3938662111759186\n",
            "Epoch 581/1600, Learning Rate: 2.9110392502507896e-05, Loss: 0.26787295937538147\n",
            "Epoch 582/1600, Learning Rate: 2.8819288577482815e-05, Loss: 0.32656458020210266\n",
            "Epoch 583/1600, Learning Rate: 2.8531095691707987e-05, Loss: 0.3116414546966553\n",
            "Epoch 584/1600, Learning Rate: 2.8245784734790907e-05, Loss: 0.2579774856567383\n",
            "Epoch 585/1600, Learning Rate: 2.7963326887442997e-05, Loss: 0.28931617736816406\n",
            "Epoch 586/1600, Learning Rate: 2.7683693618568566e-05, Loss: 0.3908402919769287\n",
            "Epoch 587/1600, Learning Rate: 2.740685668238288e-05, Loss: 0.3686084449291229\n",
            "Epoch 588/1600, Learning Rate: 2.713278811555905e-05, Loss: 0.3517145812511444\n",
            "Epoch 589/1600, Learning Rate: 2.686146023440346e-05, Loss: 0.39927735924720764\n",
            "Epoch 590/1600, Learning Rate: 2.6592845632059425e-05, Loss: 0.4161338210105896\n",
            "Epoch 591/1600, Learning Rate: 2.6326917175738832e-05, Loss: 0.31617894768714905\n",
            "Epoch 592/1600, Learning Rate: 2.6063648003981445e-05, Loss: 0.18648892641067505\n",
            "Epoch 593/1600, Learning Rate: 2.580301152394163e-05, Loss: 0.4143497943878174\n",
            "Epoch 594/1600, Learning Rate: 2.554498140870221e-05, Loss: 0.2968568801879883\n",
            "Epoch 595/1600, Learning Rate: 2.5289531594615188e-05, Loss: 0.26841387152671814\n",
            "Epoch 596/1600, Learning Rate: 2.5036636278669037e-05, Loss: 0.2255038022994995\n",
            "Epoch 597/1600, Learning Rate: 2.4786269915882345e-05, Loss: 0.5080794095993042\n",
            "Epoch 598/1600, Learning Rate: 2.453840721672352e-05, Loss: 0.31819671392440796\n",
            "Epoch 599/1600, Learning Rate: 2.4293023144556285e-05, Loss: 0.36614006757736206\n",
            "Epoch 600/1600, Learning Rate: 2.4050092913110723e-05, Loss: 0.3813152313232422\n",
            "Epoch 601/1600, Learning Rate: 2.3809591983979617e-05, Loss: 0.3286449611186981\n",
            "Epoch 602/1600, Learning Rate: 2.357149606413982e-05, Loss: 0.3623575270175934\n",
            "Epoch 603/1600, Learning Rate: 2.3335781103498423e-05, Loss: 0.471053808927536\n",
            "Epoch 604/1600, Learning Rate: 2.3102423292463438e-05, Loss: 0.31600138545036316\n",
            "Epoch 605/1600, Learning Rate: 2.2871399059538803e-05, Loss: 0.4980914294719696\n",
            "Epoch 606/1600, Learning Rate: 2.2642685068943415e-05, Loss: 0.32837873697280884\n",
            "Epoch 607/1600, Learning Rate: 2.241625821825398e-05, Loss: 0.35580044984817505\n",
            "Epoch 608/1600, Learning Rate: 2.219209563607144e-05, Loss: 0.33403846621513367\n",
            "Epoch 609/1600, Learning Rate: 2.1970174679710727e-05, Loss: 0.29371315240859985\n",
            "Epoch 610/1600, Learning Rate: 2.175047293291362e-05, Loss: 0.3816322684288025\n",
            "Epoch 611/1600, Learning Rate: 2.1532968203584482e-05, Loss: 0.39516347646713257\n",
            "Epoch 612/1600, Learning Rate: 2.1317638521548636e-05, Loss: 0.16175304353237152\n",
            "Epoch 613/1600, Learning Rate: 2.1104462136333148e-05, Loss: 0.3277333676815033\n",
            "Epoch 614/1600, Learning Rate: 2.0893417514969817e-05, Loss: 0.4094390869140625\n",
            "Epoch 615/1600, Learning Rate: 2.068448333982012e-05, Loss: 0.20085182785987854\n",
            "Epoch 616/1600, Learning Rate: 2.047763850642192e-05, Loss: 0.2536444067955017\n",
            "Epoch 617/1600, Learning Rate: 2.02728621213577e-05, Loss: 0.2754270136356354\n",
            "Epoch 618/1600, Learning Rate: 2.0070133500144122e-05, Loss: 0.23679088056087494\n",
            "Epoch 619/1600, Learning Rate: 1.986943216514268e-05, Loss: 0.35210496187210083\n",
            "Epoch 620/1600, Learning Rate: 1.9670737843491254e-05, Loss: 0.28350451588630676\n",
            "Epoch 621/1600, Learning Rate: 1.947403046505634e-05, Loss: 0.3138123154640198\n",
            "Epoch 622/1600, Learning Rate: 1.9279290160405776e-05, Loss: 0.2678828537464142\n",
            "Epoch 623/1600, Learning Rate: 1.9086497258801718e-05, Loss: 0.3738599419593811\n",
            "Epoch 624/1600, Learning Rate: 1.88956322862137e-05, Loss: 0.4097539484500885\n",
            "Epoch 625/1600, Learning Rate: 1.8706675963351564e-05, Loss: 0.3575722277164459\n",
            "Epoch 626/1600, Learning Rate: 1.8519609203718047e-05, Loss: 0.26237836480140686\n",
            "Epoch 627/1600, Learning Rate: 1.8334413111680868e-05, Loss: 0.4768471419811249\n",
            "Epoch 628/1600, Learning Rate: 1.8151068980564058e-05, Loss: 0.24543802440166473\n",
            "Epoch 629/1600, Learning Rate: 1.7969558290758418e-05, Loss: 0.3665269613265991\n",
            "Epoch 630/1600, Learning Rate: 1.7789862707850834e-05, Loss: 0.34780609607696533\n",
            "Epoch 631/1600, Learning Rate: 1.7611964080772325e-05, Loss: 0.3268551230430603\n",
            "Epoch 632/1600, Learning Rate: 1.74358444399646e-05, Loss: 0.20784221589565277\n",
            "Epoch 633/1600, Learning Rate: 1.7261485995564955e-05, Loss: 0.3787623941898346\n",
            "Epoch 634/1600, Learning Rate: 1.7088871135609306e-05, Loss: 0.3246130347251892\n",
            "Epoch 635/1600, Learning Rate: 1.6917982424253213e-05, Loss: 0.3552743196487427\n",
            "Epoch 636/1600, Learning Rate: 1.6748802600010683e-05, Loss: 0.2775397300720215\n",
            "Epoch 637/1600, Learning Rate: 1.6581314574010574e-05, Loss: 0.3419879376888275\n",
            "Epoch 638/1600, Learning Rate: 1.6415501428270468e-05, Loss: 0.3973081707954407\n",
            "Epoch 639/1600, Learning Rate: 1.6251346413987764e-05, Loss: 0.2757720947265625\n",
            "Epoch 640/1600, Learning Rate: 1.6088832949847885e-05, Loss: 0.3551015257835388\n",
            "Epoch 641/1600, Learning Rate: 1.5927944620349405e-05, Loss: 0.3528076708316803\n",
            "Epoch 642/1600, Learning Rate: 1.576866517414591e-05, Loss: 0.30730435252189636\n",
            "Epoch 643/1600, Learning Rate: 1.561097852240445e-05, Loss: 0.3480697572231293\n",
            "Epoch 644/1600, Learning Rate: 1.5454868737180407e-05, Loss: 0.3071819543838501\n",
            "Epoch 645/1600, Learning Rate: 1.53003200498086e-05, Loss: 0.3927015960216522\n",
            "Epoch 646/1600, Learning Rate: 1.5147316849310516e-05, Loss: 0.2642997205257416\n",
            "Epoch 647/1600, Learning Rate: 1.4995843680817411e-05, Loss: 0.20282495021820068\n",
            "Epoch 648/1600, Learning Rate: 1.4845885244009237e-05, Loss: 0.5188210606575012\n",
            "Epoch 649/1600, Learning Rate: 1.4697426391569144e-05, Loss: 0.38384538888931274\n",
            "Epoch 650/1600, Learning Rate: 1.4550452127653453e-05, Loss: 0.3027069866657257\n",
            "Epoch 651/1600, Learning Rate: 1.4404947606376918e-05, Loss: 0.3165923058986664\n",
            "Epoch 652/1600, Learning Rate: 1.4260898130313148e-05, Loss: 0.299017995595932\n",
            "Epoch 653/1600, Learning Rate: 1.4118289149010016e-05, Loss: 0.38811615109443665\n",
            "Epoch 654/1600, Learning Rate: 1.3977106257519915e-05, Loss: 0.31621891260147095\n",
            "Epoch 655/1600, Learning Rate: 1.3837335194944715e-05, Loss: 0.28779229521751404\n",
            "Epoch 656/1600, Learning Rate: 1.3698961842995269e-05, Loss: 0.3202366232872009\n",
            "Epoch 657/1600, Learning Rate: 1.3561972224565316e-05, Loss: 0.2516578435897827\n",
            "Epoch 658/1600, Learning Rate: 1.3426352502319663e-05, Loss: 0.3436417877674103\n",
            "Epoch 659/1600, Learning Rate: 1.3292088977296467e-05, Loss: 0.3220326602458954\n",
            "Epoch 660/1600, Learning Rate: 1.3159168087523503e-05, Loss: 0.5427005290985107\n",
            "Epoch 661/1600, Learning Rate: 1.3027576406648268e-05, Loss: 0.39390304684638977\n",
            "Epoch 662/1600, Learning Rate: 1.2897300642581785e-05, Loss: 0.33837369084358215\n",
            "Epoch 663/1600, Learning Rate: 1.2768327636155967e-05, Loss: 0.4620065689086914\n",
            "Epoch 664/1600, Learning Rate: 1.2640644359794408e-05, Loss: 0.3067767918109894\n",
            "Epoch 665/1600, Learning Rate: 1.2514237916196465e-05, Loss: 0.26421278715133667\n",
            "Epoch 666/1600, Learning Rate: 1.23890955370345e-05, Loss: 0.3628079891204834\n",
            "Epoch 667/1600, Learning Rate: 1.2265204581664155e-05, Loss: 0.49747198820114136\n",
            "Epoch 668/1600, Learning Rate: 1.2142552535847513e-05, Loss: 0.22968830168247223\n",
            "Epoch 669/1600, Learning Rate: 1.2021127010489037e-05, Loss: 0.13969610631465912\n",
            "Epoch 670/1600, Learning Rate: 1.1900915740384146e-05, Loss: 0.43311572074890137\n",
            "Epoch 671/1600, Learning Rate: 1.1781906582980305e-05, Loss: 0.2200414091348648\n",
            "Epoch 672/1600, Learning Rate: 1.1664087517150503e-05, Loss: 0.3343453109264374\n",
            "Epoch 673/1600, Learning Rate: 1.1547446641978998e-05, Loss: 0.27803194522857666\n",
            "Epoch 674/1600, Learning Rate: 1.1431972175559208e-05, Loss: 0.329592227935791\n",
            "Epoch 675/1600, Learning Rate: 1.1317652453803616e-05, Loss: 0.22816427052021027\n",
            "Epoch 676/1600, Learning Rate: 1.120447592926558e-05, Loss: 0.24021148681640625\n",
            "Epoch 677/1600, Learning Rate: 1.1092431169972925e-05, Loss: 0.4415830373764038\n",
            "Epoch 678/1600, Learning Rate: 1.0981506858273196e-05, Loss: 0.3027383089065552\n",
            "Epoch 679/1600, Learning Rate: 1.0871691789690463e-05, Loss: 0.34135231375694275\n",
            "Epoch 680/1600, Learning Rate: 1.0762974871793559e-05, Loss: 0.32569408416748047\n",
            "Epoch 681/1600, Learning Rate: 1.0655345123075623e-05, Loss: 0.3581946790218353\n",
            "Epoch 682/1600, Learning Rate: 1.0548791671844867e-05, Loss: 0.20365603268146515\n",
            "Epoch 683/1600, Learning Rate: 1.0443303755126419e-05, Loss: 0.20403525233268738\n",
            "Epoch 684/1600, Learning Rate: 1.0338870717575154e-05, Loss: 0.2392183095216751\n",
            "Epoch 685/1600, Learning Rate: 1.0235482010399403e-05, Loss: 0.21008802950382233\n",
            "Epoch 686/1600, Learning Rate: 1.0133127190295408e-05, Loss: 0.48410511016845703\n",
            "Epoch 687/1600, Learning Rate: 1.0031795918392453e-05, Loss: 0.4659247100353241\n",
            "Epoch 688/1600, Learning Rate: 9.93147795920853e-06, Loss: 0.45487046241760254\n",
            "Epoch 689/1600, Learning Rate: 9.832163179616444e-06, Loss: 0.3672668933868408\n",
            "Epoch 690/1600, Learning Rate: 9.73384154782028e-06, Loss: 0.3360864222049713\n",
            "Epoch 691/1600, Learning Rate: 9.636503132342078e-06, Loss: 0.26301971077919006\n",
            "Epoch 692/1600, Learning Rate: 9.540138101018656e-06, Loss: 0.2806447148323059\n",
            "Epoch 693/1600, Learning Rate: 9.44473672000847e-06, Loss: 0.25023511052131653\n",
            "Epoch 694/1600, Learning Rate: 9.350289352808385e-06, Loss: 0.47529488801956177\n",
            "Epoch 695/1600, Learning Rate: 9.256786459280301e-06, Loss: 0.25369131565093994\n",
            "Epoch 696/1600, Learning Rate: 9.164218594687497e-06, Loss: 0.362894207239151\n",
            "Epoch 697/1600, Learning Rate: 9.072576408740622e-06, Loss: 0.36933133006095886\n",
            "Epoch 698/1600, Learning Rate: 8.981850644653216e-06, Loss: 0.20755434036254883\n",
            "Epoch 699/1600, Learning Rate: 8.892032138206685e-06, Loss: 0.4057982861995697\n",
            "Epoch 700/1600, Learning Rate: 8.803111816824617e-06, Loss: 0.44971293210983276\n",
            "Epoch 701/1600, Learning Rate: 8.71508069865637e-06, Loss: 0.2351430207490921\n",
            "Epoch 702/1600, Learning Rate: 8.627929891669807e-06, Loss: 0.38795220851898193\n",
            "Epoch 703/1600, Learning Rate: 8.541650592753109e-06, Loss: 0.29954880475997925\n",
            "Epoch 704/1600, Learning Rate: 8.456234086825578e-06, Loss: 0.41963404417037964\n",
            "Epoch 705/1600, Learning Rate: 8.371671745957323e-06, Loss: 0.18784813582897186\n",
            "Epoch 706/1600, Learning Rate: 8.287955028497749e-06, Loss: 0.2780737280845642\n",
            "Epoch 707/1600, Learning Rate: 8.205075478212771e-06, Loss: 0.26311954855918884\n",
            "Epoch 708/1600, Learning Rate: 8.123024723430643e-06, Loss: 0.2553796172142029\n",
            "Epoch 709/1600, Learning Rate: 8.041794476196336e-06, Loss: 0.2740463614463806\n",
            "Epoch 710/1600, Learning Rate: 7.961376531434372e-06, Loss: 0.3357025980949402\n",
            "Epoch 711/1600, Learning Rate: 7.881762766120029e-06, Loss: 0.2648467421531677\n",
            "Epoch 712/1600, Learning Rate: 7.802945138458829e-06, Loss: 0.3448827862739563\n",
            "Epoch 713/1600, Learning Rate: 7.72491568707424e-06, Loss: 0.28988221287727356\n",
            "Epoch 714/1600, Learning Rate: 7.647666530203497e-06, Loss: 0.37028178572654724\n",
            "Epoch 715/1600, Learning Rate: 7.571189864901462e-06, Loss: 0.3887110650539398\n",
            "Epoch 716/1600, Learning Rate: 7.495477966252447e-06, Loss: 0.326016366481781\n",
            "Epoch 717/1600, Learning Rate: 7.420523186589922e-06, Loss: 0.22270682454109192\n",
            "Epoch 718/1600, Learning Rate: 7.346317954724023e-06, Loss: 0.359639048576355\n",
            "Epoch 719/1600, Learning Rate: 7.272854775176783e-06, Loss: 0.18870289623737335\n",
            "Epoch 720/1600, Learning Rate: 7.200126227425015e-06, Loss: 0.376510888338089\n",
            "Epoch 721/1600, Learning Rate: 7.128124965150765e-06, Loss: 0.2086489498615265\n",
            "Epoch 722/1600, Learning Rate: 7.0568437154992575e-06, Loss: 0.5345475077629089\n",
            "Epoch 723/1600, Learning Rate: 6.9862752783442645e-06, Loss: 0.34532076120376587\n",
            "Epoch 724/1600, Learning Rate: 6.916412525560822e-06, Loss: 0.3665308952331543\n",
            "Epoch 725/1600, Learning Rate: 6.847248400305214e-06, Loss: 0.22037328779697418\n",
            "Epoch 726/1600, Learning Rate: 6.778775916302162e-06, Loss: 0.2410428673028946\n",
            "Epoch 727/1600, Learning Rate: 6.71098815713914e-06, Loss: 0.4076296091079712\n",
            "Epoch 728/1600, Learning Rate: 6.6438782755677485e-06, Loss: 0.2801854908466339\n",
            "Epoch 729/1600, Learning Rate: 6.577439492812071e-06, Loss: 0.33639076352119446\n",
            "Epoch 730/1600, Learning Rate: 6.511665097883951e-06, Loss: 0.31623226404190063\n",
            "Epoch 731/1600, Learning Rate: 6.446548446905111e-06, Loss: 0.2609551250934601\n",
            "Epoch 732/1600, Learning Rate: 6.38208296243606e-06, Loss: 0.20297549664974213\n",
            "Epoch 733/1600, Learning Rate: 6.318262132811699e-06, Loss: 0.35344287753105164\n",
            "Epoch 734/1600, Learning Rate: 6.2550795114835825e-06, Loss: 0.38160958886146545\n",
            "Epoch 735/1600, Learning Rate: 6.1925287163687465e-06, Loss: 0.28258591890335083\n",
            "Epoch 736/1600, Learning Rate: 6.130603429205059e-06, Loss: 0.36212271451950073\n",
            "Epoch 737/1600, Learning Rate: 6.0692973949130085e-06, Loss: 0.36805689334869385\n",
            "Epoch 738/1600, Learning Rate: 6.0086044209638785e-06, Loss: 0.26569321751594543\n",
            "Epoch 739/1600, Learning Rate: 5.948518376754239e-06, Loss: 0.3568783402442932\n",
            "Epoch 740/1600, Learning Rate: 5.889033192986697e-06, Loss: 0.38381248712539673\n",
            "Epoch 741/1600, Learning Rate: 5.83014286105683e-06, Loss: 0.4219961166381836\n",
            "Epoch 742/1600, Learning Rate: 5.771841432446262e-06, Loss: 0.3792840242385864\n",
            "Epoch 743/1600, Learning Rate: 5.7141230181217994e-06, Loss: 0.37409672141075134\n",
            "Epoch 744/1600, Learning Rate: 5.656981787940581e-06, Loss: 0.3793303668498993\n",
            "Epoch 745/1600, Learning Rate: 5.600411970061175e-06, Loss: 0.37983840703964233\n",
            "Epoch 746/1600, Learning Rate: 5.544407850360563e-06, Loss: 0.29278358817100525\n",
            "Epoch 747/1600, Learning Rate: 5.488963771856958e-06, Loss: 0.21331609785556793\n",
            "Epoch 748/1600, Learning Rate: 5.434074134138388e-06, Loss: 0.38820880651474\n",
            "Epoch 749/1600, Learning Rate: 5.379733392797004e-06, Loss: 0.3626132011413574\n",
            "Epoch 750/1600, Learning Rate: 5.325936058869034e-06, Loss: 0.26041093468666077\n",
            "Epoch 751/1600, Learning Rate: 5.272676698280344e-06, Loss: 0.316069096326828\n",
            "Epoch 752/1600, Learning Rate: 5.21994993129754e-06, Loss: 0.31595557928085327\n",
            "Epoch 753/1600, Learning Rate: 5.167750431984565e-06, Loss: 0.32779207825660706\n",
            "Epoch 754/1600, Learning Rate: 5.116072927664719e-06, Loss: 0.34057992696762085\n",
            "Epoch 755/1600, Learning Rate: 5.0649121983880715e-06, Loss: 0.4514610767364502\n",
            "Epoch 756/1600, Learning Rate: 5.0142630764041905e-06, Loss: 0.34825265407562256\n",
            "Epoch 757/1600, Learning Rate: 4.9641204456401485e-06, Loss: 0.36296001076698303\n",
            "Epoch 758/1600, Learning Rate: 4.914479241183747e-06, Loss: 0.2451842576265335\n",
            "Epoch 759/1600, Learning Rate: 4.86533444877191e-06, Loss: 0.3865288197994232\n",
            "Epoch 760/1600, Learning Rate: 4.816681104284191e-06, Loss: 0.45457059144973755\n",
            "Epoch 761/1600, Learning Rate: 4.768514293241349e-06, Loss: 0.28698602318763733\n",
            "Epoch 762/1600, Learning Rate: 4.720829150308935e-06, Loss: 0.3487835228443146\n",
            "Epoch 763/1600, Learning Rate: 4.673620858805846e-06, Loss: 0.3063276410102844\n",
            "Epoch 764/1600, Learning Rate: 4.626884650217787e-06, Loss: 0.4643605947494507\n",
            "Epoch 765/1600, Learning Rate: 4.5806158037156095e-06, Loss: 0.4488019049167633\n",
            "Epoch 766/1600, Learning Rate: 4.534809645678453e-06, Loss: 0.37011414766311646\n",
            "Epoch 767/1600, Learning Rate: 4.489461549221669e-06, Loss: 0.19305242598056793\n",
            "Epoch 768/1600, Learning Rate: 4.444566933729452e-06, Loss: 0.44639456272125244\n",
            "Epoch 769/1600, Learning Rate: 4.400121264392157e-06, Loss: 0.27263137698173523\n",
            "Epoch 770/1600, Learning Rate: 4.3561200517482355e-06, Loss: 0.5069577693939209\n",
            "Epoch 771/1600, Learning Rate: 4.312558851230753e-06, Loss: 0.21815940737724304\n",
            "Epoch 772/1600, Learning Rate: 4.269433262718446e-06, Loss: 0.2915276288986206\n",
            "Epoch 773/1600, Learning Rate: 4.226738930091261e-06, Loss: 0.210041344165802\n",
            "Epoch 774/1600, Learning Rate: 4.184471540790349e-06, Loss: 0.2675388753414154\n",
            "Epoch 775/1600, Learning Rate: 4.142626825382445e-06, Loss: 0.26016566157341003\n",
            "Epoch 776/1600, Learning Rate: 4.10120055712862e-06, Loss: 0.42124971747398376\n",
            "Epoch 777/1600, Learning Rate: 4.060188551557334e-06, Loss: 0.4961942136287689\n",
            "Epoch 778/1600, Learning Rate: 4.0195866660417606e-06, Loss: 0.30433011054992676\n",
            "Epoch 779/1600, Learning Rate: 3.979390799381343e-06, Loss: 0.29721105098724365\n",
            "Epoch 780/1600, Learning Rate: 3.93959689138753e-06, Loss: 0.2847541272640228\n",
            "Epoch 781/1600, Learning Rate: 3.900200922473654e-06, Loss: 0.3287324905395508\n",
            "Epoch 782/1600, Learning Rate: 3.861198913248918e-06, Loss: 0.3076062798500061\n",
            "Epoch 783/1600, Learning Rate: 3.822586924116428e-06, Loss: 0.29122763872146606\n",
            "Epoch 784/1600, Learning Rate: 3.784361054875264e-06, Loss: 0.23795191943645477\n",
            "Epoch 785/1600, Learning Rate: 3.746517444326511e-06, Loss: 0.29312053322792053\n",
            "Epoch 786/1600, Learning Rate: 3.709052269883246e-06, Loss: 0.4006803631782532\n",
            "Epoch 787/1600, Learning Rate: 3.6719617471844135e-06, Loss: 0.1904810070991516\n",
            "Epoch 788/1600, Learning Rate: 3.635242129712569e-06, Loss: 0.3484502136707306\n",
            "Epoch 789/1600, Learning Rate: 3.5988897084154433e-06, Loss: 0.4145565927028656\n",
            "Epoch 790/1600, Learning Rate: 3.562900811331289e-06, Loss: 0.31940871477127075\n",
            "Epoch 791/1600, Learning Rate: 3.527271803217976e-06, Loss: 0.33276209235191345\n",
            "Epoch 792/1600, Learning Rate: 3.491999085185796e-06, Loss: 0.36442625522613525\n",
            "Epoch 793/1600, Learning Rate: 3.457079094333938e-06, Loss: 0.5415422916412354\n",
            "Epoch 794/1600, Learning Rate: 3.4225083033905987e-06, Loss: 0.35247892141342163\n",
            "Epoch 795/1600, Learning Rate: 3.3882832203566927e-06, Loss: 0.41746044158935547\n",
            "Epoch 796/1600, Learning Rate: 3.354400388153126e-06, Loss: 0.3352280557155609\n",
            "Epoch 797/1600, Learning Rate: 3.3208563842715948e-06, Loss: 0.2611919045448303\n",
            "Epoch 798/1600, Learning Rate: 3.287647820428879e-06, Loss: 0.2380826771259308\n",
            "Epoch 799/1600, Learning Rate: 3.25477134222459e-06, Loss: 0.31409621238708496\n",
            "Epoch 800/1600, Learning Rate: 3.2222236288023443e-06, Loss: 0.2845838963985443\n",
            "Epoch 801/1600, Learning Rate: 3.190001392514321e-06, Loss: 0.36682093143463135\n",
            "Epoch 802/1600, Learning Rate: 3.1581013785891775e-06, Loss: 0.41743728518486023\n",
            "Epoch 803/1600, Learning Rate: 3.1265203648032856e-06, Loss: 0.254601389169693\n",
            "Epoch 804/1600, Learning Rate: 3.0952551611552528e-06, Loss: 0.3381780683994293\n",
            "Epoch 805/1600, Learning Rate: 3.0643026095437004e-06, Loss: 0.10397644340991974\n",
            "Epoch 806/1600, Learning Rate: 3.0336595834482633e-06, Loss: 0.294256329536438\n",
            "Epoch 807/1600, Learning Rate: 3.0033229876137806e-06, Loss: 0.41244202852249146\n",
            "Epoch 808/1600, Learning Rate: 2.973289757737643e-06, Loss: 0.25450897216796875\n",
            "Epoch 809/1600, Learning Rate: 2.9435568601602665e-06, Loss: 0.2908875048160553\n",
            "Epoch 810/1600, Learning Rate: 2.914121291558664e-06, Loss: 0.3257601261138916\n",
            "Epoch 811/1600, Learning Rate: 2.8849800786430774e-06, Loss: 0.35548079013824463\n",
            "Epoch 812/1600, Learning Rate: 2.8561302778566464e-06, Loss: 0.4430903494358063\n",
            "Epoch 813/1600, Learning Rate: 2.82756897507808e-06, Loss: 0.3029532730579376\n",
            "Epoch 814/1600, Learning Rate: 2.799293285327299e-06, Loss: 0.3064765930175781\n",
            "Epoch 815/1600, Learning Rate: 2.771300352474026e-06, Loss: 0.2754705846309662\n",
            "Epoch 816/1600, Learning Rate: 2.7435873489492856e-06, Loss: 0.19354966282844543\n",
            "Epoch 817/1600, Learning Rate: 2.7161514754597925e-06, Loss: 0.44681066274642944\n",
            "Epoch 818/1600, Learning Rate: 2.6889899607051947e-06, Loss: 0.2148411124944687\n",
            "Epoch 819/1600, Learning Rate: 2.6621000610981427e-06, Loss: 0.4117751717567444\n",
            "Epoch 820/1600, Learning Rate: 2.635479060487161e-06, Loss: 0.34115052223205566\n",
            "Epoch 821/1600, Learning Rate: 2.6091242698822894e-06, Loss: 0.37485677003860474\n",
            "Epoch 822/1600, Learning Rate: 2.5830330271834666e-06, Loss: 0.3521016538143158\n",
            "Epoch 823/1600, Learning Rate: 2.557202696911632e-06, Loss: 0.3629753887653351\n",
            "Epoch 824/1600, Learning Rate: 2.5316306699425154e-06, Loss: 0.26902708411216736\n",
            "Epoch 825/1600, Learning Rate: 2.50631436324309e-06, Loss: 0.25615376234054565\n",
            "Epoch 826/1600, Learning Rate: 2.481251219610659e-06, Loss: 0.27465569972991943\n",
            "Epoch 827/1600, Learning Rate: 2.4564387074145525e-06, Loss: 0.30101048946380615\n",
            "Epoch 828/1600, Learning Rate: 2.431874320340407e-06, Loss: 0.269305557012558\n",
            "Epoch 829/1600, Learning Rate: 2.4075555771370026e-06, Loss: 0.2852884829044342\n",
            "Epoch 830/1600, Learning Rate: 2.3834800213656328e-06, Loss: 0.4169294238090515\n",
            "Epoch 831/1600, Learning Rate: 2.3596452211519766e-06, Loss: 0.36797308921813965\n",
            "Epoch 832/1600, Learning Rate: 2.336048768940457e-06, Loss: 0.3853537142276764\n",
            "Epoch 833/1600, Learning Rate: 2.312688281251052e-06, Loss: 0.3480764925479889\n",
            "Epoch 834/1600, Learning Rate: 2.2895613984385416e-06, Loss: 0.3479520380496979\n",
            "Epoch 835/1600, Learning Rate: 2.266665784454156e-06, Loss: 0.28518813848495483\n",
            "Epoch 836/1600, Learning Rate: 2.2439991266096143e-06, Loss: 0.32242175936698914\n",
            "Epoch 837/1600, Learning Rate: 2.221559135343518e-06, Loss: 0.28759393095970154\n",
            "Epoch 838/1600, Learning Rate: 2.1993435439900828e-06, Loss: 0.5231743454933167\n",
            "Epoch 839/1600, Learning Rate: 2.1773501085501817e-06, Loss: 0.49126192927360535\n",
            "Epoch 840/1600, Learning Rate: 2.15557660746468e-06, Loss: 0.2842555046081543\n",
            "Epoch 841/1600, Learning Rate: 2.134020841390033e-06, Loss: 0.46363794803619385\n",
            "Epoch 842/1600, Learning Rate: 2.112680632976133e-06, Loss: 0.33364003896713257\n",
            "Epoch 843/1600, Learning Rate: 2.0915538266463713e-06, Loss: 0.2832795977592468\n",
            "Epoch 844/1600, Learning Rate: 2.0706382883799075e-06, Loss: 0.2255573272705078\n",
            "Epoch 845/1600, Learning Rate: 2.0499319054961085e-06, Loss: 0.3113732933998108\n",
            "Epoch 846/1600, Learning Rate: 2.0294325864411473e-06, Loss: 0.5890093445777893\n",
            "Epoch 847/1600, Learning Rate: 2.0091382605767357e-06, Loss: 0.4067586660385132\n",
            "Epoch 848/1600, Learning Rate: 1.9890468779709683e-06, Loss: 0.28007984161376953\n",
            "Epoch 849/1600, Learning Rate: 1.9691564091912586e-06, Loss: 0.37687957286834717\n",
            "Epoch 850/1600, Learning Rate: 1.949464845099346e-06, Loss: 0.3455614447593689\n",
            "Epoch 851/1600, Learning Rate: 1.9299701966483525e-06, Loss: 0.21920764446258545\n",
            "Epoch 852/1600, Learning Rate: 1.910670494681869e-06, Loss: 0.22876609861850739\n",
            "Epoch 853/1600, Learning Rate: 1.8915637897350502e-06, Loss: 0.3961421847343445\n",
            "Epoch 854/1600, Learning Rate: 1.8726481518376996e-06, Loss: 0.3810887634754181\n",
            "Epoch 855/1600, Learning Rate: 1.8539216703193227e-06, Loss: 0.3703921437263489\n",
            "Epoch 856/1600, Learning Rate: 1.8353824536161295e-06, Loss: 0.33118221163749695\n",
            "Epoch 857/1600, Learning Rate: 1.817028629079968e-06, Loss: 0.5241163969039917\n",
            "Epoch 858/1600, Learning Rate: 1.7988583427891684e-06, Loss: 0.27540576457977295\n",
            "Epoch 859/1600, Learning Rate: 1.7808697593612768e-06, Loss: 0.28695592284202576\n",
            "Epoch 860/1600, Learning Rate: 1.763061061767664e-06, Loss: 0.3140358626842499\n",
            "Epoch 861/1600, Learning Rate: 1.7454304511499874e-06, Loss: 0.33036017417907715\n",
            "Epoch 862/1600, Learning Rate: 1.7279761466384874e-06, Loss: 0.2786381244659424\n",
            "Epoch 863/1600, Learning Rate: 1.7106963851721026e-06, Loss: 0.20445020496845245\n",
            "Epoch 864/1600, Learning Rate: 1.6935894213203816e-06, Loss: 0.3231106400489807\n",
            "Epoch 865/1600, Learning Rate: 1.6766535271071777e-06, Loss: 0.3631298542022705\n",
            "Epoch 866/1600, Learning Rate: 1.659886991836106e-06, Loss: 0.32546475529670715\n",
            "Epoch 867/1600, Learning Rate: 1.6432881219177447e-06, Loss: 0.39033621549606323\n",
            "Epoch 868/1600, Learning Rate: 1.6268552406985672e-06, Loss: 0.3413846790790558\n",
            "Epoch 869/1600, Learning Rate: 1.6105866882915816e-06, Loss: 0.299804151058197\n",
            "Epoch 870/1600, Learning Rate: 1.5944808214086658e-06, Loss: 0.2760361433029175\n",
            "Epoch 871/1600, Learning Rate: 1.578536013194579e-06, Loss: 0.28734368085861206\n",
            "Epoch 872/1600, Learning Rate: 1.5627506530626331e-06, Loss: 0.42134130001068115\n",
            "Epoch 873/1600, Learning Rate: 1.5471231465320069e-06, Loss: 0.43096470832824707\n",
            "Epoch 874/1600, Learning Rate: 1.5316519150666867e-06, Loss: 0.40730947256088257\n",
            "Epoch 875/1600, Learning Rate: 1.51633539591602e-06, Loss: 0.39521661400794983\n",
            "Epoch 876/1600, Learning Rate: 1.5011720419568597e-06, Loss: 0.35409218072891235\n",
            "Epoch 877/1600, Learning Rate: 1.486160321537291e-06, Loss: 0.26807501912117004\n",
            "Epoch 878/1600, Learning Rate: 1.471298718321918e-06, Loss: 0.33949875831604004\n",
            "Epoch 879/1600, Learning Rate: 1.4565857311386989e-06, Loss: 0.2543085515499115\n",
            "Epoch 880/1600, Learning Rate: 1.4420198738273118e-06, Loss: 0.2583528757095337\n",
            "Epoch 881/1600, Learning Rate: 1.4275996750890387e-06, Loss: 0.261716365814209\n",
            "Epoch 882/1600, Learning Rate: 1.4133236783381483e-06, Loss: 0.4242197275161743\n",
            "Epoch 883/1600, Learning Rate: 1.3991904415547668e-06, Loss: 0.2767719030380249\n",
            "Epoch 884/1600, Learning Rate: 1.3851985371392192e-06, Loss: 0.3288217782974243\n",
            "Epoch 885/1600, Learning Rate: 1.371346551767827e-06, Loss: 0.4785183370113373\n",
            "Epoch 886/1600, Learning Rate: 1.3576330862501486e-06, Loss: 0.4210854470729828\n",
            "Epoch 887/1600, Learning Rate: 1.344056755387647e-06, Loss: 0.37898099422454834\n",
            "Epoch 888/1600, Learning Rate: 1.3306161878337705e-06, Loss: 0.4722119867801666\n",
            "Epoch 889/1600, Learning Rate: 1.3173100259554327e-06, Loss: 0.2811085283756256\n",
            "Epoch 890/1600, Learning Rate: 1.3041369256958784e-06, Loss: 0.34766632318496704\n",
            "Epoch 891/1600, Learning Rate: 1.2910955564389195e-06, Loss: 0.1973550170660019\n",
            "Epoch 892/1600, Learning Rate: 1.2781846008745303e-06, Loss: 0.39407381415367126\n",
            "Epoch 893/1600, Learning Rate: 1.265402754865785e-06, Loss: 0.4087952971458435\n",
            "Epoch 894/1600, Learning Rate: 1.2527487273171272e-06, Loss: 0.23415744304656982\n",
            "Epoch 895/1600, Learning Rate: 1.240221240043956e-06, Loss: 0.23604661226272583\n",
            "Epoch 896/1600, Learning Rate: 1.2278190276435164e-06, Loss: 0.40703460574150085\n",
            "Epoch 897/1600, Learning Rate: 1.2155408373670813e-06, Loss: 0.3602756857872009\n",
            "Epoch 898/1600, Learning Rate: 1.2033854289934105e-06, Loss: 0.29586881399154663\n",
            "Epoch 899/1600, Learning Rate: 1.1913515747034764e-06, Loss: 0.28057247400283813\n",
            "Epoch 900/1600, Learning Rate: 1.1794380589564415e-06, Loss: 0.3228689432144165\n",
            "Epoch 901/1600, Learning Rate: 1.1676436783668772e-06, Loss: 0.21613754332065582\n",
            "Epoch 902/1600, Learning Rate: 1.1559672415832083e-06, Loss: 0.3202943503856659\n",
            "Epoch 903/1600, Learning Rate: 1.1444075691673763e-06, Loss: 0.3808497190475464\n",
            "Epoch 904/1600, Learning Rate: 1.1329634934757026e-06, Loss: 0.19959557056427002\n",
            "Epoch 905/1600, Learning Rate: 1.1216338585409455e-06, Loss: 0.26727306842803955\n",
            "Epoch 906/1600, Learning Rate: 1.110417519955536e-06, Loss: 0.2759582996368408\n",
            "Epoch 907/1600, Learning Rate: 1.0993133447559806e-06, Loss: 0.3806704580783844\n",
            "Epoch 908/1600, Learning Rate: 1.0883202113084208e-06, Loss: 0.5666350722312927\n",
            "Epoch 909/1600, Learning Rate: 1.0774370091953365e-06, Loss: 0.41946887969970703\n",
            "Epoch 910/1600, Learning Rate: 1.0666626391033831e-06, Loss: 0.345294326543808\n",
            "Epoch 911/1600, Learning Rate: 1.0559960127123493e-06, Loss: 0.38030022382736206\n",
            "Epoch 912/1600, Learning Rate: 1.0454360525852258e-06, Loss: 0.2858138084411621\n",
            "Epoch 913/1600, Learning Rate: 1.0349816920593735e-06, Loss: 0.3711354732513428\n",
            "Epoch 914/1600, Learning Rate: 1.0246318751387798e-06, Loss: 0.2224111258983612\n",
            "Epoch 915/1600, Learning Rate: 1.0143855563873919e-06, Loss: 0.4886353313922882\n",
            "Epoch 916/1600, Learning Rate: 1.004241700823518e-06, Loss: 0.3546714186668396\n",
            "Epoch 917/1600, Learning Rate: 9.941992838152828e-07, Loss: 0.2427392303943634\n",
            "Epoch 918/1600, Learning Rate: 9.8425729097713e-07, Loss: 0.2901418209075928\n",
            "Epoch 919/1600, Learning Rate: 9.744147180673586e-07, Loss: 0.307748407125473\n",
            "Epoch 920/1600, Learning Rate: 9.64670570886685e-07, Loss: 0.40419143438339233\n",
            "Epoch 921/1600, Learning Rate: 9.55023865177818e-07, Loss: 0.29166528582572937\n",
            "Epoch 922/1600, Learning Rate: 9.454736265260399e-07, Loss: 0.5258456468582153\n",
            "Epoch 923/1600, Learning Rate: 9.360188902607795e-07, Loss: 0.2510281801223755\n",
            "Epoch 924/1600, Learning Rate: 9.266587013581717e-07, Loss: 0.4212031960487366\n",
            "Epoch 925/1600, Learning Rate: 9.173921143445899e-07, Loss: 0.46370983123779297\n",
            "Epoch 926/1600, Learning Rate: 9.08218193201144e-07, Loss: 0.2729467749595642\n",
            "Epoch 927/1600, Learning Rate: 8.991360112691326e-07, Loss: 0.344827800989151\n",
            "Epoch 928/1600, Learning Rate: 8.901446511564413e-07, Loss: 0.3093213140964508\n",
            "Epoch 929/1600, Learning Rate: 8.812432046448769e-07, Loss: 0.333221971988678\n",
            "Epoch 930/1600, Learning Rate: 8.724307725984282e-07, Loss: 0.3817535936832428\n",
            "Epoch 931/1600, Learning Rate: 8.637064648724439e-07, Loss: 0.22324354946613312\n",
            "Epoch 932/1600, Learning Rate: 8.550694002237194e-07, Loss: 0.45620235800743103\n",
            "Epoch 933/1600, Learning Rate: 8.465187062214822e-07, Loss: 0.25825944542884827\n",
            "Epoch 934/1600, Learning Rate: 8.380535191592674e-07, Loss: 0.2916259467601776\n",
            "Epoch 935/1600, Learning Rate: 8.296729839676747e-07, Loss: 0.21927598118782043\n",
            "Epoch 936/1600, Learning Rate: 8.213762541279979e-07, Loss: 0.4109407961368561\n",
            "Epoch 937/1600, Learning Rate: 8.131624915867179e-07, Loss: 0.3685808479785919\n",
            "Epoch 938/1600, Learning Rate: 8.050308666708507e-07, Loss: 0.43559640645980835\n",
            "Epoch 939/1600, Learning Rate: 7.969805580041421e-07, Loss: 0.17939980328083038\n",
            "Epoch 940/1600, Learning Rate: 7.890107524241007e-07, Loss: 0.28093162178993225\n",
            "Epoch 941/1600, Learning Rate: 7.811206448998597e-07, Loss: 0.3631787896156311\n",
            "Epoch 942/1600, Learning Rate: 7.733094384508611e-07, Loss: 0.34601685404777527\n",
            "Epoch 943/1600, Learning Rate: 7.655763440663525e-07, Loss: 0.29112809896469116\n",
            "Epoch 944/1600, Learning Rate: 7.579205806256889e-07, Loss: 0.3738814890384674\n",
            "Epoch 945/1600, Learning Rate: 7.50341374819432e-07, Loss: 0.30784696340560913\n",
            "Epoch 946/1600, Learning Rate: 7.428379610712378e-07, Loss: 0.4196610152721405\n",
            "Epoch 947/1600, Learning Rate: 7.354095814605254e-07, Loss: 0.34936925768852234\n",
            "Epoch 948/1600, Learning Rate: 7.280554856459201e-07, Loss: 0.3872953951358795\n",
            "Epoch 949/1600, Learning Rate: 7.207749307894608e-07, Loss: 0.3177032172679901\n",
            "Epoch 950/1600, Learning Rate: 7.135671814815662e-07, Loss: 0.4464106857776642\n",
            "Epoch 951/1600, Learning Rate: 7.064315096667505e-07, Loss: 0.3217813968658447\n",
            "Epoch 952/1600, Learning Rate: 6.993671945700831e-07, Loss: 0.34142011404037476\n",
            "Epoch 953/1600, Learning Rate: 6.923735226243822e-07, Loss: 0.33628588914871216\n",
            "Epoch 954/1600, Learning Rate: 6.854497873981384e-07, Loss: 0.2997089624404907\n",
            "Epoch 955/1600, Learning Rate: 6.78595289524157e-07, Loss: 0.36184242367744446\n",
            "Epoch 956/1600, Learning Rate: 6.718093366289155e-07, Loss: 0.361105352640152\n",
            "Epoch 957/1600, Learning Rate: 6.650912432626263e-07, Loss: 0.35778674483299255\n",
            "Epoch 958/1600, Learning Rate: 6.5844033083e-07, Loss: 0.2645191550254822\n",
            "Epoch 959/1600, Learning Rate: 6.518559275216999e-07, Loss: 0.37046369910240173\n",
            "Epoch 960/1600, Learning Rate: 6.453373682464829e-07, Loss: 0.41190123558044434\n",
            "Epoch 961/1600, Learning Rate: 6.388839945640181e-07, Loss: 0.330111563205719\n",
            "Epoch 962/1600, Learning Rate: 6.324951546183779e-07, Loss: 0.23661111295223236\n",
            "Epoch 963/1600, Learning Rate: 6.26170203072194e-07, Loss: 0.43130943179130554\n",
            "Epoch 964/1600, Learning Rate: 6.199085010414721e-07, Loss: 0.325870156288147\n",
            "Epoch 965/1600, Learning Rate: 6.137094160310574e-07, Loss: 0.35047829151153564\n",
            "Epoch 966/1600, Learning Rate: 6.075723218707469e-07, Loss: 0.3558204770088196\n",
            "Epoch 967/1600, Learning Rate: 6.014965986520394e-07, Loss: 0.3311309516429901\n",
            "Epoch 968/1600, Learning Rate: 5.95481632665519e-07, Loss: 0.4412432312965393\n",
            "Epoch 969/1600, Learning Rate: 5.895268163388638e-07, Loss: 0.38135287165641785\n",
            "Epoch 970/1600, Learning Rate: 5.836315481754752e-07, Loss: 0.3391917049884796\n",
            "Epoch 971/1600, Learning Rate: 5.777952326937204e-07, Loss: 0.3241569697856903\n",
            "Epoch 972/1600, Learning Rate: 5.720172803667831e-07, Loss: 0.3727509677410126\n",
            "Epoch 973/1600, Learning Rate: 5.662971075631153e-07, Loss: 0.30960211157798767\n",
            "Epoch 974/1600, Learning Rate: 5.606341364874841e-07, Loss: 0.2154182493686676\n",
            "Epoch 975/1600, Learning Rate: 5.550277951226093e-07, Loss: 0.24515751004219055\n",
            "Epoch 976/1600, Learning Rate: 5.494775171713832e-07, Loss: 0.2898404002189636\n",
            "Epoch 977/1600, Learning Rate: 5.439827419996694e-07, Loss: 0.3684268593788147\n",
            "Epoch 978/1600, Learning Rate: 5.385429145796728e-07, Loss: 0.4209628403186798\n",
            "Epoch 979/1600, Learning Rate: 5.33157485433876e-07, Loss: 0.2872556149959564\n",
            "Epoch 980/1600, Learning Rate: 5.278259105795372e-07, Loss: 0.3048633635044098\n",
            "Epoch 981/1600, Learning Rate: 5.225476514737419e-07, Loss: 0.40267863869667053\n",
            "Epoch 982/1600, Learning Rate: 5.173221749590044e-07, Loss: 0.22486546635627747\n",
            "Epoch 983/1600, Learning Rate: 5.121489532094143e-07, Loss: 0.39286771416664124\n",
            "Epoch 984/1600, Learning Rate: 5.070274636773202e-07, Loss: 0.39908045530319214\n",
            "Epoch 985/1600, Learning Rate: 5.01957189040547e-07, Loss: 0.31994497776031494\n",
            "Epoch 986/1600, Learning Rate: 4.969376171501415e-07, Loss: 0.407025009393692\n",
            "Epoch 987/1600, Learning Rate: 4.919682409786401e-07, Loss: 0.35772785544395447\n",
            "Epoch 988/1600, Learning Rate: 4.870485585688537e-07, Loss: 0.4318322241306305\n",
            "Epoch 989/1600, Learning Rate: 4.821780729831651e-07, Loss: 0.2251816689968109\n",
            "Epoch 990/1600, Learning Rate: 4.773562922533335e-07, Loss: 0.4225998818874359\n",
            "Epoch 991/1600, Learning Rate: 4.7258272933080015e-07, Loss: 0.32861191034317017\n",
            "Epoch 992/1600, Learning Rate: 4.6785690203749216e-07, Loss: 0.20904000103473663\n",
            "Epoch 993/1600, Learning Rate: 4.6317833301711725e-07, Loss: 0.20726945996284485\n",
            "Epoch 994/1600, Learning Rate: 4.5854654968694606e-07, Loss: 0.28358009457588196\n",
            "Epoch 995/1600, Learning Rate: 4.539610841900766e-07, Loss: 0.4435963034629822\n",
            "Epoch 996/1600, Learning Rate: 4.4942147334817586e-07, Loss: 0.4261655807495117\n",
            "Epoch 997/1600, Learning Rate: 4.449272586146941e-07, Loss: 0.42922747135162354\n",
            "Epoch 998/1600, Learning Rate: 4.4047798602854717e-07, Loss: 0.3181504011154175\n",
            "Epoch 999/1600, Learning Rate: 4.360732061682617e-07, Loss: 0.4437014162540436\n",
            "Epoch 1000/1600, Learning Rate: 4.317124741065791e-07, Loss: 0.23640076816082\n",
            "Epoch 1001/1600, Learning Rate: 4.273953493655133e-07, Loss: 0.39001429080963135\n",
            "Epoch 1002/1600, Learning Rate: 4.2312139587185813e-07, Loss: 0.3552550673484802\n",
            "Epoch 1003/1600, Learning Rate: 4.1889018191313956e-07, Loss: 0.2536315619945526\n",
            "Epoch 1004/1600, Learning Rate: 4.147012800940082e-07, Loss: 0.27502989768981934\n",
            "Epoch 1005/1600, Learning Rate: 4.105542672930681e-07, Loss: 0.3181168735027313\n",
            "Epoch 1006/1600, Learning Rate: 4.064487246201374e-07, Loss: 0.26157882809638977\n",
            "Epoch 1007/1600, Learning Rate: 4.0238423737393603e-07, Loss: 0.38204559683799744\n",
            "Epoch 1008/1600, Learning Rate: 3.9836039500019665e-07, Loss: 0.2918386459350586\n",
            "Epoch 1009/1600, Learning Rate: 3.9437679105019466e-07, Loss: 0.37531402707099915\n",
            "Epoch 1010/1600, Learning Rate: 3.904330231396927e-07, Loss: 0.4176866412162781\n",
            "Epoch 1011/1600, Learning Rate: 3.865286929082958e-07, Loss: 0.28616324067115784\n",
            "Epoch 1012/1600, Learning Rate: 3.8266340597921284e-07, Loss: 0.3039441704750061\n",
            "Epoch 1013/1600, Learning Rate: 3.788367719194207e-07, Loss: 0.27094611525535583\n",
            "Epoch 1014/1600, Learning Rate: 3.750484042002265e-07, Loss: 0.5064579248428345\n",
            "Epoch 1015/1600, Learning Rate: 3.7129792015822424e-07, Loss: 0.3486034572124481\n",
            "Epoch 1016/1600, Learning Rate: 3.67584940956642e-07, Loss: 0.5283086895942688\n",
            "Epoch 1017/1600, Learning Rate: 3.6390909154707557e-07, Loss: 0.3108673691749573\n",
            "Epoch 1018/1600, Learning Rate: 3.602700006316048e-07, Loss: 0.33719906210899353\n",
            "Epoch 1019/1600, Learning Rate: 3.5666730062528875e-07, Loss: 0.34735772013664246\n",
            "Epoch 1020/1600, Learning Rate: 3.531006276190359e-07, Loss: 0.3157825171947479\n",
            "Epoch 1021/1600, Learning Rate: 3.495696213428455e-07, Loss: 0.3126138150691986\n",
            "Epoch 1022/1600, Learning Rate: 3.46073925129417e-07, Loss: 0.19034892320632935\n",
            "Epoch 1023/1600, Learning Rate: 3.4261318587812285e-07, Loss: 0.25862041115760803\n",
            "Epoch 1024/1600, Learning Rate: 3.3918705401934164e-07, Loss: 0.43860772252082825\n",
            "Epoch 1025/1600, Learning Rate: 3.3579518347914825e-07, Loss: 0.3316308557987213\n",
            "Epoch 1026/1600, Learning Rate: 3.3243723164435675e-07, Loss: 0.41863813996315\n",
            "Epoch 1027/1600, Learning Rate: 3.291128593279132e-07, Loss: 0.22167155146598816\n",
            "Epoch 1028/1600, Learning Rate: 3.258217307346341e-07, Loss: 0.32277873158454895\n",
            "Epoch 1029/1600, Learning Rate: 3.225635134272877e-07, Loss: 0.2832496166229248\n",
            "Epoch 1030/1600, Learning Rate: 3.1933787829301483e-07, Loss: 0.3198680281639099\n",
            "Epoch 1031/1600, Learning Rate: 3.1614449951008466e-07, Loss: 0.17036758363246918\n",
            "Epoch 1032/1600, Learning Rate: 3.129830545149838e-07, Loss: 0.401653528213501\n",
            "Epoch 1033/1600, Learning Rate: 3.0985322396983396e-07, Loss: 0.2722241282463074\n",
            "Epoch 1034/1600, Learning Rate: 3.067546917301356e-07, Loss: 0.24456265568733215\n",
            "Epoch 1035/1600, Learning Rate: 3.0368714481283426e-07, Loss: 0.31402990221977234\n",
            "Epoch 1036/1600, Learning Rate: 3.0065027336470594e-07, Loss: 0.20752426981925964\n",
            "Epoch 1037/1600, Learning Rate: 2.976437706310589e-07, Loss: 0.17230093479156494\n",
            "Epoch 1038/1600, Learning Rate: 2.946673329247483e-07, Loss: 0.3174237906932831\n",
            "Epoch 1039/1600, Learning Rate: 2.917206595955008e-07, Loss: 0.2559013366699219\n",
            "Epoch 1040/1600, Learning Rate: 2.888034529995458e-07, Loss: 0.42834731936454773\n",
            "Epoch 1041/1600, Learning Rate: 2.8591541846955034e-07, Loss: 0.2665266692638397\n",
            "Epoch 1042/1600, Learning Rate: 2.8305626428485485e-07, Loss: 0.40269047021865845\n",
            "Epoch 1043/1600, Learning Rate: 2.802257016420063e-07, Loss: 0.39307674765586853\n",
            "Epoch 1044/1600, Learning Rate: 2.774234446255862e-07, Loss: 0.2965439260005951\n",
            "Epoch 1045/1600, Learning Rate: 2.7464921017933036e-07, Loss: 0.30307191610336304\n",
            "Epoch 1046/1600, Learning Rate: 2.7190271807753703e-07, Loss: 0.32699209451675415\n",
            "Epoch 1047/1600, Learning Rate: 2.6918369089676164e-07, Loss: 0.3078240752220154\n",
            "Epoch 1048/1600, Learning Rate: 2.6649185398779404e-07, Loss: 0.3523727059364319\n",
            "Epoch 1049/1600, Learning Rate: 2.638269354479161e-07, Loss: 0.32324835658073425\n",
            "Epoch 1050/1600, Learning Rate: 2.6118866609343695e-07, Loss: 0.43360233306884766\n",
            "Epoch 1051/1600, Learning Rate: 2.585767794325026e-07, Loss: 0.17751768231391907\n",
            "Epoch 1052/1600, Learning Rate: 2.5599101163817756e-07, Loss: 0.4501374661922455\n",
            "Epoch 1053/1600, Learning Rate: 2.534311015217958e-07, Loss: 0.3742366433143616\n",
            "Epoch 1054/1600, Learning Rate: 2.508967905065778e-07, Loss: 0.22815027832984924\n",
            "Epoch 1055/1600, Learning Rate: 2.4838782260151203e-07, Loss: 0.34023940563201904\n",
            "Epoch 1056/1600, Learning Rate: 2.459039443754969e-07, Loss: 0.2349155992269516\n",
            "Epoch 1057/1600, Learning Rate: 2.434449049317419e-07, Loss: 0.44713252782821655\n",
            "Epoch 1058/1600, Learning Rate: 2.410104558824245e-07, Loss: 0.2901113033294678\n",
            "Epoch 1059/1600, Learning Rate: 2.3860035132360024e-07, Loss: 0.2570202648639679\n",
            "Epoch 1060/1600, Learning Rate: 2.3621434781036424e-07, Loss: 0.3199461102485657\n",
            "Epoch 1061/1600, Learning Rate: 2.338522043322606e-07, Loss: 0.4027772545814514\n",
            "Epoch 1062/1600, Learning Rate: 2.31513682288938e-07, Loss: 0.3674054741859436\n",
            "Epoch 1063/1600, Learning Rate: 2.2919854546604862e-07, Loss: 0.36374685168266296\n",
            "Epoch 1064/1600, Learning Rate: 2.2690656001138815e-07, Loss: 0.3233594298362732\n",
            "Epoch 1065/1600, Learning Rate: 2.2463749441127427e-07, Loss: 0.38888972997665405\n",
            "Epoch 1066/1600, Learning Rate: 2.2239111946716152e-07, Loss: 0.41505709290504456\n",
            "Epoch 1067/1600, Learning Rate: 2.201672082724899e-07, Loss: 0.34794026613235474\n",
            "Epoch 1068/1600, Learning Rate: 2.17965536189765e-07, Loss: 0.20716875791549683\n",
            "Epoch 1069/1600, Learning Rate: 2.1578588082786733e-07, Loss: 0.3918699026107788\n",
            "Epoch 1070/1600, Learning Rate: 2.1362802201958866e-07, Loss: 0.21171022951602936\n",
            "Epoch 1071/1600, Learning Rate: 2.1149174179939276e-07, Loss: 0.2712813913822174\n",
            "Epoch 1072/1600, Learning Rate: 2.0937682438139883e-07, Loss: 0.3229518234729767\n",
            "Epoch 1073/1600, Learning Rate: 2.0728305613758484e-07, Loss: 0.2016812264919281\n",
            "Epoch 1074/1600, Learning Rate: 2.05210225576209e-07, Loss: 0.20379994809627533\n",
            "Epoch 1075/1600, Learning Rate: 2.031581233204469e-07, Loss: 0.33347785472869873\n",
            "Epoch 1076/1600, Learning Rate: 2.0112654208724244e-07, Loss: 0.2992880046367645\n",
            "Epoch 1077/1600, Learning Rate: 1.9911527666637002e-07, Loss: 0.2605096995830536\n",
            "Epoch 1078/1600, Learning Rate: 1.971241238997063e-07, Loss: 0.21669968962669373\n",
            "Epoch 1079/1600, Learning Rate: 1.9515288266070925e-07, Loss: 0.4913516640663147\n",
            "Epoch 1080/1600, Learning Rate: 1.9320135383410216e-07, Loss: 0.27233240008354187\n",
            "Epoch 1081/1600, Learning Rate: 1.9126934029576115e-07, Loss: 0.3230542838573456\n",
            "Epoch 1082/1600, Learning Rate: 1.8935664689280354e-07, Loss: 0.6125544309616089\n",
            "Epoch 1083/1600, Learning Rate: 1.874630804238755e-07, Loss: 0.3364386260509491\n",
            "Epoch 1084/1600, Learning Rate: 1.8558844961963673e-07, Loss: 0.2924492061138153\n",
            "Epoch 1085/1600, Learning Rate: 1.8373256512344037e-07, Loss: 0.2865275740623474\n",
            "Epoch 1086/1600, Learning Rate: 1.8189523947220596e-07, Loss: 0.36973732709884644\n",
            "Epoch 1087/1600, Learning Rate: 1.800762870774839e-07, Loss: 0.45012760162353516\n",
            "Epoch 1088/1600, Learning Rate: 1.7827552420670904e-07, Loss: 0.3338306248188019\n",
            "Epoch 1089/1600, Learning Rate: 1.7649276896464196e-07, Loss: 0.312313973903656\n",
            "Epoch 1090/1600, Learning Rate: 1.7472784127499553e-07, Loss: 0.367637574672699\n",
            "Epoch 1091/1600, Learning Rate: 1.7298056286224556e-07, Loss: 0.3506334722042084\n",
            "Epoch 1092/1600, Learning Rate: 1.712507572336231e-07, Loss: 0.2867017388343811\n",
            "Epoch 1093/1600, Learning Rate: 1.6953824966128685e-07, Loss: 0.33524322509765625\n",
            "Epoch 1094/1600, Learning Rate: 1.6784286716467397e-07, Loss: 0.5207942128181458\n",
            "Epoch 1095/1600, Learning Rate: 1.6616443849302723e-07, Loss: 0.22993728518486023\n",
            "Epoch 1096/1600, Learning Rate: 1.6450279410809696e-07, Loss: 0.32388415932655334\n",
            "Epoch 1097/1600, Learning Rate: 1.6285776616701598e-07, Loss: 0.313568115234375\n",
            "Epoch 1098/1600, Learning Rate: 1.6122918850534583e-07, Loss: 0.3190198540687561\n",
            "Epoch 1099/1600, Learning Rate: 1.5961689662029238e-07, Loss: 0.28988945484161377\n",
            "Epoch 1100/1600, Learning Rate: 1.5802072765408945e-07, Loss: 0.29151004552841187\n",
            "Epoch 1101/1600, Learning Rate: 1.5644052037754855e-07, Loss: 0.47618547081947327\n",
            "Epoch 1102/1600, Learning Rate: 1.5487611517377305e-07, Loss: 0.3254455029964447\n",
            "Epoch 1103/1600, Learning Rate: 1.5332735402203532e-07, Loss: 0.2906421422958374\n",
            "Epoch 1104/1600, Learning Rate: 1.5179408048181496e-07, Loss: 0.3202584683895111\n",
            "Epoch 1105/1600, Learning Rate: 1.5027613967699682e-07, Loss: 0.3285398483276367\n",
            "Epoch 1106/1600, Learning Rate: 1.4877337828022685e-07, Loss: 0.32611727714538574\n",
            "Epoch 1107/1600, Learning Rate: 1.472856444974246e-07, Loss: 0.3664269745349884\n",
            "Epoch 1108/1600, Learning Rate: 1.4581278805245035e-07, Loss: 0.3446744680404663\n",
            "Epoch 1109/1600, Learning Rate: 1.4435466017192586e-07, Loss: 0.22216810286045074\n",
            "Epoch 1110/1600, Learning Rate: 1.429111135702066e-07, Loss: 0.32453620433807373\n",
            "Epoch 1111/1600, Learning Rate: 1.4148200243450453e-07, Loss: 0.3734460771083832\n",
            "Epoch 1112/1600, Learning Rate: 1.4006718241015948e-07, Loss: 0.39696240425109863\n",
            "Epoch 1113/1600, Learning Rate: 1.386665105860579e-07, Loss: 0.3702687919139862\n",
            "Epoch 1114/1600, Learning Rate: 1.3727984548019731e-07, Loss: 0.25357434153556824\n",
            "Epoch 1115/1600, Learning Rate: 1.3590704702539533e-07, Loss: 0.4434022903442383\n",
            "Epoch 1116/1600, Learning Rate: 1.3454797655514138e-07, Loss: 0.4817615747451782\n",
            "Epoch 1117/1600, Learning Rate: 1.3320249678958998e-07, Loss: 0.4622904360294342\n",
            "Epoch 1118/1600, Learning Rate: 1.3187047182169408e-07, Loss: 0.4371674358844757\n",
            "Epoch 1119/1600, Learning Rate: 1.3055176710347714e-07, Loss: 0.3869854509830475\n",
            "Epoch 1120/1600, Learning Rate: 1.2924624943244237e-07, Loss: 0.3135666847229004\n",
            "Epoch 1121/1600, Learning Rate: 1.2795378693811795e-07, Loss: 0.463144987821579\n",
            "Epoch 1122/1600, Learning Rate: 1.2667424906873677e-07, Loss: 0.3347308337688446\n",
            "Epoch 1123/1600, Learning Rate: 1.254075065780494e-07, Loss: 0.18490397930145264\n",
            "Epoch 1124/1600, Learning Rate: 1.241534315122689e-07, Loss: 0.32416611909866333\n",
            "Epoch 1125/1600, Learning Rate: 1.229118971971462e-07, Loss: 0.4297811985015869\n",
            "Epoch 1126/1600, Learning Rate: 1.2168277822517474e-07, Loss: 0.4280828833580017\n",
            "Epoch 1127/1600, Learning Rate: 1.20465950442923e-07, Loss: 0.33034300804138184\n",
            "Epoch 1128/1600, Learning Rate: 1.1926129093849376e-07, Loss: 0.31973597407341003\n",
            "Epoch 1129/1600, Learning Rate: 1.1806867802910882e-07, Loss: 0.40229475498199463\n",
            "Epoch 1130/1600, Learning Rate: 1.1688799124881773e-07, Loss: 0.39063307642936707\n",
            "Epoch 1131/1600, Learning Rate: 1.1571911133632956e-07, Loss: 0.33333152532577515\n",
            "Epoch 1132/1600, Learning Rate: 1.1456192022296626e-07, Loss: 0.4935329854488373\n",
            "Epoch 1133/1600, Learning Rate: 1.1341630102073659e-07, Loss: 0.4274795651435852\n",
            "Epoch 1134/1600, Learning Rate: 1.1228213801052923e-07, Loss: 0.3821336328983307\n",
            "Epoch 1135/1600, Learning Rate: 1.1115931663042393e-07, Loss: 0.3951255679130554\n",
            "Epoch 1136/1600, Learning Rate: 1.100477234641197e-07, Loss: 0.41290682554244995\n",
            "Epoch 1137/1600, Learning Rate: 1.0894724622947849e-07, Loss: 0.3159272372722626\n",
            "Epoch 1138/1600, Learning Rate: 1.078577737671837e-07, Loss: 0.3926538825035095\n",
            "Epoch 1139/1600, Learning Rate: 1.0677919602951186e-07, Loss: 0.38924866914749146\n",
            "Epoch 1140/1600, Learning Rate: 1.0571140406921674e-07, Loss: 0.280590295791626\n",
            "Epoch 1141/1600, Learning Rate: 1.0465429002852456e-07, Loss: 0.2542791962623596\n",
            "Epoch 1142/1600, Learning Rate: 1.0360774712823931e-07, Loss: 0.38311678171157837\n",
            "Epoch 1143/1600, Learning Rate: 1.0257166965695692e-07, Loss: 0.281692773103714\n",
            "Epoch 1144/1600, Learning Rate: 1.0154595296038734e-07, Loss: 0.3888944983482361\n",
            "Epoch 1145/1600, Learning Rate: 1.0053049343078346e-07, Loss: 0.6111921072006226\n",
            "Epoch 1146/1600, Learning Rate: 9.952518849647562e-08, Loss: 0.2682454586029053\n",
            "Epoch 1147/1600, Learning Rate: 9.852993661151087e-08, Loss: 0.396403044462204\n",
            "Epoch 1148/1600, Learning Rate: 9.754463724539577e-08, Loss: 0.4116148352622986\n",
            "Epoch 1149/1600, Learning Rate: 9.65691908729418e-08, Loss: 0.4486430883407593\n",
            "Epoch 1150/1600, Learning Rate: 9.560349896421238e-08, Loss: 0.32246118783950806\n",
            "Epoch 1151/1600, Learning Rate: 9.464746397457025e-08, Loss: 0.4005778729915619\n",
            "Epoch 1152/1600, Learning Rate: 9.370098933482454e-08, Loss: 0.2952883243560791\n",
            "Epoch 1153/1600, Learning Rate: 9.27639794414763e-08, Loss: 0.32497742772102356\n",
            "Epoch 1154/1600, Learning Rate: 9.183633964706153e-08, Loss: 0.37346401810646057\n",
            "Epoch 1155/1600, Learning Rate: 9.091797625059091e-08, Loss: 0.30472880601882935\n",
            "Epoch 1156/1600, Learning Rate: 9.0008796488085e-08, Loss: 0.35137829184532166\n",
            "Epoch 1157/1600, Learning Rate: 8.910870852320415e-08, Loss: 0.24753686785697937\n",
            "Epoch 1158/1600, Learning Rate: 8.82176214379721e-08, Loss: 0.2890343964099884\n",
            "Epoch 1159/1600, Learning Rate: 8.733544522359238e-08, Loss: 0.29978203773498535\n",
            "Epoch 1160/1600, Learning Rate: 8.646209077135645e-08, Loss: 0.4064069390296936\n",
            "Epoch 1161/1600, Learning Rate: 8.559746986364288e-08, Loss: 0.449072927236557\n",
            "Epoch 1162/1600, Learning Rate: 8.474149516500645e-08, Loss: 0.32826030254364014\n",
            "Epoch 1163/1600, Learning Rate: 8.389408021335639e-08, Loss: 0.33592066168785095\n",
            "Epoch 1164/1600, Learning Rate: 8.305513941122282e-08, Loss: 0.2567657232284546\n",
            "Epoch 1165/1600, Learning Rate: 8.222458801711059e-08, Loss: 0.373808890581131\n",
            "Epoch 1166/1600, Learning Rate: 8.140234213693949e-08, Loss: 0.1989247053861618\n",
            "Epoch 1167/1600, Learning Rate: 8.05883187155701e-08, Loss: 0.32754814624786377\n",
            "Epoch 1168/1600, Learning Rate: 7.978243552841439e-08, Loss: 0.2557966709136963\n",
            "Epoch 1169/1600, Learning Rate: 7.898461117313025e-08, Loss: 0.21808308362960815\n",
            "Epoch 1170/1600, Learning Rate: 7.819476506139894e-08, Loss: 0.25609174370765686\n",
            "Epoch 1171/1600, Learning Rate: 7.741281741078495e-08, Loss: 0.24635756015777588\n",
            "Epoch 1172/1600, Learning Rate: 7.66386892366771e-08, Loss: 0.35280078649520874\n",
            "Epoch 1173/1600, Learning Rate: 7.587230234431032e-08, Loss: 0.21033820509910583\n",
            "Epoch 1174/1600, Learning Rate: 7.511357932086721e-08, Loss: 0.3384971022605896\n",
            "Epoch 1175/1600, Learning Rate: 7.436244352765855e-08, Loss: 0.25897133350372314\n",
            "Epoch 1176/1600, Learning Rate: 7.361881909238196e-08, Loss: 0.41115596890449524\n",
            "Epoch 1177/1600, Learning Rate: 7.288263090145815e-08, Loss: 0.26666009426116943\n",
            "Epoch 1178/1600, Learning Rate: 7.215380459244357e-08, Loss: 0.306007444858551\n",
            "Epoch 1179/1600, Learning Rate: 7.143226654651913e-08, Loss: 0.34189456701278687\n",
            "Epoch 1180/1600, Learning Rate: 7.071794388105394e-08, Loss: 0.2779577672481537\n",
            "Epoch 1181/1600, Learning Rate: 7.00107644422434e-08, Loss: 0.2836136221885681\n",
            "Epoch 1182/1600, Learning Rate: 6.931065679782097e-08, Loss: 0.3505597710609436\n",
            "Epoch 1183/1600, Learning Rate: 6.861755022984276e-08, Loss: 0.3468453586101532\n",
            "Epoch 1184/1600, Learning Rate: 6.793137472754433e-08, Loss: 0.27221155166625977\n",
            "Epoch 1185/1600, Learning Rate: 6.725206098026889e-08, Loss: 0.3116929233074188\n",
            "Epoch 1186/1600, Learning Rate: 6.657954037046621e-08, Loss: 0.4006343483924866\n",
            "Epoch 1187/1600, Learning Rate: 6.591374496676155e-08, Loss: 0.2628898620605469\n",
            "Epoch 1188/1600, Learning Rate: 6.525460751709394e-08, Loss: 0.21504294872283936\n",
            "Epoch 1189/1600, Learning Rate: 6.4602061441923e-08, Loss: 0.3216698169708252\n",
            "Epoch 1190/1600, Learning Rate: 6.395604082750376e-08, Loss: 0.5059815645217896\n",
            "Epoch 1191/1600, Learning Rate: 6.331648041922873e-08, Loss: 0.4065086245536804\n",
            "Epoch 1192/1600, Learning Rate: 6.268331561503644e-08, Loss: 0.24412718415260315\n",
            "Epoch 1193/1600, Learning Rate: 6.205648245888608e-08, Loss: 0.4064205288887024\n",
            "Epoch 1194/1600, Learning Rate: 6.143591763429722e-08, Loss: 0.290224552154541\n",
            "Epoch 1195/1600, Learning Rate: 6.082155845795425e-08, Loss: 0.339139848947525\n",
            "Epoch 1196/1600, Learning Rate: 6.021334287337471e-08, Loss: 0.30873003602027893\n",
            "Epoch 1197/1600, Learning Rate: 5.961120944464097e-08, Loss: 0.2680928707122803\n",
            "Epoch 1198/1600, Learning Rate: 5.901509735019456e-08, Loss: 0.3761470317840576\n",
            "Epoch 1199/1600, Learning Rate: 5.8424946376692616e-08, Loss: 0.3514423668384552\n",
            "Epoch 1200/1600, Learning Rate: 5.784069691292569e-08, Loss: 0.34514498710632324\n",
            "Epoch 1201/1600, Learning Rate: 5.726228994379643e-08, Loss: 0.3470948040485382\n",
            "Epoch 1202/1600, Learning Rate: 5.668966704435847e-08, Loss: 0.316019207239151\n",
            "Epoch 1203/1600, Learning Rate: 5.6122770373914884e-08, Loss: 0.26438337564468384\n",
            "Epoch 1204/1600, Learning Rate: 5.5561542670175735e-08, Loss: 0.3299435079097748\n",
            "Epoch 1205/1600, Learning Rate: 5.500592724347398e-08, Loss: 0.29793062806129456\n",
            "Epoch 1206/1600, Learning Rate: 5.445586797103924e-08, Loss: 0.5625029802322388\n",
            "Epoch 1207/1600, Learning Rate: 5.391130929132885e-08, Loss: 0.32951194047927856\n",
            "Epoch 1208/1600, Learning Rate: 5.337219619841556e-08, Loss: 0.37237074971199036\n",
            "Epoch 1209/1600, Learning Rate: 5.2838474236431405e-08, Loss: 0.3328828513622284\n",
            "Epoch 1210/1600, Learning Rate: 5.2310089494067094e-08, Loss: 0.4712938964366913\n",
            "Epoch 1211/1600, Learning Rate: 5.178698859912642e-08, Loss: 0.2674781382083893\n",
            "Epoch 1212/1600, Learning Rate: 5.1269118713135155e-08, Loss: 0.4725876450538635\n",
            "Epoch 1213/1600, Learning Rate: 5.07564275260038e-08, Loss: 0.2811855971813202\n",
            "Epoch 1214/1600, Learning Rate: 5.0248863250743764e-08, Loss: 0.32798102498054504\n",
            "Epoch 1215/1600, Learning Rate: 4.9746374618236326e-08, Loss: 0.3301324248313904\n",
            "Epoch 1216/1600, Learning Rate: 4.924891087205396e-08, Loss: 0.3290521204471588\n",
            "Epoch 1217/1600, Learning Rate: 4.875642176333342e-08, Loss: 0.18654407560825348\n",
            "Epoch 1218/1600, Learning Rate: 4.826885754570009e-08, Loss: 0.23789700865745544\n",
            "Epoch 1219/1600, Learning Rate: 4.7786168970243084e-08, Loss: 0.3816806674003601\n",
            "Epoch 1220/1600, Learning Rate: 4.730830728054065e-08, Loss: 0.22683918476104736\n",
            "Epoch 1221/1600, Learning Rate: 4.683522420773525e-08, Loss: 0.37579214572906494\n",
            "Epoch 1222/1600, Learning Rate: 4.6366871965657896e-08, Loss: 0.2547912001609802\n",
            "Epoch 1223/1600, Learning Rate: 4.5903203246001317e-08, Loss: 0.3806415796279907\n",
            "Epoch 1224/1600, Learning Rate: 4.5444171213541305e-08, Loss: 0.45187848806381226\n",
            "Epoch 1225/1600, Learning Rate: 4.498972950140589e-08, Loss: 0.3482853174209595\n",
            "Epoch 1226/1600, Learning Rate: 4.4539832206391826e-08, Loss: 0.29397642612457275\n",
            "Epoch 1227/1600, Learning Rate: 4.409443388432791e-08, Loss: 0.30201950669288635\n",
            "Epoch 1228/1600, Learning Rate: 4.3653489545484626e-08, Loss: 0.3966251015663147\n",
            "Epoch 1229/1600, Learning Rate: 4.321695465002978e-08, Loss: 0.23008480668067932\n",
            "Epoch 1230/1600, Learning Rate: 4.2784785103529485e-08, Loss: 0.43125057220458984\n",
            "Epoch 1231/1600, Learning Rate: 4.235693725249419e-08, Loss: 0.3455010652542114\n",
            "Epoch 1232/1600, Learning Rate: 4.193336787996925e-08, Loss: 0.33493322134017944\n",
            "Epoch 1233/1600, Learning Rate: 4.151403420116956e-08, Loss: 0.28946492075920105\n",
            "Epoch 1234/1600, Learning Rate: 4.1098893859157865e-08, Loss: 0.32903891801834106\n",
            "Epoch 1235/1600, Learning Rate: 4.068790492056629e-08, Loss: 0.4532313644886017\n",
            "Epoch 1236/1600, Learning Rate: 4.028102587136063e-08, Loss: 0.4252373278141022\n",
            "Epoch 1237/1600, Learning Rate: 3.987821561264702e-08, Loss: 0.39731365442276\n",
            "Epoch 1238/1600, Learning Rate: 3.947943345652055e-08, Loss: 0.34131166338920593\n",
            "Epoch 1239/1600, Learning Rate: 3.9084639121955343e-08, Loss: 0.29703718423843384\n",
            "Epoch 1240/1600, Learning Rate: 3.869379273073579e-08, Loss: 0.33023419976234436\n",
            "Epoch 1241/1600, Learning Rate: 3.830685480342843e-08, Loss: 0.4829559326171875\n",
            "Epoch 1242/1600, Learning Rate: 3.7923786255394146e-08, Loss: 0.2890082001686096\n",
            "Epoch 1243/1600, Learning Rate: 3.75445483928402e-08, Loss: 0.3749454915523529\n",
            "Epoch 1244/1600, Learning Rate: 3.71691029089118e-08, Loss: 0.24588017165660858\n",
            "Epoch 1245/1600, Learning Rate: 3.679741187982268e-08, Loss: 0.33821195363998413\n",
            "Epoch 1246/1600, Learning Rate: 3.642943776102445e-08, Loss: 0.30568060278892517\n",
            "Epoch 1247/1600, Learning Rate: 3.606514338341421e-08, Loss: 0.39447012543678284\n",
            "Epoch 1248/1600, Learning Rate: 3.570449194958007e-08, Loss: 0.3599787652492523\n",
            "Epoch 1249/1600, Learning Rate: 3.534744703008427e-08, Loss: 0.34269416332244873\n",
            "Epoch 1250/1600, Learning Rate: 3.499397255978342e-08, Loss: 0.29539623856544495\n",
            "Epoch 1251/1600, Learning Rate: 3.464403283418559e-08, Loss: 0.34380799531936646\n",
            "Epoch 1252/1600, Learning Rate: 3.429759250584373e-08, Loss: 0.44517040252685547\n",
            "Epoch 1253/1600, Learning Rate: 3.395461658078529e-08, Loss: 0.312124103307724\n",
            "Epoch 1254/1600, Learning Rate: 3.361507041497744e-08, Loss: 0.40195363759994507\n",
            "Epoch 1255/1600, Learning Rate: 3.327891971082766e-08, Loss: 0.18300671875476837\n",
            "Epoch 1256/1600, Learning Rate: 3.2946130513719386e-08, Loss: 0.21444107592105865\n",
            "Epoch 1257/1600, Learning Rate: 3.261666920858219e-08, Loss: 0.37376731634140015\n",
            "Epoch 1258/1600, Learning Rate: 3.2290502516496367e-08, Loss: 0.22487623989582062\n",
            "Epoch 1259/1600, Learning Rate: 3.19675974913314e-08, Loss: 0.34996116161346436\n",
            "Epoch 1260/1600, Learning Rate: 3.1647921516418086e-08, Loss: 0.2773732841014862\n",
            "Epoch 1261/1600, Learning Rate: 3.1331442301253905e-08, Loss: 0.3160835802555084\n",
            "Epoch 1262/1600, Learning Rate: 3.1018127878241364e-08, Loss: 0.3079531490802765\n",
            "Epoch 1263/1600, Learning Rate: 3.070794659945895e-08, Loss: 0.3403260409832001\n",
            "Epoch 1264/1600, Learning Rate: 3.040086713346436e-08, Loss: 0.29400259256362915\n",
            "Epoch 1265/1600, Learning Rate: 3.009685846212971e-08, Loss: 0.4361075460910797\n",
            "Epoch 1266/1600, Learning Rate: 2.9795889877508414e-08, Loss: 0.2944614589214325\n",
            "Epoch 1267/1600, Learning Rate: 2.949793097873333e-08, Loss: 0.23664048314094543\n",
            "Epoch 1268/1600, Learning Rate: 2.9202951668945998e-08, Loss: 0.38443997502326965\n",
            "Epoch 1269/1600, Learning Rate: 2.891092215225654e-08, Loss: 0.2879447937011719\n",
            "Epoch 1270/1600, Learning Rate: 2.8621812930733973e-08, Loss: 0.42768868803977966\n",
            "Epoch 1271/1600, Learning Rate: 2.8335594801426635e-08, Loss: 0.3382260501384735\n",
            "Epoch 1272/1600, Learning Rate: 2.8052238853412368e-08, Loss: 0.29216113686561584\n",
            "Epoch 1273/1600, Learning Rate: 2.7771716464878245e-08, Loss: 0.4379511773586273\n",
            "Epoch 1274/1600, Learning Rate: 2.7493999300229463e-08, Loss: 0.35572734475135803\n",
            "Epoch 1275/1600, Learning Rate: 2.7219059307227167e-08, Loss: 0.2967107594013214\n",
            "Epoch 1276/1600, Learning Rate: 2.6946868714154896e-08, Loss: 0.26278916001319885\n",
            "Epoch 1277/1600, Learning Rate: 2.6677400027013346e-08, Loss: 0.28735414147377014\n",
            "Epoch 1278/1600, Learning Rate: 2.6410626026743213e-08, Loss: 0.3842981457710266\n",
            "Epoch 1279/1600, Learning Rate: 2.614651976647578e-08, Loss: 0.33750852942466736\n",
            "Epoch 1280/1600, Learning Rate: 2.5885054568811023e-08, Loss: 0.2050308883190155\n",
            "Epoch 1281/1600, Learning Rate: 2.5626204023122914e-08, Loss: 0.3611452579498291\n",
            "Epoch 1282/1600, Learning Rate: 2.5369941982891684e-08, Loss: 0.4188597500324249\n",
            "Epoch 1283/1600, Learning Rate: 2.511624256306277e-08, Loss: 0.3643200993537903\n",
            "Epoch 1284/1600, Learning Rate: 2.486508013743214e-08, Loss: 0.29965126514434814\n",
            "Epoch 1285/1600, Learning Rate: 2.461642933605782e-08, Loss: 0.3673693537712097\n",
            "Epoch 1286/1600, Learning Rate: 2.437026504269724e-08, Loss: 0.3245076537132263\n",
            "Epoch 1287/1600, Learning Rate: 2.412656239227027e-08, Loss: 0.34882238507270813\n",
            "Epoch 1288/1600, Learning Rate: 2.3885296768347567e-08, Loss: 0.256257027387619\n",
            "Epoch 1289/1600, Learning Rate: 2.3646443800664092e-08, Loss: 0.46898728609085083\n",
            "Epoch 1290/1600, Learning Rate: 2.340997936265745e-08, Loss: 0.27880406379699707\n",
            "Epoch 1291/1600, Learning Rate: 2.3175879569030874e-08, Loss: 0.3920223116874695\n",
            "Epoch 1292/1600, Learning Rate: 2.2944120773340563e-08, Loss: 0.34330517053604126\n",
            "Epoch 1293/1600, Learning Rate: 2.2714679565607156e-08, Loss: 0.28675156831741333\n",
            "Epoch 1294/1600, Learning Rate: 2.2487532769951085e-08, Loss: 0.3086896538734436\n",
            "Epoch 1295/1600, Learning Rate: 2.2262657442251574e-08, Loss: 0.37325674295425415\n",
            "Epoch 1296/1600, Learning Rate: 2.204003086782906e-08, Loss: 0.4332994818687439\n",
            "Epoch 1297/1600, Learning Rate: 2.1819630559150768e-08, Loss: 0.479815810918808\n",
            "Epoch 1298/1600, Learning Rate: 2.1601434253559262e-08, Loss: 0.42292463779449463\n",
            "Epoch 1299/1600, Learning Rate: 2.138541991102367e-08, Loss: 0.34551966190338135\n",
            "Epoch 1300/1600, Learning Rate: 2.1171565711913434e-08, Loss: 0.24248835444450378\n",
            "Epoch 1301/1600, Learning Rate: 2.09598500547943e-08, Loss: 0.2506294250488281\n",
            "Epoch 1302/1600, Learning Rate: 2.0750251554246355e-08, Loss: 0.37684208154678345\n",
            "Epoch 1303/1600, Learning Rate: 2.054274903870389e-08, Loss: 0.2565533220767975\n",
            "Epoch 1304/1600, Learning Rate: 2.033732154831685e-08, Loss: 0.3588581085205078\n",
            "Epoch 1305/1600, Learning Rate: 2.0133948332833682e-08, Loss: 0.39117899537086487\n",
            "Epoch 1306/1600, Learning Rate: 1.9932608849505345e-08, Loss: 0.3485916256904602\n",
            "Epoch 1307/1600, Learning Rate: 1.9733282761010292e-08, Loss: 0.5092142820358276\n",
            "Epoch 1308/1600, Learning Rate: 1.953594993340019e-08, Loss: 0.4254361689090729\n",
            "Epoch 1309/1600, Learning Rate: 1.9340590434066186e-08, Loss: 0.2484177201986313\n",
            "Epoch 1310/1600, Learning Rate: 1.9147184529725523e-08, Loss: 0.3096429407596588\n",
            "Epoch 1311/1600, Learning Rate: 1.895571268442827e-08, Loss: 0.26994583010673523\n",
            "Epoch 1312/1600, Learning Rate: 1.8766155557583985e-08, Loss: 0.45299848914146423\n",
            "Epoch 1313/1600, Learning Rate: 1.8578494002008144e-08, Loss: 0.3004118800163269\n",
            "Epoch 1314/1600, Learning Rate: 1.8392709061988063e-08, Loss: 0.32752084732055664\n",
            "Epoch 1315/1600, Learning Rate: 1.8208781971368183e-08, Loss: 0.2856047451496124\n",
            "Epoch 1316/1600, Learning Rate: 1.80266941516545e-08, Loss: 0.3738841116428375\n",
            "Epoch 1317/1600, Learning Rate: 1.7846427210137956e-08, Loss: 0.23236674070358276\n",
            "Epoch 1318/1600, Learning Rate: 1.7667962938036577e-08, Loss: 0.35381877422332764\n",
            "Epoch 1319/1600, Learning Rate: 1.749128330865621e-08, Loss: 0.309467077255249\n",
            "Epoch 1320/1600, Learning Rate: 1.731637047556965e-08, Loss: 0.2650422751903534\n",
            "Epoch 1321/1600, Learning Rate: 1.714320677081395e-08, Loss: 0.2969655692577362\n",
            "Epoch 1322/1600, Learning Rate: 1.6971774703105812e-08, Loss: 0.3886089324951172\n",
            "Epoch 1323/1600, Learning Rate: 1.6802056956074753e-08, Loss: 0.2627474367618561\n",
            "Epoch 1324/1600, Learning Rate: 1.6634036386514005e-08, Loss: 0.3380650579929352\n",
            "Epoch 1325/1600, Learning Rate: 1.6467696022648865e-08, Loss: 0.29234692454338074\n",
            "Epoch 1326/1600, Learning Rate: 1.6303019062422378e-08, Loss: 0.41449055075645447\n",
            "Epoch 1327/1600, Learning Rate: 1.6139988871798153e-08, Loss: 0.4363081753253937\n",
            "Epoch 1328/1600, Learning Rate: 1.597858898308017e-08, Loss: 0.13614633679389954\n",
            "Epoch 1329/1600, Learning Rate: 1.581880309324937e-08, Loss: 0.34401634335517883\n",
            "Epoch 1330/1600, Learning Rate: 1.5660615062316876e-08, Loss: 0.311155766248703\n",
            "Epoch 1331/1600, Learning Rate: 1.5504008911693706e-08, Loss: 0.22380611300468445\n",
            "Epoch 1332/1600, Learning Rate: 1.5348968822576767e-08, Loss: 0.5165644884109497\n",
            "Epoch 1333/1600, Learning Rate: 1.5195479134350998e-08, Loss: 0.22765858471393585\n",
            "Epoch 1334/1600, Learning Rate: 1.5043524343007487e-08, Loss: 0.5880085825920105\n",
            "Epoch 1335/1600, Learning Rate: 1.4893089099577412e-08, Loss: 0.24865597486495972\n",
            "Epoch 1336/1600, Learning Rate: 1.4744158208581637e-08, Loss: 0.27707892656326294\n",
            "Epoch 1337/1600, Learning Rate: 1.459671662649582e-08, Loss: 0.3433939516544342\n",
            "Epoch 1338/1600, Learning Rate: 1.4450749460230861e-08, Loss: 0.2523915767669678\n",
            "Epoch 1339/1600, Learning Rate: 1.4306241965628553e-08, Loss: 0.4201309084892273\n",
            "Epoch 1340/1600, Learning Rate: 1.4163179545972267e-08, Loss: 0.21408948302268982\n",
            "Epoch 1341/1600, Learning Rate: 1.4021547750512545e-08, Loss: 0.2754829525947571\n",
            "Epoch 1342/1600, Learning Rate: 1.388133227300742e-08, Loss: 0.3440529406070709\n",
            "Epoch 1343/1600, Learning Rate: 1.3742518950277344e-08, Loss: 0.33166199922561646\n",
            "Epoch 1344/1600, Learning Rate: 1.3605093760774571e-08, Loss: 0.3138170838356018\n",
            "Epoch 1345/1600, Learning Rate: 1.3469042823166826e-08, Loss: 0.3031980097293854\n",
            "Epoch 1346/1600, Learning Rate: 1.3334352394935157e-08, Loss: 0.2936561703681946\n",
            "Epoch 1347/1600, Learning Rate: 1.3201008870985806e-08, Loss: 0.32284435629844666\n",
            "Epoch 1348/1600, Learning Rate: 1.3068998782275947e-08, Loss: 0.41593557596206665\n",
            "Epoch 1349/1600, Learning Rate: 1.2938308794453187e-08, Loss: 0.6157817244529724\n",
            "Epoch 1350/1600, Learning Rate: 1.2808925706508656e-08, Loss: 0.20912958681583405\n",
            "Epoch 1351/1600, Learning Rate: 1.268083644944357e-08, Loss: 0.3310321271419525\n",
            "Epoch 1352/1600, Learning Rate: 1.2554028084949135e-08, Loss: 0.34722647070884705\n",
            "Epoch 1353/1600, Learning Rate: 1.2428487804099643e-08, Loss: 0.46636253595352173\n",
            "Epoch 1354/1600, Learning Rate: 1.2304202926058647e-08, Loss: 0.5172677040100098\n",
            "Epoch 1355/1600, Learning Rate: 1.218116089679806e-08, Loss: 0.2391873598098755\n",
            "Epoch 1356/1600, Learning Rate: 1.205934928783008e-08, Loss: 0.40911778807640076\n",
            "Epoch 1357/1600, Learning Rate: 1.193875579495178e-08, Loss: 0.26991191506385803\n",
            "Epoch 1358/1600, Learning Rate: 1.1819368237002262e-08, Loss: 0.3955017328262329\n",
            "Epoch 1359/1600, Learning Rate: 1.170117455463224e-08, Loss: 0.3921303153038025\n",
            "Epoch 1360/1600, Learning Rate: 1.1584162809085918e-08, Loss: 0.5541471838951111\n",
            "Epoch 1361/1600, Learning Rate: 1.1468321180995058e-08, Loss: 0.39963334798812866\n",
            "Epoch 1362/1600, Learning Rate: 1.1353637969185108e-08, Loss: 0.21373015642166138\n",
            "Epoch 1363/1600, Learning Rate: 1.1240101589493257e-08, Loss: 0.47529125213623047\n",
            "Epoch 1364/1600, Learning Rate: 1.1127700573598325e-08, Loss: 0.3734138309955597\n",
            "Epoch 1365/1600, Learning Rate: 1.1016423567862341e-08, Loss: 0.4648916721343994\n",
            "Epoch 1366/1600, Learning Rate: 1.0906259332183717e-08, Loss: 0.23528462648391724\n",
            "Epoch 1367/1600, Learning Rate: 1.0797196738861879e-08, Loss: 0.2925289273262024\n",
            "Epoch 1368/1600, Learning Rate: 1.068922477147326e-08, Loss: 0.4326624274253845\n",
            "Epoch 1369/1600, Learning Rate: 1.0582332523758527e-08, Loss: 0.39676639437675476\n",
            "Epoch 1370/1600, Learning Rate: 1.047650919852094e-08, Loss: 0.19931745529174805\n",
            "Epoch 1371/1600, Learning Rate: 1.037174410653573e-08, Loss: 0.40925925970077515\n",
            "Epoch 1372/1600, Learning Rate: 1.0268026665470373e-08, Loss: 0.2366156280040741\n",
            "Epoch 1373/1600, Learning Rate: 1.016534639881567e-08, Loss: 0.2619488537311554\n",
            "Epoch 1374/1600, Learning Rate: 1.0063692934827513e-08, Loss: 0.418262243270874\n",
            "Epoch 1375/1600, Learning Rate: 9.963056005479237e-09, Loss: 0.30709385871887207\n",
            "Epoch 1376/1600, Learning Rate: 9.863425445424445e-09, Loss: 0.3414699137210846\n",
            "Epoch 1377/1600, Learning Rate: 9.7647911909702e-09, Loss: 0.3569027781486511\n",
            "Epoch 1378/1600, Learning Rate: 9.667143279060498e-09, Loss: 0.28970426321029663\n",
            "Epoch 1379/1600, Learning Rate: 9.570471846269893e-09, Loss: 0.401267945766449\n",
            "Epoch 1380/1600, Learning Rate: 9.474767127807194e-09, Loss: 0.23711426556110382\n",
            "Epoch 1381/1600, Learning Rate: 9.380019456529123e-09, Loss: 0.34517979621887207\n",
            "Epoch 1382/1600, Learning Rate: 9.286219261963832e-09, Loss: 0.26344943046569824\n",
            "Epoch 1383/1600, Learning Rate: 9.193357069344193e-09, Loss: 0.35825058817863464\n",
            "Epoch 1384/1600, Learning Rate: 9.101423498650752e-09, Loss: 0.37233278155326843\n",
            "Epoch 1385/1600, Learning Rate: 9.010409263664244e-09, Loss: 0.4098154306411743\n",
            "Epoch 1386/1600, Learning Rate: 8.920305171027601e-09, Loss: 0.3213176429271698\n",
            "Epoch 1387/1600, Learning Rate: 8.831102119317325e-09, Loss: 0.364645391702652\n",
            "Epoch 1388/1600, Learning Rate: 8.742791098124152e-09, Loss: 0.4127791225910187\n",
            "Epoch 1389/1600, Learning Rate: 8.65536318714291e-09, Loss: 0.2649036645889282\n",
            "Epoch 1390/1600, Learning Rate: 8.568809555271482e-09, Loss: 0.37951263785362244\n",
            "Epoch 1391/1600, Learning Rate: 8.483121459718767e-09, Loss: 0.384642094373703\n",
            "Epoch 1392/1600, Learning Rate: 8.398290245121579e-09, Loss: 0.31738200783729553\n",
            "Epoch 1393/1600, Learning Rate: 8.314307342670363e-09, Loss: 0.4098554253578186\n",
            "Epoch 1394/1600, Learning Rate: 8.231164269243658e-09, Loss: 0.36518052220344543\n",
            "Epoch 1395/1600, Learning Rate: 8.148852626551222e-09, Loss: 0.40391314029693604\n",
            "Epoch 1396/1600, Learning Rate: 8.06736410028571e-09, Loss: 0.2539915442466736\n",
            "Epoch 1397/1600, Learning Rate: 7.986690459282853e-09, Loss: 0.3482360243797302\n",
            "Epoch 1398/1600, Learning Rate: 7.906823554690025e-09, Loss: 0.26156362891197205\n",
            "Epoch 1399/1600, Learning Rate: 7.827755319143124e-09, Loss: 0.30096131563186646\n",
            "Epoch 1400/1600, Learning Rate: 7.749477765951693e-09, Loss: 0.3077467083930969\n",
            "Epoch 1401/1600, Learning Rate: 7.671982988292175e-09, Loss: 0.2257107049226761\n",
            "Epoch 1402/1600, Learning Rate: 7.595263158409254e-09, Loss: 0.4199366867542267\n",
            "Epoch 1403/1600, Learning Rate: 7.51931052682516e-09, Loss: 0.26011574268341064\n",
            "Epoch 1404/1600, Learning Rate: 7.444117421556909e-09, Loss: 0.20731592178344727\n",
            "Epoch 1405/1600, Learning Rate: 7.36967624734134e-09, Loss: 0.5943800806999207\n",
            "Epoch 1406/1600, Learning Rate: 7.2959794848679265e-09, Loss: 0.5086057186126709\n",
            "Epoch 1407/1600, Learning Rate: 7.223019690019247e-09, Loss: 0.36439070105552673\n",
            "Epoch 1408/1600, Learning Rate: 7.150789493119055e-09, Loss: 0.20977261662483215\n",
            "Epoch 1409/1600, Learning Rate: 7.0792815981878645e-09, Loss: 0.3750801086425781\n",
            "Epoch 1410/1600, Learning Rate: 7.008488782205986e-09, Loss: 0.3478243947029114\n",
            "Epoch 1411/1600, Learning Rate: 6.938403894383926e-09, Loss: 0.43667688965797424\n",
            "Epoch 1412/1600, Learning Rate: 6.869019855440087e-09, Loss: 0.16144929826259613\n",
            "Epoch 1413/1600, Learning Rate: 6.800329656885686e-09, Loss: 0.3038675785064697\n",
            "Epoch 1414/1600, Learning Rate: 6.732326360316829e-09, Loss: 0.4132154583930969\n",
            "Epoch 1415/1600, Learning Rate: 6.665003096713661e-09, Loss: 0.363819420337677\n",
            "Epoch 1416/1600, Learning Rate: 6.598353065746524e-09, Loss: 0.381729394197464\n",
            "Epoch 1417/1600, Learning Rate: 6.532369535089059e-09, Loss: 0.25106191635131836\n",
            "Epoch 1418/1600, Learning Rate: 6.467045839738168e-09, Loss: 0.419796884059906\n",
            "Epoch 1419/1600, Learning Rate: 6.402375381340787e-09, Loss: 0.3524667024612427\n",
            "Epoch 1420/1600, Learning Rate: 6.3383516275273795e-09, Loss: 0.3560154438018799\n",
            "Epoch 1421/1600, Learning Rate: 6.274968111252105e-09, Loss: 0.2509195804595947\n",
            "Epoch 1422/1600, Learning Rate: 6.212218430139584e-09, Loss: 0.17584072053432465\n",
            "Epoch 1423/1600, Learning Rate: 6.1500962458381885e-09, Loss: 0.43496590852737427\n",
            "Epoch 1424/1600, Learning Rate: 6.0885952833798065e-09, Loss: 0.353997141122818\n",
            "Epoch 1425/1600, Learning Rate: 6.0277093305460085e-09, Loss: 0.3078863024711609\n",
            "Epoch 1426/1600, Learning Rate: 5.967432237240548e-09, Loss: 0.2592303156852722\n",
            "Epoch 1427/1600, Learning Rate: 5.907757914868143e-09, Loss: 0.24380813539028168\n",
            "Epoch 1428/1600, Learning Rate: 5.848680335719461e-09, Loss: 0.36139121651649475\n",
            "Epoch 1429/1600, Learning Rate: 5.7901935323622666e-09, Loss: 0.26093217730522156\n",
            "Epoch 1430/1600, Learning Rate: 5.732291597038644e-09, Loss: 0.2857721447944641\n",
            "Epoch 1431/1600, Learning Rate: 5.674968681068257e-09, Loss: 0.2940225303173065\n",
            "Epoch 1432/1600, Learning Rate: 5.618218994257575e-09, Loss: 0.39337489008903503\n",
            "Epoch 1433/1600, Learning Rate: 5.562036804314999e-09, Loss: 0.3460426330566406\n",
            "Epoch 1434/1600, Learning Rate: 5.506416436271849e-09, Loss: 0.38899490237236023\n",
            "Epoch 1435/1600, Learning Rate: 5.451352271909131e-09, Loss: 0.24484440684318542\n",
            "Epoch 1436/1600, Learning Rate: 5.39683874919004e-09, Loss: 0.2181687355041504\n",
            "Epoch 1437/1600, Learning Rate: 5.342870361698139e-09, Loss: 0.2517281472682953\n",
            "Epoch 1438/1600, Learning Rate: 5.289441658081158e-09, Loss: 0.277906596660614\n",
            "Epoch 1439/1600, Learning Rate: 5.236547241500347e-09, Loss: 0.3117210865020752\n",
            "Epoch 1440/1600, Learning Rate: 5.184181769085343e-09, Loss: 0.2726576328277588\n",
            "Epoch 1441/1600, Learning Rate: 5.13233995139449e-09, Loss: 0.19531218707561493\n",
            "Epoch 1442/1600, Learning Rate: 5.081016551880545e-09, Loss: 0.3061549663543701\n",
            "Epoch 1443/1600, Learning Rate: 5.0302063863617395e-09, Loss: 0.12995067238807678\n",
            "Epoch 1444/1600, Learning Rate: 4.979904322498122e-09, Loss: 0.2513205111026764\n",
            "Epoch 1445/1600, Learning Rate: 4.930105279273141e-09, Loss: 0.23172998428344727\n",
            "Epoch 1446/1600, Learning Rate: 4.880804226480409e-09, Loss: 0.2905600070953369\n",
            "Epoch 1447/1600, Learning Rate: 4.831996184215605e-09, Loss: 0.31358012557029724\n",
            "Epoch 1448/1600, Learning Rate: 4.783676222373449e-09, Loss: 0.41918423771858215\n",
            "Epoch 1449/1600, Learning Rate: 4.735839460149715e-09, Loss: 0.3602738678455353\n",
            "Epoch 1450/1600, Learning Rate: 4.688481065548218e-09, Loss: 0.4186631143093109\n",
            "Epoch 1451/1600, Learning Rate: 4.641596254892735e-09, Loss: 0.24899478256702423\n",
            "Epoch 1452/1600, Learning Rate: 4.595180292343808e-09, Loss: 0.31550878286361694\n",
            "Epoch 1453/1600, Learning Rate: 4.54922848942037e-09, Loss: 0.3581099212169647\n",
            "Epoch 1454/1600, Learning Rate: 4.5037362045261665e-09, Loss: 0.25620460510253906\n",
            "Epoch 1455/1600, Learning Rate: 4.458698842480905e-09, Loss: 0.21610277891159058\n",
            "Epoch 1456/1600, Learning Rate: 4.414111854056096e-09, Loss: 0.4206746816635132\n",
            "Epoch 1457/1600, Learning Rate: 4.369970735515535e-09, Loss: 0.4248121380805969\n",
            "Epoch 1458/1600, Learning Rate: 4.326271028160379e-09, Loss: 0.5475301146507263\n",
            "Epoch 1459/1600, Learning Rate: 4.283008317878776e-09, Loss: 0.25870877504348755\n",
            "Epoch 1460/1600, Learning Rate: 4.240178234699988e-09, Loss: 0.35672324895858765\n",
            "Epoch 1461/1600, Learning Rate: 4.197776452352988e-09, Loss: 0.2087833136320114\n",
            "Epoch 1462/1600, Learning Rate: 4.155798687829458e-09, Loss: 0.24187615513801575\n",
            "Epoch 1463/1600, Learning Rate: 4.114240700951164e-09, Loss: 0.3074356019496918\n",
            "Epoch 1464/1600, Learning Rate: 4.073098293941652e-09, Loss: 0.27094945311546326\n",
            "Epoch 1465/1600, Learning Rate: 4.032367311002235e-09, Loss: 0.2234288454055786\n",
            "Epoch 1466/1600, Learning Rate: 3.9920436378922126e-09, Loss: 0.22407051920890808\n",
            "Epoch 1467/1600, Learning Rate: 3.9521232015132905e-09, Loss: 0.21691083908081055\n",
            "Epoch 1468/1600, Learning Rate: 3.912601969498157e-09, Loss: 0.2924831509590149\n",
            "Epoch 1469/1600, Learning Rate: 3.873475949803175e-09, Loss: 0.3911076486110687\n",
            "Epoch 1470/1600, Learning Rate: 3.834741190305143e-09, Loss: 0.23411476612091064\n",
            "Epoch 1471/1600, Learning Rate: 3.796393778402092e-09, Loss: 0.4688369631767273\n",
            "Epoch 1472/1600, Learning Rate: 3.758429840618071e-09, Loss: 0.317728191614151\n",
            "Epoch 1473/1600, Learning Rate: 3.7208455422118905e-09, Loss: 0.305236279964447\n",
            "Epoch 1474/1600, Learning Rate: 3.6836370867897716e-09, Loss: 0.44392848014831543\n",
            "Epoch 1475/1600, Learning Rate: 3.646800715921874e-09, Loss: 0.30336278676986694\n",
            "Epoch 1476/1600, Learning Rate: 3.6103327087626554e-09, Loss: 0.352377325296402\n",
            "Epoch 1477/1600, Learning Rate: 3.574229381675029e-09, Loss: 0.27617698907852173\n",
            "Epoch 1478/1600, Learning Rate: 3.5384870878582783e-09, Loss: 0.42339956760406494\n",
            "Epoch 1479/1600, Learning Rate: 3.5031022169796956e-09, Loss: 0.2298962026834488\n",
            "Epoch 1480/1600, Learning Rate: 3.4680711948098986e-09, Loss: 0.33843693137168884\n",
            "Epoch 1481/1600, Learning Rate: 3.4333904828617996e-09, Loss: 0.34927237033843994\n",
            "Epoch 1482/1600, Learning Rate: 3.3990565780331818e-09, Loss: 0.4846374988555908\n",
            "Epoch 1483/1600, Learning Rate: 3.36506601225285e-09, Loss: 0.2066473662853241\n",
            "Epoch 1484/1600, Learning Rate: 3.3314153521303216e-09, Loss: 0.294785737991333\n",
            "Epoch 1485/1600, Learning Rate: 3.2981011986090184e-09, Loss: 0.3369625210762024\n",
            "Epoch 1486/1600, Learning Rate: 3.2651201866229282e-09, Loss: 0.41360387206077576\n",
            "Epoch 1487/1600, Learning Rate: 3.232468984756699e-09, Loss: 0.3039742112159729\n",
            "Epoch 1488/1600, Learning Rate: 3.200144294909132e-09, Loss: 0.31324127316474915\n",
            "Epoch 1489/1600, Learning Rate: 3.1681428519600407e-09, Loss: 0.4343470633029938\n",
            "Epoch 1490/1600, Learning Rate: 3.1364614234404405e-09, Loss: 0.26437458395957947\n",
            "Epoch 1491/1600, Learning Rate: 3.105096809206036e-09, Loss: 0.4371505379676819\n",
            "Epoch 1492/1600, Learning Rate: 3.0740458411139755e-09, Loss: 0.22676177322864532\n",
            "Epoch 1493/1600, Learning Rate: 3.043305382702836e-09, Loss: 0.46991780400276184\n",
            "Epoch 1494/1600, Learning Rate: 3.0128723288758074e-09, Loss: 0.3464147746562958\n",
            "Epoch 1495/1600, Learning Rate: 2.982743605587049e-09, Loss: 0.3201664686203003\n",
            "Epoch 1496/1600, Learning Rate: 2.9529161695311787e-09, Loss: 0.3636831045150757\n",
            "Epoch 1497/1600, Learning Rate: 2.923387007835867e-09, Loss: 0.3468679189682007\n",
            "Epoch 1498/1600, Learning Rate: 2.8941531377575083e-09, Loss: 0.36033469438552856\n",
            "Epoch 1499/1600, Learning Rate: 2.865211606379933e-09, Loss: 0.2611684799194336\n",
            "Epoch 1500/1600, Learning Rate: 2.836559490316134e-09, Loss: 0.30312609672546387\n",
            "Epoch 1501/1600, Learning Rate: 2.8081938954129725e-09, Loss: 0.30384135246276855\n",
            "Epoch 1502/1600, Learning Rate: 2.7801119564588426e-09, Loss: 0.23556634783744812\n",
            "Epoch 1503/1600, Learning Rate: 2.752310836894254e-09, Loss: 0.24193546175956726\n",
            "Epoch 1504/1600, Learning Rate: 2.7247877285253116e-09, Loss: 0.39413610100746155\n",
            "Epoch 1505/1600, Learning Rate: 2.6975398512400584e-09, Loss: 0.2761213183403015\n",
            "Epoch 1506/1600, Learning Rate: 2.670564452727658e-09, Loss: 0.30823150277137756\n",
            "Epoch 1507/1600, Learning Rate: 2.643858808200381e-09, Loss: 0.19476626813411713\n",
            "Epoch 1508/1600, Learning Rate: 2.6174202201183774e-09, Loss: 0.28309565782546997\n",
            "Epoch 1509/1600, Learning Rate: 2.5912460179171937e-09, Loss: 0.3137504458427429\n",
            "Epoch 1510/1600, Learning Rate: 2.5653335577380217e-09, Loss: 0.43510040640830994\n",
            "Epoch 1511/1600, Learning Rate: 2.5396802221606415e-09, Loss: 0.4752601981163025\n",
            "Epoch 1512/1600, Learning Rate: 2.514283419939035e-09, Loss: 0.2745918333530426\n",
            "Epoch 1513/1600, Learning Rate: 2.489140585739645e-09, Loss: 0.3543543815612793\n",
            "Epoch 1514/1600, Learning Rate: 2.4642491798822485e-09, Loss: 0.36327269673347473\n",
            "Epoch 1515/1600, Learning Rate: 2.4396066880834258e-09, Loss: 0.2741336524486542\n",
            "Epoch 1516/1600, Learning Rate: 2.4152106212025914e-09, Loss: 0.38475027680397034\n",
            "Epoch 1517/1600, Learning Rate: 2.3910585149905655e-09, Loss: 0.21836258471012115\n",
            "Epoch 1518/1600, Learning Rate: 2.36714792984066e-09, Loss: 0.2956787645816803\n",
            "Epoch 1519/1600, Learning Rate: 2.3434764505422532e-09, Loss: 0.2990373969078064\n",
            "Epoch 1520/1600, Learning Rate: 2.3200416860368305e-09, Loss: 0.2242281138896942\n",
            "Epoch 1521/1600, Learning Rate: 2.296841269176462e-09, Loss: 0.27989745140075684\n",
            "Epoch 1522/1600, Learning Rate: 2.2738728564846975e-09, Loss: 0.5052741765975952\n",
            "Epoch 1523/1600, Learning Rate: 2.2511341279198507e-09, Loss: 0.486489474773407\n",
            "Epoch 1524/1600, Learning Rate: 2.2286227866406524e-09, Loss: 0.47059231996536255\n",
            "Epoch 1525/1600, Learning Rate: 2.2063365587742458e-09, Loss: 0.35019317269325256\n",
            "Epoch 1526/1600, Learning Rate: 2.184273193186503e-09, Loss: 0.35240212082862854\n",
            "Epoch 1527/1600, Learning Rate: 2.162430461254638e-09, Loss: 0.3601793646812439\n",
            "Epoch 1528/1600, Learning Rate: 2.1408061566420918e-09, Loss: 0.2795744240283966\n",
            "Epoch 1529/1600, Learning Rate: 2.1193980950756707e-09, Loss: 0.3952673077583313\n",
            "Epoch 1530/1600, Learning Rate: 2.098204114124914e-09, Loss: 0.3764004409313202\n",
            "Epoch 1531/1600, Learning Rate: 2.0772220729836648e-09, Loss: 0.34836602210998535\n",
            "Epoch 1532/1600, Learning Rate: 2.056449852253828e-09, Loss: 0.2591037154197693\n",
            "Epoch 1533/1600, Learning Rate: 2.0358853537312896e-09, Loss: 0.32408711314201355\n",
            "Epoch 1534/1600, Learning Rate: 2.015526500193977e-09, Loss: 0.4403843581676483\n",
            "Epoch 1535/1600, Learning Rate: 1.995371235192037e-09, Loss: 0.31727471947669983\n",
            "Epoch 1536/1600, Learning Rate: 1.9754175228401167e-09, Loss: 0.28379425406455994\n",
            "Epoch 1537/1600, Learning Rate: 1.9556633476117154e-09, Loss: 0.31637075543403625\n",
            "Epoch 1538/1600, Learning Rate: 1.936106714135598e-09, Loss: 0.2800964415073395\n",
            "Epoch 1539/1600, Learning Rate: 1.9167456469942423e-09, Loss: 0.24078230559825897\n",
            "Epoch 1540/1600, Learning Rate: 1.8975781905242997e-09, Loss: 0.24328982830047607\n",
            "Epoch 1541/1600, Learning Rate: 1.8786024086190566e-09, Loss: 0.3053820729255676\n",
            "Epoch 1542/1600, Learning Rate: 1.8598163845328661e-09, Loss: 0.4054359197616577\n",
            "Epoch 1543/1600, Learning Rate: 1.8412182206875373e-09, Loss: 0.4561423361301422\n",
            "Epoch 1544/1600, Learning Rate: 1.822806038480662e-09, Loss: 0.42331722378730774\n",
            "Epoch 1545/1600, Learning Rate: 1.8045779780958553e-09, Loss: 0.27982228994369507\n",
            "Epoch 1546/1600, Learning Rate: 1.7865321983148967e-09, Loss: 0.2905646860599518\n",
            "Epoch 1547/1600, Learning Rate: 1.7686668763317476e-09, Loss: 0.4999936521053314\n",
            "Epoch 1548/1600, Learning Rate: 1.7509802075684302e-09, Loss: 0.32319721579551697\n",
            "Epoch 1549/1600, Learning Rate: 1.733470405492746e-09, Loss: 0.2607371211051941\n",
            "Epoch 1550/1600, Learning Rate: 1.7161357014378185e-09, Loss: 0.31806185841560364\n",
            "Epoch 1551/1600, Learning Rate: 1.6989743444234402e-09, Loss: 0.15542078018188477\n",
            "Epoch 1552/1600, Learning Rate: 1.681984600979206e-09, Loss: 0.33576130867004395\n",
            "Epoch 1553/1600, Learning Rate: 1.6651647549694138e-09, Loss: 0.29996684193611145\n",
            "Epoch 1554/1600, Learning Rate: 1.6485131074197196e-09, Loss: 0.24374836683273315\n",
            "Epoch 1555/1600, Learning Rate: 1.6320279763455224e-09, Loss: 0.39167800545692444\n",
            "Epoch 1556/1600, Learning Rate: 1.615707696582067e-09, Loss: 0.33813634514808655\n",
            "Epoch 1557/1600, Learning Rate: 1.5995506196162463e-09, Loss: 0.2901599407196045\n",
            "Epoch 1558/1600, Learning Rate: 1.583555113420084e-09, Loss: 0.2382945716381073\n",
            "Epoch 1559/1600, Learning Rate: 1.567719562285883e-09, Loss: 0.22061586380004883\n",
            "Epoch 1560/1600, Learning Rate: 1.5520423666630241e-09, Loss: 0.3870466351509094\n",
            "Epoch 1561/1600, Learning Rate: 1.5365219429963939e-09, Loss: 0.19213315844535828\n",
            "Epoch 1562/1600, Learning Rate: 1.52115672356643e-09, Loss: 0.28881698846817017\n",
            "Epoch 1563/1600, Learning Rate: 1.5059451563307657e-09, Loss: 0.2648454010486603\n",
            "Epoch 1564/1600, Learning Rate: 1.490885704767458e-09, Loss: 0.24087007343769073\n",
            "Epoch 1565/1600, Learning Rate: 1.4759768477197835e-09, Loss: 0.24705830216407776\n",
            "Epoch 1566/1600, Learning Rate: 1.4612170792425857e-09, Loss: 0.3054373264312744\n",
            "Epoch 1567/1600, Learning Rate: 1.4466049084501598e-09, Loss: 0.3810768127441406\n",
            "Epoch 1568/1600, Learning Rate: 1.4321388593656582e-09, Loss: 0.39729395508766174\n",
            "Epoch 1569/1600, Learning Rate: 1.4178174707720015e-09, Loss: 0.4278709888458252\n",
            "Epoch 1570/1600, Learning Rate: 1.4036392960642816e-09, Loss: 0.40931805968284607\n",
            "Epoch 1571/1600, Learning Rate: 1.3896029031036387e-09, Loss: 0.33481353521347046\n",
            "Epoch 1572/1600, Learning Rate: 1.3757068740726024e-09, Loss: 0.21490128338336945\n",
            "Epoch 1573/1600, Learning Rate: 1.3619498053318763e-09, Loss: 0.38267016410827637\n",
            "Epoch 1574/1600, Learning Rate: 1.3483303072785576e-09, Loss: 0.2579765021800995\n",
            "Epoch 1575/1600, Learning Rate: 1.334847004205772e-09, Loss: 0.38599368929862976\n",
            "Epoch 1576/1600, Learning Rate: 1.3214985341637142e-09, Loss: 0.36007988452911377\n",
            "Epoch 1577/1600, Learning Rate: 1.308283548822077e-09, Loss: 0.23971401154994965\n",
            "Epoch 1578/1600, Learning Rate: 1.2952007133338562e-09, Loss: 0.3991105556488037\n",
            "Epoch 1579/1600, Learning Rate: 1.2822487062005177e-09, Loss: 0.4231010973453522\n",
            "Epoch 1580/1600, Learning Rate: 1.2694262191385126e-09, Loss: 0.21980299055576324\n",
            "Epoch 1581/1600, Learning Rate: 1.2567319569471275e-09, Loss: 0.24490788578987122\n",
            "Epoch 1582/1600, Learning Rate: 1.2441646373776563e-09, Loss: 0.3209230601787567\n",
            "Epoch 1583/1600, Learning Rate: 1.2317229910038797e-09, Loss: 0.34207242727279663\n",
            "Epoch 1584/1600, Learning Rate: 1.2194057610938409e-09, Loss: 0.3433953821659088\n",
            "Epoch 1585/1600, Learning Rate: 1.2072117034829024e-09, Loss: 0.4752799868583679\n",
            "Epoch 1586/1600, Learning Rate: 1.1951395864480733e-09, Loss: 0.1713721752166748\n",
            "Epoch 1587/1600, Learning Rate: 1.1831881905835926e-09, Loss: 0.27163010835647583\n",
            "Epoch 1588/1600, Learning Rate: 1.1713563086777566e-09, Loss: 0.36279788613319397\n",
            "Epoch 1589/1600, Learning Rate: 1.159642745590979e-09, Loss: 0.3660832345485687\n",
            "Epoch 1590/1600, Learning Rate: 1.1480463181350693e-09, Loss: 0.28383946418762207\n",
            "Epoch 1591/1600, Learning Rate: 1.1365658549537186e-09, Loss: 0.44045454263687134\n",
            "Epoch 1592/1600, Learning Rate: 1.1252001964041814e-09, Loss: 0.36692339181900024\n",
            "Epoch 1593/1600, Learning Rate: 1.1139481944401395e-09, Loss: 0.26337730884552\n",
            "Epoch 1594/1600, Learning Rate: 1.1028087124957382e-09, Loss: 0.5519245862960815\n",
            "Epoch 1595/1600, Learning Rate: 1.0917806253707807e-09, Loss: 0.3094504773616791\n",
            "Epoch 1596/1600, Learning Rate: 1.0808628191170729e-09, Loss: 0.34528881311416626\n",
            "Epoch 1597/1600, Learning Rate: 1.0700541909259022e-09, Loss: 0.3865182101726532\n",
            "Epoch 1598/1600, Learning Rate: 1.0593536490166431e-09, Loss: 0.29431575536727905\n",
            "Epoch 1599/1600, Learning Rate: 1.0487601125264766e-09, Loss: 0.4293426275253296\n",
            "Epoch 1600/1600, Learning Rate: 1.0382725114012119e-09, Loss: 0.24273520708084106\n"
          ]
        }
      ],
      "source": [
        "\n",
        "optimizer = torch.optim.Adam(model.parameters(), lr=0.01)\n",
        "criterion = torch.nn.CrossEntropyLoss()\n",
        "\n",
        "# Add a learning rate scheduler\n",
        "#scheduler = torch.optim.lr_scheduler.StepLR(optimizer, step_size=100, gamma=0.5)\n",
        "scheduler=torch.optim.lr_scheduler.ExponentialLR(optimizer, gamma=0.99)\n",
        "# def train():\n",
        "#     model.train()\n",
        "\n",
        "#     for epoch in range(num_epochs):\n",
        "#         for data in train_loader:  # Iterate in batches over the training dataset.\n",
        "#             embedding,  out = model(data.x, data.edge_index, data.batch)  # Perform a single forward pass.\n",
        "#             #print(out)\n",
        "#             loss = criterion(out, data.y)  # Compute the loss.\n",
        "#             loss.backward()  # Derive gradients.\n",
        "#             optimizer.step()  # Update parameters based on gradients.\n",
        "#             optimizer.zero_grad()  # Clear gradients.\n",
        "\n",
        "#         # Update the learning rate scheduler\n",
        "#         scheduler.step()\n",
        "\n",
        "#         # Print the current learning rate every epoch (optional)\n",
        "#         print(f\"Epoch {epoch + 1}/{num_epochs}, Learning Rate: {scheduler.get_last_lr()[0]}\",loss)\n",
        "#         # train_acc = test(train_loader)\n",
        "#         # test_acc = test(test_loader)\n",
        "#         # print(f'Epoch: {epoch:03d}, Train Acc: {train_acc:.4f}, Test Acc: {test_acc:.4f}')\n",
        "def train():\n",
        "    model.train()\n",
        "\n",
        "    for epoch in range(num_epochs):\n",
        "        for data in train_loader:  # Iterate in batches over the training dataset.\n",
        "            # Forward pass\n",
        "            x, edge_index, batch = data.x, data.edge_index, data.batch\n",
        "            embedding, out = model(x, edge_index, batch)\n",
        "\n",
        "            # Compute the loss\n",
        "            loss = criterion(out, data.y)\n",
        "\n",
        "            # Backpropagation\n",
        "            optimizer.zero_grad()\n",
        "            loss.backward()\n",
        "            optimizer.step()\n",
        "\n",
        "        # Update the learning rate scheduler\n",
        "        scheduler.step()\n",
        "\n",
        "        # Print the current learning rate and loss every epoch\n",
        "        print(f\"Epoch {epoch + 1}/{num_epochs}, Learning Rate: {scheduler.get_last_lr()[0]}, Loss: {loss.item()}\")\n",
        "\n",
        "# Set the number of epochs\n",
        "num_epochs = 1600\n",
        "\n",
        "# Call the training loop\n",
        "train()\n",
        "\n",
        "\n",
        "# # Set the number of epochs\n",
        "# num_epochs = 800\n",
        "\n",
        "# # Call the training loop\n",
        "# train()\n",
        "\n"
      ]
    },
    {
      "cell_type": "markdown",
      "source": [
        "Plot the Confusion Matrix of the Classifier"
      ],
      "metadata": {
        "id": "jNU68zsY8FfJ"
      },
      "id": "jNU68zsY8FfJ"
    },
    {
      "cell_type": "code",
      "source": [
        "import torch\n",
        "import numpy as np\n",
        "from sklearn.metrics import confusion_matrix\n",
        "import seaborn as sns\n",
        "import matplotlib.pyplot as plt\n",
        "\n",
        "def plot_confusion_matrix(model, dataset, class_dict):\n",
        "    \"\"\"\n",
        "    Evaluate the model on the provided dataset, compute the confusion matrix,\n",
        "    and plot it with class names.\n",
        "\n",
        "    Parameters:\n",
        "    - model: Trained GNN model\n",
        "    - dataset: List of data objects\n",
        "    - class_dict: Dictionary mapping class labels to class names, e.g., {0: 'Class A', 1: 'Class B'}\n",
        "    \"\"\"\n",
        "\n",
        "    # Step 1: Evaluate the model and get predictions and true labels\n",
        "    model.eval()\n",
        "    all_preds = []\n",
        "    all_labels = []\n",
        "\n",
        "    with torch.no_grad():\n",
        "        for data in dataset:\n",
        "            _, out = model(data.x, data.edge_index, data.batch)\n",
        "            pred = out.argmax(dim=1)\n",
        "            all_preds.append(pred.cpu().numpy())\n",
        "            all_labels.append(data.y.cpu().numpy())\n",
        "\n",
        "    all_preds = np.concatenate(all_preds, axis=0)\n",
        "    all_labels = np.concatenate(all_labels, axis=0)\n",
        "\n",
        "    # Step 2: Compute the confusion matrix\n",
        "    conf_matrix = confusion_matrix(all_labels, all_preds)\n",
        "\n",
        "    # Step 3: Plot the confusion matrix\n",
        "    class_names = [class_dict[i] for i in range(len(class_dict))]\n",
        "\n",
        "    plt.figure(figsize=(8, 6))\n",
        "    sns.heatmap(conf_matrix, annot=True, fmt=\"d\", cmap=\"Blues\",\n",
        "                xticklabels=class_names, yticklabels=class_names)\n",
        "    plt.xlabel(\"Predicted\")\n",
        "    plt.ylabel(\"True\")\n",
        "    plt.title(\"Confusion Matrix\")\n",
        "    plt.show()\n",
        "\n",
        "# Example usage:\n",
        "# Assuming the class labels are {0: 'Mutagenic', 1: 'Non-Mutagenic'}\n",
        "#class_dict = {0: 'Mutagenic', 1: 'Non-Mutagenic'}\n",
        "\n",
        "# Example dataset (assuming it's a list of data objects)\n",
        "# dataset = [...]\n",
        "\n",
        "# Call the function with the model, dataset (as a list), and class dictionary\n",
        "#plot_confusion_matrix(model, dataset, class_dict)\n"
      ],
      "metadata": {
        "id": "Ub2ns9s8ScHP"
      },
      "execution_count": null,
      "outputs": [],
      "id": "Ub2ns9s8ScHP"
    },
    {
      "cell_type": "code",
      "source": [],
      "metadata": {
        "id": "KIMDSijhmVOl"
      },
      "id": "KIMDSijhmVOl",
      "execution_count": null,
      "outputs": []
    },
    {
      "cell_type": "code",
      "source": [
        "class_dict={0:'Non-Mutagenic',1:'Mutagenic'}\n",
        "plot_confusion_matrix(model,dataset,class_dict)"
      ],
      "metadata": {
        "colab": {
          "base_uri": "https://localhost:8080/",
          "height": 564
        },
        "id": "t0LchX_6SfLR",
        "outputId": "f9b76b23-4711-44f3-fa7d-61743e47941f"
      },
      "execution_count": null,
      "outputs": [
        {
          "output_type": "display_data",
          "data": {
            "text/plain": [
              "<Figure size 800x600 with 2 Axes>"
            ],
            "image/png": "[encoded data removed]"
          },
          "metadata": {}
        }
      ],
      "id": "t0LchX_6SfLR"
    },
    {
      "cell_type": "code",
      "execution_count": null,
      "id": "X7TcSRef5pbA",
      "metadata": {
        "id": "X7TcSRef5pbA"
      },
      "outputs": [],
      "source": [
        "# Define the path to the local folder on Colab where you want to save the model\n",
        "save_path = '/content/mutag.pth'\n",
        "\n",
        "# Save the model\n",
        "torch.save(model.state_dict(), save_path)"
      ]
    },
    {
      "cell_type": "code",
      "execution_count": 1,
      "id": "AEgdKYOLMmpQ",
      "metadata": {
        "colab": {
          "base_uri": "https://localhost:8080/",
          "height": 211
        },
        "id": "AEgdKYOLMmpQ",
        "outputId": "c6f1a73b-1cbd-4636-9d38-f46eaf01d5c8"
      },
      "outputs": [
        {
          "output_type": "error",
          "ename": "NameError",
          "evalue": "name 'model' is not defined",
          "traceback": [
            "\u001b[0;31m---------------------------------------------------------------------------\u001b[0m",
            "\u001b[0;31mNameError\u001b[0m                                 Traceback (most recent call last)",
            "\u001b[0;32m<ipython-input-1-9a6f3df10d4f>\u001b[0m in \u001b[0;36m<cell line: 14>\u001b[0;34m()\u001b[0m\n\u001b[1;32m     12\u001b[0m \u001b[0;34m\u001b[0m\u001b[0m\n\u001b[1;32m     13\u001b[0m \u001b[0;31m# Load the saved model weights\u001b[0m\u001b[0;34m\u001b[0m\u001b[0;34m\u001b[0m\u001b[0m\n\u001b[0;32m---> 14\u001b[0;31m \u001b[0mmodel\u001b[0m\u001b[0;34m.\u001b[0m\u001b[0mload_state_dict\u001b[0m\u001b[0;34m(\u001b[0m\u001b[0mtorch\u001b[0m\u001b[0;34m.\u001b[0m\u001b[0mload\u001b[0m\u001b[0;34m(\u001b[0m\u001b[0mload_path\u001b[0m\u001b[0;34m)\u001b[0m\u001b[0;34m)\u001b[0m\u001b[0;34m\u001b[0m\u001b[0;34m\u001b[0m\u001b[0m\n\u001b[0m\u001b[1;32m     15\u001b[0m \u001b[0;34m\u001b[0m\u001b[0m\n\u001b[1;32m     16\u001b[0m \u001b[0;31m# Set the model to evaluation mode\u001b[0m\u001b[0;34m\u001b[0m\u001b[0;34m\u001b[0m\u001b[0m\n",
            "\u001b[0;31mNameError\u001b[0m: name 'model' is not defined"
          ]
        }
      ],
      "source": [
        "\n",
        "load_path = '/content/mutag.pth'\n",
        "\n",
        "\n",
        "\n",
        "# Initialize the model architecture\n",
        "\n",
        "# Load the saved model weights\n",
        "model.load_state_dict(torch.load(load_path))\n",
        "\n",
        "# Set the model to evaluation mode\n",
        "model.eval()\n"
      ]
    },
    {
      "cell_type": "markdown",
      "source": [
        "# Calculating the Degree Distribution,Cluster Coefficient and Spectral Eigenvalues\n"
      ],
      "metadata": {
        "id": "nKIPFATalo7m"
      },
      "id": "nKIPFATalo7m"
    },
    {
      "cell_type": "code",
      "source": [
        "def degree_distribution(data, N):\n",
        "    # Find all unique nodes present in the edge index tensor\n",
        "    all_nodes = torch.unique(torch.cat((data.edge_index[0], data.edge_index[1])))\n",
        "\n",
        "    # Calculate the number of nodes\n",
        "    num_nodes = int(all_nodes.max()) + 1 if all_nodes.numel() > 0 else 0  # If there are no nodes, set num_nodes to 0\n",
        "\n",
        "    # Calculate the degree of each node\n",
        "    degrees = torch.bincount(data.edge_index[0], minlength=num_nodes)\n",
        "\n",
        "    # Convert degrees to degree distribution\n",
        "    degree_values = torch.bincount(degrees)\n",
        "\n",
        "    # Make sure the tensor is of length N\n",
        "    degree_distribution = torch.cat((degree_values, torch.zeros(max(N - len(degree_values), 0)).to(degree_values.device)))\n",
        "\n",
        "    return degree_distribution\n",
        "\n",
        "\n",
        "def clustering_coefficient(data):\n",
        "    # Ensure the graph is undirected\n",
        "    #data = to_undirected(data)\n",
        "\n",
        "    # Calculate the number of nodes\n",
        "    num_nodes = data.x.shape[0]\n",
        "\n",
        "    # Calculate the number of triangles each node is involved in\n",
        "    num_triangles = torch.zeros(num_nodes, dtype=torch.float)\n",
        "\n",
        "    # Calculate the number of connected triples each node is involved in\n",
        "    num_connected_triples = torch.zeros(num_nodes, dtype=torch.float)\n",
        "\n",
        "    # Iterate over each edge in the graph\n",
        "    for i, j in data.edge_index.t().tolist():\n",
        "        # Get the neighbors of node i and node j\n",
        "        neighbors_i = set(data.edge_index[1][data.edge_index[0] == i].tolist())\n",
        "        neighbors_j = set(data.edge_index[1][data.edge_index[0] == j].tolist())\n",
        "\n",
        "        # Calculate the number of common neighbors between i and j\n",
        "        common_neighbors = neighbors_i.intersection(neighbors_j)\n",
        "\n",
        "        # Update the number of triangles and connected triples for nodes i and j\n",
        "        num_triangles[i] += len(common_neighbors)\n",
        "        num_triangles[j] += len(common_neighbors)\n",
        "        num_connected_triples[i] += len(neighbors_i) - 1\n",
        "        num_connected_triples[j] += len(neighbors_j) - 1\n",
        "\n",
        "    # Print intermediate results for debugging\n",
        "    #print(\"Number of triangles per node:\", num_triangles)\n",
        "    #print(\"Number of connected triples per node:\", num_connected_triples)\n",
        "\n",
        "    # Calculate the local clustering coefficient for each node\n",
        "    local_clustering_coefficient = (num_triangles / 2) / num_connected_triples\n",
        "    local_clustering_coefficient[torch.isnan(local_clustering_coefficient)] = 0  # Set NaN values to 0\n",
        "\n",
        "    # Print intermediate results for debugging\n",
        "    #print(\"Local clustering coefficient per node:\", local_clustering_coefficient)\n",
        "\n",
        "    # Calculate the average clustering coefficient\n",
        "    avg_clustering_coefficient = local_clustering_coefficient.mean()\n",
        "\n",
        "    return avg_clustering_coefficient\n",
        "\n",
        "def spectrum_distribution(data, k):\n",
        "    # Convert PyTorch Geometric Data object to a dense adjacency matrix\n",
        "    num_nodes = data.num_nodes\n",
        "    adj_matrix = torch_geometric.utils.to_dense_adj(data.edge_index).squeeze(0)\n",
        "\n",
        "    # Calculate degree matrix\n",
        "    degree = torch.sum(adj_matrix, dim=1)\n",
        "    degree_matrix = torch.diag(degree)\n",
        "\n",
        "    # Calculate Laplacian matrix\n",
        "    laplacian_matrix = degree_matrix - adj_matrix\n",
        "\n",
        "    # Convert Laplacian to dense matrix and numpy array\n",
        "    laplacian_dense = laplacian_matrix.numpy()\n",
        "\n",
        "    # Compute eigenvalues\n",
        "    eigenvalues, _ = np.linalg.eig(laplacian_dense)\n",
        "\n",
        "    # Sort eigenvalues in ascending order\n",
        "    eigenvalues = np.sort(eigenvalues)\n",
        "\n",
        "    # If k is greater than the number of eigenvalues, pad with zeros\n",
        "    if k > len(eigenvalues):\n",
        "        padded_eigenvalues = np.pad(eigenvalues, (0, k - len(eigenvalues)), 'constant')\n",
        "    else:\n",
        "        padded_eigenvalues = eigenvalues[:k]\n",
        "\n",
        "    return padded_eigenvalues\n",
        "\n",
        "# Example usage\n",
        "# Assuming 'data' is your PyTorch Geometric Data object and 'k' is the desired number of eigenvalues\n",
        "# eigenvalues = spectrum_distribution(data, k)\n",
        "\n",
        "\n",
        "\n",
        "\n"
      ],
      "metadata": {
        "id": "n-Ch2LsLloa6"
      },
      "id": "n-Ch2LsLloa6",
      "execution_count": null,
      "outputs": []
    },
    {
      "cell_type": "markdown",
      "source": [
        "Calculate F1 Score of the Model"
      ],
      "metadata": {
        "id": "Jlglrh2Q8eED"
      },
      "id": "Jlglrh2Q8eED"
    },
    {
      "cell_type": "code",
      "source": [
        "import torch\n",
        "from sklearn.metrics import f1_score\n",
        "from torch_geometric.data import DataLoader\n",
        "\n",
        "def calculate_f1_score(model, dataset):\n",
        "    model.eval()  # Set model to evaluation mode\n",
        "    #device = torch.device('cuda' if torch.cuda.is_available() else 'cpu')\n",
        "    #model.to(device)  # Move model to the appropriate device (GPU if available)\n",
        "\n",
        "    y_true = []\n",
        "    y_pred = []\n",
        "\n",
        "    #loader = DataLoader(dataset, batch_size=1, shuffle=False)\n",
        "    for data in dataset:\n",
        "        #data = data.to(device)\n",
        "        with torch.no_grad():\n",
        "            _,output = model(data.x, data.edge_index, data.batch)\n",
        "        predicted_labels = output.argmax(dim=1)\n",
        "        y_true.append(data.y)\n",
        "        y_pred.extend(predicted_labels)\n",
        "\n",
        "    f1 = f1_score(y_true, y_pred, average=None)  # Calculate F1 score\n",
        "    return f1\n",
        "f1=calculate_f1_score(model,dataset)\n",
        "print(f1)\n"
      ],
      "metadata": {
        "id": "1scBkeodWjPx",
        "colab": {
          "base_uri": "https://localhost:8080/"
        },
        "outputId": "d02bc6ce-407f-45c0-cb79-169a7f65876b"
      },
      "execution_count": null,
      "outputs": [
        {
          "output_type": "stream",
          "name": "stdout",
          "text": [
            "[0.76666667 0.890625  ]\n"
          ]
        }
      ],
      "id": "1scBkeodWjPx"
    },
    {
      "cell_type": "markdown",
      "id": "30f52a34",
      "metadata": {
        "id": "30f52a34"
      },
      "source": [
        "#  Writing the MLE estimates for all the graphs that belong to a class using a\n",
        "\n",
        "# Graph Representation Model with Categorical Distribution of Nodes and\n",
        "\n",
        "# Edges"
      ]
    },
    {
      "cell_type": "code",
      "execution_count": null,
      "id": "506905f9",
      "metadata": {
        "colab": {
          "base_uri": "https://localhost:8080/"
        },
        "id": "506905f9",
        "outputId": "3ad81064-17da-491d-bfd2-e76fc0356859"
      },
      "outputs": [
        {
          "output_type": "stream",
          "name": "stdout",
          "text": [
            "57\n",
            "131\n",
            "None\n"
          ]
        }
      ],
      "source": [
        "# Separating the graphs into two classes according to the model\n",
        "N=28\n",
        "data1=[]\n",
        "data2=[]\n",
        "latent_data1=[]\n",
        "latent_data2=[]\n",
        "degreedist1=[]\n",
        "degreedist2=[]\n",
        "cluscoeff1=[]\n",
        "cluscoeff2=[]\n",
        "spec1=[]\n",
        "spec2=[]\n",
        "\n",
        "for i in range(len(dataset)):\n",
        "    model.eval()\n",
        "    data=dataset[i]\n",
        "    embedding , out = model(data.x, data.edge_index, data.batch)\n",
        "    pred = out.argmax(dim=1)\n",
        "    if(pred==0):\n",
        "        data1.append(data)\n",
        "        latent_data1.append(embedding)\n",
        "        degree=degree_distribution(data,N)\n",
        "        clus=clustering_coefficient(data)\n",
        "        spec=spectrum_distribution(data,N)\n",
        "        cluscoeff1.append(clus)\n",
        "        degreedist1.append(degree)\n",
        "        spec1.append(spec)\n",
        "\n",
        "    else:\n",
        "        data2.append(data)\n",
        "        latent_data2.append(embedding)\n",
        "        degree=degree_distribution(data,N)\n",
        "        degreedist2.append(degree)\n",
        "        clus=clustering_coefficient(data)\n",
        "        cluscoeff2.append(clus)\n",
        "        spec=spectrum_distribution(data,N)\n",
        "        spec2.append(spec)\n",
        "print(len(data1))\n",
        "print(len(data2))\n",
        "\n",
        "print(data.batch)\n",
        "\n",
        "latent_explanations=[]\n"
      ]
    },
    {
      "cell_type": "code",
      "execution_count": null,
      "id": "Jje2Sa-US9BU",
      "metadata": {
        "id": "Jje2Sa-US9BU",
        "colab": {
          "base_uri": "https://localhost:8080/"
        },
        "outputId": "507a18e9-0f35-488f-afd1-bf67257f22a9"
      },
      "outputs": [
        {
          "output_type": "execute_result",
          "data": {
            "text/plain": [
              "131"
            ]
          },
          "metadata": {},
          "execution_count": 15
        }
      ],
      "source": [
        "len(spec1)\n",
        "len(spec2)"
      ]
    },
    {
      "cell_type": "code",
      "execution_count": null,
      "id": "TjG50CnDIydV",
      "metadata": {
        "colab": {
          "base_uri": "https://localhost:8080/"
        },
        "id": "TjG50CnDIydV",
        "outputId": "35264d29-db6b-4855-a142-4cbcd694e515"
      },
      "outputs": [
        {
          "name": "stdout",
          "output_type": "stream",
          "text": [
            "60\n",
            "12\n"
          ]
        }
      ],
      "source": [
        "m=torch.nn.Softmax(dim=1)\n",
        "boundary1=[]\n",
        "boundary2=[]\n",
        "boundary3=[]\n",
        "for i in range(len(dataset)):\n",
        "    model.eval()\n",
        "    data=dataset[i]\n",
        "    embedding , out = model(data.x, data.edge_index, data.batch)\n",
        "    probs=m(out)\n",
        "    #out=torch.nn.Softmax(out,dim=0)\n",
        "    #pred = out.argmax(dim=1)\n",
        "    if(0.5<probs[0][0]):\n",
        "        boundary1.append(data)\n",
        "        #latent_data1.append(embedding)\n",
        "    if(0.5<probs[0][1]<0.7):\n",
        "        boundary2.append(data)\n",
        "    # if(0.4<probs[0][2]<0.6):\n",
        "    #     boundary3.append(data)\n",
        "    #     #latent_data2.append(embedding)\n",
        "print(len(boundary1))\n",
        "print(len(boundary2))\n",
        "#print(len(boundary3))\n",
        "#print(len(boundary))"
      ]
    },
    {
      "cell_type": "code",
      "execution_count": null,
      "id": "Uslva7VtTj8b",
      "metadata": {
        "id": "Uslva7VtTj8b"
      },
      "outputs": [],
      "source": []
    },
    {
      "cell_type": "code",
      "execution_count": null,
      "id": "YOfX0kbgYtYi",
      "metadata": {
        "id": "YOfX0kbgYtYi"
      },
      "outputs": [],
      "source": [
        "def Dpc(dataset,threshold):\n",
        "  boundary1=[]\n",
        "  boundary2=[]\n",
        "  m=torch.nn.Softmax(dim=1)\n",
        "  for i in range(len(dataset)):\n",
        "      model.eval()\n",
        "      data=dataset[i]\n",
        "      embedding , out = model(data.x, data.edge_index, data.batch)\n",
        "      probs=m(out)\n",
        "      #out=torch.nn.Softmax(out,dim=0)\n",
        "      #pred = out.argmax(dim=1)\n",
        "      if(threshold<probs[0][0]):\n",
        "          boundary1.append(data)\n",
        "          #latent_data1.append(embedding)\n",
        "      if(threshold <probs[0][1]):\n",
        "          boundary2.append(data)\n",
        "  return boundary1 , boundary2\n"
      ]
    },
    {
      "cell_type": "markdown",
      "source": [
        "# Graph Representation Model"
      ],
      "metadata": {
        "id": "vfJ--uUw_UBG"
      },
      "id": "vfJ--uUw_UBG"
    },
    {
      "cell_type": "code",
      "execution_count": null,
      "id": "PXfECBAuUcox",
      "metadata": {
        "id": "PXfECBAuUcox"
      },
      "outputs": [],
      "source": [
        "from tqdm import tqdm\n",
        "import numpy as np\n",
        "\n",
        "N=28\n",
        "def GraphRepModel(targetclass,N):\n",
        "  #N=25 # Number of nodes of the largest graph that the model can generate\n",
        "\n",
        "  X=np.zeros((N,10))# Node Type Matrix for nodes of 10 types\n",
        "  #targetclass=data2\n",
        "  print(\"length of target class\",len(targetclass))\n",
        "\n",
        "  # #Learning the node representations\n",
        "  # for i in tqdm(range(len(targetclass))):#len(data1))\n",
        "  #     data=targetclass[i]\n",
        "  #     x=data.x\n",
        "  #     x=np.array(x,dtype=int)\n",
        "\n",
        "  #     #print(x)\n",
        "  #     for j in range(len(x)):\n",
        "  #         X[j][x[j]]+=1\n",
        "  #     for k in range(j+1,N):\n",
        "  #         X[k][0]+=1\n",
        "  for i in tqdm(range(len(targetclass))):#len(data1))\n",
        "    data=targetclass[i]\n",
        "    x=data.x\n",
        "    x=torch.argmax(x, dim=1)\n",
        "    x=x+1\n",
        "    #print(x)\n",
        "    for j in range(len(x)):\n",
        "        X[j][x[j]]+=1\n",
        "    for k in range(j+1,N):\n",
        "        X[k][0]+=1\n",
        "\n",
        "\n",
        "  #Learning the edge representations\n",
        "  Adj=np.zeros((N,N))# Edge type count for only two types edge present/edge absent\n",
        "  for i in tqdm(range(len(targetclass))):\n",
        "      data=targetclass[i]\n",
        "      adj=data.edge_index\n",
        "      rowlen=len(adj[0][:])\n",
        "      #print(rowlen)\n",
        "      #print(adj[:][0])\n",
        "      #print(adj[:][1])\n",
        "      for j in range(rowlen):\n",
        "          k1=adj[0][j]\n",
        "          k2=adj[1][j]\n",
        "          Adj[k1][k2]+=1\n",
        "          #Adj[k2][k1]+=1\n",
        "\n",
        "  #Learning the parameters for the distribution of nodes\n",
        "  numgraphs=len(targetclass)\n",
        "  print(numgraphs)\n",
        "  X=X/numgraphs #converting X to the node distribution matrix\n",
        "\n",
        "  Adj=Adj/numgraphs\n",
        "  return X , Adj\n",
        "\n"
      ]
    },
    {
      "cell_type": "markdown",
      "source": [
        "# Node Feature and Edge Feature Generative Model"
      ],
      "metadata": {
        "id": "f6k3LFRf_eV5"
      },
      "id": "f6k3LFRf_eV5"
    },
    {
      "cell_type": "code",
      "execution_count": null,
      "id": "HIa18awnUEpG",
      "metadata": {
        "colab": {
          "base_uri": "https://localhost:8080/"
        },
        "id": "HIa18awnUEpG",
        "outputId": "e8fb905d-b16e-451a-f0da-4f4a8f23d663"
      },
      "outputs": [
        {
          "output_type": "stream",
          "name": "stdout",
          "text": [
            "length of target class 57\n"
          ]
        },
        {
          "output_type": "stream",
          "name": "stderr",
          "text": [
            "100%|██████████| 57/57 [00:00<00:00, 8532.61it/s]\n",
            "100%|██████████| 57/57 [00:00<00:00, 2395.11it/s]\n"
          ]
        },
        {
          "output_type": "stream",
          "name": "stdout",
          "text": [
            "57\n",
            "length of target class 131\n"
          ]
        },
        {
          "output_type": "stream",
          "name": "stderr",
          "text": [
            "100%|██████████| 131/131 [00:00<00:00, 7585.06it/s]\n",
            "100%|██████████| 131/131 [00:00<00:00, 1680.47it/s]"
          ]
        },
        {
          "output_type": "stream",
          "name": "stdout",
          "text": [
            "131\n"
          ]
        },
        {
          "output_type": "stream",
          "name": "stderr",
          "text": [
            "\n"
          ]
        }
      ],
      "source": [
        "#B1,AdjB1=GraphRepModel(boundary1,N)\n",
        "X1,Adj1=GraphRepModel(data1,N)\n",
        "X2,Adj2=GraphRepModel(data2,N)\n",
        "# B1,AdjB1=GraphRepModel(boundary1,N)\n",
        "# B2,AdjB2=GraphRepModel(boundary2,N)\n",
        "\n"
      ]
    },
    {
      "cell_type": "markdown",
      "source": [
        "# Sampling a Graph from the Generative Model"
      ],
      "metadata": {
        "id": "Aq18X-C6AX6a"
      },
      "id": "Aq18X-C6AX6a"
    },
    {
      "cell_type": "code",
      "execution_count": null,
      "id": "f-KzAw6Se_AM",
      "metadata": {
        "id": "f-KzAw6Se_AM"
      },
      "outputs": [],
      "source": [
        "from torch.distributions import Categorical\n",
        "from torch_geometric.utils import subgraph\n",
        "from torch_geometric.utils import remove_isolated_nodes\n",
        "from torch_geometric.data import Data\n",
        "from torch_geometric.utils import to_networkx\n",
        "def graphsampler(N,X,Adj,show=False):\n",
        "  #torch.manual_seed(sd)\n",
        "  nodeset=[]\n",
        "  keepnodes=[]\n",
        "  newnodes=[]\n",
        "  count=0\n",
        "\n",
        "  for i in range(N):\n",
        "      probs=X[i][:]\n",
        "      probs=torch.from_numpy(probs)\n",
        "      m=Categorical(probs)\n",
        "      chosennode=m.sample()\n",
        "      nodeset.append(chosennode)\n",
        "      if(chosennode!=0):\n",
        "          keepnodes.append(i)\n",
        "          newnodes.append(chosennode)\n",
        "  # print(\"Whole set of nodes \")\n",
        "  # print(nodeset)\n",
        "  # print(\"Nodes to keep\")\n",
        "  # print(keepnodes)\n",
        "  # print(newnodes)\n",
        "  #print(Adjacency)\n",
        "  keepnodescp=keepnodes.copy()\n",
        "  Adj1=torch.from_numpy(Adj)\n",
        "  Adjacency= torch.bernoulli(Adj1)\n",
        "  #Symmetrizing the adjacency matrix as it is a dataset of undirected graphs\n",
        "  for i in range(N):\n",
        "    for j in range(i+1):\n",
        "      Adjacency[i][j]=Adjacency[j][i]\n",
        "  #print(Adjacency.size())\n",
        "  # Removing edges generated for absent nodes\n",
        "  for i in range(len(nodeset)):\n",
        "    if(nodeset[i]==0):\n",
        "\n",
        "      Adjacency[i][:]=0\n",
        "      Adjacency[:][i]=0\n",
        "\n",
        "  #print(\"Length of keepnodes list\",len(keepnodes))\n",
        "\n",
        "  templen =  len(keepnodes)\n",
        "  for j in range(templen):\n",
        "    testval=0\n",
        "  # print(\"value of loop counter j\",j)\n",
        "    place=keepnodes[j]\n",
        "    #print(\"corresponding keepnode value\",place)\n",
        "    for k in range(10):\n",
        "      if(Adjacency[place][k]!=0):\n",
        "        testval=1\n",
        "        break\n",
        "    if(testval==0):\n",
        "      keepnodescp.remove(place)\n",
        "\n",
        "\n",
        "\n",
        "\n",
        "  # To test how potent the explainer is we need to feed samples generated from this to the GNN to classify\n",
        "  #First we need to convert the data into the tensor proper for fitting into the GNN\n",
        "  edge_ind=Adjacency.nonzero().t().contiguous()\n",
        "  newgraph=Data(x=nodeset,edge_index=edge_ind)\n",
        "  # print(\"Edge index of graph with all nodes\")\n",
        "  # print(edge_ind)\n",
        "  # #print(newgraph.x)\n",
        "\n",
        "\n",
        "  # print(\"Finally nodes that remain in the graph\")\n",
        "  # print(keepnodescp)\n",
        "\n",
        "  extractededge=subgraph(keepnodescp,edge_ind,relabel_nodes=True)\n",
        "  extedge=subgraph(keepnodescp,edge_ind,relabel_nodes=False)\n",
        "\n",
        "  # print(\"Final edges with nodes same as before\")\n",
        "  # print(extedge[0])\n",
        "  # print(\"Final edges with relabelled nodes\")\n",
        "  # print(extractededge[0])\n",
        "  9163, 0.\n",
        "\n",
        "  newnodes1=[nodeset[i] for i in keepnodescp]\n",
        "  newnodes=newnodes1\n",
        "  newnodes=torch.stack(newnodes)\n",
        "  newnodes=newnodes-1\n",
        "  nodelabels=newnodes\n",
        "  #print(newnodes)\n",
        "  newnodes=F.one_hot(newnodes,num_classes=7)\n",
        "  newnodes=newnodes.float()\n",
        "\n",
        "  #print(newnodes)\n",
        "  finalgraph=Data(x=newnodes,edge_index=extractededge[0])\n",
        "\n",
        "  # print(finalgraph.edge_index.type())\n",
        "  # print(finalgraph.x.type())\n",
        "  embedding,out=model(finalgraph.x,finalgraph.edge_index,finalgraph.batch)\n",
        "  soft=torch.nn.Softmax(dim=1)\n",
        "  #print(soft(out))\n",
        "  #print(out)\n",
        "  explainergraph=to_networkx(finalgraph,to_undirected=True)\n",
        "  problities=soft(out)\n",
        "  # if problities[0][0]>0.9:\n",
        "  #     print(problities)\n",
        "  #     show=True\n",
        "\n",
        "  if show:\n",
        "    #nx.draw_networkx(explainergraph, node_size=150, node_color='red',with_labels=False)\n",
        "    plotmutag(finalgraph)\n",
        "  degreedist=degree_distribution(finalgraph,N)\n",
        "  cluscoeffexp=clustering_coefficient(finalgraph)\n",
        "  specdist=spectrum_distribution(finalgraph,N)\n",
        "  problities=soft(out)\n",
        "  explainernodes=nx.number_of_nodes(explainergraph)\n",
        "  explaineredges=nx.number_of_edges(explainergraph)\n",
        "  explainerdensity=(explaineredges)/(explainernodes*explainernodes)\n",
        "  return problities,explainerdensity,embedding,degreedist,cluscoeffexp,specdist"
      ]
    },
    {
      "cell_type": "markdown",
      "source": [
        "Function for Computing MMD Kernel"
      ],
      "metadata": {
        "id": "Iv6lt5dUAhTx"
      },
      "id": "Iv6lt5dUAhTx"
    },
    {
      "cell_type": "code",
      "execution_count": null,
      "id": "Z-d_Ul_epCvF",
      "metadata": {
        "colab": {
          "base_uri": "https://localhost:8080/"
        },
        "id": "Z-d_Ul_epCvF",
        "outputId": "06fe7772-bfe2-41cf-e190-141a1a1a9901"
      },
      "outputs": [
        {
          "output_type": "stream",
          "name": "stdout",
          "text": [
            "MMD between the two samples: 0.0001\n"
          ]
        }
      ],
      "source": [
        "def mmd_kernel(X, Y, kernel_func):\n",
        "    \"\"\"\n",
        "    Compute Maximum Mean Discrepancy (MMD) between two samples using a given kernel function.\n",
        "\n",
        "    Parameters:\n",
        "    - X: torch.Tensor, shape (n_samples, n_features)\n",
        "    - Y: torch.Tensor, shape (m_samples, n_features)\n",
        "    - kernel_func: function, kernel function to compute pairwise kernel values\n",
        "\n",
        "    Returns:\n",
        "    - mmd: float, Maximum Mean Discrepancy\n",
        "    \"\"\"\n",
        "    m, n = len(X), len(Y)\n",
        "\n",
        "    # Compute kernel matrices\n",
        "    K_xx = kernel_func(X, X)\n",
        "    K_yy = kernel_func(Y, Y)\n",
        "    K_xy = kernel_func(X, Y)\n",
        "\n",
        "    # Compute MMD statistic\n",
        "    mmd = 1.0 / (m * (m - 1)) * torch.sum(K_xx - torch.diag(torch.diagonal(K_xx))) + \\\n",
        "          1.0 / (n * (n - 1)) * torch.sum(K_yy - torch.diag(torch.diagonal(K_yy))) - \\\n",
        "          2.0 / (m * n) * torch.sum(K_xy)\n",
        "\n",
        "    return mmd.item()  # Convert the result to a Python float\n",
        "\n",
        "# Example of using a Gaussian (RBF) kernel function for PyTorch\n",
        "def gaussian_kernel(X, Y, sigma=1.0):\n",
        "    \"\"\"\n",
        "    Gaussian (RBF) kernel function.\n",
        "\n",
        "    Parameters:\n",
        "    - X: torch.Tensor, shape (n_samples, n_features)\n",
        "    - Y: torch.Tensor, shape (m_samples, n_features)\n",
        "    - sigma: float, bandwidth parameter of the kernel\n",
        "\n",
        "    Returns:\n",
        "    - K: torch.Tensor, shape (n_samples, m_samples), kernel matrix\n",
        "    \"\"\"\n",
        "    pairwise_sq_dists = torch.sum(X**2, dim=1, keepdim=True) + torch.sum(Y**2, dim=1, keepdim=True).t() - 2 * torch.mm(X, Y.t())\n",
        "    K = torch.exp(-pairwise_sq_dists / (2.0 * sigma**2))\n",
        "    return K\n",
        "\n",
        "# Example usage with PyTorch tensors\n",
        "torch.manual_seed(42)\n",
        "sample_X = torch.rand(100, 64)  # Replace with your first sample\n",
        "sample_Y = torch.rand(50, 64)  # Replace with your second sample\n",
        "\n",
        "mmd_value = mmd_kernel(sample_X, sample_Y, gaussian_kernel)\n",
        "print(f'MMD between the two samples: {mmd_value:.4f}')\n"
      ]
    },
    {
      "cell_type": "markdown",
      "source": [
        "# Function for Target Class Analysis"
      ],
      "metadata": {
        "id": "RIPrgCljF29u"
      },
      "id": "RIPrgCljF29u"
    },
    {
      "cell_type": "code",
      "source": [
        "import statistics\n",
        "import torch\n",
        "\n",
        "def target_class_analysis(X, Adj, N, latent, numexplanations=50, numsample=10, label=0):\n",
        "    \"\"\"\n",
        "    Analyzes the robustness of a target class in graph data by sampling graphs\n",
        "    and evaluating accuracy, density, and other metrics.\n",
        "\n",
        "    Args:\n",
        "        X: Node feature matrix.\n",
        "        Adj: Adjacency matrix.\n",
        "        N: Number of nodes in the graph.\n",
        "        latent: Latent space embeddings of the original data.\n",
        "        numexplanations: Number of explanations to generate\n",
        "        numsample: Number of samples to generate.\n",
        "        label: Target class label to analyze (default: 0).\n",
        "\n",
        "    Returns:\n",
        "        meanaccuracy: Mean accuracy.\n",
        "        stdaccuracy: Standard deviation of accuracies.\n",
        "        meandensity: Mean density.\n",
        "        stddensity: Standard deviation of densities.\n",
        "        MMD: Maximum Mean Discrepancy (MMD) distance.\n",
        "        degreedistlist: Degree distributions across samples.\n",
        "        cluslist: Clustering coefficients across samples.\n",
        "        speclist: Spectral metrics across samples.\n",
        "    \"\"\"\n",
        "    accuracy = []\n",
        "    density = []\n",
        "    embeddings = []\n",
        "    degreedistlist = []\n",
        "    cluslist = []\n",
        "    speclist = []\n",
        "\n",
        "    for _ in range(numexplanations):\n",
        "        newX = X  # Placeholder for potential feature perturbation\n",
        "        newAdj = Adj  # Placeholder for potential adjacency perturbation\n",
        "        max_prob = 0\n",
        "\n",
        "        for _ in range(numsample):\n",
        "            probabilities, explainerdensity, embedding, degreedistb, clus, spec = graphsampler(N, newX, newAdj)\n",
        "\n",
        "            if probabilities[0][label] > max_prob:\n",
        "                sampleaccuracy = probabilities[0][label]\n",
        "                sampledensity = explainerdensity\n",
        "                sampleembedding = embedding\n",
        "                sampledeg = degreedistb\n",
        "                sampleclus = clus\n",
        "                samplespec = spec\n",
        "                max_prob = probabilities[0][label]\n",
        "\n",
        "        accuracy.append(sampleaccuracy)\n",
        "        density.append(sampledensity)\n",
        "        embeddings.append(sampleembedding)\n",
        "        degreedistlist.append(sampledeg)\n",
        "        cluslist.append(sampleclus)\n",
        "        speclist.append(samplespec)\n",
        "\n",
        "    meanaccuracy = torch.mean(torch.tensor(accuracy))\n",
        "    stdaccuracy = torch.std(torch.tensor(accuracy))\n",
        "    meandensity = statistics.mean(density)\n",
        "    stddensity = statistics.stdev(density)\n",
        "\n",
        "    MMD = mmd_kernel(torch.cat(latent, dim=0), torch.cat(embeddings, dim=0), gaussian_kernel)\n",
        "\n",
        "    return meanaccuracy, stdaccuracy, meandensity, stddensity, MMD, degreedistlist, cluslist, speclist\n"
      ],
      "metadata": {
        "id": "qRllXeKVB_Ql"
      },
      "id": "qRllXeKVB_Ql",
      "execution_count": null,
      "outputs": []
    },
    {
      "cell_type": "markdown",
      "source": [
        "Cell Below demonstrates the usage"
      ],
      "metadata": {
        "id": "2ojNSpq1Dbna"
      },
      "id": "2ojNSpq1Dbna"
    },
    {
      "cell_type": "code",
      "source": [
        "meanaccuracy, stdaccuracy, meandensity, stddensity, MMD, degreedistlist, cluslist, speclist= target_class_analysis(X1,Adj1,N,latent_data1,50,20,0)"
      ],
      "metadata": {
        "id": "sMA9iBgxCJ_z"
      },
      "id": "sMA9iBgxCJ_z",
      "execution_count": null,
      "outputs": []
    },
    {
      "cell_type": "code",
      "source": [
        "print(meanaccuracy,stdaccuracy)"
      ],
      "metadata": {
        "colab": {
          "base_uri": "https://localhost:8080/"
        },
        "id": "6gVZMDHfDSEw",
        "outputId": "3dbd70aa-e411-4f97-f495-423899d9cd13"
      },
      "id": "6gVZMDHfDSEw",
      "execution_count": null,
      "outputs": [
        {
          "output_type": "stream",
          "name": "stdout",
          "text": [
            "tensor(1.0000) tensor(3.3582e-05)\n"
          ]
        }
      ]
    },
    {
      "cell_type": "markdown",
      "source": [
        "# Calculating Metrics for  Target Class 1"
      ],
      "metadata": {
        "id": "EOtJFQMBFmtp"
      },
      "id": "EOtJFQMBFmtp"
    },
    {
      "cell_type": "code",
      "execution_count": null,
      "id": "ELeKcQXUCJ6M",
      "metadata": {
        "colab": {
          "base_uri": "https://localhost:8080/"
        },
        "id": "ELeKcQXUCJ6M",
        "outputId": "e13507f7-1764-41a4-ec51-e864099f3800"
      },
      "outputs": [
        {
          "output_type": "stream",
          "name": "stdout",
          "text": [
            "--- 38.0731143951416 seconds ---\n"
          ]
        }
      ],
      "source": [
        "import time\n",
        "start_time=time.time()\n",
        "meanacc,stdacc, meandensity, stddensity, MMD, deg,cluslist,speclist  =target_class_analysis(X2,Adj2,N,latent_data1,20,1)\n",
        "print(\"--- %s seconds ---\" % (time.time() - start_time))\n",
        "\n"
      ]
    },
    {
      "cell_type": "markdown",
      "source": [
        "# Generation of Instances on the Boundary"
      ],
      "metadata": {
        "id": "TD5UetwQENWt"
      },
      "id": "TD5UetwQENWt"
    },
    {
      "cell_type": "code",
      "source": [
        "p=0.5\n",
        "X_mixture=p*X1 + (1-p)*X2\n",
        "P_mixture=p*Adj1 + (1-p)*Adj2\n",
        "import statistics\n",
        "import statistics\n",
        "import torch\n",
        "\n",
        "def boundaryanalysis(X, Adj, N, numsample, label=0):\n",
        "    \"\"\"\n",
        "    Analyzes the decision boundary of a graph classifier by sampling graphs\n",
        "    and evaluating accuracy, density, and other metrics.\n",
        "\n",
        "    Args:\n",
        "        X: Node feature matrix.\n",
        "        Adj: Adjacency matrix.\n",
        "        N: Number of nodes in the graph.\n",
        "        numsample: Number of samples to generate.\n",
        "        label: Target class label to analyze (default: 0).\n",
        "\n",
        "    Returns:\n",
        "        meanaccuracy: Mean accuracy.\n",
        "        stdaccuracy: Standard deviation of accuracies.\n",
        "        meandensity: Mean density.\n",
        "        stddensity: Standard deviation of densities.\n",
        "        embeddings: Sample embeddings.\n",
        "    \"\"\"\n",
        "    accuracy = []\n",
        "    density = []\n",
        "    embeddings = []\n",
        "\n",
        "    for _ in range(150):\n",
        "        newX = X  # Placeholder for potential feature perturbation\n",
        "        newAdj = Adj  # Placeholder for potential adjacency perturbation\n",
        "        min_diff = float('inf')\n",
        "\n",
        "        for _ in range(numsample):\n",
        "            probabilities, explainerdensity, embedding, degreedistb, clus, spec = graphsampler(N, newX, newAdj)\n",
        "\n",
        "            diff = abs(probabilities[0][0] - probabilities[0][1])\n",
        "            if diff < min_diff:\n",
        "                sampleaccuracy = probabilities[0][label]\n",
        "                sampledensity = explainerdensity\n",
        "                sampleembedding = embedding\n",
        "                min_diff = diff\n",
        "\n",
        "        accuracy.append(sampleaccuracy)\n",
        "        density.append(sampledensity)\n",
        "        embeddings.append(sampleembedding)\n",
        "\n",
        "    meanaccuracy = torch.mean(torch.tensor(accuracy))\n",
        "    stdaccuracy = torch.std(torch.tensor(accuracy))\n",
        "    meandensity = statistics.mean(density)\n",
        "    stddensity = statistics.stdev(density)\n",
        "\n",
        "    return meanaccuracy, stdaccuracy, meandensity, stddensity, embeddings\n",
        "\n",
        "\n",
        "\n"
      ],
      "metadata": {
        "id": "WxG9b2f1xiv9"
      },
      "id": "WxG9b2f1xiv9",
      "execution_count": null,
      "outputs": []
    },
    {
      "cell_type": "code",
      "source": [
        "bdacc,bdstdev,bdden,bddenstddev,boundaryembeddings=boundaryanalysis(X_mixture,P_mixture,N,50,0)\n",
        "\n",
        "print(bdacc,bdstdev)\n",
        "print(bdden,bddenstddev)"
      ],
      "metadata": {
        "colab": {
          "base_uri": "https://localhost:8080/"
        },
        "id": "9XV9Iv7x-YHp",
        "outputId": "f47e903f-ab70-492d-a9b1-657ba855788d"
      },
      "id": "9XV9Iv7x-YHp",
      "execution_count": null,
      "outputs": [
        {
          "output_type": "stream",
          "name": "stdout",
          "text": [
            "[tensor(0.5034, grad_fn=<MeanBackward0>), tensor(0.5016, grad_fn=<MeanBackward0>)] [tensor(0.0579, grad_fn=<StdBackward0>), tensor(0.0639, grad_fn=<StdBackward0>)]\n",
            "[0.09928326740686742, 0.09619108684135186] [0.014074287956343096, 0.0140779370406742]\n"
          ]
        }
      ]
    },
    {
      "cell_type": "markdown",
      "source": [
        "# Defining and Calculating the Boundary Metrics"
      ],
      "metadata": {
        "id": "wzfRpBJSFRgG"
      },
      "id": "wzfRpBJSFRgG"
    },
    {
      "cell_type": "code",
      "source": [
        "# Computing boundary metrics\n",
        "import torch\n",
        "import torch.nn.functional as F\n",
        "\n",
        "def boundary_margin(embeddings_c1, embeddings_c2):\n",
        "    \"\"\"\n",
        "    Compute the boundary margin.\n",
        "\n",
        "    Args:\n",
        "    - embeddings_c1 (torch.Tensor): Embeddings of class c1 graphs.\n",
        "    - embeddings_c2 (torch.Tensor): Embeddings of boundary graphs between class c1 and c2.\n",
        "\n",
        "    Returns:\n",
        "    - margin (float): The boundary margin.\n",
        "\n",
        "    \"\"\"\n",
        "    embeddings_c1=torch.cat(embeddings_c1,dim=0)\n",
        "    embeddings_c2=torch.cat(embeddings_c2,dim=0)\n",
        "    distances = torch.norm(embeddings_c1 - embeddings_c2, dim=1)\n",
        "    margin = torch.min(distances).item()\n",
        "    return margin\n",
        "\n",
        "def boundary_thickness(embeddings_c1, embeddings_c1_c2, model, c1, c2, gamma=0.75, num_points=100):\n",
        "    thickness_values = []\n",
        "\n",
        "    for emb_c1, emb_c1_c2 in zip(embeddings_c1, embeddings_c1_c2):\n",
        "        t_values = torch.linspace(0, 1, num_points)\n",
        "        h_t = (1 - t_values).unsqueeze(1) * emb_c1 + t_values.unsqueeze(1) * emb_c1_c2\n",
        "        #print(model(h_t).size())\n",
        "\n",
        "        # Compute the logits\n",
        "        logits_h_t = model(h_t)  # Assuming `model` is your classifier\n",
        "        probs_h_t = F.softmax(logits_h_t, dim=1)\n",
        "\n",
        "        # Compute the integrand\n",
        "        integrand = (gamma > (probs_h_t[:, c1] - probs_h_t[:, c2])).float()\n",
        "\n",
        "        # Approximate the integral using the trapezoidal rule\n",
        "        integral = torch.trapz(integrand, t_values)\n",
        "\n",
        "        # Compute the thickness value\n",
        "        thickness_value = (emb_c1 - emb_c1_c2).norm() * integral.mean()\n",
        "        thickness_values.append(thickness_value.item())\n",
        "\n",
        "    return sum(thickness_values) / len(thickness_values)\n",
        "\n",
        "def boundary_complexity(embeddings, D, epsilon=1e-7):\n",
        "    \"\"\"\n",
        "    Compute the boundary complexity.\n",
        "\n",
        "    Args:\n",
        "    - embeddings (torch.Tensor): Embeddings of the boundary graphs with shape (num_graphs, embedding_dim).\n",
        "    - D (int): Dimensionality of the embeddings.\n",
        "    - epsilon (float): Small value added to eigenvalues to prevent log(0).\n",
        "\n",
        "    Returns:\n",
        "    - complexity (float): The boundary complexity.\n",
        "    \"\"\"\n",
        "    # Flatten and concatenate embeddings\n",
        "    embeddings = torch.cat(embeddings, dim=0)\n",
        "\n",
        "    # Compute the covariance matrix of the embeddings\n",
        "    covariance_matrix = torch.cov(embeddings.T)\n",
        "\n",
        "    # Add a small value to the diagonal for regularization\n",
        "    covariance_matrix += epsilon * torch.eye(covariance_matrix.size(0))\n",
        "\n",
        "    # Compute the eigenvalues of the covariance matrix\n",
        "    eigenvalues = torch.linalg.eigvalsh(covariance_matrix)\n",
        "\n",
        "    # Clamp eigenvalues to avoid very small negative values due to numerical errors\n",
        "    eigenvalues = torch.clamp(eigenvalues, min=epsilon)\n",
        "\n",
        "    # Normalize the eigenvalues\n",
        "    eigenvalues_normalized = eigenvalues / eigenvalues.sum()\n",
        "\n",
        "    # Compute the entropy of the normalized eigenvalues\n",
        "    entropy = -torch.sum(eigenvalues_normalized * torch.log(eigenvalues_normalized + epsilon))\n",
        "\n",
        "    # Normalize the entropy by dividing it by log(D)\n",
        "    complexity = entropy / torch.log(torch.tensor(D, dtype=torch.float32))\n",
        "\n",
        "    return complexity.item()"
      ],
      "metadata": {
        "id": "0Guoh-0UgdVV"
      },
      "id": "0Guoh-0UgdVV",
      "execution_count": null,
      "outputs": []
    },
    {
      "cell_type": "code",
      "source": [
        "latent_data=latent_data2\n",
        "margin=boundary_margin(boundaryembeddings[:len(latent_data)],latent_data)\n",
        "print(margin)\n",
        "thickness=boundary_thickness(boundaryembeddings[:len(latent_data)],latent_data,model.classifier,1,0)\n",
        "print(thickness)\n",
        "complexity=boundary_complexity(boundaryembeddings[:len(latent_data)],64)\n",
        "print(complexity)"
      ],
      "metadata": {
        "colab": {
          "base_uri": "https://localhost:8080/"
        },
        "id": "J3lq9Ct0ggEV",
        "outputId": "1765e40f-056b-477e-c15e-b50953b5032f"
      },
      "id": "J3lq9Ct0ggEV",
      "execution_count": null,
      "outputs": [
        {
          "output_type": "stream",
          "name": "stdout",
          "text": [
            "4.462556838989258\n",
            "7.943768188243604\n",
            "0.39994290471076965\n"
          ]
        }
      ]
    },
    {
      "cell_type": "code",
      "execution_count": null,
      "id": "-_VEDUzKY587",
      "metadata": {
        "colab": {
          "base_uri": "https://localhost:8080/"
        },
        "id": "-_VEDUzKY587",
        "outputId": "72721f19-ea4b-4bf3-fe5d-fcc7f7703aa8"
      },
      "outputs": [
        {
          "output_type": "stream",
          "name": "stdout",
          "text": [
            "Accuracy is [tensor(0.9512, grad_fn=<MeanBackward0>), tensor(0.9399, grad_fn=<MeanBackward0>)] std is [tensor(0.0340, grad_fn=<StdBackward0>), tensor(0.0490, grad_fn=<StdBackward0>)]\n",
            "Density is [0.10860032139577594, 0.10153627180899907] std is [0.008902433175537582, 0.014383968440425476]\n",
            "MMD is [0.04650883749127388, 0.04313863441348076]\n"
          ]
        }
      ],
      "source": [
        "print(\"Accuracy is\",meanacc,\"std is\",stdacc)\n",
        "print(\"Density is\", meandensity,\"std is\",stddensity)\n",
        "print(\"MMD is\",MMD)"
      ]
    },
    {
      "cell_type": "code",
      "source": [
        "import torch\n",
        "\n",
        "def nptotensor(numpy_array_list):\n",
        "    \"\"\"\n",
        "    Convert a list of NumPy arrays to a list of PyTorch tensors.\n",
        "\n",
        "    Args:\n",
        "        numpy_array_list (list): List of NumPy arrays.\n",
        "\n",
        "    Returns:\n",
        "        list: List of PyTorch tensors.\n",
        "    \"\"\"\n",
        "    return list(map(torch.tensor, numpy_array_list))\n",
        "\n",
        "\n",
        "MMDdegdist=mmd_kernel(torch.cat(degreedist2,dim=0).view(-1,N),torch.cat(deg,dim=0).view(-1,N),gaussian_kernel)\n",
        "print(MMDdegdist)\n",
        "MMDdistclus=mmd_kernel(torch.stack(cluscoeff2).view(-1,1),torch.stack(cluslist).view(-1,1),gaussian_kernel)\n",
        "print(MMDdistclus)\n",
        "MMDspec=mmd_kernel(torch.cat(nptotensor(spec2),dim=0).view(-1,N),torch.cat(nptotensor(speclist),dim=0).view(-1,N),gaussian_kernel)\n",
        "print(MMDspec)"
      ],
      "metadata": {
        "colab": {
          "base_uri": "https://localhost:8080/"
        },
        "id": "o0zEpAHXC205",
        "outputId": "ac51365d-4f1a-4ba5-eada-0e670dc97d04"
      },
      "id": "o0zEpAHXC205",
      "execution_count": null,
      "outputs": [
        {
          "output_type": "stream",
          "name": "stdout",
          "text": [
            "0.12123223394155502\n",
            "0.0012199878692626953\n",
            "(0.15383022475918204+5.0662997832216437e-20j)\n"
          ]
        }
      ]
    },
    {
      "cell_type": "code",
      "execution_count": null,
      "id": "Gu-YYMNDIxVj",
      "metadata": {
        "id": "Gu-YYMNDIxVj"
      },
      "outputs": [],
      "source": [
        "import matplotlib.pyplot as plt\n",
        "import numpy as np\n",
        "\n",
        "def plot_mean_with_error(mean, std, threshold, label, numsample,title=None, ax=None):\n",
        "    \"\"\"\n",
        "    Plot mean with error bars.\n",
        "\n",
        "    Parameters:\n",
        "        mean (array_like): Array containing mean values.\n",
        "        std (array_like): Array containing standard deviation values.\n",
        "        threshold (array_like): Array containing threshold values.\n",
        "        label (str): Label for the data.\n",
        "        color (str): Color of the line.\n",
        "        numsample (int): Sample number.\n",
        "        ax (matplotlib.axes.Axes, optional): Axes object to plot on. If not provided, a new figure will be created.\n",
        "    \"\"\"\n",
        "    # Flatten the arrays\n",
        "    mean=torch.tensor(mean,dtype=torch.float32)\n",
        "    std=torch.tensor(std,dtype=torch.float32)\n",
        "    mean = np.array(mean).flatten()\n",
        "    std = np.array(std).flatten()\n",
        "    threshold = np.array(threshold).flatten()\n",
        "    # Select color automatically\n",
        "    colors = plt.cm.tab10(np.linspace(0, 1, 10))\n",
        "    color = colors[numsample % 10]  # Cycle through colors\n",
        "\n",
        "    # Plotting\n",
        "    if ax is None:\n",
        "        fig, ax = plt.subplots()\n",
        "    ax.errorbar(threshold, mean, yerr=std, fmt='-', color=color, label=f'NumSample={numsample}')  # '-' for line\n",
        "\n",
        "    # Adding labels and title\n",
        "    ax.set_xlabel('Threshold')\n",
        "    ax.set_ylabel('Accuracy')\n",
        "    ax.set_title(title)\n",
        "\n",
        "    ax.legend(loc='lower right',fontsize='small')  # Show legend\n",
        "    ax.grid(True)  # Add grid\n",
        "# Create a figure outside the function\n",
        "# fig, ax = plt.subplots()\n",
        "# plot_mean_with_error(Mean1,Std1,Threshold,label='class1',numsample=1,ax=ax)\n",
        "# plot_mean_with_error(Mean2,Std2,Threshold,label='class1',numsample=2,ax=ax)\n",
        "# plt.show()\n"
      ]
    },
    {
      "cell_type": "markdown",
      "source": [
        "Sensitivity Analysis by varying numsamples and threshold"
      ],
      "metadata": {
        "id": "f4lpIWtC-T6a"
      },
      "id": "f4lpIWtC-T6a"
    },
    {
      "cell_type": "code",
      "execution_count": null,
      "id": "lXUHpU_SZ9MN",
      "metadata": {
        "id": "lXUHpU_SZ9MN"
      },
      "outputs": [],
      "source": [
        "import statistics\n",
        "def sensitivityanalysis(X,Adj,N,numsample,label=0):\n",
        "  epsilon=0.01\n",
        "  alpha=0.0\n",
        "  # perturbedX=perturbX(X,epsilon)\n",
        "  # perturbedAdj=perturbadj(Adj,epsilon)\n",
        "  meanaccuracy=[]\n",
        "  stdaccuracy=[]\n",
        "  meandensity=[]\n",
        "  stddensity=[]\n",
        "  MMD=[]\n",
        "\n",
        "  while(alpha==0.0):\n",
        "    accuracy=[]\n",
        "    density=[]\n",
        "    embeddings=[]\n",
        "    for i in range(100):\n",
        "      newX=X#nodefeatcomb(perturbedX,X,alpha)\n",
        "      newAdj=Adj#adjcomb(perturbedAdj,Adj,alpha)\n",
        "      max=0\n",
        "      for num in range(numsample):\n",
        "        problities,explainerdensity,embedding=graphsampler(N,newX,newAdj)\n",
        "        #max=problities[0][label]\n",
        "        if(problities[0][label]>max):\n",
        "          sampleaccuracy=problities[0][label]\n",
        "          sampledensity=explainerdensity\n",
        "          sampleembedding=embedding\n",
        "          max=problities[0][label]\n",
        "      accuracy.append(sampleaccuracy)\n",
        "      density.append(sampledensity)\n",
        "      embeddings.append(sampleembedding)\n",
        "    meanacc=torch.mean(torch.stack(accuracy))\n",
        "    stdacc=torch.std(torch.stack(accuracy))\n",
        "    meanden=statistics.mean(density)\n",
        "    stdden=statistics.stdev(density)\n",
        "    meanaccuracy.append(meanacc)\n",
        "    stdaccuracy.append(stdacc)\n",
        "    # meandensity.append(meanden)\n",
        "    # stddensity.append(stdden)\n",
        "    # MMDdist=mmd_kernel(torch.cat(latent,dim=0),torch.cat(embeddings,dim=0),gaussian_kernel)\n",
        "    # MMD.append(MMDdist)\n",
        "    alpha+=0.05\n",
        "  return meanaccuracy , stdaccuracy"
      ]
    },
    {
      "cell_type": "code",
      "execution_count": null,
      "id": "Rpyb55jstCru",
      "metadata": {
        "colab": {
          "base_uri": "https://localhost:8080/",
          "height": 1000
        },
        "id": "Rpyb55jstCru",
        "outputId": "6bdd0bb4-949c-4b70-d46c-b87837f5cc9e"
      },
      "outputs": [
        {
          "name": "stdout",
          "output_type": "stream",
          "text": [
            "length of target class 60\n"
          ]
        },
        {
          "name": "stderr",
          "output_type": "stream",
          "text": [
            "100%|██████████| 60/60 [00:00<00:00, 5457.66it/s]\n",
            "100%|██████████| 60/60 [00:00<00:00, 1820.93it/s]\n"
          ]
        },
        {
          "name": "stdout",
          "output_type": "stream",
          "text": [
            "60\n",
            "length of target class 128\n"
          ]
        },
        {
          "name": "stderr",
          "output_type": "stream",
          "text": [
            "100%|██████████| 128/128 [00:00<00:00, 6202.30it/s]\n",
            "100%|██████████| 128/128 [00:00<00:00, 1700.53it/s]"
          ]
        },
        {
          "name": "stdout",
          "output_type": "stream",
          "text": [
            "128\n"
          ]
        },
        {
          "name": "stderr",
          "output_type": "stream",
          "text": [
            "\n"
          ]
        },
        {
          "name": "stdout",
          "output_type": "stream",
          "text": [
            "length of target class 50\n"
          ]
        },
        {
          "name": "stderr",
          "output_type": "stream",
          "text": [
            "100%|██████████| 50/50 [00:00<00:00, 5400.02it/s]\n",
            "100%|██████████| 50/50 [00:00<00:00, 2185.88it/s]\n"
          ]
        },
        {
          "name": "stdout",
          "output_type": "stream",
          "text": [
            "50\n",
            "length of target class 127\n"
          ]
        },
        {
          "name": "stderr",
          "output_type": "stream",
          "text": [
            "100%|██████████| 127/127 [00:00<00:00, 5509.23it/s]\n",
            "100%|██████████| 127/127 [00:00<00:00, 1691.54it/s]"
          ]
        },
        {
          "name": "stdout",
          "output_type": "stream",
          "text": [
            "127\n"
          ]
        },
        {
          "name": "stderr",
          "output_type": "stream",
          "text": [
            "\n"
          ]
        },
        {
          "name": "stdout",
          "output_type": "stream",
          "text": [
            "length of target class 49\n"
          ]
        },
        {
          "name": "stderr",
          "output_type": "stream",
          "text": [
            "100%|██████████| 49/49 [00:00<00:00, 4412.69it/s]\n",
            "100%|██████████| 49/49 [00:00<00:00, 2524.98it/s]\n"
          ]
        },
        {
          "name": "stdout",
          "output_type": "stream",
          "text": [
            "49\n",
            "length of target class 126\n"
          ]
        },
        {
          "name": "stderr",
          "output_type": "stream",
          "text": [
            "100%|██████████| 126/126 [00:00<00:00, 3631.93it/s]\n",
            "100%|██████████| 126/126 [00:00<00:00, 1691.24it/s]"
          ]
        },
        {
          "name": "stdout",
          "output_type": "stream",
          "text": [
            "126\n"
          ]
        },
        {
          "name": "stderr",
          "output_type": "stream",
          "text": [
            "\n"
          ]
        },
        {
          "name": "stdout",
          "output_type": "stream",
          "text": [
            "length of target class 44\n"
          ]
        },
        {
          "name": "stderr",
          "output_type": "stream",
          "text": [
            "100%|██████████| 44/44 [00:00<00:00, 4556.77it/s]\n",
            "100%|██████████| 44/44 [00:00<00:00, 1666.01it/s]\n"
          ]
        },
        {
          "name": "stdout",
          "output_type": "stream",
          "text": [
            "44\n",
            "length of target class 124\n"
          ]
        },
        {
          "name": "stderr",
          "output_type": "stream",
          "text": [
            "100%|██████████| 124/124 [00:00<00:00, 5478.88it/s]\n",
            "100%|██████████| 124/124 [00:00<00:00, 1272.51it/s]"
          ]
        },
        {
          "name": "stdout",
          "output_type": "stream",
          "text": [
            "124\n"
          ]
        },
        {
          "name": "stderr",
          "output_type": "stream",
          "text": [
            "\n"
          ]
        },
        {
          "name": "stdout",
          "output_type": "stream",
          "text": [
            "length of target class 38\n"
          ]
        },
        {
          "name": "stderr",
          "output_type": "stream",
          "text": [
            "100%|██████████| 38/38 [00:00<00:00, 6864.95it/s]\n",
            "100%|██████████| 38/38 [00:00<00:00, 1793.37it/s]\n"
          ]
        },
        {
          "name": "stdout",
          "output_type": "stream",
          "text": [
            "38\n",
            "length of target class 116\n"
          ]
        },
        {
          "name": "stderr",
          "output_type": "stream",
          "text": [
            "100%|██████████| 116/116 [00:00<00:00, 6768.02it/s]\n",
            "100%|██████████| 116/116 [00:00<00:00, 1606.91it/s]"
          ]
        },
        {
          "name": "stdout",
          "output_type": "stream",
          "text": [
            "116\n"
          ]
        },
        {
          "name": "stderr",
          "output_type": "stream",
          "text": [
            "\n"
          ]
        },
        {
          "name": "stdout",
          "output_type": "stream",
          "text": [
            "length of target class 29\n"
          ]
        },
        {
          "name": "stderr",
          "output_type": "stream",
          "text": [
            "100%|██████████| 29/29 [00:00<00:00, 4157.89it/s]\n",
            "100%|██████████| 29/29 [00:00<00:00, 2128.23it/s]\n"
          ]
        },
        {
          "name": "stdout",
          "output_type": "stream",
          "text": [
            "29\n",
            "length of target class 97\n"
          ]
        },
        {
          "name": "stderr",
          "output_type": "stream",
          "text": [
            "100%|██████████| 97/97 [00:00<00:00, 3832.36it/s]\n",
            "100%|██████████| 97/97 [00:00<00:00, 1574.25it/s]"
          ]
        },
        {
          "name": "stdout",
          "output_type": "stream",
          "text": [
            "97\n"
          ]
        },
        {
          "name": "stderr",
          "output_type": "stream",
          "text": [
            "\n"
          ]
        },
        {
          "name": "stdout",
          "output_type": "stream",
          "text": [
            "length of target class 26\n"
          ]
        },
        {
          "name": "stderr",
          "output_type": "stream",
          "text": [
            "100%|██████████| 26/26 [00:00<00:00, 3311.63it/s]\n",
            "100%|██████████| 26/26 [00:00<00:00, 1117.55it/s]\n"
          ]
        },
        {
          "name": "stdout",
          "output_type": "stream",
          "text": [
            "26\n",
            "length of target class 78\n"
          ]
        },
        {
          "name": "stderr",
          "output_type": "stream",
          "text": [
            "100%|██████████| 78/78 [00:00<00:00, 3047.79it/s]\n",
            "100%|██████████| 78/78 [00:00<00:00, 865.09it/s]"
          ]
        },
        {
          "name": "stdout",
          "output_type": "stream",
          "text": [
            "78\n"
          ]
        },
        {
          "name": "stderr",
          "output_type": "stream",
          "text": [
            "\n"
          ]
        },
        {
          "name": "stdout",
          "output_type": "stream",
          "text": [
            "length of target class 14\n"
          ]
        },
        {
          "name": "stderr",
          "output_type": "stream",
          "text": [
            "100%|██████████| 14/14 [00:00<00:00, 3872.35it/s]\n",
            "100%|██████████| 14/14 [00:00<00:00, 1266.86it/s]\n"
          ]
        },
        {
          "name": "stdout",
          "output_type": "stream",
          "text": [
            "14\n",
            "length of target class 66\n"
          ]
        },
        {
          "name": "stderr",
          "output_type": "stream",
          "text": [
            "100%|██████████| 66/66 [00:00<00:00, 4267.96it/s]\n",
            "100%|██████████| 66/66 [00:00<00:00, 824.48it/s]"
          ]
        },
        {
          "name": "stdout",
          "output_type": "stream",
          "text": [
            "66\n"
          ]
        },
        {
          "name": "stderr",
          "output_type": "stream",
          "text": [
            "\n"
          ]
        },
        {
          "name": "stdout",
          "output_type": "stream",
          "text": [
            "length of target class 10\n"
          ]
        },
        {
          "name": "stderr",
          "output_type": "stream",
          "text": [
            "100%|██████████| 10/10 [00:00<00:00, 2004.45it/s]\n",
            "100%|██████████| 10/10 [00:00<00:00, 1652.21it/s]\n"
          ]
        },
        {
          "name": "stdout",
          "output_type": "stream",
          "text": [
            "10\n",
            "length of target class 41\n"
          ]
        },
        {
          "name": "stderr",
          "output_type": "stream",
          "text": [
            "100%|██████████| 41/41 [00:00<00:00, 4153.88it/s]\n",
            "100%|██████████| 41/41 [00:00<00:00, 1126.16it/s]"
          ]
        },
        {
          "name": "stdout",
          "output_type": "stream",
          "text": [
            "41\n"
          ]
        },
        {
          "name": "stderr",
          "output_type": "stream",
          "text": [
            "\n"
          ]
        },
        {
          "name": "stdout",
          "output_type": "stream",
          "text": [
            "length of target class 3\n"
          ]
        },
        {
          "name": "stderr",
          "output_type": "stream",
          "text": [
            "100%|██████████| 3/3 [00:00<00:00, 2109.81it/s]\n",
            "100%|██████████| 3/3 [00:00<00:00, 620.92it/s]\n"
          ]
        },
        {
          "name": "stdout",
          "output_type": "stream",
          "text": [
            "3\n",
            "length of target class 21\n"
          ]
        },
        {
          "name": "stderr",
          "output_type": "stream",
          "text": [
            "100%|██████████| 21/21 [00:00<00:00, 2558.54it/s]\n",
            "100%|██████████| 21/21 [00:00<00:00, 834.70it/s]"
          ]
        },
        {
          "name": "stdout",
          "output_type": "stream",
          "text": [
            "21\n"
          ]
        },
        {
          "name": "stderr",
          "output_type": "stream",
          "text": [
            "\n"
          ]
        },
        {
          "name": "stdout",
          "output_type": "stream",
          "text": [
            "length of target class 60\n"
          ]
        },
        {
          "name": "stderr",
          "output_type": "stream",
          "text": [
            "100%|██████████| 60/60 [00:00<00:00, 5685.01it/s]\n",
            "100%|██████████| 60/60 [00:00<00:00, 2408.90it/s]\n"
          ]
        },
        {
          "name": "stdout",
          "output_type": "stream",
          "text": [
            "60\n",
            "length of target class 128\n"
          ]
        },
        {
          "name": "stderr",
          "output_type": "stream",
          "text": [
            "100%|██████████| 128/128 [00:00<00:00, 5422.12it/s]\n",
            "100%|██████████| 128/128 [00:00<00:00, 964.19it/s] \n"
          ]
        },
        {
          "name": "stdout",
          "output_type": "stream",
          "text": [
            "128\n",
            "length of target class 50\n"
          ]
        },
        {
          "name": "stderr",
          "output_type": "stream",
          "text": [
            "100%|██████████| 50/50 [00:00<00:00, 2952.82it/s]\n",
            "100%|██████████| 50/50 [00:00<00:00, 2133.57it/s]\n"
          ]
        },
        {
          "name": "stdout",
          "output_type": "stream",
          "text": [
            "50\n",
            "length of target class 127\n"
          ]
        },
        {
          "name": "stderr",
          "output_type": "stream",
          "text": [
            "100%|██████████| 127/127 [00:00<00:00, 5643.24it/s]\n",
            "100%|██████████| 127/127 [00:00<00:00, 1591.77it/s]"
          ]
        },
        {
          "name": "stdout",
          "output_type": "stream",
          "text": [
            "127\n"
          ]
        },
        {
          "name": "stderr",
          "output_type": "stream",
          "text": [
            "\n"
          ]
        },
        {
          "name": "stdout",
          "output_type": "stream",
          "text": [
            "length of target class 49\n"
          ]
        },
        {
          "name": "stderr",
          "output_type": "stream",
          "text": [
            "100%|██████████| 49/49 [00:00<00:00, 5031.60it/s]\n",
            "100%|██████████| 49/49 [00:00<00:00, 2453.48it/s]\n"
          ]
        },
        {
          "name": "stdout",
          "output_type": "stream",
          "text": [
            "49\n",
            "length of target class 126\n"
          ]
        },
        {
          "name": "stderr",
          "output_type": "stream",
          "text": [
            "100%|██████████| 126/126 [00:00<00:00, 5637.63it/s]\n",
            "100%|██████████| 126/126 [00:00<00:00, 1742.40it/s]"
          ]
        },
        {
          "name": "stdout",
          "output_type": "stream",
          "text": [
            "126\n"
          ]
        },
        {
          "name": "stderr",
          "output_type": "stream",
          "text": [
            "\n"
          ]
        },
        {
          "name": "stdout",
          "output_type": "stream",
          "text": [
            "length of target class 44\n"
          ]
        },
        {
          "name": "stderr",
          "output_type": "stream",
          "text": [
            "100%|██████████| 44/44 [00:00<00:00, 4303.96it/s]\n",
            "100%|██████████| 44/44 [00:00<00:00, 2091.97it/s]\n"
          ]
        },
        {
          "name": "stdout",
          "output_type": "stream",
          "text": [
            "44\n",
            "length of target class 124\n"
          ]
        },
        {
          "name": "stderr",
          "output_type": "stream",
          "text": [
            "100%|██████████| 124/124 [00:00<00:00, 6129.35it/s]\n",
            "100%|██████████| 124/124 [00:00<00:00, 1602.02it/s]"
          ]
        },
        {
          "name": "stdout",
          "output_type": "stream",
          "text": [
            "124\n"
          ]
        },
        {
          "name": "stderr",
          "output_type": "stream",
          "text": [
            "\n"
          ]
        },
        {
          "name": "stdout",
          "output_type": "stream",
          "text": [
            "length of target class 38\n"
          ]
        },
        {
          "name": "stderr",
          "output_type": "stream",
          "text": [
            "100%|██████████| 38/38 [00:00<00:00, 5205.21it/s]\n",
            "100%|██████████| 38/38 [00:00<00:00, 1575.42it/s]\n"
          ]
        },
        {
          "name": "stdout",
          "output_type": "stream",
          "text": [
            "38\n",
            "length of target class 116\n"
          ]
        },
        {
          "name": "stderr",
          "output_type": "stream",
          "text": [
            "100%|██████████| 116/116 [00:00<00:00, 4476.76it/s]\n",
            "100%|██████████| 116/116 [00:00<00:00, 1039.60it/s]"
          ]
        },
        {
          "name": "stdout",
          "output_type": "stream",
          "text": [
            "116\n"
          ]
        },
        {
          "name": "stderr",
          "output_type": "stream",
          "text": [
            "\n"
          ]
        },
        {
          "name": "stdout",
          "output_type": "stream",
          "text": [
            "length of target class 29\n"
          ]
        },
        {
          "name": "stderr",
          "output_type": "stream",
          "text": [
            "100%|██████████| 29/29 [00:00<00:00, 4078.69it/s]\n",
            "100%|██████████| 29/29 [00:00<00:00, 1444.30it/s]\n"
          ]
        },
        {
          "name": "stdout",
          "output_type": "stream",
          "text": [
            "29\n",
            "length of target class 97\n"
          ]
        },
        {
          "name": "stderr",
          "output_type": "stream",
          "text": [
            "100%|██████████| 97/97 [00:00<00:00, 3683.84it/s]\n",
            "100%|██████████| 97/97 [00:00<00:00, 1149.59it/s]"
          ]
        },
        {
          "name": "stdout",
          "output_type": "stream",
          "text": [
            "97\n"
          ]
        },
        {
          "name": "stderr",
          "output_type": "stream",
          "text": [
            "\n"
          ]
        },
        {
          "name": "stdout",
          "output_type": "stream",
          "text": [
            "length of target class 26\n"
          ]
        },
        {
          "name": "stderr",
          "output_type": "stream",
          "text": [
            "100%|██████████| 26/26 [00:00<00:00, 3760.67it/s]\n",
            "100%|██████████| 26/26 [00:00<00:00, 2056.03it/s]\n"
          ]
        },
        {
          "name": "stdout",
          "output_type": "stream",
          "text": [
            "26\n",
            "length of target class 78\n"
          ]
        },
        {
          "name": "stderr",
          "output_type": "stream",
          "text": [
            "100%|██████████| 78/78 [00:00<00:00, 3749.81it/s]\n",
            "100%|██████████| 78/78 [00:00<00:00, 1557.93it/s]"
          ]
        },
        {
          "name": "stdout",
          "output_type": "stream",
          "text": [
            "78\n"
          ]
        },
        {
          "name": "stderr",
          "output_type": "stream",
          "text": [
            "\n"
          ]
        },
        {
          "name": "stdout",
          "output_type": "stream",
          "text": [
            "length of target class 14\n"
          ]
        },
        {
          "name": "stderr",
          "output_type": "stream",
          "text": [
            "100%|██████████| 14/14 [00:00<00:00, 3652.67it/s]\n",
            "100%|██████████| 14/14 [00:00<00:00, 1292.54it/s]\n"
          ]
        },
        {
          "name": "stdout",
          "output_type": "stream",
          "text": [
            "14\n",
            "length of target class 66\n"
          ]
        },
        {
          "name": "stderr",
          "output_type": "stream",
          "text": [
            "100%|██████████| 66/66 [00:00<00:00, 4063.11it/s]\n",
            "100%|██████████| 66/66 [00:00<00:00, 1551.10it/s]"
          ]
        },
        {
          "name": "stdout",
          "output_type": "stream",
          "text": [
            "66\n"
          ]
        },
        {
          "name": "stderr",
          "output_type": "stream",
          "text": [
            "\n"
          ]
        },
        {
          "name": "stdout",
          "output_type": "stream",
          "text": [
            "length of target class 10\n"
          ]
        },
        {
          "name": "stderr",
          "output_type": "stream",
          "text": [
            "100%|██████████| 10/10 [00:00<00:00, 3785.47it/s]\n",
            "100%|██████████| 10/10 [00:00<00:00, 1380.66it/s]\n"
          ]
        },
        {
          "name": "stdout",
          "output_type": "stream",
          "text": [
            "10\n",
            "length of target class 41\n"
          ]
        },
        {
          "name": "stderr",
          "output_type": "stream",
          "text": [
            "100%|██████████| 41/41 [00:00<00:00, 4231.04it/s]\n",
            "100%|██████████| 41/41 [00:00<00:00, 1047.46it/s]"
          ]
        },
        {
          "name": "stdout",
          "output_type": "stream",
          "text": [
            "41\n"
          ]
        },
        {
          "name": "stderr",
          "output_type": "stream",
          "text": [
            "\n"
          ]
        },
        {
          "name": "stdout",
          "output_type": "stream",
          "text": [
            "length of target class 3\n"
          ]
        },
        {
          "name": "stderr",
          "output_type": "stream",
          "text": [
            "100%|██████████| 3/3 [00:00<00:00, 1882.82it/s]\n",
            "100%|██████████| 3/3 [00:00<00:00, 1190.55it/s]\n"
          ]
        },
        {
          "name": "stdout",
          "output_type": "stream",
          "text": [
            "3\n",
            "length of target class 21\n"
          ]
        },
        {
          "name": "stderr",
          "output_type": "stream",
          "text": [
            "100%|██████████| 21/21 [00:00<00:00, 2587.86it/s]\n",
            "100%|██████████| 21/21 [00:00<00:00, 668.21it/s]"
          ]
        },
        {
          "name": "stdout",
          "output_type": "stream",
          "text": [
            "21\n"
          ]
        },
        {
          "name": "stderr",
          "output_type": "stream",
          "text": [
            "\n"
          ]
        },
        {
          "name": "stdout",
          "output_type": "stream",
          "text": [
            "length of target class 60\n"
          ]
        },
        {
          "name": "stderr",
          "output_type": "stream",
          "text": [
            "100%|██████████| 60/60 [00:00<00:00, 5861.92it/s]\n",
            "100%|██████████| 60/60 [00:00<00:00, 2049.43it/s]\n"
          ]
        },
        {
          "name": "stdout",
          "output_type": "stream",
          "text": [
            "60\n",
            "length of target class 128\n"
          ]
        },
        {
          "name": "stderr",
          "output_type": "stream",
          "text": [
            "100%|██████████| 128/128 [00:00<00:00, 4782.52it/s]\n",
            "100%|██████████| 128/128 [00:00<00:00, 1667.33it/s]"
          ]
        },
        {
          "name": "stdout",
          "output_type": "stream",
          "text": [
            "128\n"
          ]
        },
        {
          "name": "stderr",
          "output_type": "stream",
          "text": [
            "\n"
          ]
        },
        {
          "name": "stdout",
          "output_type": "stream",
          "text": [
            "length of target class 50\n"
          ]
        },
        {
          "name": "stderr",
          "output_type": "stream",
          "text": [
            "100%|██████████| 50/50 [00:00<00:00, 5136.80it/s]\n",
            "100%|██████████| 50/50 [00:00<00:00, 1850.60it/s]\n"
          ]
        },
        {
          "name": "stdout",
          "output_type": "stream",
          "text": [
            "50\n",
            "length of target class 127\n"
          ]
        },
        {
          "name": "stderr",
          "output_type": "stream",
          "text": [
            "100%|██████████| 127/127 [00:00<00:00, 5442.25it/s]\n",
            "100%|██████████| 127/127 [00:00<00:00, 1728.64it/s]"
          ]
        },
        {
          "name": "stdout",
          "output_type": "stream",
          "text": [
            "127\n"
          ]
        },
        {
          "name": "stderr",
          "output_type": "stream",
          "text": [
            "\n"
          ]
        },
        {
          "name": "stdout",
          "output_type": "stream",
          "text": [
            "length of target class 49\n"
          ]
        },
        {
          "name": "stderr",
          "output_type": "stream",
          "text": [
            "100%|██████████| 49/49 [00:00<00:00, 5406.74it/s]\n",
            "100%|██████████| 49/49 [00:00<00:00, 2405.81it/s]\n"
          ]
        },
        {
          "name": "stdout",
          "output_type": "stream",
          "text": [
            "49\n",
            "length of target class 126\n"
          ]
        },
        {
          "name": "stderr",
          "output_type": "stream",
          "text": [
            "100%|██████████| 126/126 [00:00<00:00, 4619.16it/s]\n",
            "100%|██████████| 126/126 [00:00<00:00, 1491.78it/s]"
          ]
        },
        {
          "name": "stdout",
          "output_type": "stream",
          "text": [
            "126\n"
          ]
        },
        {
          "name": "stderr",
          "output_type": "stream",
          "text": [
            "\n"
          ]
        },
        {
          "name": "stdout",
          "output_type": "stream",
          "text": [
            "length of target class 44\n"
          ]
        },
        {
          "name": "stderr",
          "output_type": "stream",
          "text": [
            "100%|██████████| 44/44 [00:00<00:00, 5525.60it/s]\n",
            "100%|██████████| 44/44 [00:00<00:00, 2177.14it/s]\n"
          ]
        },
        {
          "name": "stdout",
          "output_type": "stream",
          "text": [
            "44\n",
            "length of target class 124\n"
          ]
        },
        {
          "name": "stderr",
          "output_type": "stream",
          "text": [
            "100%|██████████| 124/124 [00:00<00:00, 4509.73it/s]\n",
            "100%|██████████| 124/124 [00:00<00:00, 1576.74it/s]"
          ]
        },
        {
          "name": "stdout",
          "output_type": "stream",
          "text": [
            "124\n"
          ]
        },
        {
          "name": "stderr",
          "output_type": "stream",
          "text": [
            "\n"
          ]
        },
        {
          "name": "stdout",
          "output_type": "stream",
          "text": [
            "length of target class 38\n"
          ]
        },
        {
          "name": "stderr",
          "output_type": "stream",
          "text": [
            "100%|██████████| 38/38 [00:00<00:00, 4739.19it/s]\n",
            "100%|██████████| 38/38 [00:00<00:00, 1920.86it/s]\n"
          ]
        },
        {
          "name": "stdout",
          "output_type": "stream",
          "text": [
            "38\n",
            "length of target class 116\n"
          ]
        },
        {
          "name": "stderr",
          "output_type": "stream",
          "text": [
            "100%|██████████| 116/116 [00:00<00:00, 5213.16it/s]\n",
            "100%|██████████| 116/116 [00:00<00:00, 1560.35it/s]"
          ]
        },
        {
          "name": "stdout",
          "output_type": "stream",
          "text": [
            "116\n"
          ]
        },
        {
          "name": "stderr",
          "output_type": "stream",
          "text": [
            "\n"
          ]
        },
        {
          "name": "stdout",
          "output_type": "stream",
          "text": [
            "length of target class 29\n"
          ]
        },
        {
          "name": "stderr",
          "output_type": "stream",
          "text": [
            "100%|██████████| 29/29 [00:00<00:00, 5077.43it/s]\n",
            "100%|██████████| 29/29 [00:00<00:00, 1692.85it/s]\n"
          ]
        },
        {
          "name": "stdout",
          "output_type": "stream",
          "text": [
            "29\n",
            "length of target class 97\n"
          ]
        },
        {
          "name": "stderr",
          "output_type": "stream",
          "text": [
            "100%|██████████| 97/97 [00:00<00:00, 3776.79it/s]\n",
            "100%|██████████| 97/97 [00:00<00:00, 1589.18it/s]"
          ]
        },
        {
          "name": "stdout",
          "output_type": "stream",
          "text": [
            "97\n"
          ]
        },
        {
          "name": "stderr",
          "output_type": "stream",
          "text": [
            "\n"
          ]
        },
        {
          "name": "stdout",
          "output_type": "stream",
          "text": [
            "length of target class 26\n"
          ]
        },
        {
          "name": "stderr",
          "output_type": "stream",
          "text": [
            "100%|██████████| 26/26 [00:00<00:00, 4932.47it/s]\n",
            "100%|██████████| 26/26 [00:00<00:00, 1440.58it/s]\n"
          ]
        },
        {
          "name": "stdout",
          "output_type": "stream",
          "text": [
            "26\n",
            "length of target class 78\n"
          ]
        },
        {
          "name": "stderr",
          "output_type": "stream",
          "text": [
            "100%|██████████| 78/78 [00:00<00:00, 4458.07it/s]\n",
            "100%|██████████| 78/78 [00:00<00:00, 1513.21it/s]"
          ]
        },
        {
          "name": "stdout",
          "output_type": "stream",
          "text": [
            "78\n"
          ]
        },
        {
          "name": "stderr",
          "output_type": "stream",
          "text": [
            "\n"
          ]
        },
        {
          "name": "stdout",
          "output_type": "stream",
          "text": [
            "length of target class 14\n"
          ]
        },
        {
          "name": "stderr",
          "output_type": "stream",
          "text": [
            "100%|██████████| 14/14 [00:00<00:00, 3196.36it/s]\n",
            "100%|██████████| 14/14 [00:00<00:00, 1535.37it/s]\n"
          ]
        },
        {
          "name": "stdout",
          "output_type": "stream",
          "text": [
            "14\n",
            "length of target class 66\n"
          ]
        },
        {
          "name": "stderr",
          "output_type": "stream",
          "text": [
            "100%|██████████| 66/66 [00:00<00:00, 5739.07it/s]\n",
            "100%|██████████| 66/66 [00:00<00:00, 1356.93it/s]"
          ]
        },
        {
          "name": "stdout",
          "output_type": "stream",
          "text": [
            "66\n"
          ]
        },
        {
          "name": "stderr",
          "output_type": "stream",
          "text": [
            "\n"
          ]
        },
        {
          "name": "stdout",
          "output_type": "stream",
          "text": [
            "length of target class 10\n"
          ]
        },
        {
          "name": "stderr",
          "output_type": "stream",
          "text": [
            "100%|██████████| 10/10 [00:00<00:00, 3762.38it/s]\n",
            "100%|██████████| 10/10 [00:00<00:00, 1142.80it/s]\n"
          ]
        },
        {
          "name": "stdout",
          "output_type": "stream",
          "text": [
            "10\n",
            "length of target class 41\n"
          ]
        },
        {
          "name": "stderr",
          "output_type": "stream",
          "text": [
            "100%|██████████| 41/41 [00:00<00:00, 4653.28it/s]\n",
            "100%|██████████| 41/41 [00:00<00:00, 1031.45it/s]"
          ]
        },
        {
          "name": "stdout",
          "output_type": "stream",
          "text": [
            "41\n"
          ]
        },
        {
          "name": "stderr",
          "output_type": "stream",
          "text": [
            "\n"
          ]
        },
        {
          "name": "stdout",
          "output_type": "stream",
          "text": [
            "length of target class 3\n"
          ]
        },
        {
          "name": "stderr",
          "output_type": "stream",
          "text": [
            "100%|██████████| 3/3 [00:00<00:00, 548.44it/s]\n",
            "100%|██████████| 3/3 [00:00<00:00, 1255.03it/s]\n"
          ]
        },
        {
          "name": "stdout",
          "output_type": "stream",
          "text": [
            "3\n",
            "length of target class 21\n"
          ]
        },
        {
          "name": "stderr",
          "output_type": "stream",
          "text": [
            "100%|██████████| 21/21 [00:00<00:00, 2241.12it/s]\n",
            "100%|██████████| 21/21 [00:00<00:00, 715.63it/s]"
          ]
        },
        {
          "name": "stdout",
          "output_type": "stream",
          "text": [
            "21\n"
          ]
        },
        {
          "name": "stderr",
          "output_type": "stream",
          "text": [
            "\n"
          ]
        },
        {
          "name": "stdout",
          "output_type": "stream",
          "text": [
            "length of target class 60\n"
          ]
        },
        {
          "name": "stderr",
          "output_type": "stream",
          "text": [
            "100%|██████████| 60/60 [00:00<00:00, 5371.46it/s]\n",
            "100%|██████████| 60/60 [00:00<00:00, 2261.18it/s]\n"
          ]
        },
        {
          "name": "stdout",
          "output_type": "stream",
          "text": [
            "60\n",
            "length of target class 128\n"
          ]
        },
        {
          "name": "stderr",
          "output_type": "stream",
          "text": [
            "100%|██████████| 128/128 [00:00<00:00, 4747.71it/s]\n",
            "100%|██████████| 128/128 [00:00<00:00, 1582.24it/s]"
          ]
        },
        {
          "name": "stdout",
          "output_type": "stream",
          "text": [
            "128\n"
          ]
        },
        {
          "name": "stderr",
          "output_type": "stream",
          "text": [
            "\n"
          ]
        },
        {
          "name": "stdout",
          "output_type": "stream",
          "text": [
            "length of target class 50\n"
          ]
        },
        {
          "name": "stderr",
          "output_type": "stream",
          "text": [
            "100%|██████████| 50/50 [00:00<00:00, 4450.85it/s]\n",
            "100%|██████████| 50/50 [00:00<00:00, 1567.87it/s]\n"
          ]
        },
        {
          "name": "stdout",
          "output_type": "stream",
          "text": [
            "50\n",
            "length of target class 127\n"
          ]
        },
        {
          "name": "stderr",
          "output_type": "stream",
          "text": [
            "100%|██████████| 127/127 [00:00<00:00, 5032.04it/s]\n",
            "100%|██████████| 127/127 [00:00<00:00, 937.44it/s]\n"
          ]
        },
        {
          "name": "stdout",
          "output_type": "stream",
          "text": [
            "127\n",
            "length of target class 49\n"
          ]
        },
        {
          "name": "stderr",
          "output_type": "stream",
          "text": [
            "100%|██████████| 49/49 [00:00<00:00, 5487.14it/s]\n",
            "100%|██████████| 49/49 [00:00<00:00, 1892.39it/s]\n"
          ]
        },
        {
          "name": "stdout",
          "output_type": "stream",
          "text": [
            "49\n",
            "length of target class 126\n"
          ]
        },
        {
          "name": "stderr",
          "output_type": "stream",
          "text": [
            "100%|██████████| 126/126 [00:00<00:00, 5144.53it/s]\n",
            "100%|██████████| 126/126 [00:00<00:00, 1634.87it/s]"
          ]
        },
        {
          "name": "stdout",
          "output_type": "stream",
          "text": [
            "126\n"
          ]
        },
        {
          "name": "stderr",
          "output_type": "stream",
          "text": [
            "\n"
          ]
        },
        {
          "name": "stdout",
          "output_type": "stream",
          "text": [
            "length of target class 44\n"
          ]
        },
        {
          "name": "stderr",
          "output_type": "stream",
          "text": [
            "100%|██████████| 44/44 [00:00<00:00, 4009.94it/s]\n",
            "100%|██████████| 44/44 [00:00<00:00, 2399.36it/s]\n"
          ]
        },
        {
          "name": "stdout",
          "output_type": "stream",
          "text": [
            "44\n",
            "length of target class 124\n"
          ]
        },
        {
          "name": "stderr",
          "output_type": "stream",
          "text": [
            "100%|██████████| 124/124 [00:00<00:00, 2757.79it/s]\n",
            "100%|██████████| 124/124 [00:00<00:00, 1469.11it/s]"
          ]
        },
        {
          "name": "stdout",
          "output_type": "stream",
          "text": [
            "124\n"
          ]
        },
        {
          "name": "stderr",
          "output_type": "stream",
          "text": [
            "\n"
          ]
        },
        {
          "name": "stdout",
          "output_type": "stream",
          "text": [
            "length of target class 38\n"
          ]
        },
        {
          "name": "stderr",
          "output_type": "stream",
          "text": [
            "100%|██████████| 38/38 [00:00<00:00, 4732.99it/s]\n",
            "100%|██████████| 38/38 [00:00<00:00, 1902.29it/s]\n"
          ]
        },
        {
          "name": "stdout",
          "output_type": "stream",
          "text": [
            "38\n",
            "length of target class 116\n"
          ]
        },
        {
          "name": "stderr",
          "output_type": "stream",
          "text": [
            "100%|██████████| 116/116 [00:00<00:00, 4051.12it/s]\n",
            "100%|██████████| 116/116 [00:00<00:00, 1617.46it/s]"
          ]
        },
        {
          "name": "stdout",
          "output_type": "stream",
          "text": [
            "116\n"
          ]
        },
        {
          "name": "stderr",
          "output_type": "stream",
          "text": [
            "\n"
          ]
        },
        {
          "name": "stdout",
          "output_type": "stream",
          "text": [
            "length of target class 29\n"
          ]
        },
        {
          "name": "stderr",
          "output_type": "stream",
          "text": [
            "100%|██████████| 29/29 [00:00<00:00, 5497.37it/s]\n",
            "100%|██████████| 29/29 [00:00<00:00, 1209.41it/s]\n"
          ]
        },
        {
          "name": "stdout",
          "output_type": "stream",
          "text": [
            "29\n",
            "length of target class 97\n"
          ]
        },
        {
          "name": "stderr",
          "output_type": "stream",
          "text": [
            "100%|██████████| 97/97 [00:00<00:00, 4317.10it/s]\n",
            "100%|██████████| 97/97 [00:00<00:00, 932.21it/s]"
          ]
        },
        {
          "name": "stdout",
          "output_type": "stream",
          "text": [
            "97\n"
          ]
        },
        {
          "name": "stderr",
          "output_type": "stream",
          "text": [
            "\n"
          ]
        },
        {
          "name": "stdout",
          "output_type": "stream",
          "text": [
            "length of target class 26\n"
          ]
        },
        {
          "name": "stderr",
          "output_type": "stream",
          "text": [
            "100%|██████████| 26/26 [00:00<00:00, 5091.13it/s]\n",
            "100%|██████████| 26/26 [00:00<00:00, 1236.32it/s]\n"
          ]
        },
        {
          "name": "stdout",
          "output_type": "stream",
          "text": [
            "26\n",
            "length of target class 78\n"
          ]
        },
        {
          "name": "stderr",
          "output_type": "stream",
          "text": [
            "100%|██████████| 78/78 [00:00<00:00, 4540.99it/s]\n",
            "100%|██████████| 78/78 [00:00<00:00, 1534.94it/s]"
          ]
        },
        {
          "name": "stdout",
          "output_type": "stream",
          "text": [
            "78\n"
          ]
        },
        {
          "name": "stderr",
          "output_type": "stream",
          "text": [
            "\n"
          ]
        },
        {
          "name": "stdout",
          "output_type": "stream",
          "text": [
            "length of target class 14\n"
          ]
        },
        {
          "name": "stderr",
          "output_type": "stream",
          "text": [
            "100%|██████████| 14/14 [00:00<00:00, 4353.20it/s]\n",
            "100%|██████████| 14/14 [00:00<00:00, 1421.38it/s]\n"
          ]
        },
        {
          "name": "stdout",
          "output_type": "stream",
          "text": [
            "14\n",
            "length of target class 66\n"
          ]
        },
        {
          "name": "stderr",
          "output_type": "stream",
          "text": [
            "100%|██████████| 66/66 [00:00<00:00, 4784.46it/s]\n",
            "100%|██████████| 66/66 [00:00<00:00, 1150.66it/s]"
          ]
        },
        {
          "name": "stdout",
          "output_type": "stream",
          "text": [
            "66\n"
          ]
        },
        {
          "name": "stderr",
          "output_type": "stream",
          "text": [
            "\n"
          ]
        },
        {
          "name": "stdout",
          "output_type": "stream",
          "text": [
            "length of target class 10\n"
          ]
        },
        {
          "name": "stderr",
          "output_type": "stream",
          "text": [
            "100%|██████████| 10/10 [00:00<00:00, 1834.54it/s]\n",
            "100%|██████████| 10/10 [00:00<00:00, 1470.71it/s]\n"
          ]
        },
        {
          "name": "stdout",
          "output_type": "stream",
          "text": [
            "10\n",
            "length of target class 41\n"
          ]
        },
        {
          "name": "stderr",
          "output_type": "stream",
          "text": [
            "100%|██████████| 41/41 [00:00<00:00, 3602.75it/s]\n",
            "100%|██████████| 41/41 [00:00<00:00, 799.97it/s]"
          ]
        },
        {
          "name": "stdout",
          "output_type": "stream",
          "text": [
            "41\n"
          ]
        },
        {
          "name": "stderr",
          "output_type": "stream",
          "text": [
            "\n"
          ]
        },
        {
          "name": "stdout",
          "output_type": "stream",
          "text": [
            "length of target class 3\n"
          ]
        },
        {
          "name": "stderr",
          "output_type": "stream",
          "text": [
            "100%|██████████| 3/3 [00:00<00:00, 1897.88it/s]\n",
            "100%|██████████| 3/3 [00:00<00:00, 520.17it/s]\n"
          ]
        },
        {
          "name": "stdout",
          "output_type": "stream",
          "text": [
            "3\n",
            "length of target class 21\n"
          ]
        },
        {
          "name": "stderr",
          "output_type": "stream",
          "text": [
            "100%|██████████| 21/21 [00:00<00:00, 3650.85it/s]\n",
            "100%|██████████| 21/21 [00:00<00:00, 616.63it/s]"
          ]
        },
        {
          "name": "stdout",
          "output_type": "stream",
          "text": [
            "21\n"
          ]
        },
        {
          "name": "stderr",
          "output_type": "stream",
          "text": [
            "\n"
          ]
        },
        {
          "name": "stdout",
          "output_type": "stream",
          "text": [
            "length of target class 60\n"
          ]
        },
        {
          "name": "stderr",
          "output_type": "stream",
          "text": [
            "100%|██████████| 60/60 [00:00<00:00, 5418.88it/s]\n",
            "100%|██████████| 60/60 [00:00<00:00, 2029.35it/s]\n"
          ]
        },
        {
          "name": "stdout",
          "output_type": "stream",
          "text": [
            "60\n",
            "length of target class 128\n"
          ]
        },
        {
          "name": "stderr",
          "output_type": "stream",
          "text": [
            "100%|██████████| 128/128 [00:00<00:00, 4387.35it/s]\n",
            "100%|██████████| 128/128 [00:00<00:00, 1577.68it/s]"
          ]
        },
        {
          "name": "stdout",
          "output_type": "stream",
          "text": [
            "128\n"
          ]
        },
        {
          "name": "stderr",
          "output_type": "stream",
          "text": [
            "\n"
          ]
        },
        {
          "name": "stdout",
          "output_type": "stream",
          "text": [
            "length of target class 50\n"
          ]
        },
        {
          "name": "stderr",
          "output_type": "stream",
          "text": [
            "100%|██████████| 50/50 [00:00<00:00, 5487.34it/s]\n",
            "100%|██████████| 50/50 [00:00<00:00, 2333.07it/s]\n"
          ]
        },
        {
          "name": "stdout",
          "output_type": "stream",
          "text": [
            "50\n",
            "length of target class 127\n"
          ]
        },
        {
          "name": "stderr",
          "output_type": "stream",
          "text": [
            "100%|██████████| 127/127 [00:00<00:00, 5443.36it/s]\n",
            "100%|██████████| 127/127 [00:00<00:00, 1585.22it/s]"
          ]
        },
        {
          "name": "stdout",
          "output_type": "stream",
          "text": [
            "127\n"
          ]
        },
        {
          "name": "stderr",
          "output_type": "stream",
          "text": [
            "\n"
          ]
        },
        {
          "name": "stdout",
          "output_type": "stream",
          "text": [
            "length of target class 49\n"
          ]
        },
        {
          "name": "stderr",
          "output_type": "stream",
          "text": [
            "100%|██████████| 49/49 [00:00<00:00, 4817.76it/s]\n",
            "100%|██████████| 49/49 [00:00<00:00, 1669.16it/s]\n"
          ]
        },
        {
          "name": "stdout",
          "output_type": "stream",
          "text": [
            "49\n",
            "length of target class 126\n"
          ]
        },
        {
          "name": "stderr",
          "output_type": "stream",
          "text": [
            "100%|██████████| 126/126 [00:00<00:00, 3349.06it/s]\n",
            "100%|██████████| 126/126 [00:00<00:00, 1521.96it/s]"
          ]
        },
        {
          "name": "stdout",
          "output_type": "stream",
          "text": [
            "126\n"
          ]
        },
        {
          "name": "stderr",
          "output_type": "stream",
          "text": [
            "\n"
          ]
        },
        {
          "name": "stdout",
          "output_type": "stream",
          "text": [
            "length of target class 44\n"
          ]
        },
        {
          "name": "stderr",
          "output_type": "stream",
          "text": [
            "100%|██████████| 44/44 [00:00<00:00, 3910.19it/s]\n",
            "100%|██████████| 44/44 [00:00<00:00, 2018.50it/s]\n"
          ]
        },
        {
          "name": "stdout",
          "output_type": "stream",
          "text": [
            "44\n",
            "length of target class 124\n"
          ]
        },
        {
          "name": "stderr",
          "output_type": "stream",
          "text": [
            "100%|██████████| 124/124 [00:00<00:00, 3258.92it/s]\n",
            "100%|██████████| 124/124 [00:00<00:00, 1352.03it/s]"
          ]
        },
        {
          "name": "stdout",
          "output_type": "stream",
          "text": [
            "124"
          ]
        },
        {
          "name": "stderr",
          "output_type": "stream",
          "text": [
            "\n"
          ]
        },
        {
          "name": "stdout",
          "output_type": "stream",
          "text": [
            "\n",
            "length of target class 38\n"
          ]
        },
        {
          "name": "stderr",
          "output_type": "stream",
          "text": [
            "100%|██████████| 38/38 [00:00<00:00, 5879.79it/s]\n",
            "100%|██████████| 38/38 [00:00<00:00, 1814.21it/s]\n"
          ]
        },
        {
          "name": "stdout",
          "output_type": "stream",
          "text": [
            "38\n",
            "length of target class 116\n"
          ]
        },
        {
          "name": "stderr",
          "output_type": "stream",
          "text": [
            "100%|██████████| 116/116 [00:00<00:00, 4151.93it/s]\n",
            "100%|██████████| 116/116 [00:00<00:00, 1613.93it/s]"
          ]
        },
        {
          "name": "stdout",
          "output_type": "stream",
          "text": [
            "116\n"
          ]
        },
        {
          "name": "stderr",
          "output_type": "stream",
          "text": [
            "\n"
          ]
        },
        {
          "name": "stdout",
          "output_type": "stream",
          "text": [
            "length of target class 29\n"
          ]
        },
        {
          "name": "stderr",
          "output_type": "stream",
          "text": [
            "100%|██████████| 29/29 [00:00<00:00, 3337.67it/s]\n",
            "100%|██████████| 29/29 [00:00<00:00, 1403.33it/s]\n"
          ]
        },
        {
          "name": "stdout",
          "output_type": "stream",
          "text": [
            "29\n",
            "length of target class 97\n"
          ]
        },
        {
          "name": "stderr",
          "output_type": "stream",
          "text": [
            "100%|██████████| 97/97 [00:00<00:00, 3531.36it/s]\n",
            "100%|██████████| 97/97 [00:00<00:00, 1000.57it/s]"
          ]
        },
        {
          "name": "stdout",
          "output_type": "stream",
          "text": [
            "97\n"
          ]
        },
        {
          "name": "stderr",
          "output_type": "stream",
          "text": [
            "\n"
          ]
        },
        {
          "name": "stdout",
          "output_type": "stream",
          "text": [
            "length of target class 26\n"
          ]
        },
        {
          "name": "stderr",
          "output_type": "stream",
          "text": [
            "100%|██████████| 26/26 [00:00<00:00, 3837.42it/s]\n",
            "100%|██████████| 26/26 [00:00<00:00, 1216.00it/s]\n"
          ]
        },
        {
          "name": "stdout",
          "output_type": "stream",
          "text": [
            "26\n",
            "length of target class 78\n"
          ]
        },
        {
          "name": "stderr",
          "output_type": "stream",
          "text": [
            "100%|██████████| 78/78 [00:00<00:00, 3832.48it/s]\n",
            "100%|██████████| 78/78 [00:00<00:00, 836.14it/s]"
          ]
        },
        {
          "name": "stdout",
          "output_type": "stream",
          "text": [
            "78\n"
          ]
        },
        {
          "name": "stderr",
          "output_type": "stream",
          "text": [
            "\n"
          ]
        },
        {
          "name": "stdout",
          "output_type": "stream",
          "text": [
            "length of target class 14\n"
          ]
        },
        {
          "name": "stderr",
          "output_type": "stream",
          "text": [
            "100%|██████████| 14/14 [00:00<00:00, 2281.11it/s]\n",
            "100%|██████████| 14/14 [00:00<00:00, 1294.11it/s]\n"
          ]
        },
        {
          "name": "stdout",
          "output_type": "stream",
          "text": [
            "14\n",
            "length of target class 66\n"
          ]
        },
        {
          "name": "stderr",
          "output_type": "stream",
          "text": [
            "100%|██████████| 66/66 [00:00<00:00, 3870.20it/s]\n",
            "100%|██████████| 66/66 [00:00<00:00, 892.58it/s]"
          ]
        },
        {
          "name": "stdout",
          "output_type": "stream",
          "text": [
            "66\n"
          ]
        },
        {
          "name": "stderr",
          "output_type": "stream",
          "text": [
            "\n"
          ]
        },
        {
          "name": "stdout",
          "output_type": "stream",
          "text": [
            "length of target class 10\n"
          ]
        },
        {
          "name": "stderr",
          "output_type": "stream",
          "text": [
            "100%|██████████| 10/10 [00:00<00:00, 1437.54it/s]\n",
            "100%|██████████| 10/10 [00:00<00:00, 675.16it/s]\n"
          ]
        },
        {
          "name": "stdout",
          "output_type": "stream",
          "text": [
            "10\n",
            "length of target class 41\n"
          ]
        },
        {
          "name": "stderr",
          "output_type": "stream",
          "text": [
            "100%|██████████| 41/41 [00:00<00:00, 2175.47it/s]\n",
            "100%|██████████| 41/41 [00:00<00:00, 584.32it/s]"
          ]
        },
        {
          "name": "stdout",
          "output_type": "stream",
          "text": [
            "41\n"
          ]
        },
        {
          "name": "stderr",
          "output_type": "stream",
          "text": [
            "\n"
          ]
        },
        {
          "name": "stdout",
          "output_type": "stream",
          "text": [
            "length of target class 3\n"
          ]
        },
        {
          "name": "stderr",
          "output_type": "stream",
          "text": [
            "100%|██████████| 3/3 [00:00<00:00, 440.61it/s]\n",
            "100%|██████████| 3/3 [00:00<00:00, 1280.31it/s]\n"
          ]
        },
        {
          "name": "stdout",
          "output_type": "stream",
          "text": [
            "3\n",
            "length of target class 21\n"
          ]
        },
        {
          "name": "stderr",
          "output_type": "stream",
          "text": [
            "100%|██████████| 21/21 [00:00<00:00, 1471.07it/s]\n",
            "100%|██████████| 21/21 [00:00<00:00, 706.28it/s]"
          ]
        },
        {
          "name": "stdout",
          "output_type": "stream",
          "text": [
            "21\n"
          ]
        },
        {
          "name": "stderr",
          "output_type": "stream",
          "text": [
            "\n"
          ]
        },
        {
          "data": {
            "image/png": "[encoded data removed]",
            "text/plain": [
              "<Figure size 640x480 with 1 Axes>"
            ]
          },
          "metadata": {},
          "output_type": "display_data"
        },
        {
          "data": {
            "image/png": "[encoded data removed]",
            "text/plain": [
              "<Figure size 640x480 with 1 Axes>"
            ]
          },
          "metadata": {},
          "output_type": "display_data"
        }
      ],
      "source": [
        "samplerange=6\n",
        "fig1, ax1 = plt.subplots()\n",
        "fig2, ax2 = plt.subplots()\n",
        "for numsample in range(1,samplerange):\n",
        "  threshold=0.5\n",
        "  Threshold=[]\n",
        "  Mean1=[]\n",
        "  Std1=[]\n",
        "  Mean2=[]\n",
        "  Std2=[]\n",
        "  while(threshold<1):\n",
        "    Threshold.append(threshold)\n",
        "    data1 , data2=Dpc(dataset,threshold)\n",
        "    X1,Adj1=GraphRepModel(data1,N)\n",
        "    X2,Adj2=GraphRepModel(data2,N)\n",
        "    mean1,std1=sensitivityanalysis(X1,Adj1,N,numsample+5,0)\n",
        "    Mean1.append(mean1)\n",
        "    Std1.append(std1)\n",
        "    mean2,std2=sensitivityanalysis(X2,Adj2,N,numsample,1)\n",
        "    Mean2.append(mean2)\n",
        "    Std2.append(std2)\n",
        "    threshold+=0.05\n",
        "  plot_mean_with_error(Mean1,Std1,Threshold,label='class1',numsample=numsample,title='Sensitivity analysis on Non-Mutagen',ax=ax1)\n",
        "  plot_mean_with_error(Mean2,Std2,Threshold,label='class2',numsample=numsample,title='Sensitivity analysis on Mutagen',ax=ax2)\n",
        "\n",
        "plt.show()\n",
        "\n"
      ]
    }
  ],
  "metadata": {
    "colab": {
      "provenance": []
    },
    "kernelspec": {
      "display_name": "Python 3 (ipykernel)",
      "language": "python",
      "name": "python3"
    },
    "language_info": {
      "codemirror_mode": {
        "name": "ipython",
        "version": 3
      },
      "file_extension": ".py",
      "mimetype": "text/x-python",
      "name": "python",
      "nbconvert_exporter": "python",
      "pygments_lexer": "ipython3",
      "version": "3.9.15"
    }
  },
  "nbformat": 4,
  "nbformat_minor": 5
}